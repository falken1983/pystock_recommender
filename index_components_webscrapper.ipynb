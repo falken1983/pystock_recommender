{
 "cells": [
  {
   "cell_type": "markdown",
   "metadata": {},
   "source": [
    "# DataSet Construction"
   ]
  },
  {
   "cell_type": "markdown",
   "metadata": {},
   "source": [
    "## Scrapping Index Components From BlackRock ETFs (IVV)"
   ]
  },
  {
   "cell_type": "code",
   "execution_count": 19,
   "metadata": {},
   "outputs": [],
   "source": [
    "import pandas as pd\n",
    "import requests\n",
    "from bs4 import BeautifulSoup\n",
    "from datetime import datetime, timedelta\n",
    "import json\n",
    "\"\"\"\n",
    "Historical Data of ETF Components Extracted from BlackRock Chile website. \n",
    "A Long History (from 2006Q3) is Publicly Available for:\n",
    "+ SP500 (IVV), \n",
    "+ RUSSELL1000 (IWB), \n",
    "+ RUSSELL2000 (IWM), \n",
    "+ RUSSELL3000 (IWV).\n",
    "Vanguard site (the largest Global issuer for passive indexing) does not record historical data of index (ETF) components,\n",
    "Moreover the corresponding ETFs were issued much later than year 2K\n",
    "\"\"\"\n",
    "BLACKROCK_CL_URL_ROOT = \"https://www.blackrock.com/cl/productos/\"\n",
    "\n",
    "def index_components_finder(ticker=\"IVV\", path = \"./data/pkl/\"):\n",
    "    etf_url = {        \n",
    "        \"IVV\": \"239726/ishares-core-sp-500-etf\", # iShares Core S&P 500 ETF\n",
    "        \"IWB\": \"239707/ishares-russell-1000-etf\", # iShares Russell 1000 ETF\n",
    "        \"IWM\": \"239710/ishares-russell-2000-etf\", # iShares Russell 2000 ETF\n",
    "        \"IWV\": \"239714/ishares-russell-3000-etf\", # iShares Russell 3000 ETF\n",
    "    }\n",
    "\n",
    "    url = BLACKROCK_CL_URL_ROOT + etf_url[ticker] + \"#tabsAll\"    \n",
    "    # request page\n",
    "    html = requests.get(url).content\n",
    "    soup = BeautifulSoup(html)\n",
    "\n",
    "    # find available dates\n",
    "    holdings = soup.find(\"div\", {\"id\": \"holdings\"})\n",
    "    dates_div = holdings.find_all(\"div\", \"component-date-list\")[1]\n",
    "    dates_div.find_all(\"option\")\n",
    "    dates = [option.attrs[\"value\"] for option in dates_div.find_all(\"option\")]\n",
    "\n",
    "    # download constituents for each date\n",
    "    constituents = pd.Series()\n",
    "    for date in dates:\n",
    "        resp = requests.get(BLACKROCK_CL_URL_ROOT\n",
    "        +etf_url[ticker]\n",
    "        +f\"/1506433277024.ajax?tab=all&fileType=json&asOfDate={date}\").content[3:]\n",
    "        tickers = json.loads(resp)\n",
    "        tickers = [(arr[0], arr[1]) for arr in tickers['aaData']]\n",
    "        date = datetime.strptime(date, \"%Y%m%d\")\n",
    "        constituents[date] = tickers\n",
    "\n",
    "    constituents = constituents.iloc[::-1] # reverse into cronlogical order\n",
    "    # for pickle filename construction (serial date)\n",
    "    last_date = constituents.index[-1].strftime(\"%Y%m%d\")\n",
    "    pklfile_fullpath = path + ticker + \"_historical_components_\" + last_date + \".pkl\"\n",
    "    constituents = constituents.to_frame(name=\"components\")\n",
    "    constituents.to_pickle(pklfile_fullpath)\n",
    "    return constituents"
   ]
  },
  {
   "cell_type": "code",
   "execution_count": 20,
   "metadata": {},
   "outputs": [
    {
     "name": "stderr",
     "output_type": "stream",
     "text": [
      "/tmp/ipykernel_25994/2275880088.py:34: FutureWarning: The default dtype for empty Series will be 'object' instead of 'float64' in a future version. Specify a dtype explicitly to silence this warning.\n",
      "  constituents = pd.Series()\n",
      "/tmp/ipykernel_25994/2275880088.py:34: FutureWarning: The default dtype for empty Series will be 'object' instead of 'float64' in a future version. Specify a dtype explicitly to silence this warning.\n",
      "  constituents = pd.Series()\n",
      "/tmp/ipykernel_25994/2275880088.py:34: FutureWarning: The default dtype for empty Series will be 'object' instead of 'float64' in a future version. Specify a dtype explicitly to silence this warning.\n",
      "  constituents = pd.Series()\n",
      "/tmp/ipykernel_25994/2275880088.py:34: FutureWarning: The default dtype for empty Series will be 'object' instead of 'float64' in a future version. Specify a dtype explicitly to silence this warning.\n",
      "  constituents = pd.Series()\n"
     ]
    }
   ],
   "source": [
    "index_components = []\n",
    "tickers = [\"IVV\", \"IWB\", \"IWM\", \"IWV\"]\n",
    "for ticker in tickers:\n",
    "    idx_compos = index_components_finder(ticker=ticker)\n",
    "    index_components.append(idx_compos)"
   ]
  },
  {
   "cell_type": "code",
   "execution_count": 22,
   "metadata": {},
   "outputs": [
    {
     "data": {
      "text/html": [
       "<div>\n",
       "<style scoped>\n",
       "    .dataframe tbody tr th:only-of-type {\n",
       "        vertical-align: middle;\n",
       "    }\n",
       "\n",
       "    .dataframe tbody tr th {\n",
       "        vertical-align: top;\n",
       "    }\n",
       "\n",
       "    .dataframe thead th {\n",
       "        text-align: right;\n",
       "    }\n",
       "</style>\n",
       "<table border=\"1\" class=\"dataframe\">\n",
       "  <thead>\n",
       "    <tr style=\"text-align: right;\">\n",
       "      <th></th>\n",
       "      <th>components</th>\n",
       "    </tr>\n",
       "  </thead>\n",
       "  <tbody>\n",
       "    <tr>\n",
       "      <th>2006-09-29</th>\n",
       "      <td>[(P5N994, Petrocorp Inc Escrow), (TBV, TIENS B...</td>\n",
       "    </tr>\n",
       "    <tr>\n",
       "      <th>2006-10-31</th>\n",
       "      <td>[(P5N994, Petrocorp Inc Escrow), (TBV, TIENS B...</td>\n",
       "    </tr>\n",
       "    <tr>\n",
       "      <th>2006-11-30</th>\n",
       "      <td>[(P5N994, Petrocorp Inc Escrow), (TBV, TIENS B...</td>\n",
       "    </tr>\n",
       "    <tr>\n",
       "      <th>2006-12-29</th>\n",
       "      <td>[(P5N994, Petrocorp Inc Escrow), (TLCP, TELECO...</td>\n",
       "    </tr>\n",
       "    <tr>\n",
       "      <th>2007-01-31</th>\n",
       "      <td>[(P5N994, Petrocorp Inc Escrow), (TLCP, TELECO...</td>\n",
       "    </tr>\n",
       "    <tr>\n",
       "      <th>...</th>\n",
       "      <td>...</td>\n",
       "    </tr>\n",
       "    <tr>\n",
       "      <th>2022-03-31</th>\n",
       "      <td>[(AAPL, APPLE INC), (MSFT, MICROSOFT CORP), (A...</td>\n",
       "    </tr>\n",
       "    <tr>\n",
       "      <th>2022-04-29</th>\n",
       "      <td>[(AAPL, APPLE INC), (MSFT, MICROSOFT CORP), (A...</td>\n",
       "    </tr>\n",
       "    <tr>\n",
       "      <th>2022-05-31</th>\n",
       "      <td>[(AAPL, APPLE INC), (MSFT, MICROSOFT CORP), (A...</td>\n",
       "    </tr>\n",
       "    <tr>\n",
       "      <th>2022-06-30</th>\n",
       "      <td>[(AAPL, APPLE INC), (MSFT, MICROSOFT CORP), (A...</td>\n",
       "    </tr>\n",
       "    <tr>\n",
       "      <th>2022-07-26</th>\n",
       "      <td>[(AAPL, APPLE INC), (MSFT, MICROSOFT CORP), (A...</td>\n",
       "    </tr>\n",
       "  </tbody>\n",
       "</table>\n",
       "<p>186 rows × 1 columns</p>\n",
       "</div>"
      ],
      "text/plain": [
       "                                                   components\n",
       "2006-09-29  [(P5N994, Petrocorp Inc Escrow), (TBV, TIENS B...\n",
       "2006-10-31  [(P5N994, Petrocorp Inc Escrow), (TBV, TIENS B...\n",
       "2006-11-30  [(P5N994, Petrocorp Inc Escrow), (TBV, TIENS B...\n",
       "2006-12-29  [(P5N994, Petrocorp Inc Escrow), (TLCP, TELECO...\n",
       "2007-01-31  [(P5N994, Petrocorp Inc Escrow), (TLCP, TELECO...\n",
       "...                                                       ...\n",
       "2022-03-31  [(AAPL, APPLE INC), (MSFT, MICROSOFT CORP), (A...\n",
       "2022-04-29  [(AAPL, APPLE INC), (MSFT, MICROSOFT CORP), (A...\n",
       "2022-05-31  [(AAPL, APPLE INC), (MSFT, MICROSOFT CORP), (A...\n",
       "2022-06-30  [(AAPL, APPLE INC), (MSFT, MICROSOFT CORP), (A...\n",
       "2022-07-26  [(AAPL, APPLE INC), (MSFT, MICROSOFT CORP), (A...\n",
       "\n",
       "[186 rows x 1 columns]"
      ]
     },
     "execution_count": 22,
     "metadata": {},
     "output_type": "execute_result"
    }
   ],
   "source": [
    "index_components[-1]"
   ]
  }
 ],
 "metadata": {
  "interpreter": {
   "hash": "df2604acf27cccc9bc3890fbb9b23a69556046b1d99e2eacb9b86d7c88d795b0"
  },
  "kernelspec": {
   "display_name": "Python 3 (ipykernel)",
   "language": "python",
   "name": "python3"
  },
  "language_info": {
   "codemirror_mode": {
    "name": "ipython",
    "version": 3
   },
   "file_extension": ".py",
   "mimetype": "text/x-python",
   "name": "python",
   "nbconvert_exporter": "python",
   "pygments_lexer": "ipython3",
   "version": "3.9.12"
  },
  "vscode": {
   "interpreter": {
    "hash": "df2604acf27cccc9bc3890fbb9b23a69556046b1d99e2eacb9b86d7c88d795b0"
   }
  }
 },
 "nbformat": 4,
 "nbformat_minor": 4
}
