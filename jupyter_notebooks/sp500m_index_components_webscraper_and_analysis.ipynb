{
 "cells": [
  {
   "cell_type": "markdown",
   "metadata": {},
   "source": [
    "# 1 DataSet Construction"
   ]
  },
  {
   "cell_type": "markdown",
   "metadata": {},
   "source": [
    "## 1.1 Components Data"
   ]
  },
  {
   "cell_type": "code",
   "execution_count": 6,
   "metadata": {},
   "outputs": [],
   "source": [
    "import matplotlib.pyplot as plt\n",
    "plt.style.use(\"fivethirtyeight\")\n",
    "import yfinance as yf"
   ]
  },
  {
   "cell_type": "markdown",
   "metadata": {},
   "source": [
    "### Scraping Index Components From BlackRock ETFs"
   ]
  },
  {
   "cell_type": "code",
   "execution_count": 7,
   "metadata": {},
   "outputs": [],
   "source": [
    "\"\"\"\n",
    "This notebook extracts Historical Data of the Stock Components of several ETF \n",
    "issued by _BlackRock_. A Long History (from 2006Q3) is Publicly Available for:\n",
    "+ SP500 (IVV), \n",
    "+ SP100 (OEF), \n",
    "+ RUSSELL1000 (IWB), \n",
    "+ RUSSELL2000 (IWM), \n",
    "+ RUSSELL3000 (IWV).\n",
    "_Vanguard_ site (the largest Global issuer for passive indexing) \n",
    "does not record historical data of index (ETF) components,\n",
    "Moreover their corresponding ETFs were issued much later than year 2K\n",
    "\"\"\"\n",
    "\n",
    "import pandas as pd\n",
    "import requests\n",
    "from bs4 import BeautifulSoup\n",
    "from datetime import datetime, timedelta\n",
    "import json\n",
    "\n",
    "BLACKROCK_CL_URL_ROOT = \"https://www.blackrock.com/cl/productos/\"\n",
    "\n",
    "def index_components_finder(symbol=\"IVV\", path = \"data/pkl/\"):\n",
    "    \"\"\"Scrapes BlackRock website public component time-series data for supported financial ETF products.\n",
    "    Args:\n",
    "        tickers : {‘IVV’, 'OEF', ‘IWB’, ‘IWM’, ‘IWV’}, default ‘IVV’ (S&P500)\n",
    "        path : str, default './data/pkl'\n",
    "    \"\"\"\n",
    "    \n",
    "    etf_url = {        \n",
    "        \"IVV\": \"239726/ishares-core-sp-500-etf\", # iShares Core S&P 500 ETF\n",
    "        \"OEF\": \"239723/ishares-core-sp-100-etf\", # iShares Core S&P 500 ETF\n",
    "        \"IWB\": \"239707/ishares-russell-1000-etf\", # iShares Russell 1000 ETF\n",
    "        \"IWM\": \"239710/ishares-russell-2000-etf\", # iShares Russell 2000 ETF\n",
    "        \"IWV\": \"239714/ishares-russell-3000-etf\", # iShares Russell 3000 ETF\n",
    "    }\n",
    "\n",
    "    url = BLACKROCK_CL_URL_ROOT + etf_url[symbol] + \"#tabsAll\"    \n",
    "    # request page\n",
    "    html = requests.get(url).content\n",
    "    soup = BeautifulSoup(html)\n",
    "\n",
    "    # find available dates\n",
    "    holdings = soup.find(\"div\", {\"id\": \"holdings\"})\n",
    "    dates_div = holdings.find_all(\"div\", \"component-date-list\")[1]\n",
    "    dates_div.find_all(\"option\")\n",
    "    dates = [option.attrs[\"value\"] for option in dates_div.find_all(\"option\")]\n",
    "\n",
    "    # download constituents for each date\n",
    "    constituents = pd.Series(dtype=object)\n",
    "    for date in dates:\n",
    "        resp = requests.get(BLACKROCK_CL_URL_ROOT\n",
    "        +etf_url[symbol]\n",
    "        +f\"/1506433277024.ajax?tab=all&fileType=json&asOfDate={date}\").content[3:]\n",
    "        tickers = json.loads(resp)\n",
    "        tickers = [(arr[0], arr[1]) for arr in tickers['aaData']]\n",
    "        date = datetime.strptime(date, \"%Y%m%d\")\n",
    "        constituents[date] = tickers\n",
    "\n",
    "    constituents = constituents.iloc[::-1] # reverse into cronlogical order\n",
    "    \n",
    "    # for pickle filename construction and saving (serial date)\n",
    "    last_date = constituents.index[-1].strftime(\"%Y%m%d\")\n",
    "    pklfile_fullpath = path + symbol + \"_historical_components_\" + last_date + \".pkl\"    \n",
    "    constituents.to_pickle(pklfile_fullpath)\n",
    "    return constituents"
   ]
  },
  {
   "cell_type": "markdown",
   "metadata": {},
   "source": [
    "## 1.2 **S&P100**: 10Y Survivors and Total Return Performance"
   ]
  },
  {
   "cell_type": "code",
   "execution_count": 8,
   "metadata": {},
   "outputs": [],
   "source": [
    "oef = index_components_finder(\"OEF\")"
   ]
  },
  {
   "cell_type": "code",
   "execution_count": 9,
   "metadata": {},
   "outputs": [],
   "source": [
    "import time\n",
    "import re\n",
    "\n",
    "def change_ticker(ticker):\n",
    "    rename_table = {\n",
    "        \"-\": \"LPRAX\", # BlackRock LifePath Dynamic Retirement Fund\n",
    "        \"8686\": \"AFL\", # AFLAC\n",
    "        \"4XS\": \"ESRX\", # Express Scripts Holding Company \n",
    "        \"AAZ\": \"APC\", # Anadarko Petroleum Corporation\n",
    "        \"AG4\": \"AGN\", # Allergan plc\n",
    "        \"BFB\": \"BF-B\", # Brown-Forman Corporation\n",
    "        \"BF.B\": \"BF-B\", # Brown-Forman Corporation\n",
    "        \"BF/B\": \"BF-B\", # Brown-Forman Corporation\n",
    "        \"BF_B\" : \"BF-B\", # Brown-Forman Corporation\n",
    "        \"BLD WI\": \"BLD\", # TopBuild Corp.\n",
    "        \"BRKB\": \"BRK-B\", # Berkshire Hathaway Inc.\n",
    "        \"BRK_B\": \"BRK-B\", # Berkshire Hathaway Inc.\n",
    "        \"CC WI\": \"CC\", # The Chemours Company\n",
    "        \"DC7\": \"DFS\", # Discover Financial Services\n",
    "        \"DWDP\": \"DD\", # Discover Financial Services\n",
    "        \"FB\": \"META\",   # Facebook\n",
    "        \"GGQ7\": \"GOOG\", # Alphabet Inc. Class C\n",
    "        \"GEC\": \"GE\", # General Electric\n",
    "        \"HNZ\": \"KHC\", # The Kraft Heinz Company\n",
    "        \"INCO\": \"INTC\", # Intel\n",
    "        \"LOM\": \"LMT\", # Lockheed Martin Corp.\n",
    "        \"LTD\": \"LB\", # L Brands Inc.\n",
    "        \"LTR\": \"L\", # Loews Corporation        \n",
    "        \"MPN\": \"MPC\", # Marathon Petroleum Corp.\n",
    "        \"MYL\": \"VTRS\", # Mylan NV (VIATRIS)\n",
    "        \"MWZ\": \"MET\", # Metlife Inc.\n",
    "        \"MX4A\": \"CME\", # CME Group Inc.\n",
    "        \"NCRA\": \"NWSA\", # News Corporation\n",
    "        \"NTH\": \"NOC\", # Northrop Grumman Crop.\n",
    "        \"PA9\": \"TRV\", # The Travelers Companies, Inc.\n",
    "        \"QCI\": \"QCOM\", # Qualcomm Inc.\n",
    "        \"RN7\": \"RF\", # Regions Financial Corp\n",
    "        \"RTN\" : \"RTX\", # Raytheon\n",
    "        \"SLBA\": \"SLB\", # Schlumberger Limited\n",
    "        \"SYF-W\": \"SYF\", # Synchrony Financial\n",
    "        \"SWG\": \"SCHW\", # The Charles Schwab Corporation \n",
    "        \"UAC/C\": \"UAA\", # Under Armour Inc Class A\n",
    "        \"UBSFT\": \"UBSFY\", # Ubisoft Entertainment\n",
    "        \"USX1\": \"X\", # United States Steel Corporation\n",
    "        \"UUM\": \"UNM\", # Unum Group\n",
    "        \"VISA\": \"V\", # Visa Inc         \n",
    "        \"VIAC\": \"VIA\", # viacom\n",
    "        \"WLTW\": \"WTW\" # Willis Towers Watson                \n",
    "    }\n",
    "    if ticker in rename_table:\n",
    "        fix = rename_table[ticker]\n",
    "    else:\n",
    "        fix = re.sub(r'[^A-Z]+', '', ticker)\n",
    "    return fix"
   ]
  },
  {
   "cell_type": "code",
   "execution_count": 10,
   "metadata": {},
   "outputs": [],
   "source": [
    "def all_times_symbols(financial_index, start_date, end_date):\n",
    "    symbols = [change_ticker(elements[0]) for elements in financial_index[start_date:end_date][0]]\n",
    "    all_symbols = symbols\n",
    "    symbols = set(symbols)        \n",
    "\n",
    "    for i, _ in enumerate(financial_index[start_date:end_date]):\n",
    "        if i>0:\n",
    "            sym = [change_ticker(stocks[0]) for stocks in financial_index[start_date:end_date][i]]        \n",
    "            all_symbols.extend(sym)\n",
    "            symbols = symbols.intersection(set(sym))\n",
    "            \n",
    "        else:\n",
    "            continue\n",
    "    return symbols, set(all_symbols)"
   ]
  },
  {
   "cell_type": "code",
   "execution_count": 11,
   "metadata": {},
   "outputs": [],
   "source": [
    "tickers, all_tickers = all_times_symbols(oef, \"2011-06-29\", \"2022-08-01\")"
   ]
  },
  {
   "cell_type": "code",
   "execution_count": 12,
   "metadata": {},
   "outputs": [
    {
     "name": "stdout",
     "output_type": "stream",
     "text": [
      "{'PCLN', 'OXY', 'CRM', 'AA', 'ADBE', 'AMT', 'AGN', 'ACT', 'ALL', 'XRX', 'WY', 'ABBV', 'TMO', 'ALD', 'DHR', 'XTSLA', 'FCX', 'WMB', 'KFT', 'KTF', 'EMC', 'KMI', 'KHC', 'MON', 'WBA', 'BAX', 'ESH', 'MDLZ', 'WPG', 'MSFUT', 'NVDA', 'OXYWSWI', 'AEP', 'SPG', 'ACN', 'ESZ', 'LPRAX', 'CHTR', 'CRC', 'AIG', 'UTX', 'DELL', 'FB', 'HAL', 'AVP', 'ETR', 'APA', 'HON', 'FOXA', 'SBUX', 'GOOG', 'SCHW', 'LLY', 'BLK', 'RTN', 'AXP', 'APC', 'CMCSK', 'RTX', 'META', 'ESU', 'BHI', 'HPQ', 'SLB', 'NEE', 'PYPL', 'S', 'FOX', 'BLKFDS', 'TSLA', 'GM', 'TMUS', 'BIIB', 'DUK', 'NOV', 'NWSA', 'DVN', 'WAG', 'CELG', 'CC', 'NFLX', 'USD', 'LIN', 'DOW', 'EBAY', 'TWX', 'AVGO', 'NSC', 'AEC', 'BKNG', 'ESM'}\n"
     ]
    }
   ],
   "source": [
    "var_symbols = all_tickers.difference(tickers)\n",
    "print(var_symbols)"
   ]
  },
  {
   "cell_type": "code",
   "execution_count": 13,
   "metadata": {},
   "outputs": [
    {
     "data": {
      "text/plain": [
       "91"
      ]
     },
     "execution_count": 13,
     "metadata": {},
     "output_type": "execute_result"
    }
   ],
   "source": [
    "len(var_symbols)"
   ]
  },
  {
   "cell_type": "code",
   "execution_count": 14,
   "metadata": {},
   "outputs": [
    {
     "name": "stdout",
     "output_type": "stream",
     "text": [
      "{'NKE', 'WMT', 'UPS', 'TXN', 'MO', 'MMM', 'EMR', 'USB', 'CMCSA', 'COP', 'XOM', 'KO', 'AMGN', 'AAPL', 'QCOM', 'BRK-B', 'CSCO', 'CAT', 'F', 'T', 'JPM', 'UNP', 'PM', 'JNJ', 'IBM', 'DIS', 'GILD', 'PEP', 'V', 'FDX', 'PG', 'GOOGL', 'LMT', 'BMY', 'MS', 'C', 'GE', 'UNH', 'BAC', 'MDT', 'EXC', 'PFE', 'GD', 'BK', 'SO', 'BA', 'CVS', 'COF', 'DD', 'MRK', 'AMZN', 'MSFT', 'COST', 'ORCL', 'CL', 'MET', 'INTC', 'MA', 'MCD', 'HD', 'VZ', 'CVX', 'WFC', 'GS', 'ABT', 'TGT', 'LOW'}\n"
     ]
    }
   ],
   "source": [
    "print(tickers)"
   ]
  },
  {
   "cell_type": "code",
   "execution_count": 15,
   "metadata": {},
   "outputs": [
    {
     "name": "stdout",
     "output_type": "stream",
     "text": [
      "[*********************100%***********************]  67 of 67 completed\n"
     ]
    }
   ],
   "source": [
    "data = yf.download(\n",
    "    list(tickers), \n",
    "    start=\"2011-06-29\", \n",
    "    end=\"2022-08-01\"\n",
    ")[\"Adj Close\"]"
   ]
  },
  {
   "cell_type": "code",
   "execution_count": 16,
   "metadata": {},
   "outputs": [
    {
     "data": {
      "text/html": [
       "<div>\n",
       "<style scoped>\n",
       "    .dataframe tbody tr th:only-of-type {\n",
       "        vertical-align: middle;\n",
       "    }\n",
       "\n",
       "    .dataframe tbody tr th {\n",
       "        vertical-align: top;\n",
       "    }\n",
       "\n",
       "    .dataframe thead th {\n",
       "        text-align: right;\n",
       "    }\n",
       "</style>\n",
       "<table border=\"1\" class=\"dataframe\">\n",
       "  <thead>\n",
       "    <tr style=\"text-align: right;\">\n",
       "      <th></th>\n",
       "      <th>AAPL</th>\n",
       "      <th>ABT</th>\n",
       "      <th>AMGN</th>\n",
       "      <th>AMZN</th>\n",
       "      <th>BA</th>\n",
       "      <th>BAC</th>\n",
       "      <th>BK</th>\n",
       "      <th>BMY</th>\n",
       "      <th>BRK-B</th>\n",
       "      <th>C</th>\n",
       "      <th>...</th>\n",
       "      <th>TXN</th>\n",
       "      <th>UNH</th>\n",
       "      <th>UNP</th>\n",
       "      <th>UPS</th>\n",
       "      <th>USB</th>\n",
       "      <th>V</th>\n",
       "      <th>VZ</th>\n",
       "      <th>WFC</th>\n",
       "      <th>WMT</th>\n",
       "      <th>XOM</th>\n",
       "    </tr>\n",
       "    <tr>\n",
       "      <th>Date</th>\n",
       "      <th></th>\n",
       "      <th></th>\n",
       "      <th></th>\n",
       "      <th></th>\n",
       "      <th></th>\n",
       "      <th></th>\n",
       "      <th></th>\n",
       "      <th></th>\n",
       "      <th></th>\n",
       "      <th></th>\n",
       "      <th></th>\n",
       "      <th></th>\n",
       "      <th></th>\n",
       "      <th></th>\n",
       "      <th></th>\n",
       "      <th></th>\n",
       "      <th></th>\n",
       "      <th></th>\n",
       "      <th></th>\n",
       "      <th></th>\n",
       "      <th></th>\n",
       "    </tr>\n",
       "  </thead>\n",
       "  <tbody>\n",
       "    <tr>\n",
       "      <th>2011-06-28</th>\n",
       "      <td>10.223415</td>\n",
       "      <td>19.818769</td>\n",
       "      <td>44.267136</td>\n",
       "      <td>10.1175</td>\n",
       "      <td>58.219566</td>\n",
       "      <td>9.173676</td>\n",
       "      <td>19.050795</td>\n",
       "      <td>20.295321</td>\n",
       "      <td>76.419998</td>\n",
       "      <td>33.617455</td>\n",
       "      <td>...</td>\n",
       "      <td>23.876259</td>\n",
       "      <td>43.582527</td>\n",
       "      <td>39.962994</td>\n",
       "      <td>51.654606</td>\n",
       "      <td>18.416531</td>\n",
       "      <td>17.383270</td>\n",
       "      <td>21.897718</td>\n",
       "      <td>20.037477</td>\n",
       "      <td>40.663376</td>\n",
       "      <td>50.620132</td>\n",
       "    </tr>\n",
       "    <tr>\n",
       "      <th>2011-06-29</th>\n",
       "      <td>10.186214</td>\n",
       "      <td>19.784637</td>\n",
       "      <td>43.610485</td>\n",
       "      <td>10.2090</td>\n",
       "      <td>58.728355</td>\n",
       "      <td>9.444983</td>\n",
       "      <td>19.797880</td>\n",
       "      <td>20.489155</td>\n",
       "      <td>77.029999</td>\n",
       "      <td>34.747799</td>\n",
       "      <td>...</td>\n",
       "      <td>23.801594</td>\n",
       "      <td>43.388912</td>\n",
       "      <td>40.461872</td>\n",
       "      <td>51.604416</td>\n",
       "      <td>18.757164</td>\n",
       "      <td>19.990294</td>\n",
       "      <td>21.987539</td>\n",
       "      <td>20.460230</td>\n",
       "      <td>40.748524</td>\n",
       "      <td>51.014267</td>\n",
       "    </tr>\n",
       "    <tr>\n",
       "      <th>2011-06-30</th>\n",
       "      <td>10.235918</td>\n",
       "      <td>19.959114</td>\n",
       "      <td>44.040684</td>\n",
       "      <td>10.2245</td>\n",
       "      <td>59.705536</td>\n",
       "      <td>9.292374</td>\n",
       "      <td>19.937962</td>\n",
       "      <td>20.790680</td>\n",
       "      <td>77.389999</td>\n",
       "      <td>34.865036</td>\n",
       "      <td>...</td>\n",
       "      <td>24.510859</td>\n",
       "      <td>43.422581</td>\n",
       "      <td>41.011848</td>\n",
       "      <td>52.285511</td>\n",
       "      <td>18.890461</td>\n",
       "      <td>19.456875</td>\n",
       "      <td>22.292921</td>\n",
       "      <td>20.452940</td>\n",
       "      <td>41.135574</td>\n",
       "      <td>51.732616</td>\n",
       "    </tr>\n",
       "    <tr>\n",
       "      <th>2011-07-01</th>\n",
       "      <td>10.467370</td>\n",
       "      <td>20.141180</td>\n",
       "      <td>43.987862</td>\n",
       "      <td>10.4745</td>\n",
       "      <td>59.980156</td>\n",
       "      <td>9.402595</td>\n",
       "      <td>20.280367</td>\n",
       "      <td>20.927078</td>\n",
       "      <td>78.089996</td>\n",
       "      <td>35.903282</td>\n",
       "      <td>...</td>\n",
       "      <td>25.026018</td>\n",
       "      <td>44.727444</td>\n",
       "      <td>41.938938</td>\n",
       "      <td>53.023937</td>\n",
       "      <td>19.297737</td>\n",
       "      <td>20.313572</td>\n",
       "      <td>22.634222</td>\n",
       "      <td>20.897573</td>\n",
       "      <td>41.422001</td>\n",
       "      <td>52.133080</td>\n",
       "    </tr>\n",
       "    <tr>\n",
       "      <th>2011-07-05</th>\n",
       "      <td>10.655519</td>\n",
       "      <td>20.163935</td>\n",
       "      <td>43.716137</td>\n",
       "      <td>10.6595</td>\n",
       "      <td>59.883205</td>\n",
       "      <td>9.326288</td>\n",
       "      <td>20.000216</td>\n",
       "      <td>20.934256</td>\n",
       "      <td>77.309998</td>\n",
       "      <td>35.643719</td>\n",
       "      <td>...</td>\n",
       "      <td>24.578058</td>\n",
       "      <td>44.491718</td>\n",
       "      <td>41.530384</td>\n",
       "      <td>52.894894</td>\n",
       "      <td>18.949701</td>\n",
       "      <td>20.394394</td>\n",
       "      <td>22.646204</td>\n",
       "      <td>20.715349</td>\n",
       "      <td>41.329090</td>\n",
       "      <td>51.872471</td>\n",
       "    </tr>\n",
       "  </tbody>\n",
       "</table>\n",
       "<p>5 rows × 67 columns</p>\n",
       "</div>"
      ],
      "text/plain": [
       "                 AAPL        ABT       AMGN     AMZN         BA       BAC  \\\n",
       "Date                                                                        \n",
       "2011-06-28  10.223415  19.818769  44.267136  10.1175  58.219566  9.173676   \n",
       "2011-06-29  10.186214  19.784637  43.610485  10.2090  58.728355  9.444983   \n",
       "2011-06-30  10.235918  19.959114  44.040684  10.2245  59.705536  9.292374   \n",
       "2011-07-01  10.467370  20.141180  43.987862  10.4745  59.980156  9.402595   \n",
       "2011-07-05  10.655519  20.163935  43.716137  10.6595  59.883205  9.326288   \n",
       "\n",
       "                   BK        BMY      BRK-B          C  ...        TXN  \\\n",
       "Date                                                    ...              \n",
       "2011-06-28  19.050795  20.295321  76.419998  33.617455  ...  23.876259   \n",
       "2011-06-29  19.797880  20.489155  77.029999  34.747799  ...  23.801594   \n",
       "2011-06-30  19.937962  20.790680  77.389999  34.865036  ...  24.510859   \n",
       "2011-07-01  20.280367  20.927078  78.089996  35.903282  ...  25.026018   \n",
       "2011-07-05  20.000216  20.934256  77.309998  35.643719  ...  24.578058   \n",
       "\n",
       "                  UNH        UNP        UPS        USB          V         VZ  \\\n",
       "Date                                                                           \n",
       "2011-06-28  43.582527  39.962994  51.654606  18.416531  17.383270  21.897718   \n",
       "2011-06-29  43.388912  40.461872  51.604416  18.757164  19.990294  21.987539   \n",
       "2011-06-30  43.422581  41.011848  52.285511  18.890461  19.456875  22.292921   \n",
       "2011-07-01  44.727444  41.938938  53.023937  19.297737  20.313572  22.634222   \n",
       "2011-07-05  44.491718  41.530384  52.894894  18.949701  20.394394  22.646204   \n",
       "\n",
       "                  WFC        WMT        XOM  \n",
       "Date                                         \n",
       "2011-06-28  20.037477  40.663376  50.620132  \n",
       "2011-06-29  20.460230  40.748524  51.014267  \n",
       "2011-06-30  20.452940  41.135574  51.732616  \n",
       "2011-07-01  20.897573  41.422001  52.133080  \n",
       "2011-07-05  20.715349  41.329090  51.872471  \n",
       "\n",
       "[5 rows x 67 columns]"
      ]
     },
     "execution_count": 16,
     "metadata": {},
     "output_type": "execute_result"
    }
   ],
   "source": [
    "data.head()"
   ]
  },
  {
   "cell_type": "code",
   "execution_count": 17,
   "metadata": {},
   "outputs": [],
   "source": [
    "yfinance_exceptions = ['GAS', 'HAR', 'CSC', 'EMC', 'GME', 'POM', 'PCL', 'COV', 'ETN', 'COL', 'LLL']"
   ]
  },
  {
   "cell_type": "code",
   "execution_count": 18,
   "metadata": {},
   "outputs": [
    {
     "data": {
      "text/plain": [
       "set()"
      ]
     },
     "execution_count": 18,
     "metadata": {},
     "output_type": "execute_result"
    }
   ],
   "source": [
    "set(data.columns).intersection(yfinance_exceptions)"
   ]
  },
  {
   "cell_type": "code",
   "execution_count": 19,
   "metadata": {},
   "outputs": [
    {
     "data": {
      "text/html": [
       "<div>\n",
       "<style scoped>\n",
       "    .dataframe tbody tr th:only-of-type {\n",
       "        vertical-align: middle;\n",
       "    }\n",
       "\n",
       "    .dataframe tbody tr th {\n",
       "        vertical-align: top;\n",
       "    }\n",
       "\n",
       "    .dataframe thead th {\n",
       "        text-align: right;\n",
       "    }\n",
       "</style>\n",
       "<table border=\"1\" class=\"dataframe\">\n",
       "  <thead>\n",
       "    <tr style=\"text-align: right;\">\n",
       "      <th></th>\n",
       "      <th>AAPL</th>\n",
       "      <th>ABT</th>\n",
       "      <th>AMGN</th>\n",
       "      <th>AMZN</th>\n",
       "      <th>BA</th>\n",
       "      <th>BAC</th>\n",
       "      <th>BK</th>\n",
       "      <th>BMY</th>\n",
       "      <th>BRK-B</th>\n",
       "      <th>C</th>\n",
       "      <th>...</th>\n",
       "      <th>TXN</th>\n",
       "      <th>UNH</th>\n",
       "      <th>UNP</th>\n",
       "      <th>UPS</th>\n",
       "      <th>USB</th>\n",
       "      <th>V</th>\n",
       "      <th>VZ</th>\n",
       "      <th>WFC</th>\n",
       "      <th>WMT</th>\n",
       "      <th>XOM</th>\n",
       "    </tr>\n",
       "    <tr>\n",
       "      <th>Date</th>\n",
       "      <th></th>\n",
       "      <th></th>\n",
       "      <th></th>\n",
       "      <th></th>\n",
       "      <th></th>\n",
       "      <th></th>\n",
       "      <th></th>\n",
       "      <th></th>\n",
       "      <th></th>\n",
       "      <th></th>\n",
       "      <th></th>\n",
       "      <th></th>\n",
       "      <th></th>\n",
       "      <th></th>\n",
       "      <th></th>\n",
       "      <th></th>\n",
       "      <th></th>\n",
       "      <th></th>\n",
       "      <th></th>\n",
       "      <th></th>\n",
       "      <th></th>\n",
       "    </tr>\n",
       "  </thead>\n",
       "  <tbody>\n",
       "    <tr>\n",
       "      <th>2011-06-28</th>\n",
       "      <td>NaN</td>\n",
       "      <td>NaN</td>\n",
       "      <td>NaN</td>\n",
       "      <td>NaN</td>\n",
       "      <td>NaN</td>\n",
       "      <td>NaN</td>\n",
       "      <td>NaN</td>\n",
       "      <td>NaN</td>\n",
       "      <td>NaN</td>\n",
       "      <td>NaN</td>\n",
       "      <td>...</td>\n",
       "      <td>NaN</td>\n",
       "      <td>NaN</td>\n",
       "      <td>NaN</td>\n",
       "      <td>NaN</td>\n",
       "      <td>NaN</td>\n",
       "      <td>NaN</td>\n",
       "      <td>NaN</td>\n",
       "      <td>NaN</td>\n",
       "      <td>NaN</td>\n",
       "      <td>NaN</td>\n",
       "    </tr>\n",
       "    <tr>\n",
       "      <th>2011-06-29</th>\n",
       "      <td>-0.003639</td>\n",
       "      <td>-0.001722</td>\n",
       "      <td>-0.014834</td>\n",
       "      <td>0.009044</td>\n",
       "      <td>0.008739</td>\n",
       "      <td>0.029575</td>\n",
       "      <td>0.039215</td>\n",
       "      <td>0.009551</td>\n",
       "      <td>0.007982</td>\n",
       "      <td>0.033624</td>\n",
       "      <td>...</td>\n",
       "      <td>-0.003127</td>\n",
       "      <td>-0.004442</td>\n",
       "      <td>0.012484</td>\n",
       "      <td>-0.000972</td>\n",
       "      <td>0.018496</td>\n",
       "      <td>0.149973</td>\n",
       "      <td>0.004102</td>\n",
       "      <td>0.021098</td>\n",
       "      <td>0.002094</td>\n",
       "      <td>0.007786</td>\n",
       "    </tr>\n",
       "    <tr>\n",
       "      <th>2011-06-30</th>\n",
       "      <td>0.004879</td>\n",
       "      <td>0.008819</td>\n",
       "      <td>0.009865</td>\n",
       "      <td>0.001518</td>\n",
       "      <td>0.016639</td>\n",
       "      <td>-0.016158</td>\n",
       "      <td>0.007076</td>\n",
       "      <td>0.014716</td>\n",
       "      <td>0.004674</td>\n",
       "      <td>0.003374</td>\n",
       "      <td>...</td>\n",
       "      <td>0.029799</td>\n",
       "      <td>0.000776</td>\n",
       "      <td>0.013592</td>\n",
       "      <td>0.013198</td>\n",
       "      <td>0.007106</td>\n",
       "      <td>-0.026684</td>\n",
       "      <td>0.013889</td>\n",
       "      <td>-0.000356</td>\n",
       "      <td>0.009499</td>\n",
       "      <td>0.014081</td>\n",
       "    </tr>\n",
       "    <tr>\n",
       "      <th>2011-07-01</th>\n",
       "      <td>0.022612</td>\n",
       "      <td>0.009122</td>\n",
       "      <td>-0.001199</td>\n",
       "      <td>0.024451</td>\n",
       "      <td>0.004600</td>\n",
       "      <td>0.011861</td>\n",
       "      <td>0.017174</td>\n",
       "      <td>0.006561</td>\n",
       "      <td>0.009045</td>\n",
       "      <td>0.029779</td>\n",
       "      <td>...</td>\n",
       "      <td>0.021018</td>\n",
       "      <td>0.030050</td>\n",
       "      <td>0.022605</td>\n",
       "      <td>0.014123</td>\n",
       "      <td>0.021560</td>\n",
       "      <td>0.044031</td>\n",
       "      <td>0.015310</td>\n",
       "      <td>0.021739</td>\n",
       "      <td>0.006963</td>\n",
       "      <td>0.007741</td>\n",
       "    </tr>\n",
       "    <tr>\n",
       "      <th>2011-07-05</th>\n",
       "      <td>0.017975</td>\n",
       "      <td>0.001130</td>\n",
       "      <td>-0.006177</td>\n",
       "      <td>0.017662</td>\n",
       "      <td>-0.001616</td>\n",
       "      <td>-0.008115</td>\n",
       "      <td>-0.013814</td>\n",
       "      <td>0.000343</td>\n",
       "      <td>-0.009988</td>\n",
       "      <td>-0.007230</td>\n",
       "      <td>...</td>\n",
       "      <td>-0.017900</td>\n",
       "      <td>-0.005270</td>\n",
       "      <td>-0.009742</td>\n",
       "      <td>-0.002434</td>\n",
       "      <td>-0.018035</td>\n",
       "      <td>0.003979</td>\n",
       "      <td>0.000529</td>\n",
       "      <td>-0.008720</td>\n",
       "      <td>-0.002243</td>\n",
       "      <td>-0.004999</td>\n",
       "    </tr>\n",
       "    <tr>\n",
       "      <th>...</th>\n",
       "      <td>...</td>\n",
       "      <td>...</td>\n",
       "      <td>...</td>\n",
       "      <td>...</td>\n",
       "      <td>...</td>\n",
       "      <td>...</td>\n",
       "      <td>...</td>\n",
       "      <td>...</td>\n",
       "      <td>...</td>\n",
       "      <td>...</td>\n",
       "      <td>...</td>\n",
       "      <td>...</td>\n",
       "      <td>...</td>\n",
       "      <td>...</td>\n",
       "      <td>...</td>\n",
       "      <td>...</td>\n",
       "      <td>...</td>\n",
       "      <td>...</td>\n",
       "      <td>...</td>\n",
       "      <td>...</td>\n",
       "      <td>...</td>\n",
       "    </tr>\n",
       "    <tr>\n",
       "      <th>2022-07-25</th>\n",
       "      <td>-0.007398</td>\n",
       "      <td>-0.006410</td>\n",
       "      <td>0.011262</td>\n",
       "      <td>-0.010456</td>\n",
       "      <td>-0.009611</td>\n",
       "      <td>0.008974</td>\n",
       "      <td>0.007022</td>\n",
       "      <td>-0.001508</td>\n",
       "      <td>0.007205</td>\n",
       "      <td>0.004816</td>\n",
       "      <td>...</td>\n",
       "      <td>-0.004271</td>\n",
       "      <td>0.015458</td>\n",
       "      <td>0.018557</td>\n",
       "      <td>-0.000372</td>\n",
       "      <td>0.007126</td>\n",
       "      <td>0.002667</td>\n",
       "      <td>0.006974</td>\n",
       "      <td>0.007644</td>\n",
       "      <td>-0.001437</td>\n",
       "      <td>0.033303</td>\n",
       "    </tr>\n",
       "    <tr>\n",
       "      <th>2022-07-26</th>\n",
       "      <td>-0.008826</td>\n",
       "      <td>0.005438</td>\n",
       "      <td>0.009730</td>\n",
       "      <td>-0.052254</td>\n",
       "      <td>-0.004597</td>\n",
       "      <td>-0.020160</td>\n",
       "      <td>-0.021153</td>\n",
       "      <td>0.010846</td>\n",
       "      <td>-0.009306</td>\n",
       "      <td>-0.014571</td>\n",
       "      <td>...</td>\n",
       "      <td>-0.014461</td>\n",
       "      <td>0.004004</td>\n",
       "      <td>-0.006395</td>\n",
       "      <td>-0.033952</td>\n",
       "      <td>-0.013111</td>\n",
       "      <td>-0.008307</td>\n",
       "      <td>0.003575</td>\n",
       "      <td>-0.013793</td>\n",
       "      <td>-0.076049</td>\n",
       "      <td>-0.003890</td>\n",
       "    </tr>\n",
       "    <tr>\n",
       "      <th>2022-07-27</th>\n",
       "      <td>0.034235</td>\n",
       "      <td>0.008250</td>\n",
       "      <td>0.002309</td>\n",
       "      <td>0.053654</td>\n",
       "      <td>0.001090</td>\n",
       "      <td>0.016339</td>\n",
       "      <td>0.018285</td>\n",
       "      <td>0.016026</td>\n",
       "      <td>0.017490</td>\n",
       "      <td>0.018482</td>\n",
       "      <td>...</td>\n",
       "      <td>0.066526</td>\n",
       "      <td>0.005681</td>\n",
       "      <td>0.018151</td>\n",
       "      <td>0.013056</td>\n",
       "      <td>0.016660</td>\n",
       "      <td>-0.009506</td>\n",
       "      <td>-0.000223</td>\n",
       "      <td>0.018881</td>\n",
       "      <td>0.037793</td>\n",
       "      <td>0.021645</td>\n",
       "    </tr>\n",
       "    <tr>\n",
       "      <th>2022-07-28</th>\n",
       "      <td>0.003572</td>\n",
       "      <td>0.003364</td>\n",
       "      <td>-0.007826</td>\n",
       "      <td>0.010829</td>\n",
       "      <td>0.019220</td>\n",
       "      <td>-0.008038</td>\n",
       "      <td>0.003498</td>\n",
       "      <td>-0.001470</td>\n",
       "      <td>0.012401</td>\n",
       "      <td>-0.002292</td>\n",
       "      <td>...</td>\n",
       "      <td>0.024542</td>\n",
       "      <td>0.012869</td>\n",
       "      <td>0.017509</td>\n",
       "      <td>0.023600</td>\n",
       "      <td>-0.043352</td>\n",
       "      <td>0.004181</td>\n",
       "      <td>0.014251</td>\n",
       "      <td>-0.008922</td>\n",
       "      <td>0.024963</td>\n",
       "      <td>0.011685</td>\n",
       "    </tr>\n",
       "    <tr>\n",
       "      <th>2022-07-29</th>\n",
       "      <td>0.032793</td>\n",
       "      <td>-0.013773</td>\n",
       "      <td>-0.009129</td>\n",
       "      <td>0.103615</td>\n",
       "      <td>0.001383</td>\n",
       "      <td>0.014706</td>\n",
       "      <td>0.009993</td>\n",
       "      <td>-0.012316</td>\n",
       "      <td>0.022797</td>\n",
       "      <td>0.003480</td>\n",
       "      <td>...</td>\n",
       "      <td>0.024570</td>\n",
       "      <td>0.001570</td>\n",
       "      <td>0.015911</td>\n",
       "      <td>0.035327</td>\n",
       "      <td>0.023417</td>\n",
       "      <td>0.003596</td>\n",
       "      <td>0.014050</td>\n",
       "      <td>0.012696</td>\n",
       "      <td>0.017726</td>\n",
       "      <td>0.046308</td>\n",
       "    </tr>\n",
       "  </tbody>\n",
       "</table>\n",
       "<p>2791 rows × 67 columns</p>\n",
       "</div>"
      ],
      "text/plain": [
       "                AAPL       ABT      AMGN      AMZN        BA       BAC  \\\n",
       "Date                                                                     \n",
       "2011-06-28       NaN       NaN       NaN       NaN       NaN       NaN   \n",
       "2011-06-29 -0.003639 -0.001722 -0.014834  0.009044  0.008739  0.029575   \n",
       "2011-06-30  0.004879  0.008819  0.009865  0.001518  0.016639 -0.016158   \n",
       "2011-07-01  0.022612  0.009122 -0.001199  0.024451  0.004600  0.011861   \n",
       "2011-07-05  0.017975  0.001130 -0.006177  0.017662 -0.001616 -0.008115   \n",
       "...              ...       ...       ...       ...       ...       ...   \n",
       "2022-07-25 -0.007398 -0.006410  0.011262 -0.010456 -0.009611  0.008974   \n",
       "2022-07-26 -0.008826  0.005438  0.009730 -0.052254 -0.004597 -0.020160   \n",
       "2022-07-27  0.034235  0.008250  0.002309  0.053654  0.001090  0.016339   \n",
       "2022-07-28  0.003572  0.003364 -0.007826  0.010829  0.019220 -0.008038   \n",
       "2022-07-29  0.032793 -0.013773 -0.009129  0.103615  0.001383  0.014706   \n",
       "\n",
       "                  BK       BMY     BRK-B         C  ...       TXN       UNH  \\\n",
       "Date                                                ...                       \n",
       "2011-06-28       NaN       NaN       NaN       NaN  ...       NaN       NaN   \n",
       "2011-06-29  0.039215  0.009551  0.007982  0.033624  ... -0.003127 -0.004442   \n",
       "2011-06-30  0.007076  0.014716  0.004674  0.003374  ...  0.029799  0.000776   \n",
       "2011-07-01  0.017174  0.006561  0.009045  0.029779  ...  0.021018  0.030050   \n",
       "2011-07-05 -0.013814  0.000343 -0.009988 -0.007230  ... -0.017900 -0.005270   \n",
       "...              ...       ...       ...       ...  ...       ...       ...   \n",
       "2022-07-25  0.007022 -0.001508  0.007205  0.004816  ... -0.004271  0.015458   \n",
       "2022-07-26 -0.021153  0.010846 -0.009306 -0.014571  ... -0.014461  0.004004   \n",
       "2022-07-27  0.018285  0.016026  0.017490  0.018482  ...  0.066526  0.005681   \n",
       "2022-07-28  0.003498 -0.001470  0.012401 -0.002292  ...  0.024542  0.012869   \n",
       "2022-07-29  0.009993 -0.012316  0.022797  0.003480  ...  0.024570  0.001570   \n",
       "\n",
       "                 UNP       UPS       USB         V        VZ       WFC  \\\n",
       "Date                                                                     \n",
       "2011-06-28       NaN       NaN       NaN       NaN       NaN       NaN   \n",
       "2011-06-29  0.012484 -0.000972  0.018496  0.149973  0.004102  0.021098   \n",
       "2011-06-30  0.013592  0.013198  0.007106 -0.026684  0.013889 -0.000356   \n",
       "2011-07-01  0.022605  0.014123  0.021560  0.044031  0.015310  0.021739   \n",
       "2011-07-05 -0.009742 -0.002434 -0.018035  0.003979  0.000529 -0.008720   \n",
       "...              ...       ...       ...       ...       ...       ...   \n",
       "2022-07-25  0.018557 -0.000372  0.007126  0.002667  0.006974  0.007644   \n",
       "2022-07-26 -0.006395 -0.033952 -0.013111 -0.008307  0.003575 -0.013793   \n",
       "2022-07-27  0.018151  0.013056  0.016660 -0.009506 -0.000223  0.018881   \n",
       "2022-07-28  0.017509  0.023600 -0.043352  0.004181  0.014251 -0.008922   \n",
       "2022-07-29  0.015911  0.035327  0.023417  0.003596  0.014050  0.012696   \n",
       "\n",
       "                 WMT       XOM  \n",
       "Date                            \n",
       "2011-06-28       NaN       NaN  \n",
       "2011-06-29  0.002094  0.007786  \n",
       "2011-06-30  0.009499  0.014081  \n",
       "2011-07-01  0.006963  0.007741  \n",
       "2011-07-05 -0.002243 -0.004999  \n",
       "...              ...       ...  \n",
       "2022-07-25 -0.001437  0.033303  \n",
       "2022-07-26 -0.076049 -0.003890  \n",
       "2022-07-27  0.037793  0.021645  \n",
       "2022-07-28  0.024963  0.011685  \n",
       "2022-07-29  0.017726  0.046308  \n",
       "\n",
       "[2791 rows x 67 columns]"
      ]
     },
     "execution_count": 19,
     "metadata": {},
     "output_type": "execute_result"
    }
   ],
   "source": [
    "oef_daily_rets = data.pct_change()\n",
    "oef_daily_rets"
   ]
  },
  {
   "cell_type": "code",
   "execution_count": 20,
   "metadata": {},
   "outputs": [],
   "source": [
    "start_date = oef_daily_rets.index[0].strftime(\"%Y-%m-%d\")\n",
    "end_date = oef_daily_rets.index[-1].strftime(\"%Y-%m-%d\")"
   ]
  },
  {
   "cell_type": "code",
   "execution_count": 21,
   "metadata": {},
   "outputs": [
    {
     "name": "stdout",
     "output_type": "stream",
     "text": [
      "[*********************100%***********************]  1 of 1 completed\n"
     ]
    }
   ],
   "source": [
    "eqwl_prices = yf.download(\"EQWL\", start=start_date, end=end_date)[\"Adj Close\"]\n",
    "eqwl_prices /= eqwl_prices[0]"
   ]
  },
  {
   "cell_type": "code",
   "execution_count": 22,
   "metadata": {},
   "outputs": [
    {
     "data": {
      "text/html": [
       "<div>\n",
       "<style scoped>\n",
       "    .dataframe tbody tr th:only-of-type {\n",
       "        vertical-align: middle;\n",
       "    }\n",
       "\n",
       "    .dataframe tbody tr th {\n",
       "        vertical-align: top;\n",
       "    }\n",
       "\n",
       "    .dataframe thead th {\n",
       "        text-align: right;\n",
       "    }\n",
       "</style>\n",
       "<table border=\"1\" class=\"dataframe\">\n",
       "  <thead>\n",
       "    <tr style=\"text-align: right;\">\n",
       "      <th></th>\n",
       "      <th>AAPL</th>\n",
       "      <th>ABT</th>\n",
       "      <th>AMGN</th>\n",
       "      <th>AMZN</th>\n",
       "      <th>BA</th>\n",
       "      <th>BAC</th>\n",
       "      <th>BK</th>\n",
       "      <th>BMY</th>\n",
       "      <th>BRK-B</th>\n",
       "      <th>C</th>\n",
       "      <th>...</th>\n",
       "      <th>TXN</th>\n",
       "      <th>UNH</th>\n",
       "      <th>UNP</th>\n",
       "      <th>UPS</th>\n",
       "      <th>USB</th>\n",
       "      <th>V</th>\n",
       "      <th>VZ</th>\n",
       "      <th>WFC</th>\n",
       "      <th>WMT</th>\n",
       "      <th>XOM</th>\n",
       "    </tr>\n",
       "    <tr>\n",
       "      <th>Date</th>\n",
       "      <th></th>\n",
       "      <th></th>\n",
       "      <th></th>\n",
       "      <th></th>\n",
       "      <th></th>\n",
       "      <th></th>\n",
       "      <th></th>\n",
       "      <th></th>\n",
       "      <th></th>\n",
       "      <th></th>\n",
       "      <th></th>\n",
       "      <th></th>\n",
       "      <th></th>\n",
       "      <th></th>\n",
       "      <th></th>\n",
       "      <th></th>\n",
       "      <th></th>\n",
       "      <th></th>\n",
       "      <th></th>\n",
       "      <th></th>\n",
       "      <th></th>\n",
       "    </tr>\n",
       "  </thead>\n",
       "  <tbody>\n",
       "    <tr>\n",
       "      <th>2011-06-28</th>\n",
       "      <td>NaN</td>\n",
       "      <td>NaN</td>\n",
       "      <td>NaN</td>\n",
       "      <td>NaN</td>\n",
       "      <td>NaN</td>\n",
       "      <td>NaN</td>\n",
       "      <td>NaN</td>\n",
       "      <td>NaN</td>\n",
       "      <td>NaN</td>\n",
       "      <td>NaN</td>\n",
       "      <td>...</td>\n",
       "      <td>NaN</td>\n",
       "      <td>NaN</td>\n",
       "      <td>NaN</td>\n",
       "      <td>NaN</td>\n",
       "      <td>NaN</td>\n",
       "      <td>NaN</td>\n",
       "      <td>NaN</td>\n",
       "      <td>NaN</td>\n",
       "      <td>NaN</td>\n",
       "      <td>NaN</td>\n",
       "    </tr>\n",
       "    <tr>\n",
       "      <th>2011-06-29</th>\n",
       "      <td>-0.003639</td>\n",
       "      <td>-0.001722</td>\n",
       "      <td>-0.014834</td>\n",
       "      <td>0.009044</td>\n",
       "      <td>0.008739</td>\n",
       "      <td>0.029575</td>\n",
       "      <td>0.039215</td>\n",
       "      <td>0.009551</td>\n",
       "      <td>0.007982</td>\n",
       "      <td>0.033624</td>\n",
       "      <td>...</td>\n",
       "      <td>-0.003127</td>\n",
       "      <td>-0.004442</td>\n",
       "      <td>0.012484</td>\n",
       "      <td>-0.000972</td>\n",
       "      <td>0.018496</td>\n",
       "      <td>0.149973</td>\n",
       "      <td>0.004102</td>\n",
       "      <td>0.021098</td>\n",
       "      <td>0.002094</td>\n",
       "      <td>0.007786</td>\n",
       "    </tr>\n",
       "    <tr>\n",
       "      <th>2011-06-30</th>\n",
       "      <td>0.004879</td>\n",
       "      <td>0.008819</td>\n",
       "      <td>0.009865</td>\n",
       "      <td>0.001518</td>\n",
       "      <td>0.016639</td>\n",
       "      <td>-0.016158</td>\n",
       "      <td>0.007076</td>\n",
       "      <td>0.014716</td>\n",
       "      <td>0.004674</td>\n",
       "      <td>0.003374</td>\n",
       "      <td>...</td>\n",
       "      <td>0.029799</td>\n",
       "      <td>0.000776</td>\n",
       "      <td>0.013592</td>\n",
       "      <td>0.013198</td>\n",
       "      <td>0.007106</td>\n",
       "      <td>-0.026684</td>\n",
       "      <td>0.013889</td>\n",
       "      <td>-0.000356</td>\n",
       "      <td>0.009499</td>\n",
       "      <td>0.014081</td>\n",
       "    </tr>\n",
       "    <tr>\n",
       "      <th>2011-07-01</th>\n",
       "      <td>0.022612</td>\n",
       "      <td>0.009122</td>\n",
       "      <td>-0.001199</td>\n",
       "      <td>0.024451</td>\n",
       "      <td>0.004600</td>\n",
       "      <td>0.011861</td>\n",
       "      <td>0.017174</td>\n",
       "      <td>0.006561</td>\n",
       "      <td>0.009045</td>\n",
       "      <td>0.029779</td>\n",
       "      <td>...</td>\n",
       "      <td>0.021018</td>\n",
       "      <td>0.030050</td>\n",
       "      <td>0.022605</td>\n",
       "      <td>0.014123</td>\n",
       "      <td>0.021560</td>\n",
       "      <td>0.044031</td>\n",
       "      <td>0.015310</td>\n",
       "      <td>0.021739</td>\n",
       "      <td>0.006963</td>\n",
       "      <td>0.007741</td>\n",
       "    </tr>\n",
       "    <tr>\n",
       "      <th>2011-07-05</th>\n",
       "      <td>0.017975</td>\n",
       "      <td>0.001130</td>\n",
       "      <td>-0.006177</td>\n",
       "      <td>0.017662</td>\n",
       "      <td>-0.001616</td>\n",
       "      <td>-0.008115</td>\n",
       "      <td>-0.013814</td>\n",
       "      <td>0.000343</td>\n",
       "      <td>-0.009988</td>\n",
       "      <td>-0.007230</td>\n",
       "      <td>...</td>\n",
       "      <td>-0.017900</td>\n",
       "      <td>-0.005270</td>\n",
       "      <td>-0.009742</td>\n",
       "      <td>-0.002434</td>\n",
       "      <td>-0.018035</td>\n",
       "      <td>0.003979</td>\n",
       "      <td>0.000529</td>\n",
       "      <td>-0.008720</td>\n",
       "      <td>-0.002243</td>\n",
       "      <td>-0.004999</td>\n",
       "    </tr>\n",
       "    <tr>\n",
       "      <th>...</th>\n",
       "      <td>...</td>\n",
       "      <td>...</td>\n",
       "      <td>...</td>\n",
       "      <td>...</td>\n",
       "      <td>...</td>\n",
       "      <td>...</td>\n",
       "      <td>...</td>\n",
       "      <td>...</td>\n",
       "      <td>...</td>\n",
       "      <td>...</td>\n",
       "      <td>...</td>\n",
       "      <td>...</td>\n",
       "      <td>...</td>\n",
       "      <td>...</td>\n",
       "      <td>...</td>\n",
       "      <td>...</td>\n",
       "      <td>...</td>\n",
       "      <td>...</td>\n",
       "      <td>...</td>\n",
       "      <td>...</td>\n",
       "      <td>...</td>\n",
       "    </tr>\n",
       "    <tr>\n",
       "      <th>2022-07-25</th>\n",
       "      <td>-0.007398</td>\n",
       "      <td>-0.006410</td>\n",
       "      <td>0.011262</td>\n",
       "      <td>-0.010456</td>\n",
       "      <td>-0.009611</td>\n",
       "      <td>0.008974</td>\n",
       "      <td>0.007022</td>\n",
       "      <td>-0.001508</td>\n",
       "      <td>0.007205</td>\n",
       "      <td>0.004816</td>\n",
       "      <td>...</td>\n",
       "      <td>-0.004271</td>\n",
       "      <td>0.015458</td>\n",
       "      <td>0.018557</td>\n",
       "      <td>-0.000372</td>\n",
       "      <td>0.007126</td>\n",
       "      <td>0.002667</td>\n",
       "      <td>0.006974</td>\n",
       "      <td>0.007644</td>\n",
       "      <td>-0.001437</td>\n",
       "      <td>0.033303</td>\n",
       "    </tr>\n",
       "    <tr>\n",
       "      <th>2022-07-26</th>\n",
       "      <td>-0.008826</td>\n",
       "      <td>0.005438</td>\n",
       "      <td>0.009730</td>\n",
       "      <td>-0.052254</td>\n",
       "      <td>-0.004597</td>\n",
       "      <td>-0.020160</td>\n",
       "      <td>-0.021153</td>\n",
       "      <td>0.010846</td>\n",
       "      <td>-0.009306</td>\n",
       "      <td>-0.014571</td>\n",
       "      <td>...</td>\n",
       "      <td>-0.014461</td>\n",
       "      <td>0.004004</td>\n",
       "      <td>-0.006395</td>\n",
       "      <td>-0.033952</td>\n",
       "      <td>-0.013111</td>\n",
       "      <td>-0.008307</td>\n",
       "      <td>0.003575</td>\n",
       "      <td>-0.013793</td>\n",
       "      <td>-0.076049</td>\n",
       "      <td>-0.003890</td>\n",
       "    </tr>\n",
       "    <tr>\n",
       "      <th>2022-07-27</th>\n",
       "      <td>0.034235</td>\n",
       "      <td>0.008250</td>\n",
       "      <td>0.002309</td>\n",
       "      <td>0.053654</td>\n",
       "      <td>0.001090</td>\n",
       "      <td>0.016339</td>\n",
       "      <td>0.018285</td>\n",
       "      <td>0.016026</td>\n",
       "      <td>0.017490</td>\n",
       "      <td>0.018482</td>\n",
       "      <td>...</td>\n",
       "      <td>0.066526</td>\n",
       "      <td>0.005681</td>\n",
       "      <td>0.018151</td>\n",
       "      <td>0.013056</td>\n",
       "      <td>0.016660</td>\n",
       "      <td>-0.009506</td>\n",
       "      <td>-0.000223</td>\n",
       "      <td>0.018881</td>\n",
       "      <td>0.037793</td>\n",
       "      <td>0.021645</td>\n",
       "    </tr>\n",
       "    <tr>\n",
       "      <th>2022-07-28</th>\n",
       "      <td>0.003572</td>\n",
       "      <td>0.003364</td>\n",
       "      <td>-0.007826</td>\n",
       "      <td>0.010829</td>\n",
       "      <td>0.019220</td>\n",
       "      <td>-0.008038</td>\n",
       "      <td>0.003498</td>\n",
       "      <td>-0.001470</td>\n",
       "      <td>0.012401</td>\n",
       "      <td>-0.002292</td>\n",
       "      <td>...</td>\n",
       "      <td>0.024542</td>\n",
       "      <td>0.012869</td>\n",
       "      <td>0.017509</td>\n",
       "      <td>0.023600</td>\n",
       "      <td>-0.043352</td>\n",
       "      <td>0.004181</td>\n",
       "      <td>0.014251</td>\n",
       "      <td>-0.008922</td>\n",
       "      <td>0.024963</td>\n",
       "      <td>0.011685</td>\n",
       "    </tr>\n",
       "    <tr>\n",
       "      <th>2022-07-29</th>\n",
       "      <td>0.032793</td>\n",
       "      <td>-0.013773</td>\n",
       "      <td>-0.009129</td>\n",
       "      <td>0.103615</td>\n",
       "      <td>0.001383</td>\n",
       "      <td>0.014706</td>\n",
       "      <td>0.009993</td>\n",
       "      <td>-0.012316</td>\n",
       "      <td>0.022797</td>\n",
       "      <td>0.003480</td>\n",
       "      <td>...</td>\n",
       "      <td>0.024570</td>\n",
       "      <td>0.001570</td>\n",
       "      <td>0.015911</td>\n",
       "      <td>0.035327</td>\n",
       "      <td>0.023417</td>\n",
       "      <td>0.003596</td>\n",
       "      <td>0.014050</td>\n",
       "      <td>0.012696</td>\n",
       "      <td>0.017726</td>\n",
       "      <td>0.046308</td>\n",
       "    </tr>\n",
       "  </tbody>\n",
       "</table>\n",
       "<p>2791 rows × 67 columns</p>\n",
       "</div>"
      ],
      "text/plain": [
       "                AAPL       ABT      AMGN      AMZN        BA       BAC  \\\n",
       "Date                                                                     \n",
       "2011-06-28       NaN       NaN       NaN       NaN       NaN       NaN   \n",
       "2011-06-29 -0.003639 -0.001722 -0.014834  0.009044  0.008739  0.029575   \n",
       "2011-06-30  0.004879  0.008819  0.009865  0.001518  0.016639 -0.016158   \n",
       "2011-07-01  0.022612  0.009122 -0.001199  0.024451  0.004600  0.011861   \n",
       "2011-07-05  0.017975  0.001130 -0.006177  0.017662 -0.001616 -0.008115   \n",
       "...              ...       ...       ...       ...       ...       ...   \n",
       "2022-07-25 -0.007398 -0.006410  0.011262 -0.010456 -0.009611  0.008974   \n",
       "2022-07-26 -0.008826  0.005438  0.009730 -0.052254 -0.004597 -0.020160   \n",
       "2022-07-27  0.034235  0.008250  0.002309  0.053654  0.001090  0.016339   \n",
       "2022-07-28  0.003572  0.003364 -0.007826  0.010829  0.019220 -0.008038   \n",
       "2022-07-29  0.032793 -0.013773 -0.009129  0.103615  0.001383  0.014706   \n",
       "\n",
       "                  BK       BMY     BRK-B         C  ...       TXN       UNH  \\\n",
       "Date                                                ...                       \n",
       "2011-06-28       NaN       NaN       NaN       NaN  ...       NaN       NaN   \n",
       "2011-06-29  0.039215  0.009551  0.007982  0.033624  ... -0.003127 -0.004442   \n",
       "2011-06-30  0.007076  0.014716  0.004674  0.003374  ...  0.029799  0.000776   \n",
       "2011-07-01  0.017174  0.006561  0.009045  0.029779  ...  0.021018  0.030050   \n",
       "2011-07-05 -0.013814  0.000343 -0.009988 -0.007230  ... -0.017900 -0.005270   \n",
       "...              ...       ...       ...       ...  ...       ...       ...   \n",
       "2022-07-25  0.007022 -0.001508  0.007205  0.004816  ... -0.004271  0.015458   \n",
       "2022-07-26 -0.021153  0.010846 -0.009306 -0.014571  ... -0.014461  0.004004   \n",
       "2022-07-27  0.018285  0.016026  0.017490  0.018482  ...  0.066526  0.005681   \n",
       "2022-07-28  0.003498 -0.001470  0.012401 -0.002292  ...  0.024542  0.012869   \n",
       "2022-07-29  0.009993 -0.012316  0.022797  0.003480  ...  0.024570  0.001570   \n",
       "\n",
       "                 UNP       UPS       USB         V        VZ       WFC  \\\n",
       "Date                                                                     \n",
       "2011-06-28       NaN       NaN       NaN       NaN       NaN       NaN   \n",
       "2011-06-29  0.012484 -0.000972  0.018496  0.149973  0.004102  0.021098   \n",
       "2011-06-30  0.013592  0.013198  0.007106 -0.026684  0.013889 -0.000356   \n",
       "2011-07-01  0.022605  0.014123  0.021560  0.044031  0.015310  0.021739   \n",
       "2011-07-05 -0.009742 -0.002434 -0.018035  0.003979  0.000529 -0.008720   \n",
       "...              ...       ...       ...       ...       ...       ...   \n",
       "2022-07-25  0.018557 -0.000372  0.007126  0.002667  0.006974  0.007644   \n",
       "2022-07-26 -0.006395 -0.033952 -0.013111 -0.008307  0.003575 -0.013793   \n",
       "2022-07-27  0.018151  0.013056  0.016660 -0.009506 -0.000223  0.018881   \n",
       "2022-07-28  0.017509  0.023600 -0.043352  0.004181  0.014251 -0.008922   \n",
       "2022-07-29  0.015911  0.035327  0.023417  0.003596  0.014050  0.012696   \n",
       "\n",
       "                 WMT       XOM  \n",
       "Date                            \n",
       "2011-06-28       NaN       NaN  \n",
       "2011-06-29  0.002094  0.007786  \n",
       "2011-06-30  0.009499  0.014081  \n",
       "2011-07-01  0.006963  0.007741  \n",
       "2011-07-05 -0.002243 -0.004999  \n",
       "...              ...       ...  \n",
       "2022-07-25 -0.001437  0.033303  \n",
       "2022-07-26 -0.076049 -0.003890  \n",
       "2022-07-27  0.037793  0.021645  \n",
       "2022-07-28  0.024963  0.011685  \n",
       "2022-07-29  0.017726  0.046308  \n",
       "\n",
       "[2791 rows x 67 columns]"
      ]
     },
     "execution_count": 22,
     "metadata": {},
     "output_type": "execute_result"
    }
   ],
   "source": [
    "surv_eqwl_daily_rets = oef_daily_rets\n",
    "surv_eqwl_daily_rets"
   ]
  },
  {
   "cell_type": "code",
   "execution_count": 23,
   "metadata": {},
   "outputs": [
    {
     "data": {
      "text/plain": [
       "Date\n",
       "2011-06-27    1.000000\n",
       "2011-06-28    1.007281\n",
       "2011-06-29    1.016990\n",
       "2011-06-30    1.027913\n",
       "2011-07-01    1.042071\n",
       "                ...   \n",
       "2022-07-22    3.743753\n",
       "2022-07-25    3.759403\n",
       "2022-07-26    3.722046\n",
       "2022-07-27    3.794235\n",
       "2022-07-28    3.825534\n",
       "Name: Adj Close, Length: 2791, dtype: float64"
      ]
     },
     "execution_count": 23,
     "metadata": {},
     "output_type": "execute_result"
    }
   ],
   "source": [
    "eqwl_prices"
   ]
  },
  {
   "cell_type": "code",
   "execution_count": 24,
   "metadata": {},
   "outputs": [
    {
     "data": {
      "text/plain": [
       "<AxesSubplot:xlabel='Date'>"
      ]
     },
     "execution_count": 24,
     "metadata": {},
     "output_type": "execute_result"
    },
    {
     "data": {
      "image/png": "[encoded data removed]",
      "text/plain": [
       "<Figure size 1152x648 with 1 Axes>"
      ]
     },
     "metadata": {},
     "output_type": "display_data"
    }
   ],
   "source": [
    "eqwl_prices.rename(\"SP100 EW\").plot(figsize=(16,9), legend=True)\n",
    "(1+surv_eqwl_daily_rets.mean(axis=1)).rename(\"SP100 EW Surv 10Y\").cumprod().plot(legend=True)"
   ]
  },
  {
   "cell_type": "code",
   "execution_count": 25,
   "metadata": {},
   "outputs": [
    {
     "data": {
      "text/plain": [
       "Date\n",
       "2011-06-27         NaN\n",
       "2011-06-28    0.007281\n",
       "2011-06-29    0.009639\n",
       "2011-06-30    0.010740\n",
       "2011-07-01    0.013774\n",
       "                ...   \n",
       "2022-07-22   -0.006298\n",
       "2022-07-25    0.004180\n",
       "2022-07-26   -0.009937\n",
       "2022-07-27    0.019395\n",
       "2022-07-28    0.008249\n",
       "Name: Adj Close, Length: 2791, dtype: float64"
      ]
     },
     "execution_count": 25,
     "metadata": {},
     "output_type": "execute_result"
    }
   ],
   "source": [
    "eqwl_daily_rets = eqwl_prices.pct_change()\n",
    "eqwl_daily_rets"
   ]
  },
  {
   "cell_type": "code",
   "execution_count": 26,
   "metadata": {},
   "outputs": [],
   "source": [
    "surv_eqwl_total_return = (1+surv_eqwl_daily_rets.mean(axis=1)).cumprod()[-1]-1\n",
    "eqwl_total_return = (1+eqwl_daily_rets+0.002/252).cumprod()[-1]-1"
   ]
  },
  {
   "cell_type": "code",
   "execution_count": 27,
   "metadata": {},
   "outputs": [
    {
     "name": "stdout",
     "output_type": "stream",
     "text": [
      "1Y Yield Equivalent 10Y Survivors of S&P100: 13.641571218756576%\n",
      "1Y Yield Equivalent $EQWL (SP100 EW): 11.27726906355402%\n"
     ]
    }
   ],
   "source": [
    "yld_surv_eqwl = 100*(surv_eqwl_total_return**.1 -1)\n",
    "yld_eqwl = 100*(eqwl_total_return**.1 -1)\n",
    "print(f\"1Y Yield Equivalent 10Y Survivors of S&P100: {yld_surv_eqwl}%\")\n",
    "print(f\"1Y Yield Equivalent $EQWL (SP100 EW): {yld_eqwl}%\")"
   ]
  },
  {
   "cell_type": "code",
   "execution_count": 28,
   "metadata": {},
   "outputs": [],
   "source": [
    "surv_eqwl_cumreturn = (1+surv_eqwl_daily_rets.mean(axis=1)).cumprod()-1\n",
    "eqwl_cumreturn = (1+eqwl_daily_rets+0.002/252).cumprod()-1"
   ]
  },
  {
   "cell_type": "code",
   "execution_count": 29,
   "metadata": {},
   "outputs": [
    {
     "data": {
      "text/plain": [
       "15.297049851742893"
      ]
     },
     "execution_count": 29,
     "metadata": {},
     "output_type": "execute_result"
    }
   ],
   "source": [
    "100*surv_eqwl_daily_rets.mean(axis=1).mean(axis=0)*252"
   ]
  },
  {
   "cell_type": "code",
   "execution_count": 30,
   "metadata": {},
   "outputs": [
    {
     "data": {
      "text/plain": [
       "13.51016582548555"
      ]
     },
     "execution_count": 30,
     "metadata": {},
     "output_type": "execute_result"
    }
   ],
   "source": [
    "100*eqwl_daily_rets.mean()*252"
   ]
  },
  {
   "cell_type": "code",
   "execution_count": 31,
   "metadata": {},
   "outputs": [
    {
     "data": {
      "text/plain": [
       "17.430837117911544"
      ]
     },
     "execution_count": 31,
     "metadata": {},
     "output_type": "execute_result"
    }
   ],
   "source": [
    "import numpy as np\n",
    "100*surv_eqwl_daily_rets.mean(axis=1).std(axis=0)*np.sqrt(252)"
   ]
  },
  {
   "cell_type": "code",
   "execution_count": 32,
   "metadata": {},
   "outputs": [
    {
     "data": {
      "text/plain": [
       "16.624266226876898"
      ]
     },
     "execution_count": 32,
     "metadata": {},
     "output_type": "execute_result"
    }
   ],
   "source": [
    "100*eqwl_daily_rets.std()*np.sqrt(252)"
   ]
  },
  {
   "cell_type": "code",
   "execution_count": 33,
   "metadata": {},
   "outputs": [
    {
     "name": "stdout",
     "output_type": "stream",
     "text": [
      "0.8775854967988875\n",
      "0.8126774223359888\n"
     ]
    }
   ],
   "source": [
    "SR = surv_eqwl_daily_rets.mean(axis=1).mean(axis=0)*252 / (surv_eqwl_daily_rets.mean(axis=1).std(axis=0)*np.sqrt(252))\n",
    "SR0 = eqwl_daily_rets.mean()*252 / (eqwl_daily_rets.std()*np.sqrt(252))\n",
    "print(SR)\n",
    "print(SR0)"
   ]
  },
  {
   "cell_type": "code",
   "execution_count": 39,
   "metadata": {},
   "outputs": [],
   "source": [
    "sp100_composition_ini = [change_ticker(sym[0]) for sym in oef[0]]\n",
    "sp100_composition_fin = [change_ticker(sym[0]) for sym in oef[-1]]"
   ]
  },
  {
   "cell_type": "code",
   "execution_count": 40,
   "metadata": {},
   "outputs": [
    {
     "data": {
      "text/plain": [
       "48"
      ]
     },
     "execution_count": 40,
     "metadata": {},
     "output_type": "execute_result"
    }
   ],
   "source": [
    "sp100_survivalists = set(sp100_composition_ini).intersection(set(sp100_composition_fin))\n",
    "len(sp100_survivalists)"
   ]
  },
  {
   "cell_type": "code",
   "execution_count": 41,
   "metadata": {},
   "outputs": [
    {
     "data": {
      "text/plain": [
       "2012-06-29    [(-, BLACKROCK FDS III), (ALL, ALLSTATE CORP),...\n",
       "2012-07-31    [(-, BLACKROCK FDS III), (ALL, ALLSTATE CORP),...\n",
       "2012-08-31    [(-, BLACKROCK FDS III), (DELL, DELL INC.), (H...\n",
       "2012-09-28    [(AAPL*, APPLE INC), (XOM, EXXON MOBIL CORP), ...\n",
       "2012-10-31    [(AAPL*, APPLE INC), (XOM, EXXON MOBIL CORP), ...\n",
       "                                    ...                        \n",
       "2022-05-31    [(AAPL, APPLE INC), (MSFT, MICROSOFT CORP), (A...\n",
       "2022-06-30    [(AAPL, APPLE INC), (MSFT, MICROSOFT CORP), (A...\n",
       "2022-07-29    [(AAPL, APPLE INC), (MSFT, MICROSOFT CORP), (A...\n",
       "2022-08-31    [(AAPL, APPLE INC), (MSFT, MICROSOFT CORP), (A...\n",
       "2022-09-08    [(AAPL, APPLE INC), (MSFT, MICROSOFT CORP), (A...\n",
       "Length: 119, dtype: object"
      ]
     },
     "execution_count": 41,
     "metadata": {},
     "output_type": "execute_result"
    }
   ],
   "source": [
    "sp100_after2012Q2 = oef[oef.index>\"2012-06-01\"]\n",
    "sp100_after2012Q2"
   ]
  },
  {
   "cell_type": "code",
   "execution_count": 47,
   "metadata": {},
   "outputs": [],
   "source": [
    "sp100_after2012Q2_composition = set([change_ticker(sym[0]) for sym in sp100_after2012Q2[0]])\n",
    "sp100_composition_fin = set(sp100_composition_fin)"
   ]
  },
  {
   "cell_type": "code",
   "execution_count": 43,
   "metadata": {},
   "outputs": [
    {
     "data": {
      "text/plain": [
       "set"
      ]
     },
     "execution_count": 43,
     "metadata": {},
     "output_type": "execute_result"
    }
   ],
   "source": [
    "type(sp100_after2012Q2_composition)"
   ]
  },
  {
   "cell_type": "code",
   "execution_count": 48,
   "metadata": {},
   "outputs": [],
   "source": [
    "sp100_10y_survivalists = sp100_after2012Q2_composition.intersection(sp100_composition_fin)"
   ]
  },
  {
   "cell_type": "code",
   "execution_count": 51,
   "metadata": {},
   "outputs": [
    {
     "data": {
      "text/plain": [
       "73"
      ]
     },
     "execution_count": 51,
     "metadata": {},
     "output_type": "execute_result"
    }
   ],
   "source": [
    "len(sp100_10y_survivalists)"
   ]
  },
  {
   "cell_type": "markdown",
   "metadata": {},
   "source": [
    "### Completing the SP100 with SP500 15Y+ Survivors\n"
   ]
  },
  {
   "cell_type": "code",
   "execution_count": 381,
   "metadata": {},
   "outputs": [],
   "source": [
    "ivv = index_components_finder(\"IVV\") # The Market Cap Weighted SP500 ETF (BlackRock Issued)"
   ]
  },
  {
   "cell_type": "markdown",
   "metadata": {},
   "source": [
    "* 15Y+ **Survivalists**:"
   ]
  },
  {
   "cell_type": "code",
   "execution_count": 385,
   "metadata": {},
   "outputs": [
    {
     "data": {
      "text/plain": [
       "248"
      ]
     },
     "execution_count": 385,
     "metadata": {},
     "output_type": "execute_result"
    }
   ],
   "source": [
    "composition_ini = [change_ticker(sym[0]) for sym in ivv[0]]\n",
    "composition_fin = [change_ticker(sym[0]) for sym in ivv[-1]]\n",
    "sp500_survivalists = set(composition_ini).intersection(set(composition_fin))\n",
    "len(sp500_survivalists)"
   ]
  },
  {
   "cell_type": "code",
   "execution_count": 78,
   "metadata": {},
   "outputs": [],
   "source": [
    "raw_returns = pd.read_csv(\n",
    "    \"data/config/20220814_daily_raw_returns_merged.csv\", \n",
    "    index_col=\"Date\", \n",
    "    parse_dates=True,\n",
    "    na_values=\"#N/A\"\n",
    ")"
   ]
  },
  {
   "cell_type": "code",
   "execution_count": 386,
   "metadata": {},
   "outputs": [
    {
     "data": {
      "text/plain": [
       "2006-09-29    [(UIS, UNISYS CORP), (RSHCQ, RS LEGACY CORP), ...\n",
       "2006-10-31    [(RSHCQ, RS LEGACY CORP), (OMX, OFFICEMAX INC....\n",
       "2006-11-30    [(OMX, OFFICEMAX INC.), (BDK, THE BLACK & DECK...\n",
       "2006-12-29    [(BGIXX, BLK CASH FUND INST INST CLASS), (BDK,...\n",
       "2007-01-31    [(BDK, THE BLACK & DECKER CORPORATION), (NSM.2...\n",
       "                                    ...                        \n",
       "2022-05-31    [(AAPL, APPLE INC), (MSFT, MICROSOFT CORP), (A...\n",
       "2022-06-30    [(AAPL, APPLE INC), (MSFT, MICROSOFT CORP), (A...\n",
       "2022-07-29    [(AAPL, APPLE INC), (MSFT, MICROSOFT CORP), (A...\n",
       "2022-08-31    [(AAPL, APPLE INC), (MSFT, MICROSOFT CORP), (A...\n",
       "2022-09-08    [(AAPL, APPLE INC), (MSFT, MICROSOFT CORP), (A...\n",
       "Length: 188, dtype: object"
      ]
     },
     "execution_count": 386,
     "metadata": {},
     "output_type": "execute_result"
    }
   ],
   "source": [
    "oef"
   ]
  },
  {
   "cell_type": "code",
   "execution_count": 106,
   "metadata": {},
   "outputs": [
    {
     "name": "stdout",
     "output_type": "stream",
     "text": [
      "[*********************100%***********************]  248 of 248 completed\n"
     ]
    }
   ],
   "source": [
    "sp500_surv_prices = yf.download(\n",
    "    list(sp500_survivalists), \n",
    "    ivv.index[0], \n",
    "    ivv.index[-1]\n",
    ")[\"Adj Close\"]"
   ]
  },
  {
   "cell_type": "code",
   "execution_count": 110,
   "metadata": {},
   "outputs": [
    {
     "data": {
      "text/plain": [
       "CEG     3853\n",
       "DOW     3138\n",
       "IR      2673\n",
       "KHC     2205\n",
       "HLT     1814\n",
       "NWSA    1691\n",
       "HCA     1119\n",
       "KMI     1101\n",
       "DG       788\n",
       "NKE        0\n",
       "NTAP       0\n",
       "NSC        0\n",
       "NOC        0\n",
       "NI         0\n",
       "NUE        0\n",
       "NEM        0\n",
       "NEE        0\n",
       "MU         0\n",
       "MSFT       0\n",
       "NTRS       0\n",
       "A          0\n",
       "NVDA       0\n",
       "NWL        0\n",
       "MRO        0\n",
       "OMC        0\n",
       "dtype: int64"
      ]
     },
     "execution_count": 110,
     "metadata": {},
     "output_type": "execute_result"
    }
   ],
   "source": [
    "sp500_surv_prices.isna().sum().sort_values(ascending=False).head(25)"
   ]
  },
  {
   "cell_type": "code",
   "execution_count": 111,
   "metadata": {},
   "outputs": [],
   "source": [
    "from modules import performance_measures_helper as pms"
   ]
  },
  {
   "cell_type": "code",
   "execution_count": 116,
   "metadata": {},
   "outputs": [
    {
     "data": {
      "text/plain": [
       "AMZN     80.331655\n",
       "AAPL     65.412818\n",
       "NVDA     29.312903\n",
       "AZO      20.087053\n",
       "SHW      14.784241\n",
       "COST     13.807715\n",
       "EL       13.710640\n",
       "INTU     13.681736\n",
       "TMO      13.624752\n",
       "UNP      13.406811\n",
       "KLAC     12.674769\n",
       "CTAS     12.216009\n",
       "MSFT     12.012860\n",
       "NEE      11.782890\n",
       "UNH      11.756628\n",
       "HD       11.165947\n",
       "NKE      11.012426\n",
       "DE       10.908181\n",
       "CSX      10.730843\n",
       "DG       10.698479\n",
       "TJX      10.345748\n",
       "NOC      10.341632\n",
       "DHR      10.319440\n",
       "GWW      10.287544\n",
       "GOOGL     9.837063\n",
       "MCD       9.496241\n",
       "VRSN      9.480269\n",
       "AON       9.235965\n",
       "CMI       9.171822\n",
       "ADBE      8.906600\n",
       "ADP       8.508120\n",
       "STZ       8.482107\n",
       "LLY       8.252102\n",
       "LOW       8.216111\n",
       "HCA       7.915167\n",
       "PGR       7.913637\n",
       "FISV      7.869784\n",
       "MMC       7.565162\n",
       "ABC       7.425996\n",
       "AMP       7.375102\n",
       "YUM       7.307929\n",
       "NSC       7.097216\n",
       "HUM       7.021534\n",
       "PKI       7.017957\n",
       "CMS       6.943051\n",
       "LMT       6.906942\n",
       "MCK       6.892651\n",
       "CI        6.775979\n",
       "ADI       6.594815\n",
       "WM        6.367221\n",
       "SNA       6.274029\n",
       "DTE       6.160004\n",
       "Name: 2022-09-07 00:00:00, dtype: float64"
      ]
     },
     "execution_count": 116,
     "metadata": {},
     "output_type": "execute_result"
    }
   ],
   "source": [
    "pms.net_cumreturn(sp500_surv_prices.pct_change(), last_row=True).sort_values(ascending=False).head(52)"
   ]
  },
  {
   "cell_type": "code",
   "execution_count": 117,
   "metadata": {},
   "outputs": [
    {
     "name": "stdout",
     "output_type": "stream",
     "text": [
      "{'CMA', 'NKE', 'EFX', 'OXY', 'ETN', 'KR', 'D', 'HSY', 'CCL', 'ROK', 'QCOM', 'AAPL', 'HES', 'HAS', 'ADBE', 'PEG', 'DOV', 'LEN', 'WHR', 'NOC', 'ALL', 'INTU', 'WY', 'ADI', 'AVY', 'UNH', 'FISV', 'PGR', 'HCA', 'TJX', 'MU', 'TMO', 'PH', 'TSN', 'DHR', 'EA', 'AMD', 'CME', 'CSX', 'XEL', 'DRI', 'TRV', 'NTAP', 'DTE', 'FCX', 'NEM', 'ADP', 'WMB', 'VLO', 'LOW', 'MCK', 'KMI', 'CB', 'ED', 'FITB', 'EMN', 'ADM', 'ZBH', 'EL', 'BAX', 'SYY', 'PHM', 'NVDA', 'KLAC', 'AEP', 'SPG', 'CMI', 'AMAT', 'HBAN', 'SEE', 'GILD', 'LH', 'A', 'GOOGL', 'LUMN', 'IPG', 'TXT', 'CINF', 'KIM', 'GPC', 'ITW', 'HAL', 'PAYX', 'MMC', 'OMC', 'KEY', 'DHI', 'PFG', 'ETR', 'APA', 'NTRS', 'MAR', 'PCAR', 'SBUX', 'GIS', 'SCHW', 'LLY', 'AES', 'CTXS', 'GLW', 'DG', 'NWL', 'COP', 'PNC', 'AON', 'PSA', 'HIG', 'UNP', 'AMP', 'NUE', 'RHI', 'SYK', 'PRU', 'WM', 'HLT', 'VMC', 'APD', 'BDX', 'LMT', 'SRE', 'HPQ', 'VRSN', 'AEE', 'SLB', 'BEN', 'PKI', 'CNP', 'NEE', 'CLX', 'BK', 'BXP', 'IP', 'TER', 'LUV', 'COF', 'AMZN', 'VNO', 'STT', 'MRO', 'MET', 'SHW', 'PPG', 'MKC', 'KMB', 'EOG', 'ABC', 'PPL', 'JCI', 'SWK', 'PNW', 'SNA', 'YUM', 'GWW', 'WAT', 'CAG', 'ECL', 'BIIB', 'TFC', 'EMR', 'AZO', 'DUK', 'TROW', 'NWSA', 'NI', 'DVN', 'TAP', 'JNPR', 'EQR', 'CPB', 'DE', 'HUM', 'AFL', 'BSX', 'BBY', 'FE', 'K', 'RF', 'MCO', 'CAH', 'ZION', 'ADSK', 'CVS', 'IR', 'CMS', 'COST', 'LNC', 'EIX', 'DGX', 'MAS', 'EBAY', 'CI', 'CTAS', 'STZ', 'IFF', 'BF-B', 'VTRS', 'NSC', 'CEG', 'L', 'VFC'}\n"
     ]
    }
   ],
   "source": [
    "sp100_suplement = set(sp500_survivalists).difference(set(sp100_survivalists))\n",
    "print(sp100_suplement)"
   ]
  },
  {
   "cell_type": "code",
   "execution_count": 120,
   "metadata": {},
   "outputs": [],
   "source": [
    "sp100_suplement =list(sp100_suplement)"
   ]
  },
  {
   "cell_type": "code",
   "execution_count": 127,
   "metadata": {},
   "outputs": [
    {
     "data": {
      "text/plain": [
       "Index(['AMZN', 'AAPL', 'NVDA', 'AZO', 'SHW', 'COST', 'EL', 'INTU', 'TMO',\n",
       "       'UNP', 'KLAC', 'CTAS', 'NEE', 'UNH', 'NKE', 'DE', 'CSX', 'DG', 'TJX',\n",
       "       'NOC', 'DHR', 'GWW', 'GOOGL', 'VRSN', 'AON', 'CMI', 'ADBE', 'ADP',\n",
       "       'STZ', 'LLY', 'LOW', 'HCA', 'PGR', 'FISV', 'MMC', 'ABC', 'AMP', 'YUM',\n",
       "       'NSC', 'HUM', 'PKI', 'CMS', 'LMT', 'MCK', 'CI', 'ADI', 'WM', 'SNA',\n",
       "       'DTE', 'PH', 'PSA', 'AMAT'],\n",
       "      dtype='object')"
      ]
     },
     "execution_count": 127,
     "metadata": {},
     "output_type": "execute_result"
    }
   ],
   "source": [
    "sp100_suplement_totalret = pms.net_cumreturn(sp500_surv_prices[sp100_suplement].pct_change(),last_row=True)\n",
    "sp100_suplement_totalret.sort_values(ascending=False).head(52).index"
   ]
  },
  {
   "cell_type": "code",
   "execution_count": 128,
   "metadata": {},
   "outputs": [],
   "source": [
    "sp100_suplement = set(_)"
   ]
  },
  {
   "cell_type": "code",
   "execution_count": 132,
   "metadata": {},
   "outputs": [
    {
     "data": {
      "text/plain": [
       "100"
      ]
     },
     "execution_count": 132,
     "metadata": {},
     "output_type": "execute_result"
    }
   ],
   "source": [
    "len(sp100_survivalists.union(sp100_suplement))"
   ]
  },
  {
   "cell_type": "code",
   "execution_count": 133,
   "metadata": {},
   "outputs": [],
   "source": [
    "enhanced_sp100 = sp100_survivalists.union(sp100_suplement)"
   ]
  },
  {
   "cell_type": "code",
   "execution_count": 148,
   "metadata": {},
   "outputs": [
    {
     "name": "stdout",
     "output_type": "stream",
     "text": [
      "[*********************100%***********************]  100 of 100 completed\n"
     ]
    }
   ],
   "source": [
    "enhanced_sp100_prices = yf.download(\n",
    "    list(enhanced_sp100),\n",
    "    start = oef.index[0],\n",
    "    end = oef.index[-1],\n",
    ")[\"Adj Close\"]"
   ]
  },
  {
   "cell_type": "code",
   "execution_count": 153,
   "metadata": {},
   "outputs": [],
   "source": [
    "stock_with_null_ts_data = list(enhanced_sp100_prices.isna().sum()[enhanced_sp100_prices.isna().sum()!=0].index)"
   ]
  },
  {
   "cell_type": "code",
   "execution_count": 155,
   "metadata": {},
   "outputs": [],
   "source": [
    "enhanced_sp100_prices.drop(columns=stock_with_null_ts_data, inplace=True)"
   ]
  },
  {
   "cell_type": "code",
   "execution_count": 158,
   "metadata": {},
   "outputs": [],
   "source": [
    "enhanced_sp100_cumreturn = (1+enhanced_sp100_prices.pct_change().mean(axis=1)).cumprod()"
   ]
  },
  {
   "cell_type": "code",
   "execution_count": 161,
   "metadata": {},
   "outputs": [
    {
     "name": "stdout",
     "output_type": "stream",
     "text": [
      "[*********************100%***********************]  1 of 1 completed\n"
     ]
    }
   ],
   "source": [
    "eqwl_price = yf.download(\n",
    "    tickers=\"EQWL\",\n",
    "    start = oef.index[0],\n",
    "    end=oef.index[-1]\n",
    ")[\"Adj Close\"]"
   ]
  },
  {
   "cell_type": "code",
   "execution_count": 162,
   "metadata": {},
   "outputs": [],
   "source": [
    "eqwl_cumreturn = (1+eqwl_price.pct_change()).cumprod()"
   ]
  },
  {
   "cell_type": "code",
   "execution_count": 169,
   "metadata": {},
   "outputs": [],
   "source": [
    "sp100_survivalists = list(sp100_survivalists).remove(\"KHC\")"
   ]
  },
  {
   "cell_type": "code",
   "execution_count": 164,
   "metadata": {},
   "outputs": [
    {
     "data": {
      "text/plain": [
       "{'ABT',\n",
       " 'AIG',\n",
       " 'AMGN',\n",
       " 'BA',\n",
       " 'BAC',\n",
       " 'BMY',\n",
       " 'CAT',\n",
       " 'CL',\n",
       " 'CMCSA',\n",
       " 'CSCO',\n",
       " 'CVX',\n",
       " 'DD',\n",
       " 'DIS',\n",
       " 'DOW',\n",
       " 'EXC',\n",
       " 'F',\n",
       " 'FDX',\n",
       " 'GD',\n",
       " 'GE',\n",
       " 'GS',\n",
       " 'HD',\n",
       " 'IBM',\n",
       " 'INTC',\n",
       " 'JNJ',\n",
       " 'JPM',\n",
       " 'KHC',\n",
       " 'KO',\n",
       " 'MCD',\n",
       " 'MDT',\n",
       " 'MMM',\n",
       " 'MO',\n",
       " 'MRK',\n",
       " 'MS',\n",
       " 'MSFT',\n",
       " 'ORCL',\n",
       " 'PEP',\n",
       " 'PFE',\n",
       " 'PG',\n",
       " 'SO',\n",
       " 'T',\n",
       " 'TGT',\n",
       " 'TXN',\n",
       " 'UPS',\n",
       " 'USB',\n",
       " 'VZ',\n",
       " 'WFC',\n",
       " 'WMT',\n",
       " 'XOM'}"
      ]
     },
     "execution_count": 164,
     "metadata": {},
     "output_type": "execute_result"
    }
   ],
   "source": [
    "sp100_survivalists"
   ]
  },
  {
   "cell_type": "code",
   "execution_count": 173,
   "metadata": {},
   "outputs": [],
   "source": [
    "sp100_survs = set(sp100_composition_ini).intersection(set(sp100_composition_fin))"
   ]
  },
  {
   "cell_type": "code",
   "execution_count": 175,
   "metadata": {},
   "outputs": [
    {
     "data": {
      "text/plain": [
       "48"
      ]
     },
     "execution_count": 175,
     "metadata": {},
     "output_type": "execute_result"
    }
   ],
   "source": [
    "sp100_survs = list(sp100_survs)\n",
    "len(sp100_survs)"
   ]
  },
  {
   "cell_type": "code",
   "execution_count": 176,
   "metadata": {},
   "outputs": [],
   "source": [
    "sp100_survs.remove(\"KHC\")"
   ]
  },
  {
   "cell_type": "code",
   "execution_count": 177,
   "metadata": {},
   "outputs": [],
   "source": [
    "sp100_survs.remove(\"DOW\")"
   ]
  },
  {
   "cell_type": "code",
   "execution_count": 178,
   "metadata": {},
   "outputs": [
    {
     "data": {
      "text/plain": [
       "46"
      ]
     },
     "execution_count": 178,
     "metadata": {},
     "output_type": "execute_result"
    }
   ],
   "source": [
    "len(sp100_survs)"
   ]
  },
  {
   "cell_type": "code",
   "execution_count": 193,
   "metadata": {},
   "outputs": [
    {
     "data": {
      "text/plain": [
       "<AxesSubplot:xlabel='Date'>"
      ]
     },
     "execution_count": 193,
     "metadata": {},
     "output_type": "execute_result"
    },
    {
     "data": {
      "image/png": "[encoded data removed]",
      "text/plain": [
       "<Figure size 1512x648 with 1 Axes>"
      ]
     },
     "metadata": {},
     "output_type": "display_data"
    }
   ],
   "source": [
    "enhanced_sp100_cumreturn.rename(\"Enhanced S&P100\").plot(figsize=(21,9), legend=True)\n",
    "(1+enhanced_sp100_prices[sp100_survs].pct_change().mean(skipna=True, axis=1)).cumprod().rename(\"Surv S&P100\").plot(legend=True)\n",
    "(1+sp500_surv_prices.pct_change().mean(skipna=True, axis=1)).cumprod().rename(\"Surv S&P500\").plot(legend=True)\n",
    "(1+rsp.pct_change()).cumprod().rename(\"S&P500 EW\").plot(legend=True)"
   ]
  },
  {
   "cell_type": "markdown",
   "metadata": {},
   "source": [
    "## 1.3 **S&P500** Enhancing"
   ]
  },
  {
   "cell_type": "markdown",
   "metadata": {},
   "source": [
    "We propose supplement _S&P500_ non-survivors with stocks belonging from _Russell 3000_ and surviving all the sample."
   ]
  },
  {
   "cell_type": "markdown",
   "metadata": {},
   "source": [
    "* Caching Stock from **Russell 3000** Surviving From 2006-09 _End-Of-Month_\n"
   ]
  },
  {
   "cell_type": "code",
   "execution_count": null,
   "metadata": {},
   "outputs": [],
   "source": [
    "iwv = index_components_finder(\"IWV\")\n",
    "composition_ini = [change_ticker(sym[0]) for sym in iwv[0]]\n",
    "composition_fin = [change_ticker(sym[0]) for sym in iwv[-1]]\n",
    "tf3000 = set(composition_ini).intersection(set(composition_fin)) # TF:= Russell mnemonic\n",
    "len(tf3000)"
   ]
  },
  {
   "cell_type": "code",
   "execution_count": 203,
   "metadata": {},
   "outputs": [
    {
     "data": {
      "text/plain": [
       "912"
      ]
     },
     "execution_count": 203,
     "metadata": {},
     "output_type": "execute_result"
    }
   ],
   "source": [
    "sp500_supplementary = tf3000.symmetric_difference(sp500_survivalists)\n",
    "len(sp500_supplementary)"
   ]
  },
  {
   "cell_type": "code",
   "execution_count": 204,
   "metadata": {},
   "outputs": [
    {
     "name": "stdout",
     "output_type": "stream",
     "text": [
      "\n",
      "4 Failed downloads:\n",
      "- GTXI: No data found, symbol may be delisted\n",
      "- PN: No data found for this date range, symbol may be delisted\n",
      "- ARD: No data found, symbol may be delisted\n",
      "- MOGA: No data found, symbol may be delisted\n"
     ]
    }
   ],
   "source": [
    "sp500_supplementary_prices = yf.download(\n",
    "    tickers=list(sp500_supplementary),\n",
    "    start = ivv.index[0],\n",
    "    end=ivv.index[-1],\n",
    "    progress=False,\n",
    "    show_errors=True\n",
    ")"
   ]
  },
  {
   "cell_type": "code",
   "execution_count": 206,
   "metadata": {},
   "outputs": [],
   "source": [
    "sp500_supplementary_prices = sp500_supplementary_prices[\"Adj Close\"]"
   ]
  },
  {
   "cell_type": "code",
   "execution_count": 213,
   "metadata": {},
   "outputs": [],
   "source": [
    "# Dropping Stocks With Missing Quotes\n",
    "tf3000_stocks_nulldata = list(sp500_supplementary_prices.isna().sum()[sp500_supplementary_prices.isna().sum()!=0].index)"
   ]
  },
  {
   "cell_type": "code",
   "execution_count": 214,
   "metadata": {},
   "outputs": [
    {
     "data": {
      "text/plain": [
       "80"
      ]
     },
     "execution_count": 214,
     "metadata": {},
     "output_type": "execute_result"
    }
   ],
   "source": [
    "len(tf3000_stocks_nulldata)"
   ]
  },
  {
   "cell_type": "code",
   "execution_count": 215,
   "metadata": {},
   "outputs": [
    {
     "data": {
      "text/plain": [
       "0"
      ]
     },
     "execution_count": 215,
     "metadata": {},
     "output_type": "execute_result"
    }
   ],
   "source": [
    "sp500_supplementary_prices.drop(columns=tf3000_stocks_nulldata, inplace=True)\n",
    "sp500_supplementary_prices.isna().sum().sum()"
   ]
  },
  {
   "cell_type": "code",
   "execution_count": 216,
   "metadata": {},
   "outputs": [
    {
     "data": {
      "text/plain": [
       "832"
      ]
     },
     "execution_count": 216,
     "metadata": {},
     "output_type": "execute_result"
    }
   ],
   "source": [
    "len(sp500_supplementary_prices.columns)"
   ]
  },
  {
   "cell_type": "code",
   "execution_count": 228,
   "metadata": {},
   "outputs": [],
   "source": [
    "sp500_supplementary_totalrets = pms.net_cumreturn(sp500_supplementary_prices.pct_change(),last_row=True)"
   ]
  },
  {
   "cell_type": "code",
   "execution_count": 221,
   "metadata": {},
   "outputs": [
    {
     "data": {
      "text/plain": [
       "<AxesSubplot:xlabel='Date'>"
      ]
     },
     "execution_count": 221,
     "metadata": {},
     "output_type": "execute_result"
    },
    {
     "data": {
      "image/png": "[encoded data removed]",
      "text/plain": [
       "<Figure size 1512x648 with 1 Axes>"
      ]
     },
     "metadata": {},
     "output_type": "display_data"
    }
   ],
   "source": [
    "(1+sp500_supplementary_prices[[\"NFLX\"]].pct_change()).cumprod().plot(figsize=(21,9))"
   ]
  },
  {
   "cell_type": "code",
   "execution_count": 224,
   "metadata": {},
   "outputs": [
    {
     "data": {
      "text/plain": [
       "3.116607099159956"
      ]
     },
     "execution_count": 224,
     "metadata": {},
     "output_type": "execute_result"
    }
   ],
   "source": [
    "pms.net_cumreturn(rsp.pct_change(), last_row=True)"
   ]
  },
  {
   "cell_type": "code",
   "execution_count": 232,
   "metadata": {},
   "outputs": [
    {
     "data": {
      "text/plain": [
       "GPI     2.998731\n",
       "SJI     2.998545\n",
       "TKR     2.995537\n",
       "LSTR    2.958166\n",
       "EXTR    2.957507\n",
       "          ...   \n",
       "EFSC    0.861323\n",
       "FORR    0.860403\n",
       "UBSI    0.855568\n",
       "ROCK    0.847137\n",
       "RNST    0.841963\n",
       "Name: 2022-09-07 00:00:00, Length: 252, dtype: float64"
      ]
     },
     "execution_count": 232,
     "metadata": {},
     "output_type": "execute_result"
    }
   ],
   "source": [
    "sp500_supplementary_totalrets[sp500_supplementary_totalrets<3].sort_values(ascending=False).head(252)"
   ]
  },
  {
   "cell_type": "code",
   "execution_count": 265,
   "metadata": {},
   "outputs": [],
   "source": [
    "sp500_added_stocks = list(sp500_supplementary_totalrets[sp500_supplementary_totalrets<0.42054349065539876].sort_values(ascending=False).head(252).index)"
   ]
  },
  {
   "cell_type": "code",
   "execution_count": 276,
   "metadata": {},
   "outputs": [],
   "source": [
    "sp500_added_stocks2 = list(sp500_supplementary_totalrets.sort_values().head(252).index)"
   ]
  },
  {
   "cell_type": "code",
   "execution_count": 277,
   "metadata": {},
   "outputs": [
    {
     "data": {
      "text/plain": [
       "<AxesSubplot:xlabel='Date'>"
      ]
     },
     "execution_count": 277,
     "metadata": {},
     "output_type": "execute_result"
    },
    {
     "data": {
      "image/png": "[encoded data removed]",
      "text/plain": [
       "<Figure size 1512x648 with 1 Axes>"
      ]
     },
     "metadata": {},
     "output_type": "display_data"
    }
   ],
   "source": [
    "(1+sp500_supplementary_prices[sp500_added_stocks2].pct_change().mean(skipna=True, axis=1)).cumprod().plot(figsize=(21,9))"
   ]
  },
  {
   "cell_type": "code",
   "execution_count": 278,
   "metadata": {},
   "outputs": [
    {
     "data": {
      "text/plain": [
       "498"
      ]
     },
     "execution_count": 278,
     "metadata": {},
     "output_type": "execute_result"
    }
   ],
   "source": [
    "sp500_enhanced2_stocks = set(sp500_survivalists).union(set(sp500_added_stocks2))\n",
    "len(sp500_enhanced2_stocks)"
   ]
  },
  {
   "cell_type": "code",
   "execution_count": 264,
   "metadata": {},
   "outputs": [
    {
     "data": {
      "text/plain": [
       "0.42054349065539876"
      ]
     },
     "execution_count": 264,
     "metadata": {},
     "output_type": "execute_result"
    }
   ],
   "source": [
    "pms.net_cumreturn(sp500_surv_prices.pct_change(),last_row=True).quantile(.10)"
   ]
  },
  {
   "cell_type": "code",
   "execution_count": 279,
   "metadata": {},
   "outputs": [
    {
     "name": "stdout",
     "output_type": "stream",
     "text": [
      "[*********************100%***********************]  498 of 498 completed\n"
     ]
    }
   ],
   "source": [
    "sp500_enhanced2_prices = yf.download(\n",
    "    list(sp500_enhanced2_stocks),\n",
    "    start=ivv.index[0],\n",
    "    end=ivv.index[-1],\n",
    ")"
   ]
  },
  {
   "cell_type": "code",
   "execution_count": null,
   "metadata": {},
   "outputs": [],
   "source": [
    "rsp = yf.download(\n",
    "    tickers=\"RSP\",\n",
    "    start = ivv.index[0],\n",
    "    end = ivv.index[-1],\n",
    ")[\"Adj Close\"]"
   ]
  },
  {
   "cell_type": "code",
   "execution_count": 280,
   "metadata": {},
   "outputs": [],
   "source": [
    "sp500_enhanced2_prices = sp500_enhanced2_prices[\"Adj Close\"]"
   ]
  },
  {
   "cell_type": "code",
   "execution_count": 284,
   "metadata": {},
   "outputs": [
    {
     "data": {
      "text/plain": [
       "<AxesSubplot:xlabel='Date'>"
      ]
     },
     "execution_count": 284,
     "metadata": {},
     "output_type": "execute_result"
    },
    {
     "data": {
      "image/png": "[encoded data removed]",
      "text/plain": [
       "<Figure size 1512x648 with 1 Axes>"
      ]
     },
     "metadata": {},
     "output_type": "display_data"
    }
   ],
   "source": [
    "(1+sp500_enhanced2_prices[\"2009-10-1\":].pct_change().mean(skipna=True,axis=1)).rename(\"e2 SP500\").cumprod().plot(figsize=(21,9), legend=True)\n",
    "(1+sp500_enhanced1_prices[\"2009-10-1\":].pct_change().mean(skipna=True,axis=1)).rename(\"e SP500\").cumprod().plot(figsize=(21,9), legend=True)\n",
    "(1+sp500_surv_prices[\"2009-10-1\":].pct_change().mean(skipna=True,axis=1)).rename(\"Surv SP500\").cumprod().plot(figsize=(21,9), legend=True)\n",
    "(1+rsp[\"2009-10-1\":].pct_change()+0.002/252).rename(\"SP500 EW\").cumprod().plot(legend=True)"
   ]
  },
  {
   "cell_type": "code",
   "execution_count": 262,
   "metadata": {},
   "outputs": [
    {
     "data": {
      "text/plain": [
       "Date\n",
       "2006-09-28     34.623173\n",
       "2006-09-29     34.491192\n",
       "2006-10-02     34.444584\n",
       "2006-10-03     34.359180\n",
       "2006-10-04     34.825054\n",
       "                 ...    \n",
       "2022-08-31    140.759995\n",
       "2022-09-01    140.880005\n",
       "2022-09-02    139.860001\n",
       "2022-09-06    139.470001\n",
       "2022-09-07    142.529999\n",
       "Name: Adj Close, Length: 4013, dtype: float64"
      ]
     },
     "execution_count": 262,
     "metadata": {},
     "output_type": "execute_result"
    }
   ],
   "source": [
    "rsp"
   ]
  },
  {
   "cell_type": "code",
   "execution_count": 290,
   "metadata": {},
   "outputs": [],
   "source": [
    "sp500_enhancend_missing_data_stocks = list(sp500_enhanced2_prices.isna().sum()[sp500_enhanced2_prices.isna().sum()!=0].index)"
   ]
  },
  {
   "cell_type": "code",
   "execution_count": 291,
   "metadata": {},
   "outputs": [
    {
     "data": {
      "text/plain": [
       "['CEG', 'DG', 'DOW', 'HCA', 'HLT', 'IR', 'KHC', 'KMI', 'NWSA']"
      ]
     },
     "execution_count": 291,
     "metadata": {},
     "output_type": "execute_result"
    }
   ],
   "source": [
    "sp500_enhancend_missing_data_stocks\n"
   ]
  },
  {
   "cell_type": "code",
   "execution_count": 293,
   "metadata": {},
   "outputs": [
    {
     "data": {
      "text/plain": [
       "0"
      ]
     },
     "execution_count": 293,
     "metadata": {},
     "output_type": "execute_result"
    }
   ],
   "source": [
    "sp500_enhanced2_prices.drop(columns=sp500_enhancend_missing_data_stocks, inplace=True)\n",
    "sp500_enhanced2_prices.isna().sum().sum()"
   ]
  },
  {
   "cell_type": "code",
   "execution_count": 294,
   "metadata": {},
   "outputs": [
    {
     "data": {
      "text/plain": [
       "Index(['A', 'AA', 'AAPL', 'ABC', 'ABT', 'ACCO', 'ADBE', 'ADI', 'ADM', 'ADP',\n",
       "       ...\n",
       "       'WY', 'X', 'XEL', 'XOM', 'XRAY', 'XRX', 'YUM', 'ZBH', 'ZION', 'ZUMZ'],\n",
       "      dtype='object', length=489)"
      ]
     },
     "execution_count": 294,
     "metadata": {},
     "output_type": "execute_result"
    }
   ],
   "source": [
    "sp500_enhanced2_prices.columns"
   ]
  },
  {
   "cell_type": "code",
   "execution_count": 302,
   "metadata": {},
   "outputs": [
    {
     "data": {
      "text/plain": [
       "<AxesSubplot:xlabel='Date'>"
      ]
     },
     "execution_count": 302,
     "metadata": {},
     "output_type": "execute_result"
    },
    {
     "data": {
      "image/png": "[encoded data removed]",
      "text/plain": [
       "<Figure size 1512x648 with 1 Axes>"
      ]
     },
     "metadata": {},
     "output_type": "display_data"
    }
   ],
   "source": [
    "(1+sp500_enhanced2_prices.pct_change().mean(axis=1)).rename(\"Baseline Portfolio\").cumprod().plot(figsize=(21,9), legend=True)\n",
    "(1+rsp.pct_change()+0.002/252).rename(\"$RSP: S\\&P500 Equally Weighted\").cumprod().plot(legend=True)"
   ]
  },
  {
   "cell_type": "code",
   "execution_count": 321,
   "metadata": {},
   "outputs": [
    {
     "data": {
      "text/plain": [
       "datetime.timedelta(days=5823)"
      ]
     },
     "execution_count": 321,
     "metadata": {},
     "output_type": "execute_result"
    }
   ],
   "source": [
    "delta = ivv.index[-1] - ivv.index[0]\n",
    "delta.to_pytimedelta()"
   ]
  },
  {
   "cell_type": "code",
   "execution_count": 325,
   "metadata": {},
   "outputs": [],
   "source": [
    "years_since_inception = delta.to_pytimedelta().days/365.25"
   ]
  },
  {
   "cell_type": "code",
   "execution_count": 326,
   "metadata": {},
   "outputs": [
    {
     "data": {
      "text/plain": [
       "0.09095304405906379"
      ]
     },
     "execution_count": 326,
     "metadata": {},
     "output_type": "execute_result"
    }
   ],
   "source": [
    "pms.net_cumreturn(sp500_enhanced2_prices.pct_change().mean(axis=1), last_row=True)**(1/years_since_inception)-1"
   ]
  },
  {
   "cell_type": "code",
   "execution_count": 327,
   "metadata": {},
   "outputs": [
    {
     "data": {
      "text/plain": [
       "0.07390633439153182"
      ]
     },
     "execution_count": 327,
     "metadata": {},
     "output_type": "execute_result"
    }
   ],
   "source": [
    "pms.net_cumreturn(rsp.pct_change(), last_row=True)**(1/years_since_inception)-1"
   ]
  },
  {
   "cell_type": "code",
   "execution_count": 329,
   "metadata": {},
   "outputs": [
    {
     "data": {
      "text/plain": [
       "0.13386201443135345"
      ]
     },
     "execution_count": 329,
     "metadata": {},
     "output_type": "execute_result"
    }
   ],
   "source": [
    "sp500_enhanced2_prices.pct_change().mean(axis=1).mean()*252"
   ]
  },
  {
   "cell_type": "code",
   "execution_count": 332,
   "metadata": {},
   "outputs": [
    {
     "data": {
      "text/plain": [
       "0.11292366082908484"
      ]
     },
     "execution_count": 332,
     "metadata": {},
     "output_type": "execute_result"
    }
   ],
   "source": [
    "rsp.pct_change().mean()*252"
   ]
  },
  {
   "cell_type": "code",
   "execution_count": 334,
   "metadata": {},
   "outputs": [
    {
     "data": {
      "text/html": [
       "<div>\n",
       "<style scoped>\n",
       "    .dataframe tbody tr th:only-of-type {\n",
       "        vertical-align: middle;\n",
       "    }\n",
       "\n",
       "    .dataframe tbody tr th {\n",
       "        vertical-align: top;\n",
       "    }\n",
       "\n",
       "    .dataframe thead th {\n",
       "        text-align: right;\n",
       "    }\n",
       "</style>\n",
       "<table border=\"1\" class=\"dataframe\">\n",
       "  <thead>\n",
       "    <tr style=\"text-align: right;\">\n",
       "      <th></th>\n",
       "      <th>A</th>\n",
       "      <th>AA</th>\n",
       "      <th>AAPL</th>\n",
       "      <th>ABC</th>\n",
       "      <th>ABT</th>\n",
       "      <th>ACCO</th>\n",
       "      <th>ADBE</th>\n",
       "      <th>ADI</th>\n",
       "      <th>ADM</th>\n",
       "      <th>ADP</th>\n",
       "      <th>...</th>\n",
       "      <th>WY</th>\n",
       "      <th>X</th>\n",
       "      <th>XEL</th>\n",
       "      <th>XOM</th>\n",
       "      <th>XRAY</th>\n",
       "      <th>XRX</th>\n",
       "      <th>YUM</th>\n",
       "      <th>ZBH</th>\n",
       "      <th>ZION</th>\n",
       "      <th>ZUMZ</th>\n",
       "    </tr>\n",
       "    <tr>\n",
       "      <th>Date</th>\n",
       "      <th></th>\n",
       "      <th></th>\n",
       "      <th></th>\n",
       "      <th></th>\n",
       "      <th></th>\n",
       "      <th></th>\n",
       "      <th></th>\n",
       "      <th></th>\n",
       "      <th></th>\n",
       "      <th></th>\n",
       "      <th></th>\n",
       "      <th></th>\n",
       "      <th></th>\n",
       "      <th></th>\n",
       "      <th></th>\n",
       "      <th></th>\n",
       "      <th></th>\n",
       "      <th></th>\n",
       "      <th></th>\n",
       "      <th></th>\n",
       "      <th></th>\n",
       "    </tr>\n",
       "  </thead>\n",
       "  <tbody>\n",
       "    <tr>\n",
       "      <th>2022-08-31</th>\n",
       "      <td>128.250000</td>\n",
       "      <td>49.480000</td>\n",
       "      <td>157.220001</td>\n",
       "      <td>146.559998</td>\n",
       "      <td>102.650002</td>\n",
       "      <td>5.93</td>\n",
       "      <td>373.440002</td>\n",
       "      <td>151.529999</td>\n",
       "      <td>87.889999</td>\n",
       "      <td>243.358429</td>\n",
       "      <td>...</td>\n",
       "      <td>33.980000</td>\n",
       "      <td>22.870001</td>\n",
       "      <td>74.250000</td>\n",
       "      <td>95.589996</td>\n",
       "      <td>32.770000</td>\n",
       "      <td>16.620001</td>\n",
       "      <td>111.239998</td>\n",
       "      <td>106.320000</td>\n",
       "      <td>55.029999</td>\n",
       "      <td>25.959999</td>\n",
       "    </tr>\n",
       "    <tr>\n",
       "      <th>2022-09-01</th>\n",
       "      <td>128.929993</td>\n",
       "      <td>48.080002</td>\n",
       "      <td>157.960007</td>\n",
       "      <td>147.610001</td>\n",
       "      <td>104.839996</td>\n",
       "      <td>5.85</td>\n",
       "      <td>370.529999</td>\n",
       "      <td>150.690002</td>\n",
       "      <td>87.580002</td>\n",
       "      <td>244.901764</td>\n",
       "      <td>...</td>\n",
       "      <td>34.040001</td>\n",
       "      <td>21.480000</td>\n",
       "      <td>75.419998</td>\n",
       "      <td>93.870003</td>\n",
       "      <td>32.169998</td>\n",
       "      <td>16.160000</td>\n",
       "      <td>114.260002</td>\n",
       "      <td>106.800003</td>\n",
       "      <td>55.110001</td>\n",
       "      <td>25.910000</td>\n",
       "    </tr>\n",
       "    <tr>\n",
       "      <th>2022-09-02</th>\n",
       "      <td>128.009995</td>\n",
       "      <td>49.250000</td>\n",
       "      <td>155.809998</td>\n",
       "      <td>147.710007</td>\n",
       "      <td>102.500000</td>\n",
       "      <td>5.72</td>\n",
       "      <td>368.140015</td>\n",
       "      <td>148.630005</td>\n",
       "      <td>87.610001</td>\n",
       "      <td>237.453934</td>\n",
       "      <td>...</td>\n",
       "      <td>33.869999</td>\n",
       "      <td>21.709999</td>\n",
       "      <td>74.410004</td>\n",
       "      <td>95.589996</td>\n",
       "      <td>31.799999</td>\n",
       "      <td>15.790000</td>\n",
       "      <td>112.739998</td>\n",
       "      <td>105.570000</td>\n",
       "      <td>55.040001</td>\n",
       "      <td>25.540001</td>\n",
       "    </tr>\n",
       "    <tr>\n",
       "      <th>2022-09-06</th>\n",
       "      <td>129.300003</td>\n",
       "      <td>47.910000</td>\n",
       "      <td>154.529999</td>\n",
       "      <td>146.020004</td>\n",
       "      <td>102.709999</td>\n",
       "      <td>5.60</td>\n",
       "      <td>368.299988</td>\n",
       "      <td>148.229996</td>\n",
       "      <td>85.699997</td>\n",
       "      <td>237.115402</td>\n",
       "      <td>...</td>\n",
       "      <td>33.560001</td>\n",
       "      <td>21.980000</td>\n",
       "      <td>74.440002</td>\n",
       "      <td>94.949997</td>\n",
       "      <td>31.059999</td>\n",
       "      <td>15.860000</td>\n",
       "      <td>112.559998</td>\n",
       "      <td>104.930000</td>\n",
       "      <td>54.660000</td>\n",
       "      <td>26.230000</td>\n",
       "    </tr>\n",
       "    <tr>\n",
       "      <th>2022-09-07</th>\n",
       "      <td>131.429993</td>\n",
       "      <td>47.660000</td>\n",
       "      <td>155.960007</td>\n",
       "      <td>147.839996</td>\n",
       "      <td>104.699997</td>\n",
       "      <td>5.67</td>\n",
       "      <td>379.720001</td>\n",
       "      <td>150.699997</td>\n",
       "      <td>87.230003</td>\n",
       "      <td>240.680008</td>\n",
       "      <td>...</td>\n",
       "      <td>33.889999</td>\n",
       "      <td>23.170000</td>\n",
       "      <td>76.980003</td>\n",
       "      <td>94.139999</td>\n",
       "      <td>31.920000</td>\n",
       "      <td>16.000000</td>\n",
       "      <td>115.320000</td>\n",
       "      <td>108.580002</td>\n",
       "      <td>56.349998</td>\n",
       "      <td>27.790001</td>\n",
       "    </tr>\n",
       "  </tbody>\n",
       "</table>\n",
       "<p>5 rows × 489 columns</p>\n",
       "</div>"
      ],
      "text/plain": [
       "                     A         AA        AAPL         ABC         ABT  ACCO  \\\n",
       "Date                                                                          \n",
       "2022-08-31  128.250000  49.480000  157.220001  146.559998  102.650002  5.93   \n",
       "2022-09-01  128.929993  48.080002  157.960007  147.610001  104.839996  5.85   \n",
       "2022-09-02  128.009995  49.250000  155.809998  147.710007  102.500000  5.72   \n",
       "2022-09-06  129.300003  47.910000  154.529999  146.020004  102.709999  5.60   \n",
       "2022-09-07  131.429993  47.660000  155.960007  147.839996  104.699997  5.67   \n",
       "\n",
       "                  ADBE         ADI        ADM         ADP  ...         WY  \\\n",
       "Date                                                       ...              \n",
       "2022-08-31  373.440002  151.529999  87.889999  243.358429  ...  33.980000   \n",
       "2022-09-01  370.529999  150.690002  87.580002  244.901764  ...  34.040001   \n",
       "2022-09-02  368.140015  148.630005  87.610001  237.453934  ...  33.869999   \n",
       "2022-09-06  368.299988  148.229996  85.699997  237.115402  ...  33.560001   \n",
       "2022-09-07  379.720001  150.699997  87.230003  240.680008  ...  33.889999   \n",
       "\n",
       "                    X        XEL        XOM       XRAY        XRX         YUM  \\\n",
       "Date                                                                            \n",
       "2022-08-31  22.870001  74.250000  95.589996  32.770000  16.620001  111.239998   \n",
       "2022-09-01  21.480000  75.419998  93.870003  32.169998  16.160000  114.260002   \n",
       "2022-09-02  21.709999  74.410004  95.589996  31.799999  15.790000  112.739998   \n",
       "2022-09-06  21.980000  74.440002  94.949997  31.059999  15.860000  112.559998   \n",
       "2022-09-07  23.170000  76.980003  94.139999  31.920000  16.000000  115.320000   \n",
       "\n",
       "                   ZBH       ZION       ZUMZ  \n",
       "Date                                          \n",
       "2022-08-31  106.320000  55.029999  25.959999  \n",
       "2022-09-01  106.800003  55.110001  25.910000  \n",
       "2022-09-02  105.570000  55.040001  25.540001  \n",
       "2022-09-06  104.930000  54.660000  26.230000  \n",
       "2022-09-07  108.580002  56.349998  27.790001  \n",
       "\n",
       "[5 rows x 489 columns]"
      ]
     },
     "execution_count": 334,
     "metadata": {},
     "output_type": "execute_result"
    }
   ],
   "source": [
    "sp500_enhanced2_prices.tail()"
   ]
  },
  {
   "cell_type": "markdown",
   "metadata": {},
   "source": [
    "* Dumping all price components data"
   ]
  },
  {
   "cell_type": "code",
   "execution_count": 337,
   "metadata": {},
   "outputs": [],
   "source": [
    "sp500_enhanced2_prices.to_csv(\n",
    "    \"data/config/20220907_sp500mod_price_components_data.csv\",\n",
    "    index_label=\"Date\",\n",
    "    index=True\n",
    ")"
   ]
  },
  {
   "cell_type": "markdown",
   "metadata": {},
   "source": [
    "* Checking"
   ]
  },
  {
   "cell_type": "code",
   "execution_count": 338,
   "metadata": {},
   "outputs": [],
   "source": [
    "sp500 = pd.read_csv(\n",
    "    \"data/config/20220907_sp500mod_price_components_data.csv\",\n",
    "    index_col=\"Date\",\n",
    "    parse_dates=True\n",
    ")"
   ]
  },
  {
   "cell_type": "code",
   "execution_count": 340,
   "metadata": {},
   "outputs": [
    {
     "data": {
      "text/plain": [
       "(4013, 489)"
      ]
     },
     "execution_count": 340,
     "metadata": {},
     "output_type": "execute_result"
    }
   ],
   "source": [
    "sp500.shape"
   ]
  },
  {
   "cell_type": "markdown",
   "metadata": {},
   "source": [
    "* Stocks with prices below 1$ at some time"
   ]
  },
  {
   "cell_type": "code",
   "execution_count": 360,
   "metadata": {},
   "outputs": [
    {
     "data": {
      "text/plain": [
       "['ACCO',\n",
       " 'AXL',\n",
       " 'BBW',\n",
       " 'BCRX',\n",
       " 'CCO',\n",
       " 'CERS',\n",
       " 'CHS',\n",
       " 'CNO',\n",
       " 'EGY',\n",
       " 'EVC',\n",
       " 'F',\n",
       " 'FCEL',\n",
       " 'FITB',\n",
       " 'FLWS',\n",
       " 'GERN',\n",
       " 'GNW',\n",
       " 'HBAN',\n",
       " 'HL',\n",
       " 'IBCP',\n",
       " 'LVS',\n",
       " 'LXP',\n",
       " 'MNKD',\n",
       " 'MOD',\n",
       " 'MTG',\n",
       " 'NR',\n",
       " 'OSBC',\n",
       " 'PLAB',\n",
       " 'PLUG',\n",
       " 'QRTEA',\n",
       " 'RDN',\n",
       " 'RIGL',\n",
       " 'RUTH',\n",
       " 'SLM',\n",
       " 'SSP',\n",
       " 'STAR',\n",
       " 'TEN',\n",
       " 'TGNA',\n",
       " 'TTI',\n",
       " 'WNC']"
      ]
     },
     "execution_count": 360,
     "metadata": {},
     "output_type": "execute_result"
    }
   ],
   "source": [
    "list(sp500.columns[(sp500[sp500<1].sum()!=0)])"
   ]
  },
  {
   "cell_type": "markdown",
   "metadata": {},
   "source": [
    "* Checking if Missing Data"
   ]
  },
  {
   "cell_type": "code",
   "execution_count": 361,
   "metadata": {},
   "outputs": [
    {
     "data": {
      "text/plain": [
       "0"
      ]
     },
     "execution_count": 361,
     "metadata": {},
     "output_type": "execute_result"
    }
   ],
   "source": [
    "sp500.isna().sum().sum()"
   ]
  },
  {
   "cell_type": "markdown",
   "metadata": {},
   "source": [
    "### Annex: Metrics Comparison between SP500-Mod EW and RSP ETF (Actual SP500 EW Replica)"
   ]
  },
  {
   "cell_type": "markdown",
   "metadata": {},
   "source": [
    "**NOTA** Defender la cartera baseline (`e-SP500`) como buen baseline similar a indice (sin problemas de sesgo de supervivencia), en base a metricas a 10, 5, 3 (returns y sharpes a plazo)"
   ]
  },
  {
   "cell_type": "code",
   "execution_count": 365,
   "metadata": {},
   "outputs": [
    {
     "data": {
      "text/html": [
       "<div>\n",
       "<style scoped>\n",
       "    .dataframe tbody tr th:only-of-type {\n",
       "        vertical-align: middle;\n",
       "    }\n",
       "\n",
       "    .dataframe tbody tr th {\n",
       "        vertical-align: top;\n",
       "    }\n",
       "\n",
       "    .dataframe thead th {\n",
       "        text-align: right;\n",
       "    }\n",
       "</style>\n",
       "<table border=\"1\" class=\"dataframe\">\n",
       "  <thead>\n",
       "    <tr style=\"text-align: right;\">\n",
       "      <th></th>\n",
       "      <th>A</th>\n",
       "      <th>AA</th>\n",
       "      <th>AAPL</th>\n",
       "      <th>ABC</th>\n",
       "      <th>ABT</th>\n",
       "      <th>ACCO</th>\n",
       "      <th>ADBE</th>\n",
       "      <th>ADI</th>\n",
       "      <th>ADM</th>\n",
       "      <th>ADP</th>\n",
       "      <th>...</th>\n",
       "      <th>WY</th>\n",
       "      <th>X</th>\n",
       "      <th>XEL</th>\n",
       "      <th>XOM</th>\n",
       "      <th>XRAY</th>\n",
       "      <th>XRX</th>\n",
       "      <th>YUM</th>\n",
       "      <th>ZBH</th>\n",
       "      <th>ZION</th>\n",
       "      <th>ZUMZ</th>\n",
       "    </tr>\n",
       "    <tr>\n",
       "      <th>Date</th>\n",
       "      <th></th>\n",
       "      <th></th>\n",
       "      <th></th>\n",
       "      <th></th>\n",
       "      <th></th>\n",
       "      <th></th>\n",
       "      <th></th>\n",
       "      <th></th>\n",
       "      <th></th>\n",
       "      <th></th>\n",
       "      <th></th>\n",
       "      <th></th>\n",
       "      <th></th>\n",
       "      <th></th>\n",
       "      <th></th>\n",
       "      <th></th>\n",
       "      <th></th>\n",
       "      <th></th>\n",
       "      <th></th>\n",
       "      <th></th>\n",
       "      <th></th>\n",
       "    </tr>\n",
       "  </thead>\n",
       "  <tbody>\n",
       "    <tr>\n",
       "      <th>2006-09-28</th>\n",
       "      <td>NaN</td>\n",
       "      <td>NaN</td>\n",
       "      <td>NaN</td>\n",
       "      <td>NaN</td>\n",
       "      <td>NaN</td>\n",
       "      <td>NaN</td>\n",
       "      <td>NaN</td>\n",
       "      <td>NaN</td>\n",
       "      <td>NaN</td>\n",
       "      <td>NaN</td>\n",
       "      <td>...</td>\n",
       "      <td>NaN</td>\n",
       "      <td>NaN</td>\n",
       "      <td>NaN</td>\n",
       "      <td>NaN</td>\n",
       "      <td>NaN</td>\n",
       "      <td>NaN</td>\n",
       "      <td>NaN</td>\n",
       "      <td>NaN</td>\n",
       "      <td>NaN</td>\n",
       "      <td>NaN</td>\n",
       "    </tr>\n",
       "    <tr>\n",
       "      <th>2006-09-29</th>\n",
       "      <td>NaN</td>\n",
       "      <td>NaN</td>\n",
       "      <td>NaN</td>\n",
       "      <td>NaN</td>\n",
       "      <td>NaN</td>\n",
       "      <td>NaN</td>\n",
       "      <td>NaN</td>\n",
       "      <td>NaN</td>\n",
       "      <td>NaN</td>\n",
       "      <td>NaN</td>\n",
       "      <td>...</td>\n",
       "      <td>NaN</td>\n",
       "      <td>NaN</td>\n",
       "      <td>NaN</td>\n",
       "      <td>NaN</td>\n",
       "      <td>NaN</td>\n",
       "      <td>NaN</td>\n",
       "      <td>NaN</td>\n",
       "      <td>NaN</td>\n",
       "      <td>NaN</td>\n",
       "      <td>NaN</td>\n",
       "    </tr>\n",
       "    <tr>\n",
       "      <th>2006-10-02</th>\n",
       "      <td>NaN</td>\n",
       "      <td>NaN</td>\n",
       "      <td>NaN</td>\n",
       "      <td>NaN</td>\n",
       "      <td>NaN</td>\n",
       "      <td>NaN</td>\n",
       "      <td>NaN</td>\n",
       "      <td>NaN</td>\n",
       "      <td>NaN</td>\n",
       "      <td>NaN</td>\n",
       "      <td>...</td>\n",
       "      <td>NaN</td>\n",
       "      <td>NaN</td>\n",
       "      <td>NaN</td>\n",
       "      <td>NaN</td>\n",
       "      <td>NaN</td>\n",
       "      <td>NaN</td>\n",
       "      <td>NaN</td>\n",
       "      <td>NaN</td>\n",
       "      <td>NaN</td>\n",
       "      <td>NaN</td>\n",
       "    </tr>\n",
       "    <tr>\n",
       "      <th>2006-10-03</th>\n",
       "      <td>NaN</td>\n",
       "      <td>NaN</td>\n",
       "      <td>NaN</td>\n",
       "      <td>NaN</td>\n",
       "      <td>NaN</td>\n",
       "      <td>NaN</td>\n",
       "      <td>NaN</td>\n",
       "      <td>NaN</td>\n",
       "      <td>NaN</td>\n",
       "      <td>NaN</td>\n",
       "      <td>...</td>\n",
       "      <td>NaN</td>\n",
       "      <td>NaN</td>\n",
       "      <td>NaN</td>\n",
       "      <td>NaN</td>\n",
       "      <td>NaN</td>\n",
       "      <td>NaN</td>\n",
       "      <td>NaN</td>\n",
       "      <td>NaN</td>\n",
       "      <td>NaN</td>\n",
       "      <td>NaN</td>\n",
       "    </tr>\n",
       "    <tr>\n",
       "      <th>2006-10-04</th>\n",
       "      <td>NaN</td>\n",
       "      <td>NaN</td>\n",
       "      <td>NaN</td>\n",
       "      <td>NaN</td>\n",
       "      <td>NaN</td>\n",
       "      <td>NaN</td>\n",
       "      <td>NaN</td>\n",
       "      <td>NaN</td>\n",
       "      <td>NaN</td>\n",
       "      <td>NaN</td>\n",
       "      <td>...</td>\n",
       "      <td>NaN</td>\n",
       "      <td>NaN</td>\n",
       "      <td>NaN</td>\n",
       "      <td>NaN</td>\n",
       "      <td>NaN</td>\n",
       "      <td>NaN</td>\n",
       "      <td>NaN</td>\n",
       "      <td>NaN</td>\n",
       "      <td>NaN</td>\n",
       "      <td>NaN</td>\n",
       "    </tr>\n",
       "    <tr>\n",
       "      <th>...</th>\n",
       "      <td>...</td>\n",
       "      <td>...</td>\n",
       "      <td>...</td>\n",
       "      <td>...</td>\n",
       "      <td>...</td>\n",
       "      <td>...</td>\n",
       "      <td>...</td>\n",
       "      <td>...</td>\n",
       "      <td>...</td>\n",
       "      <td>...</td>\n",
       "      <td>...</td>\n",
       "      <td>...</td>\n",
       "      <td>...</td>\n",
       "      <td>...</td>\n",
       "      <td>...</td>\n",
       "      <td>...</td>\n",
       "      <td>...</td>\n",
       "      <td>...</td>\n",
       "      <td>...</td>\n",
       "      <td>...</td>\n",
       "      <td>...</td>\n",
       "    </tr>\n",
       "    <tr>\n",
       "      <th>2022-08-31</th>\n",
       "      <td>4.433978</td>\n",
       "      <td>1.395404</td>\n",
       "      <td>7.096979</td>\n",
       "      <td>3.248310</td>\n",
       "      <td>2.910197</td>\n",
       "      <td>0.117474</td>\n",
       "      <td>10.150791</td>\n",
       "      <td>3.979036</td>\n",
       "      <td>3.111311</td>\n",
       "      <td>4.964884</td>\n",
       "      <td>...</td>\n",
       "      <td>0.752867</td>\n",
       "      <td>0.086730</td>\n",
       "      <td>2.639554</td>\n",
       "      <td>0.580804</td>\n",
       "      <td>-0.037985</td>\n",
       "      <td>0.241272</td>\n",
       "      <td>1.657840</td>\n",
       "      <td>0.870057</td>\n",
       "      <td>2.031656</td>\n",
       "      <td>0.031387</td>\n",
       "    </tr>\n",
       "    <tr>\n",
       "      <th>2022-09-01</th>\n",
       "      <td>4.538170</td>\n",
       "      <td>1.412462</td>\n",
       "      <td>7.409237</td>\n",
       "      <td>3.332323</td>\n",
       "      <td>3.021115</td>\n",
       "      <td>0.131699</td>\n",
       "      <td>10.123686</td>\n",
       "      <td>3.937304</td>\n",
       "      <td>3.209401</td>\n",
       "      <td>5.055778</td>\n",
       "      <td>...</td>\n",
       "      <td>0.778644</td>\n",
       "      <td>0.067753</td>\n",
       "      <td>2.711485</td>\n",
       "      <td>0.586960</td>\n",
       "      <td>-0.049071</td>\n",
       "      <td>0.272058</td>\n",
       "      <td>1.737016</td>\n",
       "      <td>0.918705</td>\n",
       "      <td>2.079129</td>\n",
       "      <td>0.011319</td>\n",
       "    </tr>\n",
       "    <tr>\n",
       "      <th>2022-09-02</th>\n",
       "      <td>4.446503</td>\n",
       "      <td>1.493891</td>\n",
       "      <td>7.248117</td>\n",
       "      <td>3.364773</td>\n",
       "      <td>2.919372</td>\n",
       "      <td>0.088469</td>\n",
       "      <td>10.035372</td>\n",
       "      <td>3.918293</td>\n",
       "      <td>3.267133</td>\n",
       "      <td>4.854361</td>\n",
       "      <td>...</td>\n",
       "      <td>0.789669</td>\n",
       "      <td>0.090640</td>\n",
       "      <td>2.693566</td>\n",
       "      <td>0.621432</td>\n",
       "      <td>-0.073835</td>\n",
       "      <td>0.279377</td>\n",
       "      <td>1.703695</td>\n",
       "      <td>0.892344</td>\n",
       "      <td>2.052129</td>\n",
       "      <td>-0.041651</td>\n",
       "    </tr>\n",
       "    <tr>\n",
       "      <th>2022-09-06</th>\n",
       "      <td>4.487614</td>\n",
       "      <td>1.440060</td>\n",
       "      <td>7.354120</td>\n",
       "      <td>3.349932</td>\n",
       "      <td>2.932200</td>\n",
       "      <td>0.063895</td>\n",
       "      <td>9.829168</td>\n",
       "      <td>3.795745</td>\n",
       "      <td>3.155588</td>\n",
       "      <td>4.812863</td>\n",
       "      <td>...</td>\n",
       "      <td>0.785599</td>\n",
       "      <td>0.131352</td>\n",
       "      <td>2.650170</td>\n",
       "      <td>0.597424</td>\n",
       "      <td>-0.106342</td>\n",
       "      <td>0.283068</td>\n",
       "      <td>1.700537</td>\n",
       "      <td>0.843284</td>\n",
       "      <td>2.043912</td>\n",
       "      <td>-0.013539</td>\n",
       "    </tr>\n",
       "    <tr>\n",
       "      <th>2022-09-07</th>\n",
       "      <td>4.578012</td>\n",
       "      <td>1.427328</td>\n",
       "      <td>7.431429</td>\n",
       "      <td>3.404149</td>\n",
       "      <td>3.008386</td>\n",
       "      <td>0.077194</td>\n",
       "      <td>10.164952</td>\n",
       "      <td>3.875658</td>\n",
       "      <td>3.229777</td>\n",
       "      <td>4.900249</td>\n",
       "      <td>...</td>\n",
       "      <td>0.803156</td>\n",
       "      <td>0.192603</td>\n",
       "      <td>2.774719</td>\n",
       "      <td>0.583796</td>\n",
       "      <td>-0.081598</td>\n",
       "      <td>0.294394</td>\n",
       "      <td>1.766755</td>\n",
       "      <td>0.907403</td>\n",
       "      <td>2.138025</td>\n",
       "      <td>0.045130</td>\n",
       "    </tr>\n",
       "  </tbody>\n",
       "</table>\n",
       "<p>4013 rows × 489 columns</p>\n",
       "</div>"
      ],
      "text/plain": [
       "                   A        AA      AAPL       ABC       ABT      ACCO  \\\n",
       "Date                                                                     \n",
       "2006-09-28       NaN       NaN       NaN       NaN       NaN       NaN   \n",
       "2006-09-29       NaN       NaN       NaN       NaN       NaN       NaN   \n",
       "2006-10-02       NaN       NaN       NaN       NaN       NaN       NaN   \n",
       "2006-10-03       NaN       NaN       NaN       NaN       NaN       NaN   \n",
       "2006-10-04       NaN       NaN       NaN       NaN       NaN       NaN   \n",
       "...              ...       ...       ...       ...       ...       ...   \n",
       "2022-08-31  4.433978  1.395404  7.096979  3.248310  2.910197  0.117474   \n",
       "2022-09-01  4.538170  1.412462  7.409237  3.332323  3.021115  0.131699   \n",
       "2022-09-02  4.446503  1.493891  7.248117  3.364773  2.919372  0.088469   \n",
       "2022-09-06  4.487614  1.440060  7.354120  3.349932  2.932200  0.063895   \n",
       "2022-09-07  4.578012  1.427328  7.431429  3.404149  3.008386  0.077194   \n",
       "\n",
       "                 ADBE       ADI       ADM       ADP  ...        WY         X  \\\n",
       "Date                                                 ...                       \n",
       "2006-09-28        NaN       NaN       NaN       NaN  ...       NaN       NaN   \n",
       "2006-09-29        NaN       NaN       NaN       NaN  ...       NaN       NaN   \n",
       "2006-10-02        NaN       NaN       NaN       NaN  ...       NaN       NaN   \n",
       "2006-10-03        NaN       NaN       NaN       NaN  ...       NaN       NaN   \n",
       "2006-10-04        NaN       NaN       NaN       NaN  ...       NaN       NaN   \n",
       "...               ...       ...       ...       ...  ...       ...       ...   \n",
       "2022-08-31  10.150791  3.979036  3.111311  4.964884  ...  0.752867  0.086730   \n",
       "2022-09-01  10.123686  3.937304  3.209401  5.055778  ...  0.778644  0.067753   \n",
       "2022-09-02  10.035372  3.918293  3.267133  4.854361  ...  0.789669  0.090640   \n",
       "2022-09-06   9.829168  3.795745  3.155588  4.812863  ...  0.785599  0.131352   \n",
       "2022-09-07  10.164952  3.875658  3.229777  4.900249  ...  0.803156  0.192603   \n",
       "\n",
       "                 XEL       XOM      XRAY       XRX       YUM       ZBH  \\\n",
       "Date                                                                     \n",
       "2006-09-28       NaN       NaN       NaN       NaN       NaN       NaN   \n",
       "2006-09-29       NaN       NaN       NaN       NaN       NaN       NaN   \n",
       "2006-10-02       NaN       NaN       NaN       NaN       NaN       NaN   \n",
       "2006-10-03       NaN       NaN       NaN       NaN       NaN       NaN   \n",
       "2006-10-04       NaN       NaN       NaN       NaN       NaN       NaN   \n",
       "...              ...       ...       ...       ...       ...       ...   \n",
       "2022-08-31  2.639554  0.580804 -0.037985  0.241272  1.657840  0.870057   \n",
       "2022-09-01  2.711485  0.586960 -0.049071  0.272058  1.737016  0.918705   \n",
       "2022-09-02  2.693566  0.621432 -0.073835  0.279377  1.703695  0.892344   \n",
       "2022-09-06  2.650170  0.597424 -0.106342  0.283068  1.700537  0.843284   \n",
       "2022-09-07  2.774719  0.583796 -0.081598  0.294394  1.766755  0.907403   \n",
       "\n",
       "                ZION      ZUMZ  \n",
       "Date                            \n",
       "2006-09-28       NaN       NaN  \n",
       "2006-09-29       NaN       NaN  \n",
       "2006-10-02       NaN       NaN  \n",
       "2006-10-03       NaN       NaN  \n",
       "2006-10-04       NaN       NaN  \n",
       "...              ...       ...  \n",
       "2022-08-31  2.031656  0.031387  \n",
       "2022-09-01  2.079129  0.011319  \n",
       "2022-09-02  2.052129 -0.041651  \n",
       "2022-09-06  2.043912 -0.013539  \n",
       "2022-09-07  2.138025  0.045130  \n",
       "\n",
       "[4013 rows x 489 columns]"
      ]
     },
     "execution_count": 365,
     "metadata": {},
     "output_type": "execute_result"
    }
   ],
   "source": [
    "sp500.pct_change().rolling(window=\"3600D\", min_periods=2400).apply(pms.multi_period_return)"
   ]
  },
  {
   "cell_type": "code",
   "execution_count": 377,
   "metadata": {},
   "outputs": [],
   "source": [
    "sp500mod_10y_returns = sp500.pct_change().mean(axis=1).rolling(window=\"3600D\", min_periods=2400).apply(pms.multi_period_return)"
   ]
  },
  {
   "cell_type": "code",
   "execution_count": 378,
   "metadata": {},
   "outputs": [
    {
     "data": {
      "text/plain": [
       "<AxesSubplot:xlabel='Date'>"
      ]
     },
     "execution_count": 378,
     "metadata": {},
     "output_type": "execute_result"
    },
    {
     "data": {
      "image/png": "[encoded data removed]",
      "text/plain": [
       "<Figure size 1512x648 with 1 Axes>"
      ]
     },
     "metadata": {},
     "output_type": "display_data"
    }
   ],
   "source": [
    "(sp500mod_10y_returns**(1/10)-1).plot(figsize=(21,9))"
   ]
  },
  {
   "cell_type": "code",
   "execution_count": 379,
   "metadata": {},
   "outputs": [
    {
     "data": {
      "text/plain": [
       "2.489537781734138"
      ]
     },
     "execution_count": 379,
     "metadata": {},
     "output_type": "execute_result"
    }
   ],
   "source": [
    "sp500mod_10y_returns[-1]"
   ]
  },
  {
   "cell_type": "code",
   "execution_count": 372,
   "metadata": {},
   "outputs": [],
   "source": [
    "rsp_10y_returns = rsp.pct_change().rolling(window=\"3600D\", min_periods=2400).apply(pms.multi_period_return)"
   ]
  },
  {
   "cell_type": "code",
   "execution_count": 380,
   "metadata": {},
   "outputs": [
    {
     "data": {
      "text/plain": [
       "2.244983628039062"
      ]
     },
     "execution_count": 380,
     "metadata": {},
     "output_type": "execute_result"
    }
   ],
   "source": [
    "rsp_10y_returns[-1]"
   ]
  },
  {
   "cell_type": "markdown",
   "metadata": {},
   "source": [
    "* ***Translate*** to year equivalents (an excerpt from the [_Vanguard_](https://investor.vanguard.com/investment-products/etfs/profile/vthr#performance-fees) webpage):\n",
    "\n",
    "![Returns over distinct Horizons for EW SP500-M and $RSP](./pics/returns_dashboard_template.png)"
   ]
  }
 ],
 "metadata": {
  "interpreter": {
   "hash": "df2604acf27cccc9bc3890fbb9b23a69556046b1d99e2eacb9b86d7c88d795b0"
  },
  "kernelspec": {
   "display_name": "Python 3 (ipykernel)",
   "language": "python",
   "name": "python3"
  },
  "language_info": {
   "codemirror_mode": {
    "name": "ipython",
    "version": 3
   },
   "file_extension": ".py",
   "mimetype": "text/x-python",
   "name": "python",
   "nbconvert_exporter": "python",
   "pygments_lexer": "ipython3",
   "version": "3.9.12"
  },
  "vscode": {
   "interpreter": {
    "hash": "df2604acf27cccc9bc3890fbb9b23a69556046b1d99e2eacb9b86d7c88d795b0"
   }
  }
 },
 "nbformat": 4,
 "nbformat_minor": 4
}
