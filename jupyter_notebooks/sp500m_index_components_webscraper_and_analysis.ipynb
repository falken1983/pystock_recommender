{
 "cells": [
  {
   "cell_type": "markdown",
   "metadata": {},
   "source": [
    "# 1 DataSet Construction"
   ]
  },
  {
   "cell_type": "markdown",
   "metadata": {},
   "source": [
    "## 1.1 Components Data"
   ]
  },
  {
   "cell_type": "code",
   "execution_count": 6,
   "metadata": {},
   "outputs": [],
   "source": [
    "import matplotlib.pyplot as plt\n",
    "plt.style.use(\"fivethirtyeight\")\n",
    "import yfinance as yf"
   ]
  },
  {
   "cell_type": "markdown",
   "metadata": {},
   "source": [
    "### Scraping Index Components From BlackRock ETFs"
   ]
  },
  {
   "cell_type": "code",
   "execution_count": 7,
   "metadata": {},
   "outputs": [],
   "source": [
    "\"\"\"\n",
    "This notebook extracts Historical Data of the Stock Components of several ETF \n",
    "issued by _BlackRock_. A Long History (from 2006Q3) is Publicly Available for:\n",
    "+ SP500 (IVV), \n",
    "+ SP100 (OEF), \n",
    "+ RUSSELL1000 (IWB), \n",
    "+ RUSSELL2000 (IWM), \n",
    "+ RUSSELL3000 (IWV).\n",
    "_Vanguard_ site (the largest Global issuer for passive indexing) \n",
    "does not record historical data of index (ETF) components,\n",
    "Moreover their corresponding ETFs were issued much later than year 2K\n",
    "\"\"\"\n",
    "\n",
    "import pandas as pd\n",
    "import requests\n",
    "from bs4 import BeautifulSoup\n",
    "from datetime import datetime, timedelta\n",
    "import json\n",
    "\n",
    "BLACKROCK_CL_URL_ROOT = \"https://www.blackrock.com/cl/productos/\"\n",
    "\n",
    "def index_components_finder(symbol=\"IVV\", path = \"data/pkl/\"):\n",
    "    \"\"\"Scrapes BlackRock website public component time-series data for supported financial ETF products.\n",
    "    Args:\n",
    "        tickers : {‘IVV’, 'OEF', ‘IWB’, ‘IWM’, ‘IWV’}, default ‘IVV’ (S&P500)\n",
    "        path : str, default './data/pkl'\n",
    "    \"\"\"\n",
    "    \n",
    "    etf_url = {        \n",
    "        \"IVV\": \"239726/ishares-core-sp-500-etf\", # iShares Core S&P 500 ETF\n",
    "        \"OEF\": \"239723/ishares-core-sp-100-etf\", # iShares Core S&P 500 ETF\n",
    "        \"IWB\": \"239707/ishares-russell-1000-etf\", # iShares Russell 1000 ETF\n",
    "        \"IWM\": \"239710/ishares-russell-2000-etf\", # iShares Russell 2000 ETF\n",
    "        \"IWV\": \"239714/ishares-russell-3000-etf\", # iShares Russell 3000 ETF\n",
    "    }\n",
    "\n",
    "    url = BLACKROCK_CL_URL_ROOT + etf_url[symbol] + \"#tabsAll\"    \n",
    "    # request page\n",
    "    html = requests.get(url).content\n",
    "    soup = BeautifulSoup(html)\n",
    "\n",
    "    # find available dates\n",
    "    holdings = soup.find(\"div\", {\"id\": \"holdings\"})\n",
    "    dates_div = holdings.find_all(\"div\", \"component-date-list\")[1]\n",
    "    dates_div.find_all(\"option\")\n",
    "    dates = [option.attrs[\"value\"] for option in dates_div.find_all(\"option\")]\n",
    "\n",
    "    # download constituents for each date\n",
    "    constituents = pd.Series(dtype=object)\n",
    "    for date in dates:\n",
    "        resp = requests.get(BLACKROCK_CL_URL_ROOT\n",
    "        +etf_url[symbol]\n",
    "        +f\"/1506433277024.ajax?tab=all&fileType=json&asOfDate={date}\").content[3:]\n",
    "        tickers = json.loads(resp)\n",
    "        tickers = [(arr[0], arr[1]) for arr in tickers['aaData']]\n",
    "        date = datetime.strptime(date, \"%Y%m%d\")\n",
    "        constituents[date] = tickers\n",
    "\n",
    "    constituents = constituents.iloc[::-1] # reverse into cronlogical order\n",
    "    \n",
    "    # for pickle filename construction and saving (serial date)\n",
    "    last_date = constituents.index[-1].strftime(\"%Y%m%d\")\n",
    "    pklfile_fullpath = path + symbol + \"_historical_components_\" + last_date + \".pkl\"    \n",
    "    constituents.to_pickle(pklfile_fullpath)\n",
    "    return constituents"
   ]
  },
  {
   "cell_type": "markdown",
   "metadata": {},
   "source": [
    "## 1.2 **S&P100**: 10Y Survivors and Total Return Performance"
   ]
  },
  {
   "cell_type": "code",
   "execution_count": 8,
   "metadata": {},
   "outputs": [],
   "source": [
    "oef = index_components_finder(\"OEF\")"
   ]
  },
  {
   "cell_type": "code",
   "execution_count": 3,
   "metadata": {},
   "outputs": [],
   "source": [
    "import time\n",
    "import re\n",
    "\n",
    "def change_ticker(ticker):\n",
    "    rename_table = {\n",
    "        \"-\": \"LPRAX\", # BlackRock LifePath Dynamic Retirement Fund\n",
    "        \"8686\": \"AFL\", # AFLAC\n",
    "        \"4XS\": \"ESRX\", # Express Scripts Holding Company \n",
    "        \"AAZ\": \"APC\", # Anadarko Petroleum Corporation\n",
    "        \"AG4\": \"AGN\", # Allergan plc\n",
    "        \"BFB\": \"BF-B\", # Brown-Forman Corporation\n",
    "        \"BF.B\": \"BF-B\", # Brown-Forman Corporation\n",
    "        \"BF/B\": \"BF-B\", # Brown-Forman Corporation\n",
    "        \"BF_B\" : \"BF-B\", # Brown-Forman Corporation\n",
    "        \"BLD WI\": \"BLD\", # TopBuild Corp.\n",
    "        \"BRKB\": \"BRK-B\", # Berkshire Hathaway Inc.\n",
    "        \"BRK_B\": \"BRK-B\", # Berkshire Hathaway Inc.\n",
    "        \"CC WI\": \"CC\", # The Chemours Company\n",
    "        \"DC7\": \"DFS\", # Discover Financial Services\n",
    "        \"DWDP\": \"DD\", # Discover Financial Services\n",
    "        \"FB\": \"META\",   # Facebook\n",
    "        \"GGQ7\": \"GOOG\", # Alphabet Inc. Class C\n",
    "        \"GEC\": \"GE\", # General Electric\n",
    "        \"HNZ\": \"KHC\", # The Kraft Heinz Company\n",
    "        \"INCO\": \"INTC\", # Intel\n",
    "        \"LOM\": \"LMT\", # Lockheed Martin Corp.\n",
    "        \"LTD\": \"LB\", # L Brands Inc.\n",
    "        \"LTR\": \"L\", # Loews Corporation        \n",
    "        \"MPN\": \"MPC\", # Marathon Petroleum Corp.\n",
    "        \"MYL\": \"VTRS\", # Mylan NV (VIATRIS)\n",
    "        \"MWZ\": \"MET\", # Metlife Inc.\n",
    "        \"MX4A\": \"CME\", # CME Group Inc.\n",
    "        \"NCRA\": \"NWSA\", # News Corporation\n",
    "        \"NTH\": \"NOC\", # Northrop Grumman Crop.\n",
    "        \"PA9\": \"TRV\", # The Travelers Companies, Inc.\n",
    "        \"QCI\": \"QCOM\", # Qualcomm Inc.\n",
    "        \"RN7\": \"RF\", # Regions Financial Corp\n",
    "        \"RTN\" : \"RTX\", # Raytheon\n",
    "        \"SLBA\": \"SLB\", # Schlumberger Limited\n",
    "        \"SYF-W\": \"SYF\", # Synchrony Financial\n",
    "        \"SWG\": \"SCHW\", # The Charles Schwab Corporation \n",
    "        \"UAC/C\": \"UAA\", # Under Armour Inc Class A\n",
    "        \"UBSFT\": \"UBSFY\", # Ubisoft Entertainment\n",
    "        \"USX1\": \"X\", # United States Steel Corporation\n",
    "        \"UUM\": \"UNM\", # Unum Group\n",
    "        \"VISA\": \"V\", # Visa Inc         \n",
    "        \"VIAC\": \"VIA\", # viacom\n",
    "        \"WLTW\": \"WTW\" # Willis Towers Watson                \n",
    "    }\n",
    "    if ticker in rename_table:\n",
    "        fix = rename_table[ticker]\n",
    "    else:\n",
    "        fix = re.sub(r'[^A-Z]+', '', ticker)\n",
    "    return fix"
   ]
  },
  {
   "cell_type": "code",
   "execution_count": 10,
   "metadata": {},
   "outputs": [],
   "source": [
    "def all_times_symbols(financial_index, start_date, end_date):\n",
    "    symbols = [change_ticker(elements[0]) for elements in financial_index[start_date:end_date][0]]\n",
    "    all_symbols = symbols\n",
    "    symbols = set(symbols)        \n",
    "\n",
    "    for i, _ in enumerate(financial_index[start_date:end_date]):\n",
    "        if i>0:\n",
    "            sym = [change_ticker(stocks[0]) for stocks in financial_index[start_date:end_date][i]]        \n",
    "            all_symbols.extend(sym)\n",
    "            symbols = symbols.intersection(set(sym))\n",
    "            \n",
    "        else:\n",
    "            continue\n",
    "    return symbols, set(all_symbols)"
   ]
  },
  {
   "cell_type": "code",
   "execution_count": 11,
   "metadata": {},
   "outputs": [],
   "source": [
    "tickers, all_tickers = all_times_symbols(oef, \"2011-06-29\", \"2022-08-01\")"
   ]
  },
  {
   "cell_type": "code",
   "execution_count": 12,
   "metadata": {},
   "outputs": [
    {
     "name": "stdout",
     "output_type": "stream",
     "text": [
      "{'PCLN', 'OXY', 'CRM', 'AA', 'ADBE', 'AMT', 'AGN', 'ACT', 'ALL', 'XRX', 'WY', 'ABBV', 'TMO', 'ALD', 'DHR', 'XTSLA', 'FCX', 'WMB', 'KFT', 'KTF', 'EMC', 'KMI', 'KHC', 'MON', 'WBA', 'BAX', 'ESH', 'MDLZ', 'WPG', 'MSFUT', 'NVDA', 'OXYWSWI', 'AEP', 'SPG', 'ACN', 'ESZ', 'LPRAX', 'CHTR', 'CRC', 'AIG', 'UTX', 'DELL', 'FB', 'HAL', 'AVP', 'ETR', 'APA', 'HON', 'FOXA', 'SBUX', 'GOOG', 'SCHW', 'LLY', 'BLK', 'RTN', 'AXP', 'APC', 'CMCSK', 'RTX', 'META', 'ESU', 'BHI', 'HPQ', 'SLB', 'NEE', 'PYPL', 'S', 'FOX', 'BLKFDS', 'TSLA', 'GM', 'TMUS', 'BIIB', 'DUK', 'NOV', 'NWSA', 'DVN', 'WAG', 'CELG', 'CC', 'NFLX', 'USD', 'LIN', 'DOW', 'EBAY', 'TWX', 'AVGO', 'NSC', 'AEC', 'BKNG', 'ESM'}\n"
     ]
    }
   ],
   "source": [
    "var_symbols = all_tickers.difference(tickers)\n",
    "print(var_symbols)"
   ]
  },
  {
   "cell_type": "code",
   "execution_count": 13,
   "metadata": {},
   "outputs": [
    {
     "data": {
      "text/plain": [
       "91"
      ]
     },
     "execution_count": 13,
     "metadata": {},
     "output_type": "execute_result"
    }
   ],
   "source": [
    "len(var_symbols)"
   ]
  },
  {
   "cell_type": "code",
   "execution_count": 14,
   "metadata": {},
   "outputs": [
    {
     "name": "stdout",
     "output_type": "stream",
     "text": [
      "{'NKE', 'WMT', 'UPS', 'TXN', 'MO', 'MMM', 'EMR', 'USB', 'CMCSA', 'COP', 'XOM', 'KO', 'AMGN', 'AAPL', 'QCOM', 'BRK-B', 'CSCO', 'CAT', 'F', 'T', 'JPM', 'UNP', 'PM', 'JNJ', 'IBM', 'DIS', 'GILD', 'PEP', 'V', 'FDX', 'PG', 'GOOGL', 'LMT', 'BMY', 'MS', 'C', 'GE', 'UNH', 'BAC', 'MDT', 'EXC', 'PFE', 'GD', 'BK', 'SO', 'BA', 'CVS', 'COF', 'DD', 'MRK', 'AMZN', 'MSFT', 'COST', 'ORCL', 'CL', 'MET', 'INTC', 'MA', 'MCD', 'HD', 'VZ', 'CVX', 'WFC', 'GS', 'ABT', 'TGT', 'LOW'}\n"
     ]
    }
   ],
   "source": [
    "print(tickers)"
   ]
  },
  {
   "cell_type": "code",
   "execution_count": 15,
   "metadata": {},
   "outputs": [
    {
     "name": "stdout",
     "output_type": "stream",
     "text": [
      "[*********************100%***********************]  67 of 67 completed\n"
     ]
    }
   ],
   "source": [
    "data = yf.download(\n",
    "    list(tickers), \n",
    "    start=\"2011-06-29\", \n",
    "    end=\"2022-08-01\"\n",
    ")[\"Adj Close\"]"
   ]
  },
  {
   "cell_type": "code",
   "execution_count": 16,
   "metadata": {},
   "outputs": [
    {
     "data": {
      "text/html": [
       "<div>\n",
       "<style scoped>\n",
       "    .dataframe tbody tr th:only-of-type {\n",
       "        vertical-align: middle;\n",
       "    }\n",
       "\n",
       "    .dataframe tbody tr th {\n",
       "        vertical-align: top;\n",
       "    }\n",
       "\n",
       "    .dataframe thead th {\n",
       "        text-align: right;\n",
       "    }\n",
       "</style>\n",
       "<table border=\"1\" class=\"dataframe\">\n",
       "  <thead>\n",
       "    <tr style=\"text-align: right;\">\n",
       "      <th></th>\n",
       "      <th>AAPL</th>\n",
       "      <th>ABT</th>\n",
       "      <th>AMGN</th>\n",
       "      <th>AMZN</th>\n",
       "      <th>BA</th>\n",
       "      <th>BAC</th>\n",
       "      <th>BK</th>\n",
       "      <th>BMY</th>\n",
       "      <th>BRK-B</th>\n",
       "      <th>C</th>\n",
       "      <th>...</th>\n",
       "      <th>TXN</th>\n",
       "      <th>UNH</th>\n",
       "      <th>UNP</th>\n",
       "      <th>UPS</th>\n",
       "      <th>USB</th>\n",
       "      <th>V</th>\n",
       "      <th>VZ</th>\n",
       "      <th>WFC</th>\n",
       "      <th>WMT</th>\n",
       "      <th>XOM</th>\n",
       "    </tr>\n",
       "    <tr>\n",
       "      <th>Date</th>\n",
       "      <th></th>\n",
       "      <th></th>\n",
       "      <th></th>\n",
       "      <th></th>\n",
       "      <th></th>\n",
       "      <th></th>\n",
       "      <th></th>\n",
       "      <th></th>\n",
       "      <th></th>\n",
       "      <th></th>\n",
       "      <th></th>\n",
       "      <th></th>\n",
       "      <th></th>\n",
       "      <th></th>\n",
       "      <th></th>\n",
       "      <th></th>\n",
       "      <th></th>\n",
       "      <th></th>\n",
       "      <th></th>\n",
       "      <th></th>\n",
       "      <th></th>\n",
       "    </tr>\n",
       "  </thead>\n",
       "  <tbody>\n",
       "    <tr>\n",
       "      <th>2011-06-28</th>\n",
       "      <td>10.223415</td>\n",
       "      <td>19.818769</td>\n",
       "      <td>44.267136</td>\n",
       "      <td>10.1175</td>\n",
       "      <td>58.219566</td>\n",
       "      <td>9.173676</td>\n",
       "      <td>19.050795</td>\n",
       "      <td>20.295321</td>\n",
       "      <td>76.419998</td>\n",
       "      <td>33.617455</td>\n",
       "      <td>...</td>\n",
       "      <td>23.876259</td>\n",
       "      <td>43.582527</td>\n",
       "      <td>39.962994</td>\n",
       "      <td>51.654606</td>\n",
       "      <td>18.416531</td>\n",
       "      <td>17.383270</td>\n",
       "      <td>21.897718</td>\n",
       "      <td>20.037477</td>\n",
       "      <td>40.663376</td>\n",
       "      <td>50.620132</td>\n",
       "    </tr>\n",
       "    <tr>\n",
       "      <th>2011-06-29</th>\n",
       "      <td>10.186214</td>\n",
       "      <td>19.784637</td>\n",
       "      <td>43.610485</td>\n",
       "      <td>10.2090</td>\n",
       "      <td>58.728355</td>\n",
       "      <td>9.444983</td>\n",
       "      <td>19.797880</td>\n",
       "      <td>20.489155</td>\n",
       "      <td>77.029999</td>\n",
       "      <td>34.747799</td>\n",
       "      <td>...</td>\n",
       "      <td>23.801594</td>\n",
       "      <td>43.388912</td>\n",
       "      <td>40.461872</td>\n",
       "      <td>51.604416</td>\n",
       "      <td>18.757164</td>\n",
       "      <td>19.990294</td>\n",
       "      <td>21.987539</td>\n",
       "      <td>20.460230</td>\n",
       "      <td>40.748524</td>\n",
       "      <td>51.014267</td>\n",
       "    </tr>\n",
       "    <tr>\n",
       "      <th>2011-06-30</th>\n",
       "      <td>10.235918</td>\n",
       "      <td>19.959114</td>\n",
       "      <td>44.040684</td>\n",
       "      <td>10.2245</td>\n",
       "      <td>59.705536</td>\n",
       "      <td>9.292374</td>\n",
       "      <td>19.937962</td>\n",
       "      <td>20.790680</td>\n",
       "      <td>77.389999</td>\n",
       "      <td>34.865036</td>\n",
       "      <td>...</td>\n",
       "      <td>24.510859</td>\n",
       "      <td>43.422581</td>\n",
       "      <td>41.011848</td>\n",
       "      <td>52.285511</td>\n",
       "      <td>18.890461</td>\n",
       "      <td>19.456875</td>\n",
       "      <td>22.292921</td>\n",
       "      <td>20.452940</td>\n",
       "      <td>41.135574</td>\n",
       "      <td>51.732616</td>\n",
       "    </tr>\n",
       "    <tr>\n",
       "      <th>2011-07-01</th>\n",
       "      <td>10.467370</td>\n",
       "      <td>20.141180</td>\n",
       "      <td>43.987862</td>\n",
       "      <td>10.4745</td>\n",
       "      <td>59.980156</td>\n",
       "      <td>9.402595</td>\n",
       "      <td>20.280367</td>\n",
       "      <td>20.927078</td>\n",
       "      <td>78.089996</td>\n",
       "      <td>35.903282</td>\n",
       "      <td>...</td>\n",
       "      <td>25.026018</td>\n",
       "      <td>44.727444</td>\n",
       "      <td>41.938938</td>\n",
       "      <td>53.023937</td>\n",
       "      <td>19.297737</td>\n",
       "      <td>20.313572</td>\n",
       "      <td>22.634222</td>\n",
       "      <td>20.897573</td>\n",
       "      <td>41.422001</td>\n",
       "      <td>52.133080</td>\n",
       "    </tr>\n",
       "    <tr>\n",
       "      <th>2011-07-05</th>\n",
       "      <td>10.655519</td>\n",
       "      <td>20.163935</td>\n",
       "      <td>43.716137</td>\n",
       "      <td>10.6595</td>\n",
       "      <td>59.883205</td>\n",
       "      <td>9.326288</td>\n",
       "      <td>20.000216</td>\n",
       "      <td>20.934256</td>\n",
       "      <td>77.309998</td>\n",
       "      <td>35.643719</td>\n",
       "      <td>...</td>\n",
       "      <td>24.578058</td>\n",
       "      <td>44.491718</td>\n",
       "      <td>41.530384</td>\n",
       "      <td>52.894894</td>\n",
       "      <td>18.949701</td>\n",
       "      <td>20.394394</td>\n",
       "      <td>22.646204</td>\n",
       "      <td>20.715349</td>\n",
       "      <td>41.329090</td>\n",
       "      <td>51.872471</td>\n",
       "    </tr>\n",
       "  </tbody>\n",
       "</table>\n",
       "<p>5 rows × 67 columns</p>\n",
       "</div>"
      ],
      "text/plain": [
       "                 AAPL        ABT       AMGN     AMZN         BA       BAC  \\\n",
       "Date                                                                        \n",
       "2011-06-28  10.223415  19.818769  44.267136  10.1175  58.219566  9.173676   \n",
       "2011-06-29  10.186214  19.784637  43.610485  10.2090  58.728355  9.444983   \n",
       "2011-06-30  10.235918  19.959114  44.040684  10.2245  59.705536  9.292374   \n",
       "2011-07-01  10.467370  20.141180  43.987862  10.4745  59.980156  9.402595   \n",
       "2011-07-05  10.655519  20.163935  43.716137  10.6595  59.883205  9.326288   \n",
       "\n",
       "                   BK        BMY      BRK-B          C  ...        TXN  \\\n",
       "Date                                                    ...              \n",
       "2011-06-28  19.050795  20.295321  76.419998  33.617455  ...  23.876259   \n",
       "2011-06-29  19.797880  20.489155  77.029999  34.747799  ...  23.801594   \n",
       "2011-06-30  19.937962  20.790680  77.389999  34.865036  ...  24.510859   \n",
       "2011-07-01  20.280367  20.927078  78.089996  35.903282  ...  25.026018   \n",
       "2011-07-05  20.000216  20.934256  77.309998  35.643719  ...  24.578058   \n",
       "\n",
       "                  UNH        UNP        UPS        USB          V         VZ  \\\n",
       "Date                                                                           \n",
       "2011-06-28  43.582527  39.962994  51.654606  18.416531  17.383270  21.897718   \n",
       "2011-06-29  43.388912  40.461872  51.604416  18.757164  19.990294  21.987539   \n",
       "2011-06-30  43.422581  41.011848  52.285511  18.890461  19.456875  22.292921   \n",
       "2011-07-01  44.727444  41.938938  53.023937  19.297737  20.313572  22.634222   \n",
       "2011-07-05  44.491718  41.530384  52.894894  18.949701  20.394394  22.646204   \n",
       "\n",
       "                  WFC        WMT        XOM  \n",
       "Date                                         \n",
       "2011-06-28  20.037477  40.663376  50.620132  \n",
       "2011-06-29  20.460230  40.748524  51.014267  \n",
       "2011-06-30  20.452940  41.135574  51.732616  \n",
       "2011-07-01  20.897573  41.422001  52.133080  \n",
       "2011-07-05  20.715349  41.329090  51.872471  \n",
       "\n",
       "[5 rows x 67 columns]"
      ]
     },
     "execution_count": 16,
     "metadata": {},
     "output_type": "execute_result"
    }
   ],
   "source": [
    "data.head()"
   ]
  },
  {
   "cell_type": "code",
   "execution_count": 17,
   "metadata": {},
   "outputs": [],
   "source": [
    "yfinance_exceptions = ['GAS', 'HAR', 'CSC', 'EMC', 'GME', 'POM', 'PCL', 'COV', 'ETN', 'COL', 'LLL']"
   ]
  },
  {
   "cell_type": "code",
   "execution_count": 18,
   "metadata": {},
   "outputs": [
    {
     "data": {
      "text/plain": [
       "set()"
      ]
     },
     "execution_count": 18,
     "metadata": {},
     "output_type": "execute_result"
    }
   ],
   "source": [
    "set(data.columns).intersection(yfinance_exceptions)"
   ]
  },
  {
   "cell_type": "code",
   "execution_count": 19,
   "metadata": {},
   "outputs": [
    {
     "data": {
      "text/html": [
       "<div>\n",
       "<style scoped>\n",
       "    .dataframe tbody tr th:only-of-type {\n",
       "        vertical-align: middle;\n",
       "    }\n",
       "\n",
       "    .dataframe tbody tr th {\n",
       "        vertical-align: top;\n",
       "    }\n",
       "\n",
       "    .dataframe thead th {\n",
       "        text-align: right;\n",
       "    }\n",
       "</style>\n",
       "<table border=\"1\" class=\"dataframe\">\n",
       "  <thead>\n",
       "    <tr style=\"text-align: right;\">\n",
       "      <th></th>\n",
       "      <th>AAPL</th>\n",
       "      <th>ABT</th>\n",
       "      <th>AMGN</th>\n",
       "      <th>AMZN</th>\n",
       "      <th>BA</th>\n",
       "      <th>BAC</th>\n",
       "      <th>BK</th>\n",
       "      <th>BMY</th>\n",
       "      <th>BRK-B</th>\n",
       "      <th>C</th>\n",
       "      <th>...</th>\n",
       "      <th>TXN</th>\n",
       "      <th>UNH</th>\n",
       "      <th>UNP</th>\n",
       "      <th>UPS</th>\n",
       "      <th>USB</th>\n",
       "      <th>V</th>\n",
       "      <th>VZ</th>\n",
       "      <th>WFC</th>\n",
       "      <th>WMT</th>\n",
       "      <th>XOM</th>\n",
       "    </tr>\n",
       "    <tr>\n",
       "      <th>Date</th>\n",
       "      <th></th>\n",
       "      <th></th>\n",
       "      <th></th>\n",
       "      <th></th>\n",
       "      <th></th>\n",
       "      <th></th>\n",
       "      <th></th>\n",
       "      <th></th>\n",
       "      <th></th>\n",
       "      <th></th>\n",
       "      <th></th>\n",
       "      <th></th>\n",
       "      <th></th>\n",
       "      <th></th>\n",
       "      <th></th>\n",
       "      <th></th>\n",
       "      <th></th>\n",
       "      <th></th>\n",
       "      <th></th>\n",
       "      <th></th>\n",
       "      <th></th>\n",
       "    </tr>\n",
       "  </thead>\n",
       "  <tbody>\n",
       "    <tr>\n",
       "      <th>2011-06-28</th>\n",
       "      <td>NaN</td>\n",
       "      <td>NaN</td>\n",
       "      <td>NaN</td>\n",
       "      <td>NaN</td>\n",
       "      <td>NaN</td>\n",
       "      <td>NaN</td>\n",
       "      <td>NaN</td>\n",
       "      <td>NaN</td>\n",
       "      <td>NaN</td>\n",
       "      <td>NaN</td>\n",
       "      <td>...</td>\n",
       "      <td>NaN</td>\n",
       "      <td>NaN</td>\n",
       "      <td>NaN</td>\n",
       "      <td>NaN</td>\n",
       "      <td>NaN</td>\n",
       "      <td>NaN</td>\n",
       "      <td>NaN</td>\n",
       "      <td>NaN</td>\n",
       "      <td>NaN</td>\n",
       "      <td>NaN</td>\n",
       "    </tr>\n",
       "    <tr>\n",
       "      <th>2011-06-29</th>\n",
       "      <td>-0.003639</td>\n",
       "      <td>-0.001722</td>\n",
       "      <td>-0.014834</td>\n",
       "      <td>0.009044</td>\n",
       "      <td>0.008739</td>\n",
       "      <td>0.029575</td>\n",
       "      <td>0.039215</td>\n",
       "      <td>0.009551</td>\n",
       "      <td>0.007982</td>\n",
       "      <td>0.033624</td>\n",
       "      <td>...</td>\n",
       "      <td>-0.003127</td>\n",
       "      <td>-0.004442</td>\n",
       "      <td>0.012484</td>\n",
       "      <td>-0.000972</td>\n",
       "      <td>0.018496</td>\n",
       "      <td>0.149973</td>\n",
       "      <td>0.004102</td>\n",
       "      <td>0.021098</td>\n",
       "      <td>0.002094</td>\n",
       "      <td>0.007786</td>\n",
       "    </tr>\n",
       "    <tr>\n",
       "      <th>2011-06-30</th>\n",
       "      <td>0.004879</td>\n",
       "      <td>0.008819</td>\n",
       "      <td>0.009865</td>\n",
       "      <td>0.001518</td>\n",
       "      <td>0.016639</td>\n",
       "      <td>-0.016158</td>\n",
       "      <td>0.007076</td>\n",
       "      <td>0.014716</td>\n",
       "      <td>0.004674</td>\n",
       "      <td>0.003374</td>\n",
       "      <td>...</td>\n",
       "      <td>0.029799</td>\n",
       "      <td>0.000776</td>\n",
       "      <td>0.013592</td>\n",
       "      <td>0.013198</td>\n",
       "      <td>0.007106</td>\n",
       "      <td>-0.026684</td>\n",
       "      <td>0.013889</td>\n",
       "      <td>-0.000356</td>\n",
       "      <td>0.009499</td>\n",
       "      <td>0.014081</td>\n",
       "    </tr>\n",
       "    <tr>\n",
       "      <th>2011-07-01</th>\n",
       "      <td>0.022612</td>\n",
       "      <td>0.009122</td>\n",
       "      <td>-0.001199</td>\n",
       "      <td>0.024451</td>\n",
       "      <td>0.004600</td>\n",
       "      <td>0.011861</td>\n",
       "      <td>0.017174</td>\n",
       "      <td>0.006561</td>\n",
       "      <td>0.009045</td>\n",
       "      <td>0.029779</td>\n",
       "      <td>...</td>\n",
       "      <td>0.021018</td>\n",
       "      <td>0.030050</td>\n",
       "      <td>0.022605</td>\n",
       "      <td>0.014123</td>\n",
       "      <td>0.021560</td>\n",
       "      <td>0.044031</td>\n",
       "      <td>0.015310</td>\n",
       "      <td>0.021739</td>\n",
       "      <td>0.006963</td>\n",
       "      <td>0.007741</td>\n",
       "    </tr>\n",
       "    <tr>\n",
       "      <th>2011-07-05</th>\n",
       "      <td>0.017975</td>\n",
       "      <td>0.001130</td>\n",
       "      <td>-0.006177</td>\n",
       "      <td>0.017662</td>\n",
       "      <td>-0.001616</td>\n",
       "      <td>-0.008115</td>\n",
       "      <td>-0.013814</td>\n",
       "      <td>0.000343</td>\n",
       "      <td>-0.009988</td>\n",
       "      <td>-0.007230</td>\n",
       "      <td>...</td>\n",
       "      <td>-0.017900</td>\n",
       "      <td>-0.005270</td>\n",
       "      <td>-0.009742</td>\n",
       "      <td>-0.002434</td>\n",
       "      <td>-0.018035</td>\n",
       "      <td>0.003979</td>\n",
       "      <td>0.000529</td>\n",
       "      <td>-0.008720</td>\n",
       "      <td>-0.002243</td>\n",
       "      <td>-0.004999</td>\n",
       "    </tr>\n",
       "    <tr>\n",
       "      <th>...</th>\n",
       "      <td>...</td>\n",
       "      <td>...</td>\n",
       "      <td>...</td>\n",
       "      <td>...</td>\n",
       "      <td>...</td>\n",
       "      <td>...</td>\n",
       "      <td>...</td>\n",
       "      <td>...</td>\n",
       "      <td>...</td>\n",
       "      <td>...</td>\n",
       "      <td>...</td>\n",
       "      <td>...</td>\n",
       "      <td>...</td>\n",
       "      <td>...</td>\n",
       "      <td>...</td>\n",
       "      <td>...</td>\n",
       "      <td>...</td>\n",
       "      <td>...</td>\n",
       "      <td>...</td>\n",
       "      <td>...</td>\n",
       "      <td>...</td>\n",
       "    </tr>\n",
       "    <tr>\n",
       "      <th>2022-07-25</th>\n",
       "      <td>-0.007398</td>\n",
       "      <td>-0.006410</td>\n",
       "      <td>0.011262</td>\n",
       "      <td>-0.010456</td>\n",
       "      <td>-0.009611</td>\n",
       "      <td>0.008974</td>\n",
       "      <td>0.007022</td>\n",
       "      <td>-0.001508</td>\n",
       "      <td>0.007205</td>\n",
       "      <td>0.004816</td>\n",
       "      <td>...</td>\n",
       "      <td>-0.004271</td>\n",
       "      <td>0.015458</td>\n",
       "      <td>0.018557</td>\n",
       "      <td>-0.000372</td>\n",
       "      <td>0.007126</td>\n",
       "      <td>0.002667</td>\n",
       "      <td>0.006974</td>\n",
       "      <td>0.007644</td>\n",
       "      <td>-0.001437</td>\n",
       "      <td>0.033303</td>\n",
       "    </tr>\n",
       "    <tr>\n",
       "      <th>2022-07-26</th>\n",
       "      <td>-0.008826</td>\n",
       "      <td>0.005438</td>\n",
       "      <td>0.009730</td>\n",
       "      <td>-0.052254</td>\n",
       "      <td>-0.004597</td>\n",
       "      <td>-0.020160</td>\n",
       "      <td>-0.021153</td>\n",
       "      <td>0.010846</td>\n",
       "      <td>-0.009306</td>\n",
       "      <td>-0.014571</td>\n",
       "      <td>...</td>\n",
       "      <td>-0.014461</td>\n",
       "      <td>0.004004</td>\n",
       "      <td>-0.006395</td>\n",
       "      <td>-0.033952</td>\n",
       "      <td>-0.013111</td>\n",
       "      <td>-0.008307</td>\n",
       "      <td>0.003575</td>\n",
       "      <td>-0.013793</td>\n",
       "      <td>-0.076049</td>\n",
       "      <td>-0.003890</td>\n",
       "    </tr>\n",
       "    <tr>\n",
       "      <th>2022-07-27</th>\n",
       "      <td>0.034235</td>\n",
       "      <td>0.008250</td>\n",
       "      <td>0.002309</td>\n",
       "      <td>0.053654</td>\n",
       "      <td>0.001090</td>\n",
       "      <td>0.016339</td>\n",
       "      <td>0.018285</td>\n",
       "      <td>0.016026</td>\n",
       "      <td>0.017490</td>\n",
       "      <td>0.018482</td>\n",
       "      <td>...</td>\n",
       "      <td>0.066526</td>\n",
       "      <td>0.005681</td>\n",
       "      <td>0.018151</td>\n",
       "      <td>0.013056</td>\n",
       "      <td>0.016660</td>\n",
       "      <td>-0.009506</td>\n",
       "      <td>-0.000223</td>\n",
       "      <td>0.018881</td>\n",
       "      <td>0.037793</td>\n",
       "      <td>0.021645</td>\n",
       "    </tr>\n",
       "    <tr>\n",
       "      <th>2022-07-28</th>\n",
       "      <td>0.003572</td>\n",
       "      <td>0.003364</td>\n",
       "      <td>-0.007826</td>\n",
       "      <td>0.010829</td>\n",
       "      <td>0.019220</td>\n",
       "      <td>-0.008038</td>\n",
       "      <td>0.003498</td>\n",
       "      <td>-0.001470</td>\n",
       "      <td>0.012401</td>\n",
       "      <td>-0.002292</td>\n",
       "      <td>...</td>\n",
       "      <td>0.024542</td>\n",
       "      <td>0.012869</td>\n",
       "      <td>0.017509</td>\n",
       "      <td>0.023600</td>\n",
       "      <td>-0.043352</td>\n",
       "      <td>0.004181</td>\n",
       "      <td>0.014251</td>\n",
       "      <td>-0.008922</td>\n",
       "      <td>0.024963</td>\n",
       "      <td>0.011685</td>\n",
       "    </tr>\n",
       "    <tr>\n",
       "      <th>2022-07-29</th>\n",
       "      <td>0.032793</td>\n",
       "      <td>-0.013773</td>\n",
       "      <td>-0.009129</td>\n",
       "      <td>0.103615</td>\n",
       "      <td>0.001383</td>\n",
       "      <td>0.014706</td>\n",
       "      <td>0.009993</td>\n",
       "      <td>-0.012316</td>\n",
       "      <td>0.022797</td>\n",
       "      <td>0.003480</td>\n",
       "      <td>...</td>\n",
       "      <td>0.024570</td>\n",
       "      <td>0.001570</td>\n",
       "      <td>0.015911</td>\n",
       "      <td>0.035327</td>\n",
       "      <td>0.023417</td>\n",
       "      <td>0.003596</td>\n",
       "      <td>0.014050</td>\n",
       "      <td>0.012696</td>\n",
       "      <td>0.017726</td>\n",
       "      <td>0.046308</td>\n",
       "    </tr>\n",
       "  </tbody>\n",
       "</table>\n",
       "<p>2791 rows × 67 columns</p>\n",
       "</div>"
      ],
      "text/plain": [
       "                AAPL       ABT      AMGN      AMZN        BA       BAC  \\\n",
       "Date                                                                     \n",
       "2011-06-28       NaN       NaN       NaN       NaN       NaN       NaN   \n",
       "2011-06-29 -0.003639 -0.001722 -0.014834  0.009044  0.008739  0.029575   \n",
       "2011-06-30  0.004879  0.008819  0.009865  0.001518  0.016639 -0.016158   \n",
       "2011-07-01  0.022612  0.009122 -0.001199  0.024451  0.004600  0.011861   \n",
       "2011-07-05  0.017975  0.001130 -0.006177  0.017662 -0.001616 -0.008115   \n",
       "...              ...       ...       ...       ...       ...       ...   \n",
       "2022-07-25 -0.007398 -0.006410  0.011262 -0.010456 -0.009611  0.008974   \n",
       "2022-07-26 -0.008826  0.005438  0.009730 -0.052254 -0.004597 -0.020160   \n",
       "2022-07-27  0.034235  0.008250  0.002309  0.053654  0.001090  0.016339   \n",
       "2022-07-28  0.003572  0.003364 -0.007826  0.010829  0.019220 -0.008038   \n",
       "2022-07-29  0.032793 -0.013773 -0.009129  0.103615  0.001383  0.014706   \n",
       "\n",
       "                  BK       BMY     BRK-B         C  ...       TXN       UNH  \\\n",
       "Date                                                ...                       \n",
       "2011-06-28       NaN       NaN       NaN       NaN  ...       NaN       NaN   \n",
       "2011-06-29  0.039215  0.009551  0.007982  0.033624  ... -0.003127 -0.004442   \n",
       "2011-06-30  0.007076  0.014716  0.004674  0.003374  ...  0.029799  0.000776   \n",
       "2011-07-01  0.017174  0.006561  0.009045  0.029779  ...  0.021018  0.030050   \n",
       "2011-07-05 -0.013814  0.000343 -0.009988 -0.007230  ... -0.017900 -0.005270   \n",
       "...              ...       ...       ...       ...  ...       ...       ...   \n",
       "2022-07-25  0.007022 -0.001508  0.007205  0.004816  ... -0.004271  0.015458   \n",
       "2022-07-26 -0.021153  0.010846 -0.009306 -0.014571  ... -0.014461  0.004004   \n",
       "2022-07-27  0.018285  0.016026  0.017490  0.018482  ...  0.066526  0.005681   \n",
       "2022-07-28  0.003498 -0.001470  0.012401 -0.002292  ...  0.024542  0.012869   \n",
       "2022-07-29  0.009993 -0.012316  0.022797  0.003480  ...  0.024570  0.001570   \n",
       "\n",
       "                 UNP       UPS       USB         V        VZ       WFC  \\\n",
       "Date                                                                     \n",
       "2011-06-28       NaN       NaN       NaN       NaN       NaN       NaN   \n",
       "2011-06-29  0.012484 -0.000972  0.018496  0.149973  0.004102  0.021098   \n",
       "2011-06-30  0.013592  0.013198  0.007106 -0.026684  0.013889 -0.000356   \n",
       "2011-07-01  0.022605  0.014123  0.021560  0.044031  0.015310  0.021739   \n",
       "2011-07-05 -0.009742 -0.002434 -0.018035  0.003979  0.000529 -0.008720   \n",
       "...              ...       ...       ...       ...       ...       ...   \n",
       "2022-07-25  0.018557 -0.000372  0.007126  0.002667  0.006974  0.007644   \n",
       "2022-07-26 -0.006395 -0.033952 -0.013111 -0.008307  0.003575 -0.013793   \n",
       "2022-07-27  0.018151  0.013056  0.016660 -0.009506 -0.000223  0.018881   \n",
       "2022-07-28  0.017509  0.023600 -0.043352  0.004181  0.014251 -0.008922   \n",
       "2022-07-29  0.015911  0.035327  0.023417  0.003596  0.014050  0.012696   \n",
       "\n",
       "                 WMT       XOM  \n",
       "Date                            \n",
       "2011-06-28       NaN       NaN  \n",
       "2011-06-29  0.002094  0.007786  \n",
       "2011-06-30  0.009499  0.014081  \n",
       "2011-07-01  0.006963  0.007741  \n",
       "2011-07-05 -0.002243 -0.004999  \n",
       "...              ...       ...  \n",
       "2022-07-25 -0.001437  0.033303  \n",
       "2022-07-26 -0.076049 -0.003890  \n",
       "2022-07-27  0.037793  0.021645  \n",
       "2022-07-28  0.024963  0.011685  \n",
       "2022-07-29  0.017726  0.046308  \n",
       "\n",
       "[2791 rows x 67 columns]"
      ]
     },
     "execution_count": 19,
     "metadata": {},
     "output_type": "execute_result"
    }
   ],
   "source": [
    "oef_daily_rets = data.pct_change()\n",
    "oef_daily_rets"
   ]
  },
  {
   "cell_type": "code",
   "execution_count": 20,
   "metadata": {},
   "outputs": [],
   "source": [
    "start_date = oef_daily_rets.index[0].strftime(\"%Y-%m-%d\")\n",
    "end_date = oef_daily_rets.index[-1].strftime(\"%Y-%m-%d\")"
   ]
  },
  {
   "cell_type": "code",
   "execution_count": 21,
   "metadata": {},
   "outputs": [
    {
     "name": "stdout",
     "output_type": "stream",
     "text": [
      "[*********************100%***********************]  1 of 1 completed\n"
     ]
    }
   ],
   "source": [
    "eqwl_prices = yf.download(\"EQWL\", start=start_date, end=end_date)[\"Adj Close\"]\n",
    "eqwl_prices /= eqwl_prices[0]"
   ]
  },
  {
   "cell_type": "code",
   "execution_count": 22,
   "metadata": {},
   "outputs": [
    {
     "data": {
      "text/html": [
       "<div>\n",
       "<style scoped>\n",
       "    .dataframe tbody tr th:only-of-type {\n",
       "        vertical-align: middle;\n",
       "    }\n",
       "\n",
       "    .dataframe tbody tr th {\n",
       "        vertical-align: top;\n",
       "    }\n",
       "\n",
       "    .dataframe thead th {\n",
       "        text-align: right;\n",
       "    }\n",
       "</style>\n",
       "<table border=\"1\" class=\"dataframe\">\n",
       "  <thead>\n",
       "    <tr style=\"text-align: right;\">\n",
       "      <th></th>\n",
       "      <th>AAPL</th>\n",
       "      <th>ABT</th>\n",
       "      <th>AMGN</th>\n",
       "      <th>AMZN</th>\n",
       "      <th>BA</th>\n",
       "      <th>BAC</th>\n",
       "      <th>BK</th>\n",
       "      <th>BMY</th>\n",
       "      <th>BRK-B</th>\n",
       "      <th>C</th>\n",
       "      <th>...</th>\n",
       "      <th>TXN</th>\n",
       "      <th>UNH</th>\n",
       "      <th>UNP</th>\n",
       "      <th>UPS</th>\n",
       "      <th>USB</th>\n",
       "      <th>V</th>\n",
       "      <th>VZ</th>\n",
       "      <th>WFC</th>\n",
       "      <th>WMT</th>\n",
       "      <th>XOM</th>\n",
       "    </tr>\n",
       "    <tr>\n",
       "      <th>Date</th>\n",
       "      <th></th>\n",
       "      <th></th>\n",
       "      <th></th>\n",
       "      <th></th>\n",
       "      <th></th>\n",
       "      <th></th>\n",
       "      <th></th>\n",
       "      <th></th>\n",
       "      <th></th>\n",
       "      <th></th>\n",
       "      <th></th>\n",
       "      <th></th>\n",
       "      <th></th>\n",
       "      <th></th>\n",
       "      <th></th>\n",
       "      <th></th>\n",
       "      <th></th>\n",
       "      <th></th>\n",
       "      <th></th>\n",
       "      <th></th>\n",
       "      <th></th>\n",
       "    </tr>\n",
       "  </thead>\n",
       "  <tbody>\n",
       "    <tr>\n",
       "      <th>2011-06-28</th>\n",
       "      <td>NaN</td>\n",
       "      <td>NaN</td>\n",
       "      <td>NaN</td>\n",
       "      <td>NaN</td>\n",
       "      <td>NaN</td>\n",
       "      <td>NaN</td>\n",
       "      <td>NaN</td>\n",
       "      <td>NaN</td>\n",
       "      <td>NaN</td>\n",
       "      <td>NaN</td>\n",
       "      <td>...</td>\n",
       "      <td>NaN</td>\n",
       "      <td>NaN</td>\n",
       "      <td>NaN</td>\n",
       "      <td>NaN</td>\n",
       "      <td>NaN</td>\n",
       "      <td>NaN</td>\n",
       "      <td>NaN</td>\n",
       "      <td>NaN</td>\n",
       "      <td>NaN</td>\n",
       "      <td>NaN</td>\n",
       "    </tr>\n",
       "    <tr>\n",
       "      <th>2011-06-29</th>\n",
       "      <td>-0.003639</td>\n",
       "      <td>-0.001722</td>\n",
       "      <td>-0.014834</td>\n",
       "      <td>0.009044</td>\n",
       "      <td>0.008739</td>\n",
       "      <td>0.029575</td>\n",
       "      <td>0.039215</td>\n",
       "      <td>0.009551</td>\n",
       "      <td>0.007982</td>\n",
       "      <td>0.033624</td>\n",
       "      <td>...</td>\n",
       "      <td>-0.003127</td>\n",
       "      <td>-0.004442</td>\n",
       "      <td>0.012484</td>\n",
       "      <td>-0.000972</td>\n",
       "      <td>0.018496</td>\n",
       "      <td>0.149973</td>\n",
       "      <td>0.004102</td>\n",
       "      <td>0.021098</td>\n",
       "      <td>0.002094</td>\n",
       "      <td>0.007786</td>\n",
       "    </tr>\n",
       "    <tr>\n",
       "      <th>2011-06-30</th>\n",
       "      <td>0.004879</td>\n",
       "      <td>0.008819</td>\n",
       "      <td>0.009865</td>\n",
       "      <td>0.001518</td>\n",
       "      <td>0.016639</td>\n",
       "      <td>-0.016158</td>\n",
       "      <td>0.007076</td>\n",
       "      <td>0.014716</td>\n",
       "      <td>0.004674</td>\n",
       "      <td>0.003374</td>\n",
       "      <td>...</td>\n",
       "      <td>0.029799</td>\n",
       "      <td>0.000776</td>\n",
       "      <td>0.013592</td>\n",
       "      <td>0.013198</td>\n",
       "      <td>0.007106</td>\n",
       "      <td>-0.026684</td>\n",
       "      <td>0.013889</td>\n",
       "      <td>-0.000356</td>\n",
       "      <td>0.009499</td>\n",
       "      <td>0.014081</td>\n",
       "    </tr>\n",
       "    <tr>\n",
       "      <th>2011-07-01</th>\n",
       "      <td>0.022612</td>\n",
       "      <td>0.009122</td>\n",
       "      <td>-0.001199</td>\n",
       "      <td>0.024451</td>\n",
       "      <td>0.004600</td>\n",
       "      <td>0.011861</td>\n",
       "      <td>0.017174</td>\n",
       "      <td>0.006561</td>\n",
       "      <td>0.009045</td>\n",
       "      <td>0.029779</td>\n",
       "      <td>...</td>\n",
       "      <td>0.021018</td>\n",
       "      <td>0.030050</td>\n",
       "      <td>0.022605</td>\n",
       "      <td>0.014123</td>\n",
       "      <td>0.021560</td>\n",
       "      <td>0.044031</td>\n",
       "      <td>0.015310</td>\n",
       "      <td>0.021739</td>\n",
       "      <td>0.006963</td>\n",
       "      <td>0.007741</td>\n",
       "    </tr>\n",
       "    <tr>\n",
       "      <th>2011-07-05</th>\n",
       "      <td>0.017975</td>\n",
       "      <td>0.001130</td>\n",
       "      <td>-0.006177</td>\n",
       "      <td>0.017662</td>\n",
       "      <td>-0.001616</td>\n",
       "      <td>-0.008115</td>\n",
       "      <td>-0.013814</td>\n",
       "      <td>0.000343</td>\n",
       "      <td>-0.009988</td>\n",
       "      <td>-0.007230</td>\n",
       "      <td>...</td>\n",
       "      <td>-0.017900</td>\n",
       "      <td>-0.005270</td>\n",
       "      <td>-0.009742</td>\n",
       "      <td>-0.002434</td>\n",
       "      <td>-0.018035</td>\n",
       "      <td>0.003979</td>\n",
       "      <td>0.000529</td>\n",
       "      <td>-0.008720</td>\n",
       "      <td>-0.002243</td>\n",
       "      <td>-0.004999</td>\n",
       "    </tr>\n",
       "    <tr>\n",
       "      <th>...</th>\n",
       "      <td>...</td>\n",
       "      <td>...</td>\n",
       "      <td>...</td>\n",
       "      <td>...</td>\n",
       "      <td>...</td>\n",
       "      <td>...</td>\n",
       "      <td>...</td>\n",
       "      <td>...</td>\n",
       "      <td>...</td>\n",
       "      <td>...</td>\n",
       "      <td>...</td>\n",
       "      <td>...</td>\n",
       "      <td>...</td>\n",
       "      <td>...</td>\n",
       "      <td>...</td>\n",
       "      <td>...</td>\n",
       "      <td>...</td>\n",
       "      <td>...</td>\n",
       "      <td>...</td>\n",
       "      <td>...</td>\n",
       "      <td>...</td>\n",
       "    </tr>\n",
       "    <tr>\n",
       "      <th>2022-07-25</th>\n",
       "      <td>-0.007398</td>\n",
       "      <td>-0.006410</td>\n",
       "      <td>0.011262</td>\n",
       "      <td>-0.010456</td>\n",
       "      <td>-0.009611</td>\n",
       "      <td>0.008974</td>\n",
       "      <td>0.007022</td>\n",
       "      <td>-0.001508</td>\n",
       "      <td>0.007205</td>\n",
       "      <td>0.004816</td>\n",
       "      <td>...</td>\n",
       "      <td>-0.004271</td>\n",
       "      <td>0.015458</td>\n",
       "      <td>0.018557</td>\n",
       "      <td>-0.000372</td>\n",
       "      <td>0.007126</td>\n",
       "      <td>0.002667</td>\n",
       "      <td>0.006974</td>\n",
       "      <td>0.007644</td>\n",
       "      <td>-0.001437</td>\n",
       "      <td>0.033303</td>\n",
       "    </tr>\n",
       "    <tr>\n",
       "      <th>2022-07-26</th>\n",
       "      <td>-0.008826</td>\n",
       "      <td>0.005438</td>\n",
       "      <td>0.009730</td>\n",
       "      <td>-0.052254</td>\n",
       "      <td>-0.004597</td>\n",
       "      <td>-0.020160</td>\n",
       "      <td>-0.021153</td>\n",
       "      <td>0.010846</td>\n",
       "      <td>-0.009306</td>\n",
       "      <td>-0.014571</td>\n",
       "      <td>...</td>\n",
       "      <td>-0.014461</td>\n",
       "      <td>0.004004</td>\n",
       "      <td>-0.006395</td>\n",
       "      <td>-0.033952</td>\n",
       "      <td>-0.013111</td>\n",
       "      <td>-0.008307</td>\n",
       "      <td>0.003575</td>\n",
       "      <td>-0.013793</td>\n",
       "      <td>-0.076049</td>\n",
       "      <td>-0.003890</td>\n",
       "    </tr>\n",
       "    <tr>\n",
       "      <th>2022-07-27</th>\n",
       "      <td>0.034235</td>\n",
       "      <td>0.008250</td>\n",
       "      <td>0.002309</td>\n",
       "      <td>0.053654</td>\n",
       "      <td>0.001090</td>\n",
       "      <td>0.016339</td>\n",
       "      <td>0.018285</td>\n",
       "      <td>0.016026</td>\n",
       "      <td>0.017490</td>\n",
       "      <td>0.018482</td>\n",
       "      <td>...</td>\n",
       "      <td>0.066526</td>\n",
       "      <td>0.005681</td>\n",
       "      <td>0.018151</td>\n",
       "      <td>0.013056</td>\n",
       "      <td>0.016660</td>\n",
       "      <td>-0.009506</td>\n",
       "      <td>-0.000223</td>\n",
       "      <td>0.018881</td>\n",
       "      <td>0.037793</td>\n",
       "      <td>0.021645</td>\n",
       "    </tr>\n",
       "    <tr>\n",
       "      <th>2022-07-28</th>\n",
       "      <td>0.003572</td>\n",
       "      <td>0.003364</td>\n",
       "      <td>-0.007826</td>\n",
       "      <td>0.010829</td>\n",
       "      <td>0.019220</td>\n",
       "      <td>-0.008038</td>\n",
       "      <td>0.003498</td>\n",
       "      <td>-0.001470</td>\n",
       "      <td>0.012401</td>\n",
       "      <td>-0.002292</td>\n",
       "      <td>...</td>\n",
       "      <td>0.024542</td>\n",
       "      <td>0.012869</td>\n",
       "      <td>0.017509</td>\n",
       "      <td>0.023600</td>\n",
       "      <td>-0.043352</td>\n",
       "      <td>0.004181</td>\n",
       "      <td>0.014251</td>\n",
       "      <td>-0.008922</td>\n",
       "      <td>0.024963</td>\n",
       "      <td>0.011685</td>\n",
       "    </tr>\n",
       "    <tr>\n",
       "      <th>2022-07-29</th>\n",
       "      <td>0.032793</td>\n",
       "      <td>-0.013773</td>\n",
       "      <td>-0.009129</td>\n",
       "      <td>0.103615</td>\n",
       "      <td>0.001383</td>\n",
       "      <td>0.014706</td>\n",
       "      <td>0.009993</td>\n",
       "      <td>-0.012316</td>\n",
       "      <td>0.022797</td>\n",
       "      <td>0.003480</td>\n",
       "      <td>...</td>\n",
       "      <td>0.024570</td>\n",
       "      <td>0.001570</td>\n",
       "      <td>0.015911</td>\n",
       "      <td>0.035327</td>\n",
       "      <td>0.023417</td>\n",
       "      <td>0.003596</td>\n",
       "      <td>0.014050</td>\n",
       "      <td>0.012696</td>\n",
       "      <td>0.017726</td>\n",
       "      <td>0.046308</td>\n",
       "    </tr>\n",
       "  </tbody>\n",
       "</table>\n",
       "<p>2791 rows × 67 columns</p>\n",
       "</div>"
      ],
      "text/plain": [
       "                AAPL       ABT      AMGN      AMZN        BA       BAC  \\\n",
       "Date                                                                     \n",
       "2011-06-28       NaN       NaN       NaN       NaN       NaN       NaN   \n",
       "2011-06-29 -0.003639 -0.001722 -0.014834  0.009044  0.008739  0.029575   \n",
       "2011-06-30  0.004879  0.008819  0.009865  0.001518  0.016639 -0.016158   \n",
       "2011-07-01  0.022612  0.009122 -0.001199  0.024451  0.004600  0.011861   \n",
       "2011-07-05  0.017975  0.001130 -0.006177  0.017662 -0.001616 -0.008115   \n",
       "...              ...       ...       ...       ...       ...       ...   \n",
       "2022-07-25 -0.007398 -0.006410  0.011262 -0.010456 -0.009611  0.008974   \n",
       "2022-07-26 -0.008826  0.005438  0.009730 -0.052254 -0.004597 -0.020160   \n",
       "2022-07-27  0.034235  0.008250  0.002309  0.053654  0.001090  0.016339   \n",
       "2022-07-28  0.003572  0.003364 -0.007826  0.010829  0.019220 -0.008038   \n",
       "2022-07-29  0.032793 -0.013773 -0.009129  0.103615  0.001383  0.014706   \n",
       "\n",
       "                  BK       BMY     BRK-B         C  ...       TXN       UNH  \\\n",
       "Date                                                ...                       \n",
       "2011-06-28       NaN       NaN       NaN       NaN  ...       NaN       NaN   \n",
       "2011-06-29  0.039215  0.009551  0.007982  0.033624  ... -0.003127 -0.004442   \n",
       "2011-06-30  0.007076  0.014716  0.004674  0.003374  ...  0.029799  0.000776   \n",
       "2011-07-01  0.017174  0.006561  0.009045  0.029779  ...  0.021018  0.030050   \n",
       "2011-07-05 -0.013814  0.000343 -0.009988 -0.007230  ... -0.017900 -0.005270   \n",
       "...              ...       ...       ...       ...  ...       ...       ...   \n",
       "2022-07-25  0.007022 -0.001508  0.007205  0.004816  ... -0.004271  0.015458   \n",
       "2022-07-26 -0.021153  0.010846 -0.009306 -0.014571  ... -0.014461  0.004004   \n",
       "2022-07-27  0.018285  0.016026  0.017490  0.018482  ...  0.066526  0.005681   \n",
       "2022-07-28  0.003498 -0.001470  0.012401 -0.002292  ...  0.024542  0.012869   \n",
       "2022-07-29  0.009993 -0.012316  0.022797  0.003480  ...  0.024570  0.001570   \n",
       "\n",
       "                 UNP       UPS       USB         V        VZ       WFC  \\\n",
       "Date                                                                     \n",
       "2011-06-28       NaN       NaN       NaN       NaN       NaN       NaN   \n",
       "2011-06-29  0.012484 -0.000972  0.018496  0.149973  0.004102  0.021098   \n",
       "2011-06-30  0.013592  0.013198  0.007106 -0.026684  0.013889 -0.000356   \n",
       "2011-07-01  0.022605  0.014123  0.021560  0.044031  0.015310  0.021739   \n",
       "2011-07-05 -0.009742 -0.002434 -0.018035  0.003979  0.000529 -0.008720   \n",
       "...              ...       ...       ...       ...       ...       ...   \n",
       "2022-07-25  0.018557 -0.000372  0.007126  0.002667  0.006974  0.007644   \n",
       "2022-07-26 -0.006395 -0.033952 -0.013111 -0.008307  0.003575 -0.013793   \n",
       "2022-07-27  0.018151  0.013056  0.016660 -0.009506 -0.000223  0.018881   \n",
       "2022-07-28  0.017509  0.023600 -0.043352  0.004181  0.014251 -0.008922   \n",
       "2022-07-29  0.015911  0.035327  0.023417  0.003596  0.014050  0.012696   \n",
       "\n",
       "                 WMT       XOM  \n",
       "Date                            \n",
       "2011-06-28       NaN       NaN  \n",
       "2011-06-29  0.002094  0.007786  \n",
       "2011-06-30  0.009499  0.014081  \n",
       "2011-07-01  0.006963  0.007741  \n",
       "2011-07-05 -0.002243 -0.004999  \n",
       "...              ...       ...  \n",
       "2022-07-25 -0.001437  0.033303  \n",
       "2022-07-26 -0.076049 -0.003890  \n",
       "2022-07-27  0.037793  0.021645  \n",
       "2022-07-28  0.024963  0.011685  \n",
       "2022-07-29  0.017726  0.046308  \n",
       "\n",
       "[2791 rows x 67 columns]"
      ]
     },
     "execution_count": 22,
     "metadata": {},
     "output_type": "execute_result"
    }
   ],
   "source": [
    "surv_eqwl_daily_rets = oef_daily_rets\n",
    "surv_eqwl_daily_rets"
   ]
  },
  {
   "cell_type": "code",
   "execution_count": 23,
   "metadata": {},
   "outputs": [
    {
     "data": {
      "text/plain": [
       "Date\n",
       "2011-06-27    1.000000\n",
       "2011-06-28    1.007281\n",
       "2011-06-29    1.016990\n",
       "2011-06-30    1.027913\n",
       "2011-07-01    1.042071\n",
       "                ...   \n",
       "2022-07-22    3.743753\n",
       "2022-07-25    3.759403\n",
       "2022-07-26    3.722046\n",
       "2022-07-27    3.794235\n",
       "2022-07-28    3.825534\n",
       "Name: Adj Close, Length: 2791, dtype: float64"
      ]
     },
     "execution_count": 23,
     "metadata": {},
     "output_type": "execute_result"
    }
   ],
   "source": [
    "eqwl_prices"
   ]
  },
  {
   "cell_type": "code",
   "execution_count": 24,
   "metadata": {},
   "outputs": [
    {
     "data": {
      "text/plain": [
       "<AxesSubplot:xlabel='Date'>"
      ]
     },
     "execution_count": 24,
     "metadata": {},
     "output_type": "execute_result"
    },
    {
     "data": {
      "image/png": "[encoded data removed]",
      "text/plain": [
       "<Figure size 1152x648 with 1 Axes>"
      ]
     },
     "metadata": {},
     "output_type": "display_data"
    }
   ],
   "source": [
    "eqwl_prices.rename(\"SP100 EW\").plot(figsize=(16,9), legend=True)\n",
    "(1+surv_eqwl_daily_rets.mean(axis=1)).rename(\"SP100 EW Surv 10Y\").cumprod().plot(legend=True)"
   ]
  },
  {
   "cell_type": "code",
   "execution_count": 25,
   "metadata": {},
   "outputs": [
    {
     "data": {
      "text/plain": [
       "Date\n",
       "2011-06-27         NaN\n",
       "2011-06-28    0.007281\n",
       "2011-06-29    0.009639\n",
       "2011-06-30    0.010740\n",
       "2011-07-01    0.013774\n",
       "                ...   \n",
       "2022-07-22   -0.006298\n",
       "2022-07-25    0.004180\n",
       "2022-07-26   -0.009937\n",
       "2022-07-27    0.019395\n",
       "2022-07-28    0.008249\n",
       "Name: Adj Close, Length: 2791, dtype: float64"
      ]
     },
     "execution_count": 25,
     "metadata": {},
     "output_type": "execute_result"
    }
   ],
   "source": [
    "eqwl_daily_rets = eqwl_prices.pct_change()\n",
    "eqwl_daily_rets"
   ]
  },
  {
   "cell_type": "code",
   "execution_count": 26,
   "metadata": {},
   "outputs": [],
   "source": [
    "surv_eqwl_total_return = (1+surv_eqwl_daily_rets.mean(axis=1)).cumprod()[-1]-1\n",
    "eqwl_total_return = (1+eqwl_daily_rets+0.002/252).cumprod()[-1]-1"
   ]
  },
  {
   "cell_type": "code",
   "execution_count": 27,
   "metadata": {},
   "outputs": [
    {
     "name": "stdout",
     "output_type": "stream",
     "text": [
      "1Y Yield Equivalent 10Y Survivors of S&P100: 13.641571218756576%\n",
      "1Y Yield Equivalent $EQWL (SP100 EW): 11.27726906355402%\n"
     ]
    }
   ],
   "source": [
    "yld_surv_eqwl = 100*(surv_eqwl_total_return**.1 -1)\n",
    "yld_eqwl = 100*(eqwl_total_return**.1 -1)\n",
    "print(f\"1Y Yield Equivalent 10Y Survivors of S&P100: {yld_surv_eqwl}%\")\n",
    "print(f\"1Y Yield Equivalent $EQWL (SP100 EW): {yld_eqwl}%\")"
   ]
  },
  {
   "cell_type": "code",
   "execution_count": 28,
   "metadata": {},
   "outputs": [],
   "source": [
    "surv_eqwl_cumreturn = (1+surv_eqwl_daily_rets.mean(axis=1)).cumprod()-1\n",
    "eqwl_cumreturn = (1+eqwl_daily_rets+0.002/252).cumprod()-1"
   ]
  },
  {
   "cell_type": "code",
   "execution_count": 29,
   "metadata": {},
   "outputs": [
    {
     "data": {
      "text/plain": [
       "15.297049851742893"
      ]
     },
     "execution_count": 29,
     "metadata": {},
     "output_type": "execute_result"
    }
   ],
   "source": [
    "100*surv_eqwl_daily_rets.mean(axis=1).mean(axis=0)*252"
   ]
  },
  {
   "cell_type": "code",
   "execution_count": 30,
   "metadata": {},
   "outputs": [
    {
     "data": {
      "text/plain": [
       "13.51016582548555"
      ]
     },
     "execution_count": 30,
     "metadata": {},
     "output_type": "execute_result"
    }
   ],
   "source": [
    "100*eqwl_daily_rets.mean()*252"
   ]
  },
  {
   "cell_type": "code",
   "execution_count": 31,
   "metadata": {},
   "outputs": [
    {
     "data": {
      "text/plain": [
       "17.430837117911544"
      ]
     },
     "execution_count": 31,
     "metadata": {},
     "output_type": "execute_result"
    }
   ],
   "source": [
    "import numpy as np\n",
    "100*surv_eqwl_daily_rets.mean(axis=1).std(axis=0)*np.sqrt(252)"
   ]
  },
  {
   "cell_type": "code",
   "execution_count": 32,
   "metadata": {},
   "outputs": [
    {
     "data": {
      "text/plain": [
       "16.624266226876898"
      ]
     },
     "execution_count": 32,
     "metadata": {},
     "output_type": "execute_result"
    }
   ],
   "source": [
    "100*eqwl_daily_rets.std()*np.sqrt(252)"
   ]
  },
  {
   "cell_type": "code",
   "execution_count": 33,
   "metadata": {},
   "outputs": [
    {
     "name": "stdout",
     "output_type": "stream",
     "text": [
      "0.8775854967988875\n",
      "0.8126774223359888\n"
     ]
    }
   ],
   "source": [
    "SR = surv_eqwl_daily_rets.mean(axis=1).mean(axis=0)*252 / (surv_eqwl_daily_rets.mean(axis=1).std(axis=0)*np.sqrt(252))\n",
    "SR0 = eqwl_daily_rets.mean()*252 / (eqwl_daily_rets.std()*np.sqrt(252))\n",
    "print(SR)\n",
    "print(SR0)"
   ]
  },
  {
   "cell_type": "code",
   "execution_count": 39,
   "metadata": {},
   "outputs": [],
   "source": [
    "sp100_composition_ini = [change_ticker(sym[0]) for sym in oef[0]]\n",
    "sp100_composition_fin = [change_ticker(sym[0]) for sym in oef[-1]]"
   ]
  },
  {
   "cell_type": "code",
   "execution_count": 40,
   "metadata": {},
   "outputs": [
    {
     "data": {
      "text/plain": [
       "48"
      ]
     },
     "execution_count": 40,
     "metadata": {},
     "output_type": "execute_result"
    }
   ],
   "source": [
    "sp100_survivalists = set(sp100_composition_ini).intersection(set(sp100_composition_fin))\n",
    "len(sp100_survivalists)"
   ]
  },
  {
   "cell_type": "code",
   "execution_count": 41,
   "metadata": {},
   "outputs": [
    {
     "data": {
      "text/plain": [
       "2012-06-29    [(-, BLACKROCK FDS III), (ALL, ALLSTATE CORP),...\n",
       "2012-07-31    [(-, BLACKROCK FDS III), (ALL, ALLSTATE CORP),...\n",
       "2012-08-31    [(-, BLACKROCK FDS III), (DELL, DELL INC.), (H...\n",
       "2012-09-28    [(AAPL*, APPLE INC), (XOM, EXXON MOBIL CORP), ...\n",
       "2012-10-31    [(AAPL*, APPLE INC), (XOM, EXXON MOBIL CORP), ...\n",
       "                                    ...                        \n",
       "2022-05-31    [(AAPL, APPLE INC), (MSFT, MICROSOFT CORP), (A...\n",
       "2022-06-30    [(AAPL, APPLE INC), (MSFT, MICROSOFT CORP), (A...\n",
       "2022-07-29    [(AAPL, APPLE INC), (MSFT, MICROSOFT CORP), (A...\n",
       "2022-08-31    [(AAPL, APPLE INC), (MSFT, MICROSOFT CORP), (A...\n",
       "2022-09-08    [(AAPL, APPLE INC), (MSFT, MICROSOFT CORP), (A...\n",
       "Length: 119, dtype: object"
      ]
     },
     "execution_count": 41,
     "metadata": {},
     "output_type": "execute_result"
    }
   ],
   "source": [
    "sp100_after2012Q2 = oef[oef.index>\"2012-06-01\"]\n",
    "sp100_after2012Q2"
   ]
  },
  {
   "cell_type": "code",
   "execution_count": 47,
   "metadata": {},
   "outputs": [],
   "source": [
    "sp100_after2012Q2_composition = set([change_ticker(sym[0]) for sym in sp100_after2012Q2[0]])\n",
    "sp100_composition_fin = set(sp100_composition_fin)"
   ]
  },
  {
   "cell_type": "code",
   "execution_count": 43,
   "metadata": {},
   "outputs": [
    {
     "data": {
      "text/plain": [
       "set"
      ]
     },
     "execution_count": 43,
     "metadata": {},
     "output_type": "execute_result"
    }
   ],
   "source": [
    "type(sp100_after2012Q2_composition)"
   ]
  },
  {
   "cell_type": "code",
   "execution_count": 48,
   "metadata": {},
   "outputs": [],
   "source": [
    "sp100_10y_survivalists = sp100_after2012Q2_composition.intersection(sp100_composition_fin)"
   ]
  },
  {
   "cell_type": "code",
   "execution_count": 51,
   "metadata": {},
   "outputs": [
    {
     "data": {
      "text/plain": [
       "73"
      ]
     },
     "execution_count": 51,
     "metadata": {},
     "output_type": "execute_result"
    }
   ],
   "source": [
    "len(sp100_10y_survivalists)"
   ]
  },
  {
   "cell_type": "markdown",
   "metadata": {},
   "source": [
    "### Completing the SP100 with SP500 15Y+ Survivors\n"
   ]
  },
  {
   "cell_type": "code",
   "execution_count": 381,
   "metadata": {},
   "outputs": [],
   "source": [
    "ivv = index_components_finder(\"IVV\") # The Market Cap Weighted SP500 ETF (BlackRock Issued)"
   ]
  },
  {
   "cell_type": "markdown",
   "metadata": {},
   "source": [
    "* 15Y+ **Survivalists**:"
   ]
  },
  {
   "cell_type": "code",
   "execution_count": 385,
   "metadata": {},
   "outputs": [
    {
     "data": {
      "text/plain": [
       "248"
      ]
     },
     "execution_count": 385,
     "metadata": {},
     "output_type": "execute_result"
    }
   ],
   "source": [
    "composition_ini = [change_ticker(sym[0]) for sym in ivv[0]]\n",
    "composition_fin = [change_ticker(sym[0]) for sym in ivv[-1]]\n",
    "sp500_survivalists = set(composition_ini).intersection(set(composition_fin))\n",
    "len(sp500_survivalists)"
   ]
  },
  {
   "cell_type": "code",
   "execution_count": 78,
   "metadata": {},
   "outputs": [],
   "source": [
    "raw_returns = pd.read_csv(\n",
    "    \"data/config/20220814_daily_raw_returns_merged.csv\", \n",
    "    index_col=\"Date\", \n",
    "    parse_dates=True,\n",
    "    na_values=\"#N/A\"\n",
    ")"
   ]
  },
  {
   "cell_type": "code",
   "execution_count": 386,
   "metadata": {},
   "outputs": [
    {
     "data": {
      "text/plain": [
       "2006-09-29    [(UIS, UNISYS CORP), (RSHCQ, RS LEGACY CORP), ...\n",
       "2006-10-31    [(RSHCQ, RS LEGACY CORP), (OMX, OFFICEMAX INC....\n",
       "2006-11-30    [(OMX, OFFICEMAX INC.), (BDK, THE BLACK & DECK...\n",
       "2006-12-29    [(BGIXX, BLK CASH FUND INST INST CLASS), (BDK,...\n",
       "2007-01-31    [(BDK, THE BLACK & DECKER CORPORATION), (NSM.2...\n",
       "                                    ...                        \n",
       "2022-05-31    [(AAPL, APPLE INC), (MSFT, MICROSOFT CORP), (A...\n",
       "2022-06-30    [(AAPL, APPLE INC), (MSFT, MICROSOFT CORP), (A...\n",
       "2022-07-29    [(AAPL, APPLE INC), (MSFT, MICROSOFT CORP), (A...\n",
       "2022-08-31    [(AAPL, APPLE INC), (MSFT, MICROSOFT CORP), (A...\n",
       "2022-09-08    [(AAPL, APPLE INC), (MSFT, MICROSOFT CORP), (A...\n",
       "Length: 188, dtype: object"
      ]
     },
     "execution_count": 386,
     "metadata": {},
     "output_type": "execute_result"
    }
   ],
   "source": [
    "oef"
   ]
  },
  {
   "cell_type": "code",
   "execution_count": 106,
   "metadata": {},
   "outputs": [
    {
     "name": "stdout",
     "output_type": "stream",
     "text": [
      "[*********************100%***********************]  248 of 248 completed\n"
     ]
    }
   ],
   "source": [
    "sp500_surv_prices = yf.download(\n",
    "    list(sp500_survivalists), \n",
    "    ivv.index[0], \n",
    "    ivv.index[-1]\n",
    ")[\"Adj Close\"]"
   ]
  },
  {
   "cell_type": "code",
   "execution_count": 110,
   "metadata": {},
   "outputs": [
    {
     "data": {
      "text/plain": [
       "CEG     3853\n",
       "DOW     3138\n",
       "IR      2673\n",
       "KHC     2205\n",
       "HLT     1814\n",
       "NWSA    1691\n",
       "HCA     1119\n",
       "KMI     1101\n",
       "DG       788\n",
       "NKE        0\n",
       "NTAP       0\n",
       "NSC        0\n",
       "NOC        0\n",
       "NI         0\n",
       "NUE        0\n",
       "NEM        0\n",
       "NEE        0\n",
       "MU         0\n",
       "MSFT       0\n",
       "NTRS       0\n",
       "A          0\n",
       "NVDA       0\n",
       "NWL        0\n",
       "MRO        0\n",
       "OMC        0\n",
       "dtype: int64"
      ]
     },
     "execution_count": 110,
     "metadata": {},
     "output_type": "execute_result"
    }
   ],
   "source": [
    "sp500_surv_prices.isna().sum().sort_values(ascending=False).head(25)"
   ]
  },
  {
   "cell_type": "code",
   "execution_count": 111,
   "metadata": {},
   "outputs": [],
   "source": [
    "from modules import performance_measures_helper as pms"
   ]
  },
  {
   "cell_type": "code",
   "execution_count": 116,
   "metadata": {},
   "outputs": [
    {
     "data": {
      "text/plain": [
       "AMZN     80.331655\n",
       "AAPL     65.412818\n",
       "NVDA     29.312903\n",
       "AZO      20.087053\n",
       "SHW      14.784241\n",
       "COST     13.807715\n",
       "EL       13.710640\n",
       "INTU     13.681736\n",
       "TMO      13.624752\n",
       "UNP      13.406811\n",
       "KLAC     12.674769\n",
       "CTAS     12.216009\n",
       "MSFT     12.012860\n",
       "NEE      11.782890\n",
       "UNH      11.756628\n",
       "HD       11.165947\n",
       "NKE      11.012426\n",
       "DE       10.908181\n",
       "CSX      10.730843\n",
       "DG       10.698479\n",
       "TJX      10.345748\n",
       "NOC      10.341632\n",
       "DHR      10.319440\n",
       "GWW      10.287544\n",
       "GOOGL     9.837063\n",
       "MCD       9.496241\n",
       "VRSN      9.480269\n",
       "AON       9.235965\n",
       "CMI       9.171822\n",
       "ADBE      8.906600\n",
       "ADP       8.508120\n",
       "STZ       8.482107\n",
       "LLY       8.252102\n",
       "LOW       8.216111\n",
       "HCA       7.915167\n",
       "PGR       7.913637\n",
       "FISV      7.869784\n",
       "MMC       7.565162\n",
       "ABC       7.425996\n",
       "AMP       7.375102\n",
       "YUM       7.307929\n",
       "NSC       7.097216\n",
       "HUM       7.021534\n",
       "PKI       7.017957\n",
       "CMS       6.943051\n",
       "LMT       6.906942\n",
       "MCK       6.892651\n",
       "CI        6.775979\n",
       "ADI       6.594815\n",
       "WM        6.367221\n",
       "SNA       6.274029\n",
       "DTE       6.160004\n",
       "Name: 2022-09-07 00:00:00, dtype: float64"
      ]
     },
     "execution_count": 116,
     "metadata": {},
     "output_type": "execute_result"
    }
   ],
   "source": [
    "pms.net_cumreturn(sp500_surv_prices.pct_change(), last_row=True).sort_values(ascending=False).head(52)"
   ]
  },
  {
   "cell_type": "code",
   "execution_count": 117,
   "metadata": {},
   "outputs": [
    {
     "name": "stdout",
     "output_type": "stream",
     "text": [
      "{'CMA', 'NKE', 'EFX', 'OXY', 'ETN', 'KR', 'D', 'HSY', 'CCL', 'ROK', 'QCOM', 'AAPL', 'HES', 'HAS', 'ADBE', 'PEG', 'DOV', 'LEN', 'WHR', 'NOC', 'ALL', 'INTU', 'WY', 'ADI', 'AVY', 'UNH', 'FISV', 'PGR', 'HCA', 'TJX', 'MU', 'TMO', 'PH', 'TSN', 'DHR', 'EA', 'AMD', 'CME', 'CSX', 'XEL', 'DRI', 'TRV', 'NTAP', 'DTE', 'FCX', 'NEM', 'ADP', 'WMB', 'VLO', 'LOW', 'MCK', 'KMI', 'CB', 'ED', 'FITB', 'EMN', 'ADM', 'ZBH', 'EL', 'BAX', 'SYY', 'PHM', 'NVDA', 'KLAC', 'AEP', 'SPG', 'CMI', 'AMAT', 'HBAN', 'SEE', 'GILD', 'LH', 'A', 'GOOGL', 'LUMN', 'IPG', 'TXT', 'CINF', 'KIM', 'GPC', 'ITW', 'HAL', 'PAYX', 'MMC', 'OMC', 'KEY', 'DHI', 'PFG', 'ETR', 'APA', 'NTRS', 'MAR', 'PCAR', 'SBUX', 'GIS', 'SCHW', 'LLY', 'AES', 'CTXS', 'GLW', 'DG', 'NWL', 'COP', 'PNC', 'AON', 'PSA', 'HIG', 'UNP', 'AMP', 'NUE', 'RHI', 'SYK', 'PRU', 'WM', 'HLT', 'VMC', 'APD', 'BDX', 'LMT', 'SRE', 'HPQ', 'VRSN', 'AEE', 'SLB', 'BEN', 'PKI', 'CNP', 'NEE', 'CLX', 'BK', 'BXP', 'IP', 'TER', 'LUV', 'COF', 'AMZN', 'VNO', 'STT', 'MRO', 'MET', 'SHW', 'PPG', 'MKC', 'KMB', 'EOG', 'ABC', 'PPL', 'JCI', 'SWK', 'PNW', 'SNA', 'YUM', 'GWW', 'WAT', 'CAG', 'ECL', 'BIIB', 'TFC', 'EMR', 'AZO', 'DUK', 'TROW', 'NWSA', 'NI', 'DVN', 'TAP', 'JNPR', 'EQR', 'CPB', 'DE', 'HUM', 'AFL', 'BSX', 'BBY', 'FE', 'K', 'RF', 'MCO', 'CAH', 'ZION', 'ADSK', 'CVS', 'IR', 'CMS', 'COST', 'LNC', 'EIX', 'DGX', 'MAS', 'EBAY', 'CI', 'CTAS', 'STZ', 'IFF', 'BF-B', 'VTRS', 'NSC', 'CEG', 'L', 'VFC'}\n"
     ]
    }
   ],
   "source": [
    "sp100_suplement = set(sp500_survivalists).difference(set(sp100_survivalists))\n",
    "print(sp100_suplement)"
   ]
  },
  {
   "cell_type": "code",
   "execution_count": 120,
   "metadata": {},
   "outputs": [],
   "source": [
    "sp100_suplement =list(sp100_suplement)"
   ]
  },
  {
   "cell_type": "code",
   "execution_count": 127,
   "metadata": {},
   "outputs": [
    {
     "data": {
      "text/plain": [
       "Index(['AMZN', 'AAPL', 'NVDA', 'AZO', 'SHW', 'COST', 'EL', 'INTU', 'TMO',\n",
       "       'UNP', 'KLAC', 'CTAS', 'NEE', 'UNH', 'NKE', 'DE', 'CSX', 'DG', 'TJX',\n",
       "       'NOC', 'DHR', 'GWW', 'GOOGL', 'VRSN', 'AON', 'CMI', 'ADBE', 'ADP',\n",
       "       'STZ', 'LLY', 'LOW', 'HCA', 'PGR', 'FISV', 'MMC', 'ABC', 'AMP', 'YUM',\n",
       "       'NSC', 'HUM', 'PKI', 'CMS', 'LMT', 'MCK', 'CI', 'ADI', 'WM', 'SNA',\n",
       "       'DTE', 'PH', 'PSA', 'AMAT'],\n",
       "      dtype='object')"
      ]
     },
     "execution_count": 127,
     "metadata": {},
     "output_type": "execute_result"
    }
   ],
   "source": [
    "sp100_suplement_totalret = pms.net_cumreturn(sp500_surv_prices[sp100_suplement].pct_change(),last_row=True)\n",
    "sp100_suplement_totalret.sort_values(ascending=False).head(52).index"
   ]
  },
  {
   "cell_type": "code",
   "execution_count": 128,
   "metadata": {},
   "outputs": [],
   "source": [
    "sp100_suplement = set(_)"
   ]
  },
  {
   "cell_type": "code",
   "execution_count": 132,
   "metadata": {},
   "outputs": [
    {
     "data": {
      "text/plain": [
       "100"
      ]
     },
     "execution_count": 132,
     "metadata": {},
     "output_type": "execute_result"
    }
   ],
   "source": [
    "len(sp100_survivalists.union(sp100_suplement))"
   ]
  },
  {
   "cell_type": "code",
   "execution_count": 133,
   "metadata": {},
   "outputs": [],
   "source": [
    "enhanced_sp100 = sp100_survivalists.union(sp100_suplement)"
   ]
  },
  {
   "cell_type": "code",
   "execution_count": 148,
   "metadata": {},
   "outputs": [
    {
     "name": "stdout",
     "output_type": "stream",
     "text": [
      "[*********************100%***********************]  100 of 100 completed\n"
     ]
    }
   ],
   "source": [
    "enhanced_sp100_prices = yf.download(\n",
    "    list(enhanced_sp100),\n",
    "    start = oef.index[0],\n",
    "    end = oef.index[-1],\n",
    ")[\"Adj Close\"]"
   ]
  },
  {
   "cell_type": "code",
   "execution_count": 153,
   "metadata": {},
   "outputs": [],
   "source": [
    "stock_with_null_ts_data = list(enhanced_sp100_prices.isna().sum()[enhanced_sp100_prices.isna().sum()!=0].index)"
   ]
  },
  {
   "cell_type": "code",
   "execution_count": 155,
   "metadata": {},
   "outputs": [],
   "source": [
    "enhanced_sp100_prices.drop(columns=stock_with_null_ts_data, inplace=True)"
   ]
  },
  {
   "cell_type": "code",
   "execution_count": 158,
   "metadata": {},
   "outputs": [],
   "source": [
    "enhanced_sp100_cumreturn = (1+enhanced_sp100_prices.pct_change().mean(axis=1)).cumprod()"
   ]
  },
  {
   "cell_type": "code",
   "execution_count": 161,
   "metadata": {},
   "outputs": [
    {
     "name": "stdout",
     "output_type": "stream",
     "text": [
      "[*********************100%***********************]  1 of 1 completed\n"
     ]
    }
   ],
   "source": [
    "eqwl_price = yf.download(\n",
    "    tickers=\"EQWL\",\n",
    "    start = oef.index[0],\n",
    "    end=oef.index[-1]\n",
    ")[\"Adj Close\"]"
   ]
  },
  {
   "cell_type": "code",
   "execution_count": 162,
   "metadata": {},
   "outputs": [],
   "source": [
    "eqwl_cumreturn = (1+eqwl_price.pct_change()).cumprod()"
   ]
  },
  {
   "cell_type": "code",
   "execution_count": 169,
   "metadata": {},
   "outputs": [],
   "source": [
    "sp100_survivalists = list(sp100_survivalists).remove(\"KHC\")"
   ]
  },
  {
   "cell_type": "code",
   "execution_count": 164,
   "metadata": {},
   "outputs": [
    {
     "data": {
      "text/plain": [
       "{'ABT',\n",
       " 'AIG',\n",
       " 'AMGN',\n",
       " 'BA',\n",
       " 'BAC',\n",
       " 'BMY',\n",
       " 'CAT',\n",
       " 'CL',\n",
       " 'CMCSA',\n",
       " 'CSCO',\n",
       " 'CVX',\n",
       " 'DD',\n",
       " 'DIS',\n",
       " 'DOW',\n",
       " 'EXC',\n",
       " 'F',\n",
       " 'FDX',\n",
       " 'GD',\n",
       " 'GE',\n",
       " 'GS',\n",
       " 'HD',\n",
       " 'IBM',\n",
       " 'INTC',\n",
       " 'JNJ',\n",
       " 'JPM',\n",
       " 'KHC',\n",
       " 'KO',\n",
       " 'MCD',\n",
       " 'MDT',\n",
       " 'MMM',\n",
       " 'MO',\n",
       " 'MRK',\n",
       " 'MS',\n",
       " 'MSFT',\n",
       " 'ORCL',\n",
       " 'PEP',\n",
       " 'PFE',\n",
       " 'PG',\n",
       " 'SO',\n",
       " 'T',\n",
       " 'TGT',\n",
       " 'TXN',\n",
       " 'UPS',\n",
       " 'USB',\n",
       " 'VZ',\n",
       " 'WFC',\n",
       " 'WMT',\n",
       " 'XOM'}"
      ]
     },
     "execution_count": 164,
     "metadata": {},
     "output_type": "execute_result"
    }
   ],
   "source": [
    "sp100_survivalists"
   ]
  },
  {
   "cell_type": "code",
   "execution_count": 173,
   "metadata": {},
   "outputs": [],
   "source": [
    "sp100_survs = set(sp100_composition_ini).intersection(set(sp100_composition_fin))"
   ]
  },
  {
   "cell_type": "code",
   "execution_count": 175,
   "metadata": {},
   "outputs": [
    {
     "data": {
      "text/plain": [
       "48"
      ]
     },
     "execution_count": 175,
     "metadata": {},
     "output_type": "execute_result"
    }
   ],
   "source": [
    "sp100_survs = list(sp100_survs)\n",
    "len(sp100_survs)"
   ]
  },
  {
   "cell_type": "code",
   "execution_count": 176,
   "metadata": {},
   "outputs": [],
   "source": [
    "sp100_survs.remove(\"KHC\")"
   ]
  },
  {
   "cell_type": "code",
   "execution_count": 177,
   "metadata": {},
   "outputs": [],
   "source": [
    "sp100_survs.remove(\"DOW\")"
   ]
  },
  {
   "cell_type": "code",
   "execution_count": 178,
   "metadata": {},
   "outputs": [
    {
     "data": {
      "text/plain": [
       "46"
      ]
     },
     "execution_count": 178,
     "metadata": {},
     "output_type": "execute_result"
    }
   ],
   "source": [
    "len(sp100_survs)"
   ]
  },
  {
   "cell_type": "code",
   "execution_count": 193,
   "metadata": {},
   "outputs": [
    {
     "data": {
      "text/plain": [
       "<AxesSubplot:xlabel='Date'>"
      ]
     },
     "execution_count": 193,
     "metadata": {},
     "output_type": "execute_result"
    },
    {
     "data": {
      "image/png": "[encoded data removed]",
      "text/plain": [
       "<Figure size 1512x648 with 1 Axes>"
      ]
     },
     "metadata": {},
     "output_type": "display_data"
    }
   ],
   "source": [
    "enhanced_sp100_cumreturn.rename(\"Enhanced S&P100\").plot(figsize=(21,9), legend=True)\n",
    "(1+enhanced_sp100_prices[sp100_survs].pct_change().mean(skipna=True, axis=1)).cumprod().rename(\"Surv S&P100\").plot(legend=True)\n",
    "(1+sp500_surv_prices.pct_change().mean(skipna=True, axis=1)).cumprod().rename(\"Surv S&P500\").plot(legend=True)\n",
    "(1+rsp.pct_change()).cumprod().rename(\"S&P500 EW\").plot(legend=True)"
   ]
  },
  {
   "cell_type": "markdown",
   "metadata": {},
   "source": [
    "## 1.3 **S&P500** Enhancing"
   ]
  },
  {
   "cell_type": "markdown",
   "metadata": {},
   "source": [
    "We propose supplement _S&P500_ non-survivors with stocks belonging from _Russell 3000_ and surviving all the sample."
   ]
  },
  {
   "cell_type": "markdown",
   "metadata": {},
   "source": [
    "### Completing with **Russell 3000**\n",
    "\n",
    "Catching the stocks needed for completion from **Russell 3000**\n"
   ]
  },
  {
   "cell_type": "code",
   "execution_count": null,
   "metadata": {},
   "outputs": [],
   "source": [
    "iwv = index_components_finder(\"IWV\") # Online refresh"
   ]
  },
  {
   "cell_type": "code",
   "execution_count": 2,
   "metadata": {},
   "outputs": [],
   "source": [
    "# Offline refresh\n",
    "import pandas as pd\n",
    "iwv = pd.read_pickle(\"data/pkl/IWV_historical_components_20220908.pkl\")\n",
    "ivv = pd.read_pickle(\"data/pkl/IVV_historical_components_20220907.pkl\")"
   ]
  },
  {
   "cell_type": "code",
   "execution_count": 3,
   "metadata": {},
   "outputs": [],
   "source": [
    "import time\n",
    "import re\n",
    "\n",
    "def change_ticker(ticker):\n",
    "    rename_table = {\n",
    "        \"-\": \"LPRAX\", # BlackRock LifePath Dynamic Retirement Fund\n",
    "        \"8686\": \"AFL\", # AFLAC\n",
    "        \"4XS\": \"ESRX\", # Express Scripts Holding Company \n",
    "        \"AAZ\": \"APC\", # Anadarko Petroleum Corporation\n",
    "        \"AG4\": \"AGN\", # Allergan plc\n",
    "        \"BFB\": \"BF-B\", # Brown-Forman Corporation\n",
    "        \"BF.B\": \"BF-B\", # Brown-Forman Corporation\n",
    "        \"BF/B\": \"BF-B\", # Brown-Forman Corporation\n",
    "        \"BF_B\" : \"BF-B\", # Brown-Forman Corporation\n",
    "        \"BLD WI\": \"BLD\", # TopBuild Corp.\n",
    "        \"BRKB\": \"BRK-B\", # Berkshire Hathaway Inc.\n",
    "        \"BRK_B\": \"BRK-B\", # Berkshire Hathaway Inc.\n",
    "        \"CC WI\": \"CC\", # The Chemours Company\n",
    "        \"DC7\": \"DFS\", # Discover Financial Services\n",
    "        \"DWDP\": \"DD\", # Discover Financial Services\n",
    "        \"FB\": \"META\",   # Facebook\n",
    "        \"GGQ7\": \"GOOG\", # Alphabet Inc. Class C\n",
    "        \"GEC\": \"GE\", # General Electric\n",
    "        \"HNZ\": \"KHC\", # The Kraft Heinz Company\n",
    "        \"INCO\": \"INTC\", # Intel\n",
    "        \"LOM\": \"LMT\", # Lockheed Martin Corp.\n",
    "        \"LTD\": \"LB\", # L Brands Inc.\n",
    "        \"LTR\": \"L\", # Loews Corporation        \n",
    "        \"MPN\": \"MPC\", # Marathon Petroleum Corp.\n",
    "        \"MYL\": \"VTRS\", # Mylan NV (VIATRIS)\n",
    "        \"MWZ\": \"MET\", # Metlife Inc.\n",
    "        \"MX4A\": \"CME\", # CME Group Inc.\n",
    "        \"NCRA\": \"NWSA\", # News Corporation\n",
    "        \"NTH\": \"NOC\", # Northrop Grumman Crop.\n",
    "        \"PA9\": \"TRV\", # The Travelers Companies, Inc.\n",
    "        \"QCI\": \"QCOM\", # Qualcomm Inc.\n",
    "        \"RN7\": \"RF\", # Regions Financial Corp\n",
    "        \"RTN\" : \"RTX\", # Raytheon\n",
    "        \"SLBA\": \"SLB\", # Schlumberger Limited\n",
    "        \"SYF-W\": \"SYF\", # Synchrony Financial\n",
    "        \"SWG\": \"SCHW\", # The Charles Schwab Corporation \n",
    "        \"UAC/C\": \"UAA\", # Under Armour Inc Class A\n",
    "        \"UBSFT\": \"UBSFY\", # Ubisoft Entertainment\n",
    "        \"USX1\": \"X\", # United States Steel Corporation\n",
    "        \"UUM\": \"UNM\", # Unum Group\n",
    "        \"VISA\": \"V\", # Visa Inc         \n",
    "        \"VIAC\": \"VIA\", # viacom\n",
    "        \"WLTW\": \"WTW\" # Willis Towers Watson                \n",
    "    }\n",
    "    if ticker in rename_table:\n",
    "        fix = rename_table[ticker]\n",
    "    else:\n",
    "        fix = re.sub(r'[^A-Z]+', '', ticker)\n",
    "    return fix"
   ]
  },
  {
   "cell_type": "code",
   "execution_count": 4,
   "metadata": {},
   "outputs": [],
   "source": [
    "def surviving_stocks(data):\n",
    "    \"\"\"Parse (and correct with change_ticker()) stock component and find out all-times surviving stocks\n",
    "    \"\"\"\n",
    "    initial_constituents = [change_ticker(sym[0]) for sym in data[0]]\n",
    "    final_constituents = [change_ticker(sym[0]) for sym in data[-1]]\n",
    "    return set(initial_constituents).intersection(set(final_constituents))"
   ]
  },
  {
   "cell_type": "code",
   "execution_count": 5,
   "metadata": {},
   "outputs": [
    {
     "name": "stdout",
     "output_type": "stream",
     "text": [
      "Russell 3000 Surviving Stocks #: 1154\n",
      "S&P500 Surviving Stocks #: 248\n"
     ]
    }
   ],
   "source": [
    "rl3000_survivors = surviving_stocks(iwv)\n",
    "sp500_survivors = surviving_stocks(ivv)\n",
    "print(f\"Russell 3000 Surviving Stocks #: {len(rl3000_survivors)}\")\n",
    "print(f\"S&P500 Surviving Stocks #: {len(sp500_survivors)}\")"
   ]
  },
  {
   "cell_type": "markdown",
   "metadata": {},
   "source": [
    "1. 912 candidates from Russell 3000 for completing the S&P500 surviving stocks"
   ]
  },
  {
   "cell_type": "code",
   "execution_count": 6,
   "metadata": {},
   "outputs": [
    {
     "data": {
      "text/plain": [
       "909"
      ]
     },
     "execution_count": 6,
     "metadata": {},
     "output_type": "execute_result"
    }
   ],
   "source": [
    "sp500_supplementary = rl3000_survivors.difference(sp500_survivors)\n",
    "len(sp500_supplementary)"
   ]
  },
  {
   "cell_type": "code",
   "execution_count": 7,
   "metadata": {},
   "outputs": [
    {
     "data": {
      "text/plain": [
       "set()"
      ]
     },
     "execution_count": 7,
     "metadata": {},
     "output_type": "execute_result"
    }
   ],
   "source": [
    "sp500_supplementary.intersection(sp500_survivors)"
   ]
  },
  {
   "cell_type": "code",
   "execution_count": 8,
   "metadata": {},
   "outputs": [
    {
     "data": {
      "text/plain": [
       "('2006-09-29', '2022-09-07')"
      ]
     },
     "execution_count": 8,
     "metadata": {},
     "output_type": "execute_result"
    }
   ],
   "source": [
    "ivv.index[0].strftime(\"%Y-%m-%d\"), ivv.index[-1].strftime(\"%Y-%m-%d\")"
   ]
  },
  {
   "cell_type": "code",
   "execution_count": 17,
   "metadata": {},
   "outputs": [
    {
     "name": "stdout",
     "output_type": "stream",
     "text": [
      "[*********************100%***********************]  100 of 100 completed\n",
      "[*********************100%***********************]  100 of 100 completed\n",
      "[*********************100%***********************]  100 of 100 completed\n",
      "[*********************100%***********************]  100 of 100 completed\n",
      "\n",
      "1 Failed download:\n",
      "- MOGA: No data found, symbol may be delisted\n",
      "[*********************100%***********************]  100 of 100 completed\n",
      "\n",
      "1 Failed download:\n",
      "- GTXI: No data found, symbol may be delisted\n",
      "[*********************100%***********************]  100 of 100 completed\n",
      "\n",
      "1 Failed download:\n",
      "- ARD: No data found, symbol may be delisted\n",
      "[*********************100%***********************]  100 of 100 completed\n",
      "\n",
      "1 Failed download:\n",
      "- PN: No data found for this date range, symbol may be delisted\n",
      "[*********************100%***********************]  100 of 100 completed\n",
      "[*********************100%***********************]  100 of 100 completed\n",
      "[*********************100%***********************]  9 of 9 completed\n"
     ]
    }
   ],
   "source": [
    "# Frequent Downloading Errors (YFinance API). Need to be Handled (by chunking the list of candidate tickers or retrying)\n",
    "import yfinance as yf\n",
    "\n",
    "\"\"\" def chunks(lst, n):\n",
    "    Yield successive n-sized chunks from lst.\n",
    "    for i in range(0, len(lst), n):\n",
    "        yield lst[i:i + n] \n",
    "\"\"\"\n",
    "\n",
    "lst_rl3000_candidates = []\n",
    "chunksize = 100\n",
    "\n",
    "for i in range(0, len(sp500_supplementary), chunksize):\n",
    "\n",
    "    px = yf.download(\n",
    "        tickers=list(sp500_supplementary)[i:i+chunksize],\n",
    "        start = ivv.index[0],\n",
    "        end=ivv.index[-1],    \n",
    "        show_errors=True\n",
    "    )[\"Adj Close\"]\n",
    "\n",
    "    lst_rl3000_candidates.append(px)\n",
    "\n",
    "sp500_supplementary_prices = pd.concat(lst_rl3000_candidates, axis=1, join=\"inner\")"
   ]
  },
  {
   "cell_type": "code",
   "execution_count": 18,
   "metadata": {},
   "outputs": [
    {
     "data": {
      "text/html": [
       "<div>\n",
       "<style scoped>\n",
       "    .dataframe tbody tr th:only-of-type {\n",
       "        vertical-align: middle;\n",
       "    }\n",
       "\n",
       "    .dataframe tbody tr th {\n",
       "        vertical-align: top;\n",
       "    }\n",
       "\n",
       "    .dataframe thead th {\n",
       "        text-align: right;\n",
       "    }\n",
       "</style>\n",
       "<table border=\"1\" class=\"dataframe\">\n",
       "  <thead>\n",
       "    <tr style=\"text-align: right;\">\n",
       "      <th></th>\n",
       "      <th>ABMD</th>\n",
       "      <th>AGYS</th>\n",
       "      <th>ALK</th>\n",
       "      <th>AMKR</th>\n",
       "      <th>ANET</th>\n",
       "      <th>ARRY</th>\n",
       "      <th>ARW</th>\n",
       "      <th>ASH</th>\n",
       "      <th>ATNI</th>\n",
       "      <th>AVA</th>\n",
       "      <th>...</th>\n",
       "      <th>WTS</th>\n",
       "      <th>CMCO</th>\n",
       "      <th>CWH</th>\n",
       "      <th>FORR</th>\n",
       "      <th>FRT</th>\n",
       "      <th>LHCG</th>\n",
       "      <th>OHI</th>\n",
       "      <th>TBBK</th>\n",
       "      <th>TDG</th>\n",
       "      <th>WABC</th>\n",
       "    </tr>\n",
       "    <tr>\n",
       "      <th>Date</th>\n",
       "      <th></th>\n",
       "      <th></th>\n",
       "      <th></th>\n",
       "      <th></th>\n",
       "      <th></th>\n",
       "      <th></th>\n",
       "      <th></th>\n",
       "      <th></th>\n",
       "      <th></th>\n",
       "      <th></th>\n",
       "      <th></th>\n",
       "      <th></th>\n",
       "      <th></th>\n",
       "      <th></th>\n",
       "      <th></th>\n",
       "      <th></th>\n",
       "      <th></th>\n",
       "      <th></th>\n",
       "      <th></th>\n",
       "      <th></th>\n",
       "      <th></th>\n",
       "    </tr>\n",
       "  </thead>\n",
       "  <tbody>\n",
       "    <tr>\n",
       "      <th>2006-09-28 00:00:00</th>\n",
       "      <td>15.09</td>\n",
       "      <td>13.869942</td>\n",
       "      <td>8.648644</td>\n",
       "      <td>5.397821</td>\n",
       "      <td>NaN</td>\n",
       "      <td>NaN</td>\n",
       "      <td>27.020000</td>\n",
       "      <td>25.019012</td>\n",
       "      <td>14.140655</td>\n",
       "      <td>12.835989</td>\n",
       "      <td>...</td>\n",
       "      <td>26.587381</td>\n",
       "      <td>17.524000</td>\n",
       "      <td>NaN</td>\n",
       "      <td>21.796356</td>\n",
       "      <td>44.546612</td>\n",
       "      <td>21.879999</td>\n",
       "      <td>4.699045</td>\n",
       "      <td>26.120001</td>\n",
       "      <td>10.538547</td>\n",
       "      <td>31.957037</td>\n",
       "    </tr>\n",
       "    <tr>\n",
       "      <th>2006-09-29 00:00:00</th>\n",
       "      <td>14.78</td>\n",
       "      <td>13.484666</td>\n",
       "      <td>8.551974</td>\n",
       "      <td>5.063530</td>\n",
       "      <td>NaN</td>\n",
       "      <td>NaN</td>\n",
       "      <td>27.430000</td>\n",
       "      <td>24.712912</td>\n",
       "      <td>13.863097</td>\n",
       "      <td>12.707201</td>\n",
       "      <td>...</td>\n",
       "      <td>26.363264</td>\n",
       "      <td>17.051149</td>\n",
       "      <td>NaN</td>\n",
       "      <td>21.176586</td>\n",
       "      <td>44.207462</td>\n",
       "      <td>22.320000</td>\n",
       "      <td>4.699045</td>\n",
       "      <td>25.490000</td>\n",
       "      <td>10.377069</td>\n",
       "      <td>31.588058</td>\n",
       "    </tr>\n",
       "    <tr>\n",
       "      <th>2006-10-02 00:00:00</th>\n",
       "      <td>14.73</td>\n",
       "      <td>13.330557</td>\n",
       "      <td>8.776790</td>\n",
       "      <td>5.073362</td>\n",
       "      <td>NaN</td>\n",
       "      <td>NaN</td>\n",
       "      <td>27.200001</td>\n",
       "      <td>24.771023</td>\n",
       "      <td>13.855597</td>\n",
       "      <td>12.734032</td>\n",
       "      <td>...</td>\n",
       "      <td>25.848614</td>\n",
       "      <td>16.824175</td>\n",
       "      <td>NaN</td>\n",
       "      <td>21.804401</td>\n",
       "      <td>43.713627</td>\n",
       "      <td>22.730000</td>\n",
       "      <td>4.699045</td>\n",
       "      <td>26.010000</td>\n",
       "      <td>10.066863</td>\n",
       "      <td>31.212835</td>\n",
       "    </tr>\n",
       "    <tr>\n",
       "      <th>2006-10-03 00:00:00</th>\n",
       "      <td>14.44</td>\n",
       "      <td>13.552090</td>\n",
       "      <td>9.179211</td>\n",
       "      <td>5.211012</td>\n",
       "      <td>NaN</td>\n",
       "      <td>NaN</td>\n",
       "      <td>27.400000</td>\n",
       "      <td>24.519171</td>\n",
       "      <td>13.915608</td>\n",
       "      <td>12.766221</td>\n",
       "      <td>...</td>\n",
       "      <td>26.014633</td>\n",
       "      <td>16.890377</td>\n",
       "      <td>NaN</td>\n",
       "      <td>21.957333</td>\n",
       "      <td>44.165813</td>\n",
       "      <td>22.910000</td>\n",
       "      <td>4.699045</td>\n",
       "      <td>26.049999</td>\n",
       "      <td>10.037116</td>\n",
       "      <td>31.050226</td>\n",
       "    </tr>\n",
       "    <tr>\n",
       "      <th>2006-10-04 00:00:00</th>\n",
       "      <td>14.95</td>\n",
       "      <td>13.821782</td>\n",
       "      <td>9.424260</td>\n",
       "      <td>5.456814</td>\n",
       "      <td>NaN</td>\n",
       "      <td>NaN</td>\n",
       "      <td>27.570000</td>\n",
       "      <td>24.720654</td>\n",
       "      <td>14.200668</td>\n",
       "      <td>13.034538</td>\n",
       "      <td>...</td>\n",
       "      <td>26.645494</td>\n",
       "      <td>17.325401</td>\n",
       "      <td>NaN</td>\n",
       "      <td>22.609297</td>\n",
       "      <td>44.820309</td>\n",
       "      <td>23.500000</td>\n",
       "      <td>4.792964</td>\n",
       "      <td>26.830000</td>\n",
       "      <td>10.198595</td>\n",
       "      <td>31.281628</td>\n",
       "    </tr>\n",
       "  </tbody>\n",
       "</table>\n",
       "<p>5 rows × 909 columns</p>\n",
       "</div>"
      ],
      "text/plain": [
       "                      ABMD       AGYS       ALK      AMKR  ANET  ARRY  \\\n",
       "Date                                                                    \n",
       "2006-09-28 00:00:00  15.09  13.869942  8.648644  5.397821   NaN   NaN   \n",
       "2006-09-29 00:00:00  14.78  13.484666  8.551974  5.063530   NaN   NaN   \n",
       "2006-10-02 00:00:00  14.73  13.330557  8.776790  5.073362   NaN   NaN   \n",
       "2006-10-03 00:00:00  14.44  13.552090  9.179211  5.211012   NaN   NaN   \n",
       "2006-10-04 00:00:00  14.95  13.821782  9.424260  5.456814   NaN   NaN   \n",
       "\n",
       "                           ARW        ASH       ATNI        AVA  ...  \\\n",
       "Date                                                             ...   \n",
       "2006-09-28 00:00:00  27.020000  25.019012  14.140655  12.835989  ...   \n",
       "2006-09-29 00:00:00  27.430000  24.712912  13.863097  12.707201  ...   \n",
       "2006-10-02 00:00:00  27.200001  24.771023  13.855597  12.734032  ...   \n",
       "2006-10-03 00:00:00  27.400000  24.519171  13.915608  12.766221  ...   \n",
       "2006-10-04 00:00:00  27.570000  24.720654  14.200668  13.034538  ...   \n",
       "\n",
       "                           WTS       CMCO  CWH       FORR        FRT  \\\n",
       "Date                                                                   \n",
       "2006-09-28 00:00:00  26.587381  17.524000  NaN  21.796356  44.546612   \n",
       "2006-09-29 00:00:00  26.363264  17.051149  NaN  21.176586  44.207462   \n",
       "2006-10-02 00:00:00  25.848614  16.824175  NaN  21.804401  43.713627   \n",
       "2006-10-03 00:00:00  26.014633  16.890377  NaN  21.957333  44.165813   \n",
       "2006-10-04 00:00:00  26.645494  17.325401  NaN  22.609297  44.820309   \n",
       "\n",
       "                          LHCG       OHI       TBBK        TDG       WABC  \n",
       "Date                                                                       \n",
       "2006-09-28 00:00:00  21.879999  4.699045  26.120001  10.538547  31.957037  \n",
       "2006-09-29 00:00:00  22.320000  4.699045  25.490000  10.377069  31.588058  \n",
       "2006-10-02 00:00:00  22.730000  4.699045  26.010000  10.066863  31.212835  \n",
       "2006-10-03 00:00:00  22.910000  4.699045  26.049999  10.037116  31.050226  \n",
       "2006-10-04 00:00:00  23.500000  4.792964  26.830000  10.198595  31.281628  \n",
       "\n",
       "[5 rows x 909 columns]"
      ]
     },
     "execution_count": 18,
     "metadata": {},
     "output_type": "execute_result"
    }
   ],
   "source": [
    "sp500_supplementary_prices.head()"
   ]
  },
  {
   "cell_type": "code",
   "execution_count": 19,
   "metadata": {},
   "outputs": [],
   "source": [
    "sp500_supplementary_prices.to_csv(\n",
    "    \"data/config/20220907_rl3000surv_price_components_initial_data.csv\",\n",
    "    index_label=\"Date\",\n",
    "    index=True,\n",
    "    na_rep=\"#N/A\"\n",
    ")"
   ]
  },
  {
   "cell_type": "markdown",
   "metadata": {},
   "source": [
    "2. Dropping stocks with Null Values"
   ]
  },
  {
   "cell_type": "code",
   "execution_count": 20,
   "metadata": {},
   "outputs": [
    {
     "data": {
      "text/plain": [
       "79"
      ]
     },
     "execution_count": 20,
     "metadata": {},
     "output_type": "execute_result"
    }
   ],
   "source": [
    "# Dropping Stocks With Missing Quotes\n",
    "rl3000_stocks_nulldata = list(sp500_supplementary_prices.isna().sum()[sp500_supplementary_prices.isna().sum()!=0].index)\n",
    "len(rl3000_stocks_nulldata)"
   ]
  },
  {
   "cell_type": "code",
   "execution_count": 21,
   "metadata": {},
   "outputs": [
    {
     "data": {
      "text/plain": [
       "0"
      ]
     },
     "execution_count": 21,
     "metadata": {},
     "output_type": "execute_result"
    }
   ],
   "source": [
    "sp500_supplementary_prices.drop(columns=rl3000_stocks_nulldata, inplace=True)\n",
    "sp500_supplementary_prices.isna().sum().sum()"
   ]
  },
  {
   "cell_type": "code",
   "execution_count": 22,
   "metadata": {},
   "outputs": [],
   "source": [
    "sp500_supplementary_prices.to_csv(\n",
    "    \"data/config/20220907_rl3000surv_price_components_non-null_data.csv\",\n",
    "    index_label=\"Date\",\n",
    "    index=True,    \n",
    ")"
   ]
  },
  {
   "cell_type": "markdown",
   "metadata": {},
   "source": [
    "3. Finding out Stocks with Quotes Below 1$ treshold, and dropping"
   ]
  },
  {
   "cell_type": "code",
   "execution_count": 23,
   "metadata": {},
   "outputs": [],
   "source": [
    "one_buck_below_quotes = (sp500_supplementary_prices[sp500_supplementary_prices<1].notna().sum()!=0)\n",
    "one_buck_below_quotes = list(sp500_supplementary_prices.columns[one_buck_below_quotes])"
   ]
  },
  {
   "cell_type": "code",
   "execution_count": 24,
   "metadata": {},
   "outputs": [
    {
     "data": {
      "text/plain": [
       "62"
      ]
     },
     "execution_count": 24,
     "metadata": {},
     "output_type": "execute_result"
    }
   ],
   "source": [
    "len(one_buck_below_quotes)"
   ]
  },
  {
   "cell_type": "code",
   "execution_count": 25,
   "metadata": {},
   "outputs": [
    {
     "data": {
      "text/plain": [
       "0"
      ]
     },
     "execution_count": 25,
     "metadata": {},
     "output_type": "execute_result"
    }
   ],
   "source": [
    "sp500_supplementary_prices.drop(columns=one_buck_below_quotes, inplace=True)\n",
    "sp500_supplementary_prices.isna().sum().sum()"
   ]
  },
  {
   "cell_type": "code",
   "execution_count": 26,
   "metadata": {},
   "outputs": [
    {
     "data": {
      "text/plain": [
       "768"
      ]
     },
     "execution_count": 26,
     "metadata": {},
     "output_type": "execute_result"
    }
   ],
   "source": [
    "len(sp500_supplementary_prices.columns)"
   ]
  },
  {
   "cell_type": "code",
   "execution_count": 27,
   "metadata": {},
   "outputs": [],
   "source": [
    "sp500_supplementary_prices.to_csv(\n",
    "    \"data/config/20220907_rl3000surv_price_components_non-null_filtered_data.csv\",\n",
    "    index_label=\"Date\",\n",
    "    index=True,    \n",
    ")"
   ]
  },
  {
   "cell_type": "markdown",
   "metadata": {},
   "source": [
    "### **SP500** Surviving Assets\n",
    "\n",
    "Let us find out now _the daily closes of the components belonging to the S&P500_ over the sample period under consideration"
   ]
  },
  {
   "cell_type": "code",
   "execution_count": 28,
   "metadata": {},
   "outputs": [
    {
     "name": "stdout",
     "output_type": "stream",
     "text": [
      "[*********************100%***********************]  248 of 248 completed\n"
     ]
    }
   ],
   "source": [
    "sp500_surviving_prices = yf.download(\n",
    "    tickers=list(sp500_survivors),\n",
    "    start = ivv.index[0],\n",
    "    end=ivv.index[-1],    \n",
    "    show_errors=True\n",
    ")[\"Adj Close\"]"
   ]
  },
  {
   "cell_type": "code",
   "execution_count": 29,
   "metadata": {},
   "outputs": [
    {
     "data": {
      "text/plain": [
       "Index(['CEG', 'DG', 'DOW', 'HCA', 'HLT', 'IR', 'KHC', 'KMI', 'NWSA'], dtype='object')"
      ]
     },
     "execution_count": 29,
     "metadata": {},
     "output_type": "execute_result"
    }
   ],
   "source": [
    "sp500_surviving_prices.columns[sp500_surviving_prices.isna().sum()!=0]"
   ]
  },
  {
   "cell_type": "code",
   "execution_count": 30,
   "metadata": {},
   "outputs": [],
   "source": [
    "sp500_stocks_nulldata = list(sp500_surviving_prices.columns[sp500_surviving_prices.isna().sum()!=0])\n",
    "sp500_surviving_prices.drop(columns=sp500_stocks_nulldata, inplace=True)"
   ]
  },
  {
   "cell_type": "code",
   "execution_count": 31,
   "metadata": {},
   "outputs": [
    {
     "data": {
      "text/plain": [
       "239"
      ]
     },
     "execution_count": 31,
     "metadata": {},
     "output_type": "execute_result"
    }
   ],
   "source": [
    "len(sp500_surviving_prices.columns)"
   ]
  },
  {
   "cell_type": "code",
   "execution_count": 32,
   "metadata": {},
   "outputs": [
    {
     "data": {
      "text/plain": [
       "0"
      ]
     },
     "execution_count": 32,
     "metadata": {},
     "output_type": "execute_result"
    }
   ],
   "source": [
    "sp500_surviving_prices.isna().sum().sum()"
   ]
  },
  {
   "cell_type": "code",
   "execution_count": 34,
   "metadata": {},
   "outputs": [],
   "source": [
    "sp500_surviving_prices.to_csv(\n",
    "    \"data/config/20220907_sp500surv_price_components_non-null_data.csv\",\n",
    "    index_label=\"Date\",\n",
    "    index=True,    \n",
    ")"
   ]
  },
  {
   "cell_type": "code",
   "execution_count": 35,
   "metadata": {},
   "outputs": [
    {
     "name": "stdout",
     "output_type": "stream",
     "text": [
      "[*********************100%***********************]  1 of 1 completed\n"
     ]
    },
    {
     "data": {
      "image/png": "[encoded data removed]",
      "text/plain": [
       "<Figure size 1152x648 with 1 Axes>"
      ]
     },
     "metadata": {
      "needs_background": "light"
     },
     "output_type": "display_data"
    }
   ],
   "source": [
    "import matplotlib.pyplot as plt\n",
    "\n",
    "(1+sp500_surviving_prices.pct_change().mean(axis=1)).cumprod().rename(\"Surviving EW S&P500\").plot(\n",
    "    figsize=(16,9),\n",
    "    legend=True,\n",
    "    cmap=\"coolwarm\",\n",
    "    title=\"S&P500 Surviving Stocks\"\n",
    ")\n",
    "\n",
    "rsp_prices = yf.download(\n",
    "    tickers=\"RSP\",\n",
    "    start=ivv.index[0],\n",
    "    end=ivv.index[-1]\n",
    ")[\"Adj Close\"]\n",
    "\n",
    "(1+rsp_prices.pct_change()+0.002/252).cumprod().rename(\"$RSP Plus Fees (Accrued Daily)\").plot(\n",
    "    legend=True\n",
    ")\n",
    "\n",
    "plt.grid();"
   ]
  },
  {
   "cell_type": "markdown",
   "metadata": {},
   "source": [
    "Computing Total Return at the end of the Sample Period"
   ]
  },
  {
   "cell_type": "code",
   "execution_count": 36,
   "metadata": {},
   "outputs": [
    {
     "data": {
      "text/plain": [
       "AMZN    78.214824\n",
       "AAPL    64.803841\n",
       "NVDA    28.753691\n",
       "AZO     19.451675\n",
       "SHW     14.104981\n",
       "          ...    \n",
       "VNO     -0.359269\n",
       "VTRS    -0.502993\n",
       "GE      -0.587313\n",
       "CCL     -0.705286\n",
       "AIG     -0.939829\n",
       "Name: 2022-09-06 00:00:00, Length: 239, dtype: float64"
      ]
     },
     "execution_count": 36,
     "metadata": {},
     "output_type": "execute_result"
    }
   ],
   "source": [
    "from modules import performance_measures_helper as pms\n",
    "\n",
    "sp500_surviving_total_rets = pms.net_cumreturn(\n",
    "    sp500_surviving_prices.pct_change(),\n",
    "    last_row=True\n",
    ")\n",
    "\n",
    "sp500_surviving_total_rets.sort_values(ascending=False)"
   ]
  },
  {
   "cell_type": "code",
   "execution_count": 37,
   "metadata": {},
   "outputs": [
    {
     "name": "stdout",
     "output_type": "stream",
     "text": [
      "Quantiles of the Distribution of Sample Mean for SP500 Surviving Stocks\n",
      "=======================================================================\n",
      "Min: 0.57%\n",
      "First Decile: 9.04%\n",
      "First Quintile: 10.42%\n",
      "First Quartile: 11.24%\n",
      "First Quartile: 12.17%\n",
      "Max: 34.75%\n"
     ]
    }
   ],
   "source": [
    "# Stablishing a treshold for completing SP500 surviving stocks\n",
    "q10 = sp500_surviving_prices.pct_change().mean().quantile(.1) # First Decile\n",
    "q20 = sp500_surviving_prices.pct_change().mean().quantile(.2) # First Quintile\n",
    "q25 = sp500_surviving_prices.pct_change().mean().quantile(.25) # First Quartile\n",
    "q33 = sp500_surviving_prices.pct_change().mean().quantile(.33) # First Tercile\n",
    "q0 = sp500_surviving_prices.pct_change().mean().min() # Min\n",
    "q100 = sp500_surviving_prices.pct_change().mean().max() # Max\n",
    "\n",
    "header = \"Quantiles of the Distribution of Sample Mean for SP500 Surviving Stocks\"\n",
    "\n",
    "print(header)\n",
    "print(len(header)*\"=\")\n",
    "print(f\"Min: {100*252*q0:.2f}%\")\n",
    "print(f\"First Decile: {100*252*q10:.2f}%\")\n",
    "print(f\"First Quintile: {100*252*q20:.2f}%\")\n",
    "print(f\"First Quartile: {100*252*q25:.2f}%\")\n",
    "print(f\"First Quartile: {100*252*q33:.2f}%\")\n",
    "print(f\"Max: {100*252*q100:.2f}%\")\n"
   ]
  },
  {
   "cell_type": "code",
   "execution_count": 38,
   "metadata": {},
   "outputs": [
    {
     "data": {
      "text/plain": [
       "Index(['AEE', 'AES', 'AIG', 'BAX', 'BEN', 'BK', 'BXP', 'CAG', 'CAH', 'CCL',\n",
       "       'CL', 'CLX', 'CPB', 'CSCO', 'D', 'DD', 'DGX', 'DUK', 'ED', 'EIX', 'ETR',\n",
       "       'EXC', 'FDX', 'FE', 'GE', 'GLW', 'IBM', 'INTC', 'JCI', 'JNJ', 'JNPR',\n",
       "       'K', 'KEY', 'KIM', 'KMB', 'KO', 'L', 'LH', 'LUMN', 'MDT', 'MMM', 'NEM',\n",
       "       'NWL', 'OMC', 'PEP', 'PFE', 'PG', 'PNW', 'PPL', 'SLB', 'T', 'TAP',\n",
       "       'TFC', 'USB', 'VNO', 'VTRS', 'VZ', 'WMT', 'XOM', 'ZBH'],\n",
       "      dtype='object')"
      ]
     },
     "execution_count": 38,
     "metadata": {},
     "output_type": "execute_result"
    }
   ],
   "source": [
    "sp500_surviving_prices.columns[sp500_surviving_prices.pct_change().mean()<q25]"
   ]
  },
  {
   "cell_type": "code",
   "execution_count": 39,
   "metadata": {},
   "outputs": [
    {
     "name": "stdout",
     "output_type": "stream",
     "text": [
      "Quantiles of the Distribution of Sample Mean for SP500 Supplmentary Stocks (RL3000)\n",
      "===================================================================================\n",
      "Min: -6.13%\n",
      "First Decile: 8.35%\n",
      "First Quintile: 10.85%\n",
      "First Quartile: 11.52%\n",
      "First Tercile: 12.66%\n",
      "Max: 45.74%\n"
     ]
    }
   ],
   "source": [
    "# The RL3000 All Times (Filtered) Surviving Stocks\n",
    "qq10 = sp500_supplementary_prices.pct_change().mean().quantile(.1) # First Decile\n",
    "qq20 = sp500_supplementary_prices.pct_change().mean().quantile(.2) # First Quintile\n",
    "qq25 = sp500_supplementary_prices.pct_change().mean().quantile(.25) # First Quartile\n",
    "qq33 = sp500_supplementary_prices.pct_change().mean().quantile(.33) # First Tercile\n",
    "qq0 = sp500_supplementary_prices.pct_change().mean().min() # Min\n",
    "qq100 = sp500_supplementary_prices.pct_change().mean().max() # Max\n",
    "\n",
    "header = \"Quantiles of the Distribution of Sample Mean for SP500 Supplmentary Stocks (RL3000)\"\n",
    "\n",
    "print(header)\n",
    "print(len(header)*\"=\")\n",
    "print(f\"Min: {100*252*qq0:.2f}%\")\n",
    "print(f\"First Decile: {100*252*qq10:.2f}%\")\n",
    "print(f\"First Quintile: {100*252*qq20:.2f}%\")\n",
    "print(f\"First Quartile: {100*252*qq25:.2f}%\")\n",
    "print(f\"First Tercile: {100*252*qq33:.2f}%\")\n",
    "print(f\"Max: {100*252*qq100:.2f}%\")"
   ]
  },
  {
   "cell_type": "code",
   "execution_count": 40,
   "metadata": {},
   "outputs": [
    {
     "data": {
      "text/plain": [
       "768"
      ]
     },
     "execution_count": 40,
     "metadata": {},
     "output_type": "execute_result"
    }
   ],
   "source": [
    "len(sp500_supplementary_prices.columns)"
   ]
  },
  {
   "cell_type": "code",
   "execution_count": 85,
   "metadata": {},
   "outputs": [],
   "source": [
    "# By adding these 286 stocks we complete the index with a total of 507 components over all the sample period \n",
    "# without missing data\n",
    "sp500_added_stocks = list(sp500_supplementary_prices.columns[sp500_supplementary_prices.pct_change().mean()<q33])"
   ]
  },
  {
   "cell_type": "code",
   "execution_count": 86,
   "metadata": {},
   "outputs": [
    {
     "data": {
      "text/plain": [
       "0"
      ]
     },
     "execution_count": 86,
     "metadata": {},
     "output_type": "execute_result"
    }
   ],
   "source": [
    "sp500_supplementary_prices[sp500_added_stocks].isna().sum().sum()"
   ]
  },
  {
   "cell_type": "code",
   "execution_count": 87,
   "metadata": {},
   "outputs": [
    {
     "data": {
      "text/plain": [
       "230"
      ]
     },
     "execution_count": 87,
     "metadata": {},
     "output_type": "execute_result"
    }
   ],
   "source": [
    "len(sp500_supplementary_prices[sp500_added_stocks].columns)"
   ]
  },
  {
   "cell_type": "code",
   "execution_count": 88,
   "metadata": {},
   "outputs": [
    {
     "data": {
      "text/plain": [
       "<AxesSubplot:title={'center':'Agg (Equally-Weighted) Behaviour of RL3000'}, xlabel='Date'>"
      ]
     },
     "execution_count": 88,
     "metadata": {},
     "output_type": "execute_result"
    },
    {
     "data": {
      "image/png": "[encoded data removed]",
      "text/plain": [
       "<Figure size 1512x648 with 1 Axes>"
      ]
     },
     "metadata": {},
     "output_type": "display_data"
    }
   ],
   "source": [
    "(1+sp500_supplementary_prices[sp500_added_stocks].pct_change().mean(axis=1)).cumprod().rename(\"Total Return\").plot(\n",
    "    figsize=(21,9),\n",
    "    title=\"Agg (Equally-Weighted) Behaviour of RL3000\",\n",
    "    legend=True,\n",
    "    cmap=\"coolwarm\"\n",
    ")\n"
   ]
  },
  {
   "cell_type": "code",
   "execution_count": 45,
   "metadata": {},
   "outputs": [
    {
     "data": {
      "text/html": [
       "<div>\n",
       "<style scoped>\n",
       "    .dataframe tbody tr th:only-of-type {\n",
       "        vertical-align: middle;\n",
       "    }\n",
       "\n",
       "    .dataframe tbody tr th {\n",
       "        vertical-align: top;\n",
       "    }\n",
       "\n",
       "    .dataframe thead th {\n",
       "        text-align: right;\n",
       "    }\n",
       "</style>\n",
       "<table border=\"1\" class=\"dataframe\">\n",
       "  <thead>\n",
       "    <tr style=\"text-align: right;\">\n",
       "      <th></th>\n",
       "      <th>AVA</th>\n",
       "      <th>BBBY</th>\n",
       "      <th>CAKE</th>\n",
       "      <th>CIR</th>\n",
       "      <th>FBC</th>\n",
       "      <th>FCBC</th>\n",
       "      <th>HAFC</th>\n",
       "      <th>HE</th>\n",
       "      <th>HLX</th>\n",
       "      <th>HSII</th>\n",
       "      <th>...</th>\n",
       "      <th>NWN</th>\n",
       "      <th>PRGO</th>\n",
       "      <th>RGP</th>\n",
       "      <th>SBCF</th>\n",
       "      <th>SHBI</th>\n",
       "      <th>UGI</th>\n",
       "      <th>WAFD</th>\n",
       "      <th>FORR</th>\n",
       "      <th>FRT</th>\n",
       "      <th>WABC</th>\n",
       "    </tr>\n",
       "    <tr>\n",
       "      <th>Date</th>\n",
       "      <th></th>\n",
       "      <th></th>\n",
       "      <th></th>\n",
       "      <th></th>\n",
       "      <th></th>\n",
       "      <th></th>\n",
       "      <th></th>\n",
       "      <th></th>\n",
       "      <th></th>\n",
       "      <th></th>\n",
       "      <th></th>\n",
       "      <th></th>\n",
       "      <th></th>\n",
       "      <th></th>\n",
       "      <th></th>\n",
       "      <th></th>\n",
       "      <th></th>\n",
       "      <th></th>\n",
       "      <th></th>\n",
       "      <th></th>\n",
       "      <th></th>\n",
       "    </tr>\n",
       "  </thead>\n",
       "  <tbody>\n",
       "    <tr>\n",
       "      <th>2006-09-28</th>\n",
       "      <td>12.835989</td>\n",
       "      <td>33.829247</td>\n",
       "      <td>23.155605</td>\n",
       "      <td>29.618546</td>\n",
       "      <td>1390.411011</td>\n",
       "      <td>20.159607</td>\n",
       "      <td>115.742622</td>\n",
       "      <td>13.386889</td>\n",
       "      <td>33.310001</td>\n",
       "      <td>25.853233</td>\n",
       "      <td>...</td>\n",
       "      <td>22.555159</td>\n",
       "      <td>14.726097</td>\n",
       "      <td>18.587454</td>\n",
       "      <td>142.012787</td>\n",
       "      <td>21.780539</td>\n",
       "      <td>10.325500</td>\n",
       "      <td>15.254732</td>\n",
       "      <td>21.796356</td>\n",
       "      <td>44.546612</td>\n",
       "      <td>31.957037</td>\n",
       "    </tr>\n",
       "    <tr>\n",
       "      <th>2006-09-29</th>\n",
       "      <td>12.707201</td>\n",
       "      <td>33.358433</td>\n",
       "      <td>22.927923</td>\n",
       "      <td>29.283062</td>\n",
       "      <td>1367.848755</td>\n",
       "      <td>19.856140</td>\n",
       "      <td>115.038300</td>\n",
       "      <td>13.288680</td>\n",
       "      <td>33.400002</td>\n",
       "      <td>25.422464</td>\n",
       "      <td>...</td>\n",
       "      <td>22.249292</td>\n",
       "      <td>14.631257</td>\n",
       "      <td>18.429232</td>\n",
       "      <td>135.378357</td>\n",
       "      <td>21.444868</td>\n",
       "      <td>10.187994</td>\n",
       "      <td>15.173594</td>\n",
       "      <td>21.176586</td>\n",
       "      <td>44.207462</td>\n",
       "      <td>31.588058</td>\n",
       "    </tr>\n",
       "    <tr>\n",
       "      <th>2006-10-02</th>\n",
       "      <td>12.734032</td>\n",
       "      <td>33.628712</td>\n",
       "      <td>22.405113</td>\n",
       "      <td>28.612095</td>\n",
       "      <td>1359.387329</td>\n",
       "      <td>18.939793</td>\n",
       "      <td>112.162384</td>\n",
       "      <td>13.362338</td>\n",
       "      <td>31.309999</td>\n",
       "      <td>25.147045</td>\n",
       "      <td>...</td>\n",
       "      <td>22.232300</td>\n",
       "      <td>14.553657</td>\n",
       "      <td>18.690634</td>\n",
       "      <td>129.909439</td>\n",
       "      <td>20.795927</td>\n",
       "      <td>10.192159</td>\n",
       "      <td>15.153305</td>\n",
       "      <td>21.804401</td>\n",
       "      <td>43.713627</td>\n",
       "      <td>31.212835</td>\n",
       "    </tr>\n",
       "    <tr>\n",
       "      <th>2006-10-03</th>\n",
       "      <td>12.766221</td>\n",
       "      <td>34.422134</td>\n",
       "      <td>22.430408</td>\n",
       "      <td>28.861317</td>\n",
       "      <td>1345.285889</td>\n",
       "      <td>18.999302</td>\n",
       "      <td>113.277542</td>\n",
       "      <td>13.381983</td>\n",
       "      <td>29.160000</td>\n",
       "      <td>25.422464</td>\n",
       "      <td>...</td>\n",
       "      <td>22.300268</td>\n",
       "      <td>14.795074</td>\n",
       "      <td>18.938282</td>\n",
       "      <td>127.309456</td>\n",
       "      <td>20.661669</td>\n",
       "      <td>10.204659</td>\n",
       "      <td>15.031600</td>\n",
       "      <td>21.957333</td>\n",
       "      <td>44.165813</td>\n",
       "      <td>31.050226</td>\n",
       "    </tr>\n",
       "    <tr>\n",
       "      <th>2006-10-04</th>\n",
       "      <td>13.034538</td>\n",
       "      <td>35.049896</td>\n",
       "      <td>23.492899</td>\n",
       "      <td>30.634594</td>\n",
       "      <td>1368.788452</td>\n",
       "      <td>19.987041</td>\n",
       "      <td>116.564377</td>\n",
       "      <td>13.475289</td>\n",
       "      <td>28.530001</td>\n",
       "      <td>26.163950</td>\n",
       "      <td>...</td>\n",
       "      <td>22.719433</td>\n",
       "      <td>14.907149</td>\n",
       "      <td>19.412949</td>\n",
       "      <td>128.071518</td>\n",
       "      <td>21.288231</td>\n",
       "      <td>10.212996</td>\n",
       "      <td>15.253399</td>\n",
       "      <td>22.609297</td>\n",
       "      <td>44.820309</td>\n",
       "      <td>31.281628</td>\n",
       "    </tr>\n",
       "    <tr>\n",
       "      <th>...</th>\n",
       "      <td>...</td>\n",
       "      <td>...</td>\n",
       "      <td>...</td>\n",
       "      <td>...</td>\n",
       "      <td>...</td>\n",
       "      <td>...</td>\n",
       "      <td>...</td>\n",
       "      <td>...</td>\n",
       "      <td>...</td>\n",
       "      <td>...</td>\n",
       "      <td>...</td>\n",
       "      <td>...</td>\n",
       "      <td>...</td>\n",
       "      <td>...</td>\n",
       "      <td>...</td>\n",
       "      <td>...</td>\n",
       "      <td>...</td>\n",
       "      <td>...</td>\n",
       "      <td>...</td>\n",
       "      <td>...</td>\n",
       "      <td>...</td>\n",
       "    </tr>\n",
       "    <tr>\n",
       "      <th>2022-08-30</th>\n",
       "      <td>41.290001</td>\n",
       "      <td>12.110000</td>\n",
       "      <td>30.520000</td>\n",
       "      <td>16.680000</td>\n",
       "      <td>38.849998</td>\n",
       "      <td>32.009998</td>\n",
       "      <td>24.950001</td>\n",
       "      <td>39.520000</td>\n",
       "      <td>4.370000</td>\n",
       "      <td>28.840000</td>\n",
       "      <td>...</td>\n",
       "      <td>48.130001</td>\n",
       "      <td>37.676384</td>\n",
       "      <td>19.870001</td>\n",
       "      <td>32.623150</td>\n",
       "      <td>19.270000</td>\n",
       "      <td>39.141705</td>\n",
       "      <td>32.700001</td>\n",
       "      <td>41.259998</td>\n",
       "      <td>102.720001</td>\n",
       "      <td>56.330002</td>\n",
       "    </tr>\n",
       "    <tr>\n",
       "      <th>2022-08-31</th>\n",
       "      <td>40.630001</td>\n",
       "      <td>9.530000</td>\n",
       "      <td>30.620001</td>\n",
       "      <td>16.299999</td>\n",
       "      <td>38.529999</td>\n",
       "      <td>31.530001</td>\n",
       "      <td>24.719999</td>\n",
       "      <td>39.119999</td>\n",
       "      <td>4.320000</td>\n",
       "      <td>28.459999</td>\n",
       "      <td>...</td>\n",
       "      <td>47.610001</td>\n",
       "      <td>37.159996</td>\n",
       "      <td>19.540001</td>\n",
       "      <td>32.145741</td>\n",
       "      <td>19.049999</td>\n",
       "      <td>39.131798</td>\n",
       "      <td>32.009998</td>\n",
       "      <td>41.590000</td>\n",
       "      <td>101.269997</td>\n",
       "      <td>55.950001</td>\n",
       "    </tr>\n",
       "    <tr>\n",
       "      <th>2022-09-01</th>\n",
       "      <td>41.259998</td>\n",
       "      <td>8.710000</td>\n",
       "      <td>31.049999</td>\n",
       "      <td>15.910000</td>\n",
       "      <td>38.279999</td>\n",
       "      <td>31.490000</td>\n",
       "      <td>24.350000</td>\n",
       "      <td>39.500000</td>\n",
       "      <td>4.160000</td>\n",
       "      <td>28.379999</td>\n",
       "      <td>...</td>\n",
       "      <td>47.669998</td>\n",
       "      <td>36.779999</td>\n",
       "      <td>19.639999</td>\n",
       "      <td>32.215363</td>\n",
       "      <td>18.889999</td>\n",
       "      <td>38.715714</td>\n",
       "      <td>31.830000</td>\n",
       "      <td>41.009998</td>\n",
       "      <td>101.290001</td>\n",
       "      <td>55.540001</td>\n",
       "    </tr>\n",
       "    <tr>\n",
       "      <th>2022-09-02</th>\n",
       "      <td>40.660000</td>\n",
       "      <td>8.630000</td>\n",
       "      <td>30.900000</td>\n",
       "      <td>15.660000</td>\n",
       "      <td>38.439999</td>\n",
       "      <td>31.260000</td>\n",
       "      <td>24.230000</td>\n",
       "      <td>39.029999</td>\n",
       "      <td>4.440000</td>\n",
       "      <td>28.379999</td>\n",
       "      <td>...</td>\n",
       "      <td>47.490002</td>\n",
       "      <td>36.740002</td>\n",
       "      <td>19.389999</td>\n",
       "      <td>32.105953</td>\n",
       "      <td>18.690001</td>\n",
       "      <td>38.676086</td>\n",
       "      <td>31.530001</td>\n",
       "      <td>39.799999</td>\n",
       "      <td>100.769997</td>\n",
       "      <td>55.490002</td>\n",
       "    </tr>\n",
       "    <tr>\n",
       "      <th>2022-09-06</th>\n",
       "      <td>40.290001</td>\n",
       "      <td>7.040000</td>\n",
       "      <td>29.480000</td>\n",
       "      <td>15.940000</td>\n",
       "      <td>36.830002</td>\n",
       "      <td>31.030001</td>\n",
       "      <td>23.860001</td>\n",
       "      <td>38.400002</td>\n",
       "      <td>4.250000</td>\n",
       "      <td>28.750000</td>\n",
       "      <td>...</td>\n",
       "      <td>48.290001</td>\n",
       "      <td>37.950001</td>\n",
       "      <td>19.530001</td>\n",
       "      <td>31.280432</td>\n",
       "      <td>18.450001</td>\n",
       "      <td>38.210468</td>\n",
       "      <td>30.889999</td>\n",
       "      <td>40.139999</td>\n",
       "      <td>103.190002</td>\n",
       "      <td>54.689999</td>\n",
       "    </tr>\n",
       "  </tbody>\n",
       "</table>\n",
       "<p>4012 rows × 230 columns</p>\n",
       "</div>"
      ],
      "text/plain": [
       "                  AVA       BBBY       CAKE        CIR          FBC  \\\n",
       "Date                                                                  \n",
       "2006-09-28  12.835989  33.829247  23.155605  29.618546  1390.411011   \n",
       "2006-09-29  12.707201  33.358433  22.927923  29.283062  1367.848755   \n",
       "2006-10-02  12.734032  33.628712  22.405113  28.612095  1359.387329   \n",
       "2006-10-03  12.766221  34.422134  22.430408  28.861317  1345.285889   \n",
       "2006-10-04  13.034538  35.049896  23.492899  30.634594  1368.788452   \n",
       "...               ...        ...        ...        ...          ...   \n",
       "2022-08-30  41.290001  12.110000  30.520000  16.680000    38.849998   \n",
       "2022-08-31  40.630001   9.530000  30.620001  16.299999    38.529999   \n",
       "2022-09-01  41.259998   8.710000  31.049999  15.910000    38.279999   \n",
       "2022-09-02  40.660000   8.630000  30.900000  15.660000    38.439999   \n",
       "2022-09-06  40.290001   7.040000  29.480000  15.940000    36.830002   \n",
       "\n",
       "                 FCBC        HAFC         HE        HLX       HSII  ...  \\\n",
       "Date                                                                ...   \n",
       "2006-09-28  20.159607  115.742622  13.386889  33.310001  25.853233  ...   \n",
       "2006-09-29  19.856140  115.038300  13.288680  33.400002  25.422464  ...   \n",
       "2006-10-02  18.939793  112.162384  13.362338  31.309999  25.147045  ...   \n",
       "2006-10-03  18.999302  113.277542  13.381983  29.160000  25.422464  ...   \n",
       "2006-10-04  19.987041  116.564377  13.475289  28.530001  26.163950  ...   \n",
       "...               ...         ...        ...        ...        ...  ...   \n",
       "2022-08-30  32.009998   24.950001  39.520000   4.370000  28.840000  ...   \n",
       "2022-08-31  31.530001   24.719999  39.119999   4.320000  28.459999  ...   \n",
       "2022-09-01  31.490000   24.350000  39.500000   4.160000  28.379999  ...   \n",
       "2022-09-02  31.260000   24.230000  39.029999   4.440000  28.379999  ...   \n",
       "2022-09-06  31.030001   23.860001  38.400002   4.250000  28.750000  ...   \n",
       "\n",
       "                  NWN       PRGO        RGP        SBCF       SHBI        UGI  \\\n",
       "Date                                                                            \n",
       "2006-09-28  22.555159  14.726097  18.587454  142.012787  21.780539  10.325500   \n",
       "2006-09-29  22.249292  14.631257  18.429232  135.378357  21.444868  10.187994   \n",
       "2006-10-02  22.232300  14.553657  18.690634  129.909439  20.795927  10.192159   \n",
       "2006-10-03  22.300268  14.795074  18.938282  127.309456  20.661669  10.204659   \n",
       "2006-10-04  22.719433  14.907149  19.412949  128.071518  21.288231  10.212996   \n",
       "...               ...        ...        ...         ...        ...        ...   \n",
       "2022-08-30  48.130001  37.676384  19.870001   32.623150  19.270000  39.141705   \n",
       "2022-08-31  47.610001  37.159996  19.540001   32.145741  19.049999  39.131798   \n",
       "2022-09-01  47.669998  36.779999  19.639999   32.215363  18.889999  38.715714   \n",
       "2022-09-02  47.490002  36.740002  19.389999   32.105953  18.690001  38.676086   \n",
       "2022-09-06  48.290001  37.950001  19.530001   31.280432  18.450001  38.210468   \n",
       "\n",
       "                 WAFD       FORR         FRT       WABC  \n",
       "Date                                                     \n",
       "2006-09-28  15.254732  21.796356   44.546612  31.957037  \n",
       "2006-09-29  15.173594  21.176586   44.207462  31.588058  \n",
       "2006-10-02  15.153305  21.804401   43.713627  31.212835  \n",
       "2006-10-03  15.031600  21.957333   44.165813  31.050226  \n",
       "2006-10-04  15.253399  22.609297   44.820309  31.281628  \n",
       "...               ...        ...         ...        ...  \n",
       "2022-08-30  32.700001  41.259998  102.720001  56.330002  \n",
       "2022-08-31  32.009998  41.590000  101.269997  55.950001  \n",
       "2022-09-01  31.830000  41.009998  101.290001  55.540001  \n",
       "2022-09-02  31.530001  39.799999  100.769997  55.490002  \n",
       "2022-09-06  30.889999  40.139999  103.190002  54.689999  \n",
       "\n",
       "[4012 rows x 230 columns]"
      ]
     },
     "execution_count": 45,
     "metadata": {},
     "output_type": "execute_result"
    }
   ],
   "source": [
    "sp500_supplementary_prices[sp500_added_stocks]"
   ]
  },
  {
   "cell_type": "markdown",
   "metadata": {},
   "source": [
    "**Finally** we join the two Surviving Sets as the Initial Dataset"
   ]
  },
  {
   "cell_type": "code",
   "execution_count": 47,
   "metadata": {},
   "outputs": [],
   "source": [
    "sp500m_prices = pd.concat([sp500_surviving_prices, sp500_supplementary_prices[sp500_added_stocks]], axis=1)"
   ]
  },
  {
   "cell_type": "code",
   "execution_count": 48,
   "metadata": {},
   "outputs": [
    {
     "data": {
      "image/png": "[encoded data removed]",
      "text/plain": [
       "<Figure size 1512x648 with 1 Axes>"
      ]
     },
     "metadata": {
      "needs_background": "light"
     },
     "output_type": "display_data"
    }
   ],
   "source": [
    "(1+sp500_surviving_prices.pct_change().mean(axis=1)).rename(\"Surviving S&P500 (EW)\").cumprod().plot(\n",
    "    figsize=(21,9), \n",
    "    title=\"A Total Return Comparison Over the Sample Period\",\n",
    "    legend=True,\n",
    "    cmap=\"coolwarm\")\n",
    "(1+sp500m_prices.pct_change().mean(axis=1)).rename(\"S&P500M: Modified S&P500 (EW)\").cumprod().plot(legend=True)\n",
    "(1+rsp_prices.pct_change()+0.002/252).rename(\"$RSP: S&P500 Equally Weighted (EW)\").cumprod().plot(legend=True)\n",
    "\n",
    "plt.grid();"
   ]
  },
  {
   "cell_type": "code",
   "execution_count": 49,
   "metadata": {},
   "outputs": [
    {
     "data": {
      "text/plain": [
       "Index(['A', 'AAPL', 'ABC', 'ABT', 'ADBE', 'ADI', 'ADM', 'ADP', 'ADSK', 'AEE',\n",
       "       ...\n",
       "       'NWN', 'PRGO', 'RGP', 'SBCF', 'SHBI', 'UGI', 'WAFD', 'FORR', 'FRT',\n",
       "       'WABC'],\n",
       "      dtype='object', length=469)"
      ]
     },
     "execution_count": 49,
     "metadata": {},
     "output_type": "execute_result"
    }
   ],
   "source": [
    "sp500m_prices.columns"
   ]
  },
  {
   "cell_type": "code",
   "execution_count": 54,
   "metadata": {},
   "outputs": [
    {
     "data": {
      "image/png": "[encoded data removed]",
      "text/plain": [
       "<Figure size 1512x648 with 1 Axes>"
      ]
     },
     "metadata": {},
     "output_type": "display_data"
    }
   ],
   "source": [
    "plt.style.use(\"ggplot\")\n",
    "\n",
    "(1+sp500m_prices.pct_change().mean(axis=1)).rename(\"Baseline Portfolio\").cumprod().plot(\n",
    "    figsize=(21,9), \n",
    "    legend=True)\n",
    "\n",
    "(1+rsp_prices.pct_change()+0.002/252).rename(\"$RSP: ETF tracking S&P500 Equally Weighted\").cumprod().plot(legend=True)\n",
    "plt.grid()"
   ]
  },
  {
   "cell_type": "code",
   "execution_count": 51,
   "metadata": {},
   "outputs": [
    {
     "data": {
      "text/plain": [
       "datetime.timedelta(days=5822)"
      ]
     },
     "execution_count": 51,
     "metadata": {},
     "output_type": "execute_result"
    }
   ],
   "source": [
    "delta = ivv.index[-1] - ivv.index[0]\n",
    "delta.to_pytimedelta()"
   ]
  },
  {
   "cell_type": "code",
   "execution_count": 52,
   "metadata": {},
   "outputs": [],
   "source": [
    "years_since_inception = delta.to_pytimedelta().days/365.25"
   ]
  },
  {
   "cell_type": "code",
   "execution_count": 55,
   "metadata": {},
   "outputs": [
    {
     "data": {
      "text/plain": [
       "0.07508793484012743"
      ]
     },
     "execution_count": 55,
     "metadata": {},
     "output_type": "execute_result"
    }
   ],
   "source": [
    "pms.net_cumreturn(sp500m_prices.pct_change().mean(axis=1), last_row=True)**(1/years_since_inception)-1"
   ]
  },
  {
   "cell_type": "code",
   "execution_count": 57,
   "metadata": {},
   "outputs": [
    {
     "data": {
      "text/plain": [
       "0.0719830168750013"
      ]
     },
     "execution_count": 57,
     "metadata": {},
     "output_type": "execute_result"
    }
   ],
   "source": [
    "pms.net_cumreturn(rsp_prices.pct_change(), last_row=True)**(1/years_since_inception)-1"
   ]
  },
  {
   "cell_type": "code",
   "execution_count": 58,
   "metadata": {},
   "outputs": [
    {
     "data": {
      "text/plain": [
       "0.11687168484182861"
      ]
     },
     "execution_count": 58,
     "metadata": {},
     "output_type": "execute_result"
    }
   ],
   "source": [
    "sp500m_prices.pct_change().mean(axis=1).mean()*252"
   ]
  },
  {
   "cell_type": "code",
   "execution_count": 59,
   "metadata": {},
   "outputs": [
    {
     "data": {
      "text/plain": [
       "0.11157334254540507"
      ]
     },
     "execution_count": 59,
     "metadata": {},
     "output_type": "execute_result"
    }
   ],
   "source": [
    "rsp_prices.pct_change().mean()*252"
   ]
  },
  {
   "cell_type": "code",
   "execution_count": 60,
   "metadata": {},
   "outputs": [
    {
     "data": {
      "text/html": [
       "<div>\n",
       "<style scoped>\n",
       "    .dataframe tbody tr th:only-of-type {\n",
       "        vertical-align: middle;\n",
       "    }\n",
       "\n",
       "    .dataframe tbody tr th {\n",
       "        vertical-align: top;\n",
       "    }\n",
       "\n",
       "    .dataframe thead th {\n",
       "        text-align: right;\n",
       "    }\n",
       "</style>\n",
       "<table border=\"1\" class=\"dataframe\">\n",
       "  <thead>\n",
       "    <tr style=\"text-align: right;\">\n",
       "      <th></th>\n",
       "      <th>A</th>\n",
       "      <th>AAPL</th>\n",
       "      <th>ABC</th>\n",
       "      <th>ABT</th>\n",
       "      <th>ADBE</th>\n",
       "      <th>ADI</th>\n",
       "      <th>ADM</th>\n",
       "      <th>ADP</th>\n",
       "      <th>ADSK</th>\n",
       "      <th>AEE</th>\n",
       "      <th>...</th>\n",
       "      <th>NWN</th>\n",
       "      <th>PRGO</th>\n",
       "      <th>RGP</th>\n",
       "      <th>SBCF</th>\n",
       "      <th>SHBI</th>\n",
       "      <th>UGI</th>\n",
       "      <th>WAFD</th>\n",
       "      <th>FORR</th>\n",
       "      <th>FRT</th>\n",
       "      <th>WABC</th>\n",
       "    </tr>\n",
       "    <tr>\n",
       "      <th>Date</th>\n",
       "      <th></th>\n",
       "      <th></th>\n",
       "      <th></th>\n",
       "      <th></th>\n",
       "      <th></th>\n",
       "      <th></th>\n",
       "      <th></th>\n",
       "      <th></th>\n",
       "      <th></th>\n",
       "      <th></th>\n",
       "      <th></th>\n",
       "      <th></th>\n",
       "      <th></th>\n",
       "      <th></th>\n",
       "      <th></th>\n",
       "      <th></th>\n",
       "      <th></th>\n",
       "      <th></th>\n",
       "      <th></th>\n",
       "      <th></th>\n",
       "      <th></th>\n",
       "    </tr>\n",
       "  </thead>\n",
       "  <tbody>\n",
       "    <tr>\n",
       "      <th>2022-08-30 00:00:00</th>\n",
       "      <td>128.279999</td>\n",
       "      <td>158.910004</td>\n",
       "      <td>145.429993</td>\n",
       "      <td>102.199997</td>\n",
       "      <td>375.070007</td>\n",
       "      <td>152.729996</td>\n",
       "      <td>87.570000</td>\n",
       "      <td>244.533340</td>\n",
       "      <td>202.809998</td>\n",
       "      <td>92.747398</td>\n",
       "      <td>...</td>\n",
       "      <td>48.130001</td>\n",
       "      <td>37.676384</td>\n",
       "      <td>19.870001</td>\n",
       "      <td>32.623150</td>\n",
       "      <td>19.270000</td>\n",
       "      <td>39.141705</td>\n",
       "      <td>32.700001</td>\n",
       "      <td>41.259998</td>\n",
       "      <td>102.720001</td>\n",
       "      <td>56.330002</td>\n",
       "    </tr>\n",
       "    <tr>\n",
       "      <th>2022-08-31 00:00:00</th>\n",
       "      <td>128.250000</td>\n",
       "      <td>157.220001</td>\n",
       "      <td>146.559998</td>\n",
       "      <td>102.650002</td>\n",
       "      <td>373.440002</td>\n",
       "      <td>151.529999</td>\n",
       "      <td>87.889999</td>\n",
       "      <td>243.358429</td>\n",
       "      <td>201.740005</td>\n",
       "      <td>92.031975</td>\n",
       "      <td>...</td>\n",
       "      <td>47.610001</td>\n",
       "      <td>37.159996</td>\n",
       "      <td>19.540001</td>\n",
       "      <td>32.145741</td>\n",
       "      <td>19.049999</td>\n",
       "      <td>39.131798</td>\n",
       "      <td>32.009998</td>\n",
       "      <td>41.590000</td>\n",
       "      <td>101.269997</td>\n",
       "      <td>55.950001</td>\n",
       "    </tr>\n",
       "    <tr>\n",
       "      <th>2022-09-01 00:00:00</th>\n",
       "      <td>128.929993</td>\n",
       "      <td>157.960007</td>\n",
       "      <td>147.610001</td>\n",
       "      <td>104.839996</td>\n",
       "      <td>370.529999</td>\n",
       "      <td>150.690002</td>\n",
       "      <td>87.580002</td>\n",
       "      <td>244.901764</td>\n",
       "      <td>201.949997</td>\n",
       "      <td>93.264099</td>\n",
       "      <td>...</td>\n",
       "      <td>47.669998</td>\n",
       "      <td>36.779999</td>\n",
       "      <td>19.639999</td>\n",
       "      <td>32.215363</td>\n",
       "      <td>18.889999</td>\n",
       "      <td>38.715714</td>\n",
       "      <td>31.830000</td>\n",
       "      <td>41.009998</td>\n",
       "      <td>101.290001</td>\n",
       "      <td>55.540001</td>\n",
       "    </tr>\n",
       "    <tr>\n",
       "      <th>2022-09-02 00:00:00</th>\n",
       "      <td>128.009995</td>\n",
       "      <td>155.809998</td>\n",
       "      <td>147.710007</td>\n",
       "      <td>102.500000</td>\n",
       "      <td>368.140015</td>\n",
       "      <td>148.630005</td>\n",
       "      <td>87.610001</td>\n",
       "      <td>237.453934</td>\n",
       "      <td>198.690002</td>\n",
       "      <td>92.340004</td>\n",
       "      <td>...</td>\n",
       "      <td>47.490002</td>\n",
       "      <td>36.740002</td>\n",
       "      <td>19.389999</td>\n",
       "      <td>32.105953</td>\n",
       "      <td>18.690001</td>\n",
       "      <td>38.676086</td>\n",
       "      <td>31.530001</td>\n",
       "      <td>39.799999</td>\n",
       "      <td>100.769997</td>\n",
       "      <td>55.490002</td>\n",
       "    </tr>\n",
       "    <tr>\n",
       "      <th>2022-09-06 00:00:00</th>\n",
       "      <td>129.300003</td>\n",
       "      <td>154.529999</td>\n",
       "      <td>146.020004</td>\n",
       "      <td>102.709999</td>\n",
       "      <td>368.299988</td>\n",
       "      <td>148.229996</td>\n",
       "      <td>85.699997</td>\n",
       "      <td>237.115402</td>\n",
       "      <td>198.179993</td>\n",
       "      <td>92.220001</td>\n",
       "      <td>...</td>\n",
       "      <td>48.290001</td>\n",
       "      <td>37.950001</td>\n",
       "      <td>19.530001</td>\n",
       "      <td>31.280432</td>\n",
       "      <td>18.450001</td>\n",
       "      <td>38.210468</td>\n",
       "      <td>30.889999</td>\n",
       "      <td>40.139999</td>\n",
       "      <td>103.190002</td>\n",
       "      <td>54.689999</td>\n",
       "    </tr>\n",
       "  </tbody>\n",
       "</table>\n",
       "<p>5 rows × 469 columns</p>\n",
       "</div>"
      ],
      "text/plain": [
       "                              A        AAPL         ABC         ABT  \\\n",
       "Date                                                                  \n",
       "2022-08-30 00:00:00  128.279999  158.910004  145.429993  102.199997   \n",
       "2022-08-31 00:00:00  128.250000  157.220001  146.559998  102.650002   \n",
       "2022-09-01 00:00:00  128.929993  157.960007  147.610001  104.839996   \n",
       "2022-09-02 00:00:00  128.009995  155.809998  147.710007  102.500000   \n",
       "2022-09-06 00:00:00  129.300003  154.529999  146.020004  102.709999   \n",
       "\n",
       "                           ADBE         ADI        ADM         ADP  \\\n",
       "Date                                                                 \n",
       "2022-08-30 00:00:00  375.070007  152.729996  87.570000  244.533340   \n",
       "2022-08-31 00:00:00  373.440002  151.529999  87.889999  243.358429   \n",
       "2022-09-01 00:00:00  370.529999  150.690002  87.580002  244.901764   \n",
       "2022-09-02 00:00:00  368.140015  148.630005  87.610001  237.453934   \n",
       "2022-09-06 00:00:00  368.299988  148.229996  85.699997  237.115402   \n",
       "\n",
       "                           ADSK        AEE  ...        NWN       PRGO  \\\n",
       "Date                                        ...                         \n",
       "2022-08-30 00:00:00  202.809998  92.747398  ...  48.130001  37.676384   \n",
       "2022-08-31 00:00:00  201.740005  92.031975  ...  47.610001  37.159996   \n",
       "2022-09-01 00:00:00  201.949997  93.264099  ...  47.669998  36.779999   \n",
       "2022-09-02 00:00:00  198.690002  92.340004  ...  47.490002  36.740002   \n",
       "2022-09-06 00:00:00  198.179993  92.220001  ...  48.290001  37.950001   \n",
       "\n",
       "                           RGP       SBCF       SHBI        UGI       WAFD  \\\n",
       "Date                                                                         \n",
       "2022-08-30 00:00:00  19.870001  32.623150  19.270000  39.141705  32.700001   \n",
       "2022-08-31 00:00:00  19.540001  32.145741  19.049999  39.131798  32.009998   \n",
       "2022-09-01 00:00:00  19.639999  32.215363  18.889999  38.715714  31.830000   \n",
       "2022-09-02 00:00:00  19.389999  32.105953  18.690001  38.676086  31.530001   \n",
       "2022-09-06 00:00:00  19.530001  31.280432  18.450001  38.210468  30.889999   \n",
       "\n",
       "                          FORR         FRT       WABC  \n",
       "Date                                                   \n",
       "2022-08-30 00:00:00  41.259998  102.720001  56.330002  \n",
       "2022-08-31 00:00:00  41.590000  101.269997  55.950001  \n",
       "2022-09-01 00:00:00  41.009998  101.290001  55.540001  \n",
       "2022-09-02 00:00:00  39.799999  100.769997  55.490002  \n",
       "2022-09-06 00:00:00  40.139999  103.190002  54.689999  \n",
       "\n",
       "[5 rows x 469 columns]"
      ]
     },
     "execution_count": 60,
     "metadata": {},
     "output_type": "execute_result"
    }
   ],
   "source": [
    "sp500m_prices.tail()"
   ]
  },
  {
   "cell_type": "markdown",
   "metadata": {},
   "source": [
    "* Dumping all price components data for future use"
   ]
  },
  {
   "cell_type": "code",
   "execution_count": 102,
   "metadata": {},
   "outputs": [],
   "source": [
    "sp500m_prices.to_csv(\n",
    "    \"data/config/20220907_baseline_price_components_data.csv\",\n",
    "    index_label=\"Date\",\n",
    "    index=True\n",
    ")"
   ]
  },
  {
   "cell_type": "markdown",
   "metadata": {},
   "source": [
    "* Checking"
   ]
  },
  {
   "cell_type": "code",
   "execution_count": 103,
   "metadata": {},
   "outputs": [],
   "source": [
    "sp500 = pd.read_csv(\n",
    "    \"data/config/20220907_baseline_price_components_data.csv\",\n",
    "    index_col=\"Date\",\n",
    "    parse_dates=True\n",
    ")"
   ]
  },
  {
   "cell_type": "code",
   "execution_count": 104,
   "metadata": {},
   "outputs": [
    {
     "data": {
      "text/plain": [
       "(4012, 469)"
      ]
     },
     "execution_count": 104,
     "metadata": {},
     "output_type": "execute_result"
    }
   ],
   "source": [
    "sp500.shape"
   ]
  },
  {
   "cell_type": "markdown",
   "metadata": {},
   "source": [
    "* Stocks with prices below 1$ at any busi"
   ]
  },
  {
   "cell_type": "code",
   "execution_count": 65,
   "metadata": {},
   "outputs": [
    {
     "data": {
      "text/plain": [
       "['F', 'FITB', 'HBAN']"
      ]
     },
     "execution_count": 65,
     "metadata": {},
     "output_type": "execute_result"
    }
   ],
   "source": [
    "list(sp500.columns[(sp500[sp500<1].sum()!=0)])"
   ]
  },
  {
   "cell_type": "markdown",
   "metadata": {},
   "source": [
    "* Checking if Missing Data"
   ]
  },
  {
   "cell_type": "code",
   "execution_count": 361,
   "metadata": {},
   "outputs": [
    {
     "data": {
      "text/plain": [
       "0"
      ]
     },
     "execution_count": 361,
     "metadata": {},
     "output_type": "execute_result"
    }
   ],
   "source": [
    "sp500.isna().sum().sum()"
   ]
  },
  {
   "cell_type": "markdown",
   "metadata": {},
   "source": [
    "### A1 Annex: Metrics Comparison between SP500-Mod EW and RSP ETF (Actual SP500 EW Replica)"
   ]
  },
  {
   "cell_type": "markdown",
   "metadata": {},
   "source": [
    "**NOTA** Defender la cartera baseline (`SP500M`) como buen baseline similar a indice (sin problemas de sesgo de supervivencia), en base a métricas a 10, 5, 3 (returns y sharpes a plazo)"
   ]
  },
  {
   "cell_type": "code",
   "execution_count": 68,
   "metadata": {},
   "outputs": [],
   "source": [
    "total_rets_10Y = sp500.pct_change().rolling(window=\"3600D\", min_periods=2400).apply(pms.multi_period_return)"
   ]
  },
  {
   "cell_type": "code",
   "execution_count": 70,
   "metadata": {},
   "outputs": [
    {
     "data": {
      "text/plain": [
       "<AxesSubplot:xlabel='Date'>"
      ]
     },
     "execution_count": 70,
     "metadata": {},
     "output_type": "execute_result"
    },
    {
     "data": {
      "image/png": "[encoded data removed]",
      "text/plain": [
       "<Figure size 1512x648 with 1 Axes>"
      ]
     },
     "metadata": {},
     "output_type": "display_data"
    }
   ],
   "source": [
    "(total_rets_10Y.mean(axis=1)**(1/10)-1).plot(figsize=(21,9))"
   ]
  },
  {
   "cell_type": "code",
   "execution_count": 72,
   "metadata": {},
   "outputs": [
    {
     "data": {
      "text/plain": [
       "1.8540497333788408"
      ]
     },
     "execution_count": 72,
     "metadata": {},
     "output_type": "execute_result"
    }
   ],
   "source": [
    "total_rets_10Y.mean(axis=1)[-1]"
   ]
  },
  {
   "cell_type": "code",
   "execution_count": 73,
   "metadata": {},
   "outputs": [],
   "source": [
    "rsp_10y_returns = rsp_prices.pct_change().rolling(window=\"3600D\", min_periods=2400).apply(pms.multi_period_return)"
   ]
  },
  {
   "cell_type": "code",
   "execution_count": 74,
   "metadata": {},
   "outputs": [
    {
     "data": {
      "text/plain": [
       "2.1753163203102517"
      ]
     },
     "execution_count": 74,
     "metadata": {},
     "output_type": "execute_result"
    }
   ],
   "source": [
    "rsp_10y_returns[-1]"
   ]
  },
  {
   "cell_type": "markdown",
   "metadata": {},
   "source": [
    "* ***Translate*** to year equivalents (an excerpt from the [_Vanguard_](https://investor.vanguard.com/investment-products/etfs/profile/vthr#performance-fees) webpage):\n",
    "\n",
    "![Returns over distinct Horizons for EW SP500-M and $RSP](./pics/returns_dashboard_template.png)"
   ]
  },
  {
   "cell_type": "markdown",
   "metadata": {},
   "source": [
    "### A2 Annex: Compiling Baseline Portfolio Use"
   ]
  },
  {
   "cell_type": "code",
   "execution_count": 77,
   "metadata": {},
   "outputs": [
    {
     "data": {
      "text/plain": [
       "239"
      ]
     },
     "execution_count": 77,
     "metadata": {},
     "output_type": "execute_result"
    }
   ],
   "source": [
    "len(sp500_surviving_prices.columns)"
   ]
  },
  {
   "cell_type": "code",
   "execution_count": 89,
   "metadata": {},
   "outputs": [],
   "source": [
    "# Compiling Tickers Information for Further Use\n",
    "rl3000_tickers_added = pd.DataFrame(\n",
    "    {\n",
    "        \"ticker\": sp500_added_stocks,\n",
    "        \"index\": [\"^RUA\"]*len(sp500_added_stocks)\n",
    "    }\n",
    ")"
   ]
  },
  {
   "cell_type": "code",
   "execution_count": 91,
   "metadata": {},
   "outputs": [
    {
     "data": {
      "text/html": [
       "<div>\n",
       "<style scoped>\n",
       "    .dataframe tbody tr th:only-of-type {\n",
       "        vertical-align: middle;\n",
       "    }\n",
       "\n",
       "    .dataframe tbody tr th {\n",
       "        vertical-align: top;\n",
       "    }\n",
       "\n",
       "    .dataframe thead th {\n",
       "        text-align: right;\n",
       "    }\n",
       "</style>\n",
       "<table border=\"1\" class=\"dataframe\">\n",
       "  <thead>\n",
       "    <tr style=\"text-align: right;\">\n",
       "      <th></th>\n",
       "      <th>ticker</th>\n",
       "      <th>index</th>\n",
       "    </tr>\n",
       "  </thead>\n",
       "  <tbody>\n",
       "    <tr>\n",
       "      <th>0</th>\n",
       "      <td>AVA</td>\n",
       "      <td>^RUA</td>\n",
       "    </tr>\n",
       "    <tr>\n",
       "      <th>1</th>\n",
       "      <td>BBBY</td>\n",
       "      <td>^RUA</td>\n",
       "    </tr>\n",
       "    <tr>\n",
       "      <th>2</th>\n",
       "      <td>CAKE</td>\n",
       "      <td>^RUA</td>\n",
       "    </tr>\n",
       "    <tr>\n",
       "      <th>3</th>\n",
       "      <td>CIR</td>\n",
       "      <td>^RUA</td>\n",
       "    </tr>\n",
       "    <tr>\n",
       "      <th>4</th>\n",
       "      <td>FBC</td>\n",
       "      <td>^RUA</td>\n",
       "    </tr>\n",
       "    <tr>\n",
       "      <th>...</th>\n",
       "      <td>...</td>\n",
       "      <td>...</td>\n",
       "    </tr>\n",
       "    <tr>\n",
       "      <th>225</th>\n",
       "      <td>UGI</td>\n",
       "      <td>^RUA</td>\n",
       "    </tr>\n",
       "    <tr>\n",
       "      <th>226</th>\n",
       "      <td>WAFD</td>\n",
       "      <td>^RUA</td>\n",
       "    </tr>\n",
       "    <tr>\n",
       "      <th>227</th>\n",
       "      <td>FORR</td>\n",
       "      <td>^RUA</td>\n",
       "    </tr>\n",
       "    <tr>\n",
       "      <th>228</th>\n",
       "      <td>FRT</td>\n",
       "      <td>^RUA</td>\n",
       "    </tr>\n",
       "    <tr>\n",
       "      <th>229</th>\n",
       "      <td>WABC</td>\n",
       "      <td>^RUA</td>\n",
       "    </tr>\n",
       "  </tbody>\n",
       "</table>\n",
       "<p>230 rows × 2 columns</p>\n",
       "</div>"
      ],
      "text/plain": [
       "    ticker index\n",
       "0      AVA  ^RUA\n",
       "1     BBBY  ^RUA\n",
       "2     CAKE  ^RUA\n",
       "3      CIR  ^RUA\n",
       "4      FBC  ^RUA\n",
       "..     ...   ...\n",
       "225    UGI  ^RUA\n",
       "226   WAFD  ^RUA\n",
       "227   FORR  ^RUA\n",
       "228    FRT  ^RUA\n",
       "229   WABC  ^RUA\n",
       "\n",
       "[230 rows x 2 columns]"
      ]
     },
     "execution_count": 91,
     "metadata": {},
     "output_type": "execute_result"
    }
   ],
   "source": [
    "rl3000_tickers_added"
   ]
  },
  {
   "cell_type": "code",
   "execution_count": 93,
   "metadata": {},
   "outputs": [
    {
     "data": {
      "text/plain": [
       "Index(['A', 'AAPL', 'ABC', 'ABT', 'ADBE', 'ADI', 'ADM', 'ADP', 'ADSK', 'AEE',\n",
       "       ...\n",
       "       'WHR', 'WM', 'WMB', 'WMT', 'WY', 'XEL', 'XOM', 'YUM', 'ZBH', 'ZION'],\n",
       "      dtype='object', length=239)"
      ]
     },
     "execution_count": 93,
     "metadata": {},
     "output_type": "execute_result"
    }
   ],
   "source": [
    "sp500_surviving_prices.columns"
   ]
  },
  {
   "cell_type": "code",
   "execution_count": 95,
   "metadata": {},
   "outputs": [
    {
     "data": {
      "text/html": [
       "<div>\n",
       "<style scoped>\n",
       "    .dataframe tbody tr th:only-of-type {\n",
       "        vertical-align: middle;\n",
       "    }\n",
       "\n",
       "    .dataframe tbody tr th {\n",
       "        vertical-align: top;\n",
       "    }\n",
       "\n",
       "    .dataframe thead th {\n",
       "        text-align: right;\n",
       "    }\n",
       "</style>\n",
       "<table border=\"1\" class=\"dataframe\">\n",
       "  <thead>\n",
       "    <tr style=\"text-align: right;\">\n",
       "      <th></th>\n",
       "      <th>ticker</th>\n",
       "      <th>index</th>\n",
       "    </tr>\n",
       "  </thead>\n",
       "  <tbody>\n",
       "    <tr>\n",
       "      <th>0</th>\n",
       "      <td>A</td>\n",
       "      <td>^GSPC</td>\n",
       "    </tr>\n",
       "    <tr>\n",
       "      <th>1</th>\n",
       "      <td>AAPL</td>\n",
       "      <td>^GSPC</td>\n",
       "    </tr>\n",
       "    <tr>\n",
       "      <th>2</th>\n",
       "      <td>ABC</td>\n",
       "      <td>^GSPC</td>\n",
       "    </tr>\n",
       "    <tr>\n",
       "      <th>3</th>\n",
       "      <td>ABT</td>\n",
       "      <td>^GSPC</td>\n",
       "    </tr>\n",
       "    <tr>\n",
       "      <th>4</th>\n",
       "      <td>ADBE</td>\n",
       "      <td>^GSPC</td>\n",
       "    </tr>\n",
       "    <tr>\n",
       "      <th>...</th>\n",
       "      <td>...</td>\n",
       "      <td>...</td>\n",
       "    </tr>\n",
       "    <tr>\n",
       "      <th>234</th>\n",
       "      <td>XEL</td>\n",
       "      <td>^GSPC</td>\n",
       "    </tr>\n",
       "    <tr>\n",
       "      <th>235</th>\n",
       "      <td>XOM</td>\n",
       "      <td>^GSPC</td>\n",
       "    </tr>\n",
       "    <tr>\n",
       "      <th>236</th>\n",
       "      <td>YUM</td>\n",
       "      <td>^GSPC</td>\n",
       "    </tr>\n",
       "    <tr>\n",
       "      <th>237</th>\n",
       "      <td>ZBH</td>\n",
       "      <td>^GSPC</td>\n",
       "    </tr>\n",
       "    <tr>\n",
       "      <th>238</th>\n",
       "      <td>ZION</td>\n",
       "      <td>^GSPC</td>\n",
       "    </tr>\n",
       "  </tbody>\n",
       "</table>\n",
       "<p>239 rows × 2 columns</p>\n",
       "</div>"
      ],
      "text/plain": [
       "    ticker  index\n",
       "0        A  ^GSPC\n",
       "1     AAPL  ^GSPC\n",
       "2      ABC  ^GSPC\n",
       "3      ABT  ^GSPC\n",
       "4     ADBE  ^GSPC\n",
       "..     ...    ...\n",
       "234    XEL  ^GSPC\n",
       "235    XOM  ^GSPC\n",
       "236    YUM  ^GSPC\n",
       "237    ZBH  ^GSPC\n",
       "238   ZION  ^GSPC\n",
       "\n",
       "[239 rows x 2 columns]"
      ]
     },
     "execution_count": 95,
     "metadata": {},
     "output_type": "execute_result"
    }
   ],
   "source": [
    "sp500_tickers_surv = pd.DataFrame(\n",
    "    {\n",
    "        \"ticker\": list(sp500_surviving_prices.columns),\n",
    "        \"index\": [\"^GSPC\"]*len(sp500_surviving_prices.columns)\n",
    "    }\n",
    ")\n",
    "sp500_tickers_surv"
   ]
  },
  {
   "cell_type": "code",
   "execution_count": 100,
   "metadata": {},
   "outputs": [
    {
     "data": {
      "text/html": [
       "<div>\n",
       "<style scoped>\n",
       "    .dataframe tbody tr th:only-of-type {\n",
       "        vertical-align: middle;\n",
       "    }\n",
       "\n",
       "    .dataframe tbody tr th {\n",
       "        vertical-align: top;\n",
       "    }\n",
       "\n",
       "    .dataframe thead th {\n",
       "        text-align: right;\n",
       "    }\n",
       "</style>\n",
       "<table border=\"1\" class=\"dataframe\">\n",
       "  <thead>\n",
       "    <tr style=\"text-align: right;\">\n",
       "      <th></th>\n",
       "      <th>ticker</th>\n",
       "      <th>index</th>\n",
       "    </tr>\n",
       "  </thead>\n",
       "  <tbody>\n",
       "    <tr>\n",
       "      <th>0</th>\n",
       "      <td>AVA</td>\n",
       "      <td>^RUA</td>\n",
       "    </tr>\n",
       "    <tr>\n",
       "      <th>1</th>\n",
       "      <td>BBBY</td>\n",
       "      <td>^RUA</td>\n",
       "    </tr>\n",
       "    <tr>\n",
       "      <th>2</th>\n",
       "      <td>CAKE</td>\n",
       "      <td>^RUA</td>\n",
       "    </tr>\n",
       "    <tr>\n",
       "      <th>3</th>\n",
       "      <td>CIR</td>\n",
       "      <td>^RUA</td>\n",
       "    </tr>\n",
       "    <tr>\n",
       "      <th>4</th>\n",
       "      <td>FBC</td>\n",
       "      <td>^RUA</td>\n",
       "    </tr>\n",
       "    <tr>\n",
       "      <th>...</th>\n",
       "      <td>...</td>\n",
       "      <td>...</td>\n",
       "    </tr>\n",
       "    <tr>\n",
       "      <th>234</th>\n",
       "      <td>XEL</td>\n",
       "      <td>^GSPC</td>\n",
       "    </tr>\n",
       "    <tr>\n",
       "      <th>235</th>\n",
       "      <td>XOM</td>\n",
       "      <td>^GSPC</td>\n",
       "    </tr>\n",
       "    <tr>\n",
       "      <th>236</th>\n",
       "      <td>YUM</td>\n",
       "      <td>^GSPC</td>\n",
       "    </tr>\n",
       "    <tr>\n",
       "      <th>237</th>\n",
       "      <td>ZBH</td>\n",
       "      <td>^GSPC</td>\n",
       "    </tr>\n",
       "    <tr>\n",
       "      <th>238</th>\n",
       "      <td>ZION</td>\n",
       "      <td>^GSPC</td>\n",
       "    </tr>\n",
       "  </tbody>\n",
       "</table>\n",
       "<p>469 rows × 2 columns</p>\n",
       "</div>"
      ],
      "text/plain": [
       "    ticker  index\n",
       "0      AVA   ^RUA\n",
       "1     BBBY   ^RUA\n",
       "2     CAKE   ^RUA\n",
       "3      CIR   ^RUA\n",
       "4      FBC   ^RUA\n",
       "..     ...    ...\n",
       "234    XEL  ^GSPC\n",
       "235    XOM  ^GSPC\n",
       "236    YUM  ^GSPC\n",
       "237    ZBH  ^GSPC\n",
       "238   ZION  ^GSPC\n",
       "\n",
       "[469 rows x 2 columns]"
      ]
     },
     "execution_count": 100,
     "metadata": {},
     "output_type": "execute_result"
    }
   ],
   "source": [
    "sp500m_tickers = pd.concat(\n",
    "    [rl3000_tickers_added, sp500_tickers_surv],\n",
    "    axis=0\n",
    ")\n",
    "sp500m_tickers"
   ]
  },
  {
   "cell_type": "code",
   "execution_count": 101,
   "metadata": {},
   "outputs": [],
   "source": [
    "sp500m_tickers.to_csv(\n",
    "    \"data/config/baseline_constituents.csv\",\n",
    "    index=False\n",
    ")"
   ]
  }
 ],
 "metadata": {
  "interpreter": {
   "hash": "df2604acf27cccc9bc3890fbb9b23a69556046b1d99e2eacb9b86d7c88d795b0"
  },
  "kernelspec": {
   "display_name": "Python 3 (ipykernel)",
   "language": "python",
   "name": "python3"
  },
  "language_info": {
   "codemirror_mode": {
    "name": "ipython",
    "version": 3
   },
   "file_extension": ".py",
   "mimetype": "text/x-python",
   "name": "python",
   "nbconvert_exporter": "python",
   "pygments_lexer": "ipython3",
   "version": "3.9.12"
  },
  "vscode": {
   "interpreter": {
    "hash": "df2604acf27cccc9bc3890fbb9b23a69556046b1d99e2eacb9b86d7c88d795b0"
   }
  }
 },
 "nbformat": 4,
 "nbformat_minor": 4
}
