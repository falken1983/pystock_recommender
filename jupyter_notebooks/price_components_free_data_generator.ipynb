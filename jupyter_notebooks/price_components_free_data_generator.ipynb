{
 "cells": [
  {
   "cell_type": "markdown",
   "metadata": {
    "id": "vtzMW9orIvns"
   },
   "source": [
    "## 1.3 Price Dataset Construction for each Symbol\n",
    "\n",
    "No premium subscription is needed. Dataset created have a low survivorship bias.\n",
    "\n",
    "### Importers"
   ]
  },
  {
   "cell_type": "code",
   "execution_count": 8,
   "metadata": {
    "colab": {
     "base_uri": "https://localhost:8080/"
    },
    "id": "AUo5Fwg-J4xf",
    "outputId": "00f14cb5-2cfd-4a4f-b331-c525889d7e37"
   },
   "outputs": [],
   "source": [
    "if \"google.colab\" in str(get_ipython()):\n",
    "  print(\"***********************************\")\n",
    "  print(\"Google Colab environment deployment\")\n",
    "  print(\"***********************************\")\n",
    "  !pip install -r requirements.txt\n",
    "  from google.colab import drive\n",
    "  drive.mount('/content/gdrive')\n",
    "  print(\"Google Colab environment deployment\")\n",
    "  root = \"gdrive/MyDrive/\"\n",
    "else: # local or Paperspace Gradient\n",
    "  root = \"\""
   ]
  },
  {
   "cell_type": "code",
   "execution_count": 1,
   "metadata": {
    "id": "VGQXAXO5Ivnx"
   },
   "outputs": [],
   "source": [
    "# General and Particular Imports\n",
    "import pandas as pd\n",
    "import numpy as np\n",
    "import matplotlib.pyplot as plt\n",
    "\n",
    "# Price Data related\n",
    "import re\n",
    "import yfinance as yf\n",
    "import nasdaqdatalink\n",
    "nasdaqdatalink.read_key(filename=\"data/.my_nq_apikey\")\n",
    "\n",
    "from tqdm.auto import tqdm\n",
    "import time\n",
    "from datetime import datetime, timedelta\n",
    "from pandas_datareader import data as pdr\n",
    "yf.pdr_override()\n",
    "\n",
    "# Scraping component timeseries (just tested on local envs)\n",
    "import requests\n",
    "from bs4 import BeautifulSoup\n",
    "import json\n",
    "\n",
    "# Exceptions handling with pkl component_timeseries\n",
    "import glob\n",
    "import os"
   ]
  },
  {
   "cell_type": "markdown",
   "metadata": {},
   "source": [
    "### Time-Series Components\n",
    "\n",
    "Caching components from `BlacRock.cl`"
   ]
  },
  {
   "cell_type": "code",
   "execution_count": null,
   "metadata": {
    "id": "D2NF_SdWIvnz",
    "outputId": "c15a830c-de30-48f6-c65c-39d84b4c95c0"
   },
   "outputs": [],
   "source": [
    "# request page (does not work on Cloud Platforms)\n",
    "try: # to be integrated/merged with index_compo_webscraper\n",
    "    html = requests.get(\"https://www.blackrock.com/cl/productos/239726/#tabsAll\").content\n",
    "    soup = BeautifulSoup(html)\n",
    "\n",
    "    # find available dates\n",
    "    holdings = soup.find(\"div\", {\"id\": \"holdings\"})\n",
    "    dates_div = holdings.find_all(\"div\", \"component-date-list\")[1]\n",
    "    dates_div.find_all(\"option\")\n",
    "    dates = [option.attrs[\"value\"] for option in dates_div.find_all(\"option\")]\n",
    "\n",
    "    # download constituents for each date\n",
    "    constituents = pd.Series(dtype=object)\n",
    "    for date in dates:\n",
    "        resp = requests.get(\n",
    "            f\"https://www.blackrock.com/cl/productos/239726/239726/ishares-core-sp-500-etf/1506433277024.ajax?tab=all&fileType=json&asOfDate={date}\"\n",
    "        ).content[3:]\n",
    "        tickers = json.loads(resp)\n",
    "        tickers = [(arr[0], arr[1]) for arr in tickers['aaData']]\n",
    "        date = datetime.strptime(date, \"%Y%m%d\")\n",
    "        constituents[date] = tickers\n",
    "\n",
    "    constituents = constituents.iloc[::-1] # reverse into cronlogical order\n",
    "    constituents.head()\n",
    "    constituents.to_pickle(\"data/pkl/sp500_component_timeseries.pkl\")\n",
    "except:    \n",
    "    list_of_pkl_files = glob.glob('data/pkl/IVV*') # * means all if need specific format then *.csv\n",
    "    latest_file = max(list_of_pkl_files, key=os.path.getctime)\n",
    "    constituents = pd.read_pickle(root + latest_file)"
   ]
  },
  {
   "cell_type": "markdown",
   "metadata": {},
   "source": [
    "### Time-Series Prices-Volume Data\n",
    "#### Nasdaqdatalink API\n",
    "\n",
    "Downloading Free Data from `nasdaqdatalink` table `WIKI`."
   ]
  },
  {
   "cell_type": "code",
   "execution_count": null,
   "metadata": {
    "id": "_MN7LrG6Ivn1"
   },
   "outputs": [],
   "source": [
    "try:\n",
    "    first_components_date = constituents.index[0]\n",
    "    # we substract one-year to start construction of RPMs from this point (we assume static composition from then)\n",
    "    first_date = first_components_date-timedelta(days=365) \n",
    "    first_date = first_date.strftime(\"%Y-%m-%d\")\n",
    "    \"\"\"\n",
    "    https://data.nasdaq.com/databases/WIKIP/documentation?anchor=overview\n",
    "    Note: As of April 11, 2018 this data feed is no longer actively supported by the Quandl \n",
    "    community. We will continue to host this data feed on Quandl, \n",
    "    but we do not recommend using it for investment or analysis.\n",
    "    \"\"\"\n",
    "    wikip_last_quarter_supported = \"2018-03-31\"\n",
    "\n",
    "    nasdaqdatalink.export_table('WIKI/PRICES', \n",
    "        qopts = {'columns': ['ticker', 'date', 'adj_close', 'adj_volume']}, \n",
    "        date = {'gte': first_date, 'lte': wikip_last_quarter_supported},\n",
    "        filename = \"data/\" + first_date.replace(\"-\",\"\") + \"_WIKI_PRICES.zip\"\n",
    "    )    \n",
    "finally:\n",
    "    lst_of_zip_wikip_files = glob.glob('data/*WIKI_PRICES*zip')\n",
    "    latest_file = max(lst_of_zip_wikip_files, key=os.path.getctime)\n",
    "    wiki = pd.read_csv(root + latest_file, parse_dates=True)    \n",
    "   \n",
    "wiki = dict(tuple(wiki.groupby('ticker')))\n",
    "for ticker in wiki:\n",
    "    wiki[ticker].set_index(\"date\", inplace=True)"
   ]
  },
  {
   "cell_type": "markdown",
   "metadata": {},
   "source": [
    "#### Y! Finance API wrapper `yfinance`\n",
    "\n",
    "Helper functions for the mixing of time-series data. WIKI/PRICES (free dataset) table is restricted till 2018-04-01. Y! Finance quotes (free dataset) is specially sensible to delistings at ealier dates than 2020, thus the mixing with WIKI/PRICES is really needed. \n",
    "\n",
    "`rename table` maps obsolete tickers from `BlackRock.cl` into current tickers available at Y! Finance. Is based on `data/abnormal_tickers_to_analyze.csv` which summarizes findings after manual searches on the internet."
   ]
  },
  {
   "cell_type": "code",
   "execution_count": 30,
   "metadata": {
    "id": "dLRNCao-Ivn1"
   },
   "outputs": [],
   "source": [
    "import time\n",
    "import re\n",
    "\n",
    "yfinance_exceptions = ['GAS', 'HAR', 'CSC', 'EMC', 'GME', 'POM', 'PCL', 'COV', 'ETN', 'COL', 'LLL']\n",
    "nasdaqdl_exceptions = ['IR']\n",
    "\n",
    "def change_ticker(ticker):\n",
    "    rename_table = {\n",
    "        \"-\": \"LPRAX\", # BlackRock LifePath Dynamic Retirement Fund\n",
    "        \"8686\": \"AFL\", # AFLAC\n",
    "        \"4XS\": \"ESRX\", # Express Scripts Holding Company \n",
    "        \"AAZ\": \"APC\", # Anadarko Petroleum Corporation\n",
    "        \"AG4\": \"AGN\", # Allergan plc\n",
    "        \"BFB\": \"BF-B\", # Brown-Forman Corporation\n",
    "        \"BF.B\": \"BF-B\", # Brown-Forman Corporation\n",
    "        \"BF/B\": \"BF-B\", # Brown-Forman Corporation\n",
    "        \"BF_B\" : \"BF-B\", # Brown-Forman Corporation\n",
    "        \"BLD WI\": \"BLD\", # TopBuild Corp.\n",
    "        \"BRKB\": \"BRK-B\", # Berkshire Hathaway Inc.\n",
    "        \"BRK_B\": \"BRK-B\", # Berkshire Hathaway Inc.\n",
    "        \"CC WI\": \"CC\", # The Chemours Company\n",
    "        \"DC7\": \"DFS\", # Discover Financial Services\n",
    "        \"DWDP\": \"DD\", # Discover Financial Services\n",
    "        \"FB\": \"META\",   # Facebook\n",
    "        \"GGQ7\": \"GOOG\", # Alphabet Inc. Class C\n",
    "        \"GEC\": \"GE\", # General Electric\n",
    "        \"HNZ\": \"KHC\", # The Kraft Heinz Company\n",
    "        \"INCO\": \"INTC\", # Intel\n",
    "        \"LOM\": \"LMT\", # Lockheed Martin Corp.\n",
    "        \"LTD\": \"LB\", # L Brands Inc.\n",
    "        \"LTR\": \"L\", # Loews Corporation        \n",
    "        \"MPN\": \"MPC\", # Marathon Petroleum Corp.\n",
    "        \"MYL\": \"VTRS\", # Mylan NV (VIATRIS)\n",
    "        \"MWZ\": \"MET\", # Metlife Inc.\n",
    "        \"MX4A\": \"CME\", # CME Group Inc.\n",
    "        \"NCRA\": \"NWSA\", # News Corporation\n",
    "        \"NTH\": \"NOC\", # Northrop Grumman Crop.\n",
    "        \"PA9\": \"TRV\", # The Travelers Companies, Inc.\n",
    "        \"QCI\": \"QCOM\", # Qualcomm Inc.\n",
    "        \"RN7\": \"RF\", # Regions Financial Corp\n",
    "        \"RTN\" : \"RTX\", # Raytheon\n",
    "        \"SLBA\": \"SLB\", # Schlumberger Limited\n",
    "        \"SYF-W\": \"SYF\", # Synchrony Financial\n",
    "        \"SWG\": \"SCHW\", # The Charles Schwab Corporation \n",
    "        \"UAC/C\": \"UAA\", # Under Armour Inc Class A\n",
    "        \"UBSFT\": \"UBSFY\", # Ubisoft Entertainment\n",
    "        \"USX1\": \"X\", # United States Steel Corporation\n",
    "        \"UUM\": \"UNM\", # Unum Group\n",
    "        \"VISA\": \"V\", # Visa Inc         \n",
    "        \"VIAC\": \"VIA\", # viacom\n",
    "        \"WLTW\": \"WTW\" # Willis Towers Watson                \n",
    "    }\n",
    "    if ticker in rename_table:\n",
    "        fix = rename_table[ticker]\n",
    "    else:\n",
    "        fix = re.sub(r'[^A-Z]+', '', ticker)\n",
    "    return fix\n",
    "\n",
    "def yfinance_data(ticker, start, end):    \n",
    "    ticker = change_ticker(ticker)\n",
    "    # abnormal quotes from yfinance or bad mixing with nasdaqdl\n",
    "    if ticker in yfinance_exceptions: \n",
    "        return None    \n",
    "    try:\n",
    "        df = pdr.get_data_yahoo(ticker, start, end, progress=False, show_errors=False, timeout=0.5) \n",
    "    except:\n",
    "        time.sleep(1)\n",
    "        try:            \n",
    "            df = pdr.get_data_yahoo(ticker, start, end, progress=False, show_errors=False, timeout=0.5)\n",
    "        except:\n",
    "            return None\n",
    "    # adjust close using adj close\n",
    "    adjfactor = df[\"Close\"] / df[\"Adj Close\"]    \n",
    "    df[\"Close\"] = df[\"Adj Close\"]\n",
    "    df[\"Volume\"] *= adjfactor\n",
    "    df = df.drop([\"Adj Close\", \"Open\", \"High\", \"Low\"], axis=1)\n",
    "    df = df.rename(str.lower, axis='columns')\n",
    "    df.index.rename('date', inplace=True)    \n",
    "    return df\n",
    "\n",
    "def nasdaqdl_data(ticker, start, end):    \n",
    "    # abnormal quotes from yfinance or bad mixing with nasdaqdl (because of splittings a posteriori)\n",
    "    if ticker in nasdaqdl_exceptions: \n",
    "        return None    \n",
    "    if ticker in wiki:\n",
    "        df = wiki[ticker][start:end]\n",
    "    else:\n",
    "        ticker = change_ticker(ticker)\n",
    "        if ticker in wiki:\n",
    "            df = wiki[ticker][start:end]\n",
    "        else:\n",
    "            return None\n",
    "    df = df.drop(['ticker'], axis=1)\n",
    "    df = df.rename(index=str, columns={\"adj_close\": \"close\",\"adj_volume\": \"volume\"})\n",
    "    return df"
   ]
  },
  {
   "cell_type": "markdown",
   "metadata": {},
   "source": [
    "#### Main Procedure (in review)\n",
    "Daily returns quotes are filled on a conditional time-series basis. \n",
    "In this way, `notna()` values only appear the times when the stock is included in the replicating ETF portfolio (e.g. BlackRock `IVV`, the ETF which replicates S&P500)"
   ]
  },
  {
   "cell_type": "code",
   "execution_count": null,
   "metadata": {
    "colab": {
     "base_uri": "https://localhost:8080/",
     "height": 1000,
     "referenced_widgets": [
      "20c3d09a48f1431eb9b1c976e5ee4309",
      "046c7fbf10c6472fa8167aed3faabc5e",
      "75a6ed758f354da897078205a44fdbfd",
      "6ef0abf0d00040049110360849f2745e",
      "7464bfb41e5d448384488b7b1e52c1ab",
      "4e5919c9a5c84b6aa5b9bdb8b9b8a453",
      "2663c2ee31af4418ae5677a38dd1c5e8",
      "55496d22c3c94fe589082521cd35ceae",
      "cf9a1e826e854386b3f098c8d512b509",
      "2e20a2e85303487f8c80a1f044ef1644",
      "b38a4cbc11d743c6a1fb4f8a76191ee7"
     ]
    },
    "id": "kpvkPubyIvn3",
    "outputId": "47d6a88d-19b3-4347-fe07-5e5956517cc0"
   },
   "outputs": [],
   "source": [
    "from tqdm.auto import tqdm\n",
    "data = {}\n",
    "skips = set()\n",
    "\n",
    "constituents = constituents[\"2011-06-01\":]\n",
    "\"\"\"\n",
    "Fast Manual Checks for Ticker Price Data Availability\n",
    "subsetting = [\"LLL\", \"AIV\", \"VIA\", \"IR\", \"LUMN\"]                \n",
    "\"\"\"    \n",
    "subsetting = []                \n",
    "global_excludes = [\"CBE\", \"TIE\", \"BMC\"]   # bad quotes in both nasdaqdl and yfinance sources\n",
    "\n",
    "query = []\n",
    "dates = []\n",
    "\n",
    "for i in tqdm(range(0, len(constituents) - 1)):\n",
    "    start = str(constituents.index[i].date())\n",
    "    end = str((constituents.index[i + 1].to_pydatetime() - timedelta(days=1)).date())\n",
    "\n",
    "    tickers_supported = 0    \n",
    "    for counter, company in enumerate(constituents[i]):        \n",
    "        if change_ticker(company[0]) not in subsetting and len(subsetting)!=0:       \n",
    "            continue        \n",
    "        if company[0] in global_excludes: # Company with bad behaviour for Quotes in Y! Finance (TBR)\n",
    "            continue\n",
    "        if company in skips:\n",
    "            continue                \n",
    "        df = yfinance_data(company[0], start, end);                \n",
    "        if df is None or df.empty:\n",
    "            df = nasdaqdl_data(company[0], start, end);                \n",
    "        if df is None or df.empty:\n",
    "            skips.add(company)\n",
    "            continue        \n",
    "        if change_ticker(company[0]) in data:\n",
    "            data[change_ticker(company[0])]  = pd.concat([data[change_ticker(company[0])],df])\n",
    "        else:\n",
    "            data[change_ticker(company[0])] = df        \n",
    "        tickers_supported+=1\n",
    "\n",
    "    print(f\"{start}, tickers cached {tickers_supported}\")    \n",
    "    query.append(tickers_supported)        \n",
    "    dates.append(start)\n",
    "\n",
    "print(skips)  "
   ]
  },
  {
   "cell_type": "code",
   "execution_count": 32,
   "metadata": {},
   "outputs": [],
   "source": [
    "pd.DataFrame({\"start\": dates, \"ntickers\": query}).to_csv(root + \"data/sp500_components_cached.csv\", index=False)\n",
    "skips_df = pd.DataFrame(skips, columns=[\"ticker\", \"company\"])\n",
    "skips_df.sort_values(by=\"ticker\").drop_duplicates(subset=\"ticker\").to_csv(\"data/skips_alltimes.csv\", index=False)"
   ]
  },
  {
   "cell_type": "code",
   "execution_count": 33,
   "metadata": {
    "colab": {
     "base_uri": "https://localhost:8080/"
    },
    "id": "ASdxsOGQIvn5",
    "outputId": "e17c32e4-7dee-4d06-b6ca-8d015bfaa8ea"
   },
   "outputs": [],
   "source": [
    "for ticker, df in data.items():\n",
    "    df = df.reset_index().drop_duplicates(subset='date').set_index('date')\n",
    "    df.to_csv(root + f\"data/{change_ticker(ticker)}.csv\")\n",
    "    data[ticker] = df\n",
    "tickers = [change_ticker(ticker) for ticker in data.keys()]\n",
    "pd.Series(tickers).to_csv(root + \"data/tickers.csv\", index=False)"
   ]
  },
  {
   "cell_type": "markdown",
   "metadata": {},
   "source": [
    "### Further Checks"
   ]
  },
  {
   "cell_type": "markdown",
   "metadata": {},
   "source": [
    "##### Manual Loading (Offline Reloading) (in review)\n"
   ]
  },
  {
   "cell_type": "markdown",
   "metadata": {},
   "source": [
    "1. Catching Symbols"
   ]
  },
  {
   "cell_type": "code",
   "execution_count": 3,
   "metadata": {},
   "outputs": [],
   "source": [
    "tickers = pd.read_csv(\"data/tickers.csv\", usecols=[1], header=0, names=[\"symbols\"])[\"symbols\"].to_list()"
   ]
  },
  {
   "cell_type": "markdown",
   "metadata": {},
   "source": [
    "2. Equity Line Construction (Compouding Daily Returns through Time) and Comparison"
   ]
  },
  {
   "cell_type": "code",
   "execution_count": 6,
   "metadata": {
    "colab": {
     "base_uri": "https://localhost:8080/",
     "height": 563
    },
    "id": "bMoIRIlgIvn6",
    "outputId": "07efb020-4baf-4f98-8509-01a6100da73e"
   },
   "outputs": [
    {
     "name": "stdout",
     "output_type": "stream",
     "text": [
      "[*********************100%***********************]  1 of 1 completed\n"
     ]
    },
    {
     "data": {
      "image/png": "[encoded data removed]",
      "text/plain": [
       "<Figure size 1512x648 with 1 Axes>"
      ]
     },
     "metadata": {
      "needs_background": "light"
     },
     "output_type": "display_data"
    }
   ],
   "source": [
    "sim_rsp = (\n",
    "    (pd.concat([pd.read_csv(f\"data/{ticker}.csv\", index_col='date', parse_dates=True)['close'].pct_change() for ticker in tickers],\n",
    "        axis=1,\n",
    "        sort=True,\n",
    "    ).mean(axis=1, skipna=True) + 1)\n",
    "    .cumprod()\n",
    "    .rename(\"SIM\")\n",
    ")\n",
    "\n",
    "fee = 0.002/252 # BlackRock ETF annul fee 2% p.a.\n",
    "\n",
    "rsp = (\n",
    "    (pdr.get_data_yahoo(\"RSP\", sim_rsp.index[0], sim_rsp.index[-1])[\"Adj Close\"].pct_change() + fee + 1)  \n",
    "    .cumprod()\n",
    "    .rename(\"RSP\")\n",
    ")\n",
    "\n",
    "sim_rsp.plot(legend=True, title=\"RSP (S&P500) vs. Low Survivorship-Biased Strategy\", figsize=(21, 9))\n",
    "rsp.plot(legend=True)\n",
    "plt.grid();"
   ]
  },
  {
   "cell_type": "markdown",
   "metadata": {},
   "source": [
    "4. Joining all the histories of percent daily returns for Labelling and Features Construction"
   ]
  },
  {
   "cell_type": "code",
   "execution_count": 9,
   "metadata": {
    "id": "6rDlSR9bIvn7"
   },
   "outputs": [],
   "source": [
    "pictionary = {ticker: pd.read_csv(root + f\"data/{ticker}.csv\", index_col='date', parse_dates=True)['close'].pct_change() for ticker in tickers}\n",
    "df = pd.DataFrame(pictionary)"
   ]
  },
  {
   "cell_type": "code",
   "execution_count": 16,
   "metadata": {},
   "outputs": [
    {
     "data": {
      "text/html": [
       "<div>\n",
       "<style scoped>\n",
       "    .dataframe tbody tr th:only-of-type {\n",
       "        vertical-align: middle;\n",
       "    }\n",
       "\n",
       "    .dataframe tbody tr th {\n",
       "        vertical-align: top;\n",
       "    }\n",
       "\n",
       "    .dataframe thead th {\n",
       "        text-align: right;\n",
       "    }\n",
       "</style>\n",
       "<table border=\"1\" class=\"dataframe\">\n",
       "  <thead>\n",
       "    <tr style=\"text-align: right;\">\n",
       "      <th></th>\n",
       "      <th>GHC</th>\n",
       "      <th>AZO</th>\n",
       "      <th>CMG</th>\n",
       "      <th>ISRG</th>\n",
       "      <th>SHLDQ</th>\n",
       "      <th>NFLX</th>\n",
       "      <th>GAS</th>\n",
       "      <th>DNB</th>\n",
       "      <th>PCLN</th>\n",
       "      <th>R</th>\n",
       "    </tr>\n",
       "    <tr>\n",
       "      <th>date</th>\n",
       "      <th></th>\n",
       "      <th></th>\n",
       "      <th></th>\n",
       "      <th></th>\n",
       "      <th></th>\n",
       "      <th></th>\n",
       "      <th></th>\n",
       "      <th></th>\n",
       "      <th></th>\n",
       "      <th></th>\n",
       "    </tr>\n",
       "  </thead>\n",
       "  <tbody>\n",
       "    <tr>\n",
       "      <th>2011-06-29</th>\n",
       "      <td>NaN</td>\n",
       "      <td>NaN</td>\n",
       "      <td>NaN</td>\n",
       "      <td>NaN</td>\n",
       "      <td>NaN</td>\n",
       "      <td>NaN</td>\n",
       "      <td>NaN</td>\n",
       "      <td>NaN</td>\n",
       "      <td>NaN</td>\n",
       "      <td>NaN</td>\n",
       "    </tr>\n",
       "    <tr>\n",
       "      <th>2011-06-30</th>\n",
       "      <td>0.003594</td>\n",
       "      <td>0.012117</td>\n",
       "      <td>0.012251</td>\n",
       "      <td>0.010071</td>\n",
       "      <td>0.025111</td>\n",
       "      <td>-0.008493</td>\n",
       "      <td>NaN</td>\n",
       "      <td>NaN</td>\n",
       "      <td>NaN</td>\n",
       "      <td>0.033636</td>\n",
       "    </tr>\n",
       "    <tr>\n",
       "      <th>2011-07-01</th>\n",
       "      <td>0.007781</td>\n",
       "      <td>0.009395</td>\n",
       "      <td>0.024433</td>\n",
       "      <td>0.017576</td>\n",
       "      <td>0.009658</td>\n",
       "      <td>0.020176</td>\n",
       "      <td>0.019406</td>\n",
       "      <td>0.008432</td>\n",
       "      <td>0.025136</td>\n",
       "      <td>0.030783</td>\n",
       "    </tr>\n",
       "    <tr>\n",
       "      <th>2011-07-05</th>\n",
       "      <td>-0.006276</td>\n",
       "      <td>-0.001613</td>\n",
       "      <td>0.018149</td>\n",
       "      <td>0.007183</td>\n",
       "      <td>-0.018855</td>\n",
       "      <td>0.080749</td>\n",
       "      <td>0.006024</td>\n",
       "      <td>-0.007525</td>\n",
       "      <td>0.020145</td>\n",
       "      <td>-0.015358</td>\n",
       "    </tr>\n",
       "    <tr>\n",
       "      <th>2011-07-06</th>\n",
       "      <td>-0.005291</td>\n",
       "      <td>0.002053</td>\n",
       "      <td>0.010857</td>\n",
       "      <td>-0.001311</td>\n",
       "      <td>0.003109</td>\n",
       "      <td>0.004592</td>\n",
       "      <td>0.006946</td>\n",
       "      <td>0.006318</td>\n",
       "      <td>0.001420</td>\n",
       "      <td>0.004333</td>\n",
       "    </tr>\n",
       "  </tbody>\n",
       "</table>\n",
       "</div>"
      ],
      "text/plain": [
       "                 GHC       AZO       CMG      ISRG     SHLDQ      NFLX  \\\n",
       "date                                                                     \n",
       "2011-06-29       NaN       NaN       NaN       NaN       NaN       NaN   \n",
       "2011-06-30  0.003594  0.012117  0.012251  0.010071  0.025111 -0.008493   \n",
       "2011-07-01  0.007781  0.009395  0.024433  0.017576  0.009658  0.020176   \n",
       "2011-07-05 -0.006276 -0.001613  0.018149  0.007183 -0.018855  0.080749   \n",
       "2011-07-06 -0.005291  0.002053  0.010857 -0.001311  0.003109  0.004592   \n",
       "\n",
       "                 GAS       DNB      PCLN         R  \n",
       "date                                                \n",
       "2011-06-29       NaN       NaN       NaN       NaN  \n",
       "2011-06-30       NaN       NaN       NaN  0.033636  \n",
       "2011-07-01  0.019406  0.008432  0.025136  0.030783  \n",
       "2011-07-05  0.006024 -0.007525  0.020145 -0.015358  \n",
       "2011-07-06  0.006946  0.006318  0.001420  0.004333  "
      ]
     },
     "execution_count": 16,
     "metadata": {},
     "output_type": "execute_result"
    }
   ],
   "source": [
    "df.iloc[:,:10].head()"
   ]
  }
 ],
 "metadata": {
  "colab": {
   "collapsed_sections": [],
   "name": "price_components_data_quality_checks_blog.ipynb",
   "provenance": []
  },
  "kernelspec": {
   "display_name": "Python 3.9.12 ('base')",
   "language": "python",
   "name": "python3"
  },
  "language_info": {
   "codemirror_mode": {
    "name": "ipython",
    "version": 3
   },
   "file_extension": ".py",
   "mimetype": "text/x-python",
   "name": "python",
   "nbconvert_exporter": "python",
   "pygments_lexer": "ipython3",
   "version": "3.9.12"
  },
  "vscode": {
   "interpreter": {
    "hash": "df2604acf27cccc9bc3890fbb9b23a69556046b1d99e2eacb9b86d7c88d795b0"
   }
  },
  "widgets": {
   "application/vnd.jupyter.widget-state+json": {
    "046c7fbf10c6472fa8167aed3faabc5e": {
     "model_module": "@jupyter-widgets/controls",
     "model_module_version": "1.5.0",
     "model_name": "HTMLModel",
     "state": {
      "_dom_classes": [],
      "_model_module": "@jupyter-widgets/controls",
      "_model_module_version": "1.5.0",
      "_model_name": "HTMLModel",
      "_view_count": null,
      "_view_module": "@jupyter-widgets/controls",
      "_view_module_version": "1.5.0",
      "_view_name": "HTMLView",
      "description": "",
      "description_tooltip": null,
      "layout": "IPY_MODEL_4e5919c9a5c84b6aa5b9bdb8b9b8a453",
      "placeholder": "​",
      "style": "IPY_MODEL_2663c2ee31af4418ae5677a38dd1c5e8",
      "value": "100%"
     }
    },
    "20c3d09a48f1431eb9b1c976e5ee4309": {
     "model_module": "@jupyter-widgets/controls",
     "model_module_version": "1.5.0",
     "model_name": "HBoxModel",
     "state": {
      "_dom_classes": [],
      "_model_module": "@jupyter-widgets/controls",
      "_model_module_version": "1.5.0",
      "_model_name": "HBoxModel",
      "_view_count": null,
      "_view_module": "@jupyter-widgets/controls",
      "_view_module_version": "1.5.0",
      "_view_name": "HBoxView",
      "box_style": "",
      "children": [
       "IPY_MODEL_046c7fbf10c6472fa8167aed3faabc5e",
       "IPY_MODEL_75a6ed758f354da897078205a44fdbfd",
       "IPY_MODEL_6ef0abf0d00040049110360849f2745e"
      ],
      "layout": "IPY_MODEL_7464bfb41e5d448384488b7b1e52c1ab"
     }
    },
    "2663c2ee31af4418ae5677a38dd1c5e8": {
     "model_module": "@jupyter-widgets/controls",
     "model_module_version": "1.5.0",
     "model_name": "DescriptionStyleModel",
     "state": {
      "_model_module": "@jupyter-widgets/controls",
      "_model_module_version": "1.5.0",
      "_model_name": "DescriptionStyleModel",
      "_view_count": null,
      "_view_module": "@jupyter-widgets/base",
      "_view_module_version": "1.2.0",
      "_view_name": "StyleView",
      "description_width": ""
     }
    },
    "2e20a2e85303487f8c80a1f044ef1644": {
     "model_module": "@jupyter-widgets/base",
     "model_module_version": "1.2.0",
     "model_name": "LayoutModel",
     "state": {
      "_model_module": "@jupyter-widgets/base",
      "_model_module_version": "1.2.0",
      "_model_name": "LayoutModel",
      "_view_count": null,
      "_view_module": "@jupyter-widgets/base",
      "_view_module_version": "1.2.0",
      "_view_name": "LayoutView",
      "align_content": null,
      "align_items": null,
      "align_self": null,
      "border": null,
      "bottom": null,
      "display": null,
      "flex": null,
      "flex_flow": null,
      "grid_area": null,
      "grid_auto_columns": null,
      "grid_auto_flow": null,
      "grid_auto_rows": null,
      "grid_column": null,
      "grid_gap": null,
      "grid_row": null,
      "grid_template_areas": null,
      "grid_template_columns": null,
      "grid_template_rows": null,
      "height": null,
      "justify_content": null,
      "justify_items": null,
      "left": null,
      "margin": null,
      "max_height": null,
      "max_width": null,
      "min_height": null,
      "min_width": null,
      "object_fit": null,
      "object_position": null,
      "order": null,
      "overflow": null,
      "overflow_x": null,
      "overflow_y": null,
      "padding": null,
      "right": null,
      "top": null,
      "visibility": null,
      "width": null
     }
    },
    "4e5919c9a5c84b6aa5b9bdb8b9b8a453": {
     "model_module": "@jupyter-widgets/base",
     "model_module_version": "1.2.0",
     "model_name": "LayoutModel",
     "state": {
      "_model_module": "@jupyter-widgets/base",
      "_model_module_version": "1.2.0",
      "_model_name": "LayoutModel",
      "_view_count": null,
      "_view_module": "@jupyter-widgets/base",
      "_view_module_version": "1.2.0",
      "_view_name": "LayoutView",
      "align_content": null,
      "align_items": null,
      "align_self": null,
      "border": null,
      "bottom": null,
      "display": null,
      "flex": null,
      "flex_flow": null,
      "grid_area": null,
      "grid_auto_columns": null,
      "grid_auto_flow": null,
      "grid_auto_rows": null,
      "grid_column": null,
      "grid_gap": null,
      "grid_row": null,
      "grid_template_areas": null,
      "grid_template_columns": null,
      "grid_template_rows": null,
      "height": null,
      "justify_content": null,
      "justify_items": null,
      "left": null,
      "margin": null,
      "max_height": null,
      "max_width": null,
      "min_height": null,
      "min_width": null,
      "object_fit": null,
      "object_position": null,
      "order": null,
      "overflow": null,
      "overflow_x": null,
      "overflow_y": null,
      "padding": null,
      "right": null,
      "top": null,
      "visibility": null,
      "width": null
     }
    },
    "55496d22c3c94fe589082521cd35ceae": {
     "model_module": "@jupyter-widgets/base",
     "model_module_version": "1.2.0",
     "model_name": "LayoutModel",
     "state": {
      "_model_module": "@jupyter-widgets/base",
      "_model_module_version": "1.2.0",
      "_model_name": "LayoutModel",
      "_view_count": null,
      "_view_module": "@jupyter-widgets/base",
      "_view_module_version": "1.2.0",
      "_view_name": "LayoutView",
      "align_content": null,
      "align_items": null,
      "align_self": null,
      "border": null,
      "bottom": null,
      "display": null,
      "flex": null,
      "flex_flow": null,
      "grid_area": null,
      "grid_auto_columns": null,
      "grid_auto_flow": null,
      "grid_auto_rows": null,
      "grid_column": null,
      "grid_gap": null,
      "grid_row": null,
      "grid_template_areas": null,
      "grid_template_columns": null,
      "grid_template_rows": null,
      "height": null,
      "justify_content": null,
      "justify_items": null,
      "left": null,
      "margin": null,
      "max_height": null,
      "max_width": null,
      "min_height": null,
      "min_width": null,
      "object_fit": null,
      "object_position": null,
      "order": null,
      "overflow": null,
      "overflow_x": null,
      "overflow_y": null,
      "padding": null,
      "right": null,
      "top": null,
      "visibility": null,
      "width": null
     }
    },
    "6ef0abf0d00040049110360849f2745e": {
     "model_module": "@jupyter-widgets/controls",
     "model_module_version": "1.5.0",
     "model_name": "HTMLModel",
     "state": {
      "_dom_classes": [],
      "_model_module": "@jupyter-widgets/controls",
      "_model_module_version": "1.5.0",
      "_model_name": "HTMLModel",
      "_view_count": null,
      "_view_module": "@jupyter-widgets/controls",
      "_view_module_version": "1.5.0",
      "_view_name": "HTMLView",
      "description": "",
      "description_tooltip": null,
      "layout": "IPY_MODEL_2e20a2e85303487f8c80a1f044ef1644",
      "placeholder": "​",
      "style": "IPY_MODEL_b38a4cbc11d743c6a1fb4f8a76191ee7",
      "value": " 129/129 [2:47:12&lt;00:00, 184.07s/it]"
     }
    },
    "7464bfb41e5d448384488b7b1e52c1ab": {
     "model_module": "@jupyter-widgets/base",
     "model_module_version": "1.2.0",
     "model_name": "LayoutModel",
     "state": {
      "_model_module": "@jupyter-widgets/base",
      "_model_module_version": "1.2.0",
      "_model_name": "LayoutModel",
      "_view_count": null,
      "_view_module": "@jupyter-widgets/base",
      "_view_module_version": "1.2.0",
      "_view_name": "LayoutView",
      "align_content": null,
      "align_items": null,
      "align_self": null,
      "border": null,
      "bottom": null,
      "display": null,
      "flex": null,
      "flex_flow": null,
      "grid_area": null,
      "grid_auto_columns": null,
      "grid_auto_flow": null,
      "grid_auto_rows": null,
      "grid_column": null,
      "grid_gap": null,
      "grid_row": null,
      "grid_template_areas": null,
      "grid_template_columns": null,
      "grid_template_rows": null,
      "height": null,
      "justify_content": null,
      "justify_items": null,
      "left": null,
      "margin": null,
      "max_height": null,
      "max_width": null,
      "min_height": null,
      "min_width": null,
      "object_fit": null,
      "object_position": null,
      "order": null,
      "overflow": null,
      "overflow_x": null,
      "overflow_y": null,
      "padding": null,
      "right": null,
      "top": null,
      "visibility": null,
      "width": null
     }
    },
    "75a6ed758f354da897078205a44fdbfd": {
     "model_module": "@jupyter-widgets/controls",
     "model_module_version": "1.5.0",
     "model_name": "FloatProgressModel",
     "state": {
      "_dom_classes": [],
      "_model_module": "@jupyter-widgets/controls",
      "_model_module_version": "1.5.0",
      "_model_name": "FloatProgressModel",
      "_view_count": null,
      "_view_module": "@jupyter-widgets/controls",
      "_view_module_version": "1.5.0",
      "_view_name": "ProgressView",
      "bar_style": "success",
      "description": "",
      "description_tooltip": null,
      "layout": "IPY_MODEL_55496d22c3c94fe589082521cd35ceae",
      "max": 129,
      "min": 0,
      "orientation": "horizontal",
      "style": "IPY_MODEL_cf9a1e826e854386b3f098c8d512b509",
      "value": 129
     }
    },
    "b38a4cbc11d743c6a1fb4f8a76191ee7": {
     "model_module": "@jupyter-widgets/controls",
     "model_module_version": "1.5.0",
     "model_name": "DescriptionStyleModel",
     "state": {
      "_model_module": "@jupyter-widgets/controls",
      "_model_module_version": "1.5.0",
      "_model_name": "DescriptionStyleModel",
      "_view_count": null,
      "_view_module": "@jupyter-widgets/base",
      "_view_module_version": "1.2.0",
      "_view_name": "StyleView",
      "description_width": ""
     }
    },
    "cf9a1e826e854386b3f098c8d512b509": {
     "model_module": "@jupyter-widgets/controls",
     "model_module_version": "1.5.0",
     "model_name": "ProgressStyleModel",
     "state": {
      "_model_module": "@jupyter-widgets/controls",
      "_model_module_version": "1.5.0",
      "_model_name": "ProgressStyleModel",
      "_view_count": null,
      "_view_module": "@jupyter-widgets/base",
      "_view_module_version": "1.2.0",
      "_view_name": "StyleView",
      "bar_color": null,
      "description_width": ""
     }
    }
   }
  }
 },
 "nbformat": 4,
 "nbformat_minor": 4
}
