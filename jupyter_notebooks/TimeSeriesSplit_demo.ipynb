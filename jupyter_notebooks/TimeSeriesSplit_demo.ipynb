{
 "cells": [
  {
   "cell_type": "markdown",
   "metadata": {},
   "source": [
    "# The Time-Series Cross-Validation First ProtoType"
   ]
  },
  {
   "cell_type": "code",
   "execution_count": 2,
   "metadata": {},
   "outputs": [],
   "source": [
    "import pandas as pd\n",
    "import numpy as np\n",
    "import matplotlib.pyplot as plt\n",
    "\n",
    "from sklearn.model_selection import TimeSeriesSplit\n"
   ]
  },
  {
   "cell_type": "code",
   "execution_count": 3,
   "metadata": {},
   "outputs": [],
   "source": [
    "return_data = pd.read_csv(\n",
    "    \"data/config/20220831_last_dataset_monthly.csv\",\n",
    "    parse_dates=True\n",
    ")"
   ]
  },
  {
   "cell_type": "code",
   "execution_count": 5,
   "metadata": {},
   "outputs": [
    {
     "name": "stdout",
     "output_type": "stream",
     "text": [
      "['Date', 'symbols', 'RRET1M', 'RRET2M', 'RRET3M', 'RRET6M', 'RRET12M', 'SRET1M', 'SRET2M', 'SRET3M', 'SRET6M', 'SRET12M', 'ISR3M', 'ISR6M', 'ISR12M', 'raw_ret_nextmonth', 'scaled_ret_nextmonth', 'ISC3M', 'ISC6M', 'ISC12M', 'ISR6M_nexmonth', 'ISR12M_nexmonth']\n"
     ]
    }
   ],
   "source": [
    "print(return_data.columns.tolist())"
   ]
  },
  {
   "cell_type": "code",
   "execution_count": 28,
   "metadata": {},
   "outputs": [],
   "source": [
    "# Based on linear correlations and allowing for certain multicolinearity\n",
    "naive_fs = [\n",
    "    \"Date\", \"symbols\",              # categorical variables to help slicing and possibly enhance training capabilities\n",
    "    'RRET3M', 'RRET6M', 'RRET12M', # raw cumulative returns over 3M, 6M, 12M\n",
    "    'SRET3M', 'SRET6M', 'SRET12M', # scaled by EW volatility\n",
    "    'ISR3M', 'ISR6M', 'ISR12M' # Sharpe Ratios (with Israelsen trick) over 3M, 6M, 12M\n",
    "]\n",
    "\n",
    "target = ['ISR12M_nexmonth']"
   ]
  },
  {
   "cell_type": "code",
   "execution_count": 47,
   "metadata": {},
   "outputs": [],
   "source": [
    "# Discarding piece of data for pure testing purposes (last 3y)\n",
    "X = return_data[return_data[\"Date\"]<\"2019-10-31\"].loc[:,naive_fs]\n",
    "y = return_data[return_data[\"Date\"]<\"2019-10-31\"].loc[:,target]"
   ]
  },
  {
   "cell_type": "markdown",
   "metadata": {},
   "source": [
    "## Tricking `TimeSeriesSplit()` For Rolling Window Scheme with Forward Validation"
   ]
  },
  {
   "cell_type": "code",
   "execution_count": 58,
   "metadata": {},
   "outputs": [
    {
     "name": "stdout",
     "output_type": "stream",
     "text": [
      "TimeSeriesSplit(gap=0, max_train_size=16884, n_splits=9, test_size=5628)\n"
     ]
    }
   ],
   "source": [
    "# Some Experiments with TimeSeriesSplit\n",
    "instancies_by_date = return_data[\"symbols\"].nunique()\n",
    "\n",
    "test_size_ = instancies_by_date*12          # Fixing test_size to 1y each fold (split)\n",
    "max_train_size_ = instancies_by_date*12*3   # Fixing max_train_size to 3y each fold (split)\n",
    "\n",
    "tscv = TimeSeriesSplit(\n",
    "    max_train_size = max_train_size_,\n",
    "    test_size=test_size_,\n",
    "    n_splits=9\n",
    ")\n",
    "\n",
    "print(tscv)"
   ]
  },
  {
   "cell_type": "code",
   "execution_count": 59,
   "metadata": {},
   "outputs": [
    {
     "name": "stdout",
     "output_type": "stream",
     "text": [
      "TRAIN: [    0     1     2 ... 16881 16882 16883] TEST: [16884 16885 16886 ... 22509 22510 22511]\n",
      "TRAIN: [ 5628  5629  5630 ... 22509 22510 22511] TEST: [22512 22513 22514 ... 28137 28138 28139]\n",
      "TRAIN: [11256 11257 11258 ... 28137 28138 28139] TEST: [28140 28141 28142 ... 33765 33766 33767]\n",
      "TRAIN: [16884 16885 16886 ... 33765 33766 33767] TEST: [33768 33769 33770 ... 39393 39394 39395]\n",
      "TRAIN: [22512 22513 22514 ... 39393 39394 39395] TEST: [39396 39397 39398 ... 45021 45022 45023]\n",
      "TRAIN: [28140 28141 28142 ... 45021 45022 45023] TEST: [45024 45025 45026 ... 50649 50650 50651]\n",
      "TRAIN: [33768 33769 33770 ... 50649 50650 50651] TEST: [50652 50653 50654 ... 56277 56278 56279]\n",
      "TRAIN: [39396 39397 39398 ... 56277 56278 56279] TEST: [56280 56281 56282 ... 61905 61906 61907]\n",
      "TRAIN: [45024 45025 45026 ... 61905 61906 61907] TEST: [61908 61909 61910 ... 67533 67534 67535]\n"
     ]
    }
   ],
   "source": [
    "for train_index, test_index in tscv.split(X):\n",
    "    print(\"TRAIN:\", train_index, \"TEST:\", test_index)\n",
    "    X_train, X_test = X.iloc[train_index,:], X.iloc[test_index,:]\n",
    "    y_train, y_test = y.iloc[train_index,:], y.iloc[test_index,:]"
   ]
  },
  {
   "cell_type": "code",
   "execution_count": 50,
   "metadata": {},
   "outputs": [
    {
     "data": {
      "text/plain": [
       "12.0"
      ]
     },
     "execution_count": 50,
     "metadata": {},
     "output_type": "execute_result"
    }
   ],
   "source": [
    "X.shape[0]/(12*469)\n"
   ]
  },
  {
   "cell_type": "code",
   "execution_count": 60,
   "metadata": {},
   "outputs": [
    {
     "data": {
      "text/plain": [
       "1.0"
      ]
     },
     "execution_count": 60,
     "metadata": {},
     "output_type": "execute_result"
    }
   ],
   "source": [
    "5628/(12*469)"
   ]
  },
  {
   "cell_type": "code",
   "execution_count": 68,
   "metadata": {},
   "outputs": [],
   "source": [
    "def plot_cv_indices(cv, X, ax, n_splits, lw=10):\n",
    "    \"\"\"Create a sample plot for indices of a cross-validation object.\"\"\"\n",
    "\n",
    "    # Generate the training/testing visualizations for each CV split\n",
    "    for ii, (tr, tt) in enumerate(cv.split(X=X)):\n",
    "        # Fill in indices with the training/test groups\n",
    "        indices = np.array([np.nan] * len(X))\n",
    "        indices[tt] = 1\n",
    "        indices[tr] = 0\n",
    "\n",
    "        # Visualize the results\n",
    "        ax.scatter(\n",
    "            range(len(indices)),\n",
    "            [ii + 0.5] * len(indices),\n",
    "            c=indices,\n",
    "            marker=\"_\",\n",
    "            lw=lw,\n",
    "            cmap=plt.cm.coolwarm,\n",
    "            vmin=-0.2,\n",
    "            vmax=1.2,\n",
    "        )\n",
    "\n",
    "        # Formatting\n",
    "    yticklabels = list(range(n_splits))\n",
    "    ax.set(\n",
    "        yticks=np.arange(n_splits) + 0.5,\n",
    "        yticklabels=yticklabels,\n",
    "        xlabel=\"Sample index\",\n",
    "        ylabel=\"CV iteration\",\n",
    "        ylim=[n_splits + 0.2, -0.2],\n",
    "        xlim=[0, X.shape[0]],\n",
    "    )\n",
    "    ax.set_title(\"{}\".format(type(cv).__name__), fontsize=15)\n",
    "    return ax"
   ]
  },
  {
   "cell_type": "code",
   "execution_count": 71,
   "metadata": {},
   "outputs": [
    {
     "data": {
      "image/png": "[encoded data removed]",
      "text/plain": [
       "<Figure size 1512x648 with 1 Axes>"
      ]
     },
     "metadata": {
      "needs_background": "light"
     },
     "output_type": "display_data"
    }
   ],
   "source": [
    "fig, ax = plt.subplots(figsize=(21,9))\n",
    "plot_cv_indices(tscv, X, ax, 9);"
   ]
  }
 ],
 "metadata": {
  "kernelspec": {
   "display_name": "Python 3.9.12 ('base')",
   "language": "python",
   "name": "python3"
  },
  "language_info": {
   "codemirror_mode": {
    "name": "ipython",
    "version": 3
   },
   "file_extension": ".py",
   "mimetype": "text/x-python",
   "name": "python",
   "nbconvert_exporter": "python",
   "pygments_lexer": "ipython3",
   "version": "3.9.12"
  },
  "orig_nbformat": 4,
  "vscode": {
   "interpreter": {
    "hash": "df2604acf27cccc9bc3890fbb9b23a69556046b1d99e2eacb9b86d7c88d795b0"
   }
  }
 },
 "nbformat": 4,
 "nbformat_minor": 2
}
