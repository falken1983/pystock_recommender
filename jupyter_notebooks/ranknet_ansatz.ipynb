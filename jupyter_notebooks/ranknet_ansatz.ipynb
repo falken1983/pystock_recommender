{
  "cells": [
    {
      "cell_type": "code",
      "execution_count": null,
      "metadata": {
        "id": "9twia71YLU9r"
      },
      "outputs": [],
      "source": [
        "import numpy as np\n",
        "from sklearn.model_selection import train_test_split\n",
        "from itertools import combinations, repeat\n",
        "import matplotlib.pyplot as plt\n",
        "import pandas as pd"
      ]
    },
    {
      "cell_type": "code",
      "execution_count": null,
      "metadata": {
        "id": "sfwsFVNoLU9u"
      },
      "outputs": [],
      "source": [
        "nb_query = 20\n",
        "query = np.array([i+1 for i in range(nb_query) for x in range(int(np.ceil(np.abs(np.random.normal(0,scale=15))+2)))])\n",
        "doc_features = np.random.random((len(query), 10))\n",
        "doc_scores = np.random.randint(5, size=len(query)).astype(np.float32)"
      ]
    },
    {
      "cell_type": "code",
      "execution_count": null,
      "metadata": {
        "id": "GSRPZF7SLU9v",
        "outputId": "b1b1a5a8-1e33-4cf9-a2b6-731ef3cea830"
      },
      "outputs": [
        {
          "data": {
            "text/plain": [
              "(278,)"
            ]
          },
          "execution_count": 5,
          "metadata": {},
          "output_type": "execute_result"
        }
      ],
      "source": [
        "query.shape"
      ]
    },
    {
      "cell_type": "code",
      "execution_count": null,
      "metadata": {
        "id": "nkbbuZnlLU9v",
        "outputId": "a0cd05d3-f6eb-458e-b3ff-0b6bc67af6f9"
      },
      "outputs": [
        {
          "data": {
            "text/plain": [
              "(278,)"
            ]
          },
          "execution_count": 6,
          "metadata": {},
          "output_type": "execute_result"
        }
      ],
      "source": [
        "doc_scores.shape"
      ]
    },
    {
      "cell_type": "code",
      "execution_count": null,
      "metadata": {
        "id": "ervMNdLnLU9w",
        "outputId": "48b946c5-d56b-4c9d-efeb-f4232233b0e1"
      },
      "outputs": [
        {
          "data": {
            "text/plain": [
              "(278, 10)"
            ]
          },
          "execution_count": 8,
          "metadata": {},
          "output_type": "execute_result"
        }
      ],
      "source": [
        "doc_features.shape"
      ]
    },
    {
      "cell_type": "code",
      "execution_count": null,
      "metadata": {
        "id": "XMUcFlhULU9w",
        "outputId": "c5a26cc2-5ced-4ffc-f140-24c79a864c7a"
      },
      "outputs": [
        {
          "data": {
            "text/plain": [
              "(284,)"
            ]
          },
          "execution_count": 13,
          "metadata": {},
          "output_type": "execute_result"
        }
      ],
      "source": [
        "doc_scores.shape"
      ]
    },
    {
      "cell_type": "code",
      "execution_count": null,
      "metadata": {
        "id": "XL9OYVsvLU9x"
      },
      "outputs": [],
      "source": [
        "# put data into pairs\n",
        "xi = []\n",
        "xj = []\n",
        "pij = []\n",
        "pair_id = []\n",
        "pair_query_id = []\n",
        "for q in np.unique(query):\n",
        "    query_idx = np.where(query == q)[0]\n",
        "    for pair_idx in combinations(query_idx, 2):\n",
        "        pair_query_id.append(q)\n",
        "        \n",
        "        pair_id.append(pair_idx)\n",
        "        i = pair_idx[0]\n",
        "        j = pair_idx[1]\n",
        "        xi.append(doc_features[i])\n",
        "        xj.append(doc_features[j])\n",
        "        \n",
        "        if doc_scores[i] == doc_scores[j]:\n",
        "            _pij = 0.5\n",
        "        elif doc_scores[i] > doc_scores[j]:\n",
        "            _pij = 1\n",
        "        else: \n",
        "            _pij = 0\n",
        "        pij.append(_pij)\n",
        "        \n",
        "xi = np.array(xi)\n",
        "xj = np.array(xj)\n",
        "pij = np.array(pij)\n",
        "pair_query_id = np.array(pair_query_id)\n",
        "\n",
        "xi_train, xi_test, xj_train, xj_test, pij_train, pij_test, pair_id_train, pair_id_test = train_test_split(\n",
        "    xi, xj, pij, pair_id, test_size=0.2, stratify=pair_query_id)"
      ]
    },
    {
      "cell_type": "code",
      "execution_count": null,
      "metadata": {
        "id": "AY7hzY0iLU9x",
        "outputId": "b3cecfd4-8e9d-448a-b844-07dbc7853488"
      },
      "outputs": [
        {
          "data": {
            "text/plain": [
              "(3289, 10)"
            ]
          },
          "execution_count": 10,
          "metadata": {},
          "output_type": "execute_result"
        }
      ],
      "source": [
        "xi.shape"
      ]
    },
    {
      "cell_type": "code",
      "execution_count": null,
      "metadata": {
        "id": "598jNURzLU9y"
      },
      "outputs": [],
      "source": [
        "pair_idx_test = np.where(query==query_test)[0]"
      ]
    },
    {
      "cell_type": "code",
      "execution_count": null,
      "metadata": {
        "id": "inxDlpO1LU9y",
        "outputId": "ce893bf3-7177-4079-8b61-0d737c27496b"
      },
      "outputs": [
        {
          "data": {
            "text/plain": [
              "[(0, 1),\n",
              " (0, 2),\n",
              " (0, 3),\n",
              " (0, 4),\n",
              " (1, 2),\n",
              " (1, 3),\n",
              " (1, 4),\n",
              " (2, 3),\n",
              " (2, 4),\n",
              " (3, 4)]"
            ]
          },
          "execution_count": 22,
          "metadata": {},
          "output_type": "execute_result"
        }
      ],
      "source": [
        "list(combinations(pair_idx_test, 2))"
      ]
    },
    {
      "cell_type": "markdown",
      "metadata": {
        "id": "oNqr2igVLU9z"
      },
      "source": [
        "## 1 Queryfying The Stock Picking Problem: A Large Dataset Problem"
      ]
    },
    {
      "cell_type": "code",
      "execution_count": 1,
      "metadata": {
        "id": "GRNE1QgqLU90"
      },
      "outputs": [],
      "source": [
        "import numpy as np\n",
        "from sklearn.model_selection import train_test_split\n",
        "\n",
        "import matplotlib.pyplot as plt\n",
        "import pandas as pd"
      ]
    },
    {
      "cell_type": "code",
      "execution_count": 2,
      "metadata": {
        "colab": {
          "base_uri": "https://localhost:8080/"
        },
        "id": "fzMb_5xCLZTN",
        "outputId": "186cff46-9ace-4696-ba08-378f8d8925c3"
      },
      "outputs": [
        {
          "name": "stdout",
          "output_type": "stream",
          "text": [
            "Mounted at /content/drive\n"
          ]
        }
      ],
      "source": [
        "try:\n",
        "  from google.colab import drive\n",
        "  drive.mount('/content/drive', force_remount=True)\n",
        "  PATH_ = \"/content/drive/MyDrive/\"\n",
        "except:\n",
        "  PATH_ = \"\""
      ]
    },
    {
      "cell_type": "code",
      "execution_count": 3,
      "metadata": {
        "id": "MG5GKM0xLU91"
      },
      "outputs": [],
      "source": [
        "stock_dataset = pd.read_csv(\n",
        "    PATH_ + \"data/config/20220831_last_enhanced_dataset_monthly.csv\",\n",
        "    parse_dates=[\"Date\"]\n",
        ")"
      ]
    },
    {
      "cell_type": "markdown",
      "metadata": {
        "id": "9mgNMZurLU91"
      },
      "source": [
        "### 1.1 Features"
      ]
    },
    {
      "cell_type": "code",
      "execution_count": 4,
      "metadata": {
        "colab": {
          "base_uri": "https://localhost:8080/",
          "height": 661
        },
        "id": "yZndp5FTLU92",
        "outputId": "0121fbc2-3d32-4e56-bbe3-ffd06cef6f0b"
      },
      "outputs": [
        {
          "data": {
            "text/html": [
              "\n",
              "  <div id=\"df-89c64b6f-61d0-48bb-8648-de811dc55a97\">\n",
              "    <div class=\"colab-df-container\">\n",
              "      <div>\n",
              "<style scoped>\n",
              "    .dataframe tbody tr th:only-of-type {\n",
              "        vertical-align: middle;\n",
              "    }\n",
              "\n",
              "    .dataframe tbody tr th {\n",
              "        vertical-align: top;\n",
              "    }\n",
              "\n",
              "    .dataframe thead th {\n",
              "        text-align: right;\n",
              "    }\n",
              "</style>\n",
              "<table border=\"1\" class=\"dataframe\">\n",
              "  <thead>\n",
              "    <tr style=\"text-align: right;\">\n",
              "      <th></th>\n",
              "      <th>Date</th>\n",
              "      <th>symbols</th>\n",
              "      <th>RRET3M</th>\n",
              "      <th>RRET6M</th>\n",
              "      <th>RRET12M</th>\n",
              "      <th>SRET3M</th>\n",
              "      <th>SRET6M</th>\n",
              "      <th>SRET12M</th>\n",
              "      <th>ISR3M</th>\n",
              "      <th>ISR6M</th>\n",
              "      <th>ISR12M</th>\n",
              "      <th>EWVOL3M</th>\n",
              "      <th>ISR12M_nexmonth</th>\n",
              "    </tr>\n",
              "  </thead>\n",
              "  <tbody>\n",
              "    <tr>\n",
              "      <th>0</th>\n",
              "      <td>2007-10-31</td>\n",
              "      <td>A</td>\n",
              "      <td>-0.045831</td>\n",
              "      <td>0.010974</td>\n",
              "      <td>0.120625</td>\n",
              "      <td>-0.286889</td>\n",
              "      <td>0.048575</td>\n",
              "      <td>0.377537</td>\n",
              "      <td>-0.043293</td>\n",
              "      <td>0.218709</td>\n",
              "      <td>0.592724</td>\n",
              "      <td>0.252168</td>\n",
              "      <td>0.648748</td>\n",
              "    </tr>\n",
              "    <tr>\n",
              "      <th>1</th>\n",
              "      <td>2007-10-31</td>\n",
              "      <td>AA</td>\n",
              "      <td>0.049675</td>\n",
              "      <td>0.139174</td>\n",
              "      <td>0.442392</td>\n",
              "      <td>0.261090</td>\n",
              "      <td>0.517240</td>\n",
              "      <td>1.162594</td>\n",
              "      <td>0.694973</td>\n",
              "      <td>0.873066</td>\n",
              "      <td>1.274447</td>\n",
              "      <td>0.347691</td>\n",
              "      <td>0.747572</td>\n",
              "    </tr>\n",
              "    <tr>\n",
              "      <th>2</th>\n",
              "      <td>2007-10-31</td>\n",
              "      <td>AAPL</td>\n",
              "      <td>0.391677</td>\n",
              "      <td>0.891933</td>\n",
              "      <td>1.361976</td>\n",
              "      <td>1.943524</td>\n",
              "      <td>3.129527</td>\n",
              "      <td>3.379097</td>\n",
              "      <td>3.461684</td>\n",
              "      <td>3.534918</td>\n",
              "      <td>2.782748</td>\n",
              "      <td>0.371120</td>\n",
              "      <td>2.032981</td>\n",
              "    </tr>\n",
              "    <tr>\n",
              "      <th>3</th>\n",
              "      <td>2007-10-31</td>\n",
              "      <td>ABC</td>\n",
              "      <td>0.027289</td>\n",
              "      <td>-0.055854</td>\n",
              "      <td>0.041181</td>\n",
              "      <td>0.187520</td>\n",
              "      <td>-0.271396</td>\n",
              "      <td>0.141491</td>\n",
              "      <td>0.510378</td>\n",
              "      <td>-0.021059</td>\n",
              "      <td>0.413389</td>\n",
              "      <td>0.266703</td>\n",
              "      <td>0.164794</td>\n",
              "    </tr>\n",
              "    <tr>\n",
              "      <th>4</th>\n",
              "      <td>2007-10-31</td>\n",
              "      <td>ABT</td>\n",
              "      <td>0.073018</td>\n",
              "      <td>-0.036949</td>\n",
              "      <td>0.187770</td>\n",
              "      <td>0.665704</td>\n",
              "      <td>-0.238196</td>\n",
              "      <td>0.855951</td>\n",
              "      <td>1.383667</td>\n",
              "      <td>-0.011155</td>\n",
              "      <td>0.947518</td>\n",
              "      <td>0.191821</td>\n",
              "      <td>1.151533</td>\n",
              "    </tr>\n",
              "    <tr>\n",
              "      <th>...</th>\n",
              "      <td>...</td>\n",
              "      <td>...</td>\n",
              "      <td>...</td>\n",
              "      <td>...</td>\n",
              "      <td>...</td>\n",
              "      <td>...</td>\n",
              "      <td>...</td>\n",
              "      <td>...</td>\n",
              "      <td>...</td>\n",
              "      <td>...</td>\n",
              "      <td>...</td>\n",
              "      <td>...</td>\n",
              "      <td>...</td>\n",
              "    </tr>\n",
              "    <tr>\n",
              "      <th>83477</th>\n",
              "      <td>2022-07-29</td>\n",
              "      <td>XRX</td>\n",
              "      <td>-0.007128</td>\n",
              "      <td>-0.137710</td>\n",
              "      <td>-0.257794</td>\n",
              "      <td>-0.031321</td>\n",
              "      <td>-0.427877</td>\n",
              "      <td>-0.566385</td>\n",
              "      <td>0.162517</td>\n",
              "      <td>-0.085528</td>\n",
              "      <td>-0.090846</td>\n",
              "      <td>0.475500</td>\n",
              "      <td>-0.069290</td>\n",
              "    </tr>\n",
              "    <tr>\n",
              "      <th>83478</th>\n",
              "      <td>2022-07-29</td>\n",
              "      <td>Y</td>\n",
              "      <td>-0.005002</td>\n",
              "      <td>0.303045</td>\n",
              "      <td>0.271664</td>\n",
              "      <td>-0.343658</td>\n",
              "      <td>14.722666</td>\n",
              "      <td>9.332482</td>\n",
              "      <td>-0.000619</td>\n",
              "      <td>1.505580</td>\n",
              "      <td>0.904912</td>\n",
              "      <td>0.188267</td>\n",
              "      <td>0.910676</td>\n",
              "    </tr>\n",
              "    <tr>\n",
              "      <th>83479</th>\n",
              "      <td>2022-07-29</td>\n",
              "      <td>YUM</td>\n",
              "      <td>0.030349</td>\n",
              "      <td>0.032540</td>\n",
              "      <td>-0.043256</td>\n",
              "      <td>0.242966</td>\n",
              "      <td>0.184209</td>\n",
              "      <td>-0.173151</td>\n",
              "      <td>0.597081</td>\n",
              "      <td>0.375240</td>\n",
              "      <td>-0.009783</td>\n",
              "      <td>0.232148</td>\n",
              "      <td>-0.027119</td>\n",
              "    </tr>\n",
              "    <tr>\n",
              "      <th>83480</th>\n",
              "      <td>2022-07-29</td>\n",
              "      <td>ZBH</td>\n",
              "      <td>-0.112113</td>\n",
              "      <td>-0.058252</td>\n",
              "      <td>-0.295957</td>\n",
              "      <td>-0.759136</td>\n",
              "      <td>-0.278908</td>\n",
              "      <td>-1.001985</td>\n",
              "      <td>-0.129716</td>\n",
              "      <td>-0.021664</td>\n",
              "      <td>-0.075548</td>\n",
              "      <td>0.281217</td>\n",
              "      <td>-0.073511</td>\n",
              "    </tr>\n",
              "    <tr>\n",
              "      <th>83481</th>\n",
              "      <td>2022-07-29</td>\n",
              "      <td>ZION</td>\n",
              "      <td>-0.052764</td>\n",
              "      <td>-0.175809</td>\n",
              "      <td>0.058281</td>\n",
              "      <td>-0.314207</td>\n",
              "      <td>-0.740292</td>\n",
              "      <td>0.173529</td>\n",
              "      <td>-0.054421</td>\n",
              "      <td>-0.121778</td>\n",
              "      <td>0.344367</td>\n",
              "      <td>0.347197</td>\n",
              "      <td>0.141113</td>\n",
              "    </tr>\n",
              "  </tbody>\n",
              "</table>\n",
              "<p>83482 rows × 13 columns</p>\n",
              "</div>\n",
              "      <button class=\"colab-df-convert\" onclick=\"convertToInteractive('df-89c64b6f-61d0-48bb-8648-de811dc55a97')\"\n",
              "              title=\"Convert this dataframe to an interactive table.\"\n",
              "              style=\"display:none;\">\n",
              "        \n",
              "  <svg xmlns=\"http://www.w3.org/2000/svg\" height=\"24px\"viewBox=\"0 0 24 24\"\n",
              "       width=\"24px\">\n",
              "    <path d=\"M0 0h24v24H0V0z\" fill=\"none\"/>\n",
              "    <path d=\"M18.56 5.44l.94 2.06.94-2.06 2.06-.94-2.06-.94-.94-2.06-.94 2.06-2.06.94zm-11 1L8.5 8.5l.94-2.06 2.06-.94-2.06-.94L8.5 2.5l-.94 2.06-2.06.94zm10 10l.94 2.06.94-2.06 2.06-.94-2.06-.94-.94-2.06-.94 2.06-2.06.94z\"/><path d=\"M17.41 7.96l-1.37-1.37c-.4-.4-.92-.59-1.43-.59-.52 0-1.04.2-1.43.59L10.3 9.45l-7.72 7.72c-.78.78-.78 2.05 0 2.83L4 21.41c.39.39.9.59 1.41.59.51 0 1.02-.2 1.41-.59l7.78-7.78 2.81-2.81c.8-.78.8-2.07 0-2.86zM5.41 20L4 18.59l7.72-7.72 1.47 1.35L5.41 20z\"/>\n",
              "  </svg>\n",
              "      </button>\n",
              "      \n",
              "  <style>\n",
              "    .colab-df-container {\n",
              "      display:flex;\n",
              "      flex-wrap:wrap;\n",
              "      gap: 12px;\n",
              "    }\n",
              "\n",
              "    .colab-df-convert {\n",
              "      background-color: #E8F0FE;\n",
              "      border: none;\n",
              "      border-radius: 50%;\n",
              "      cursor: pointer;\n",
              "      display: none;\n",
              "      fill: #1967D2;\n",
              "      height: 32px;\n",
              "      padding: 0 0 0 0;\n",
              "      width: 32px;\n",
              "    }\n",
              "\n",
              "    .colab-df-convert:hover {\n",
              "      background-color: #E2EBFA;\n",
              "      box-shadow: 0px 1px 2px rgba(60, 64, 67, 0.3), 0px 1px 3px 1px rgba(60, 64, 67, 0.15);\n",
              "      fill: #174EA6;\n",
              "    }\n",
              "\n",
              "    [theme=dark] .colab-df-convert {\n",
              "      background-color: #3B4455;\n",
              "      fill: #D2E3FC;\n",
              "    }\n",
              "\n",
              "    [theme=dark] .colab-df-convert:hover {\n",
              "      background-color: #434B5C;\n",
              "      box-shadow: 0px 1px 3px 1px rgba(0, 0, 0, 0.15);\n",
              "      filter: drop-shadow(0px 1px 2px rgba(0, 0, 0, 0.3));\n",
              "      fill: #FFFFFF;\n",
              "    }\n",
              "  </style>\n",
              "\n",
              "      <script>\n",
              "        const buttonEl =\n",
              "          document.querySelector('#df-89c64b6f-61d0-48bb-8648-de811dc55a97 button.colab-df-convert');\n",
              "        buttonEl.style.display =\n",
              "          google.colab.kernel.accessAllowed ? 'block' : 'none';\n",
              "\n",
              "        async function convertToInteractive(key) {\n",
              "          const element = document.querySelector('#df-89c64b6f-61d0-48bb-8648-de811dc55a97');\n",
              "          const dataTable =\n",
              "            await google.colab.kernel.invokeFunction('convertToInteractive',\n",
              "                                                     [key], {});\n",
              "          if (!dataTable) return;\n",
              "\n",
              "          const docLinkHtml = 'Like what you see? Visit the ' +\n",
              "            '<a target=\"_blank\" href=https://colab.research.google.com/notebooks/data_table.ipynb>data table notebook</a>'\n",
              "            + ' to learn more about interactive tables.';\n",
              "          element.innerHTML = '';\n",
              "          dataTable['output_type'] = 'display_data';\n",
              "          await google.colab.output.renderOutput(dataTable, element);\n",
              "          const docLink = document.createElement('div');\n",
              "          docLink.innerHTML = docLinkHtml;\n",
              "          element.appendChild(docLink);\n",
              "        }\n",
              "      </script>\n",
              "    </div>\n",
              "  </div>\n",
              "  "
            ],
            "text/plain": [
              "            Date symbols    RRET3M    RRET6M   RRET12M    SRET3M     SRET6M  \\\n",
              "0     2007-10-31       A -0.045831  0.010974  0.120625 -0.286889   0.048575   \n",
              "1     2007-10-31      AA  0.049675  0.139174  0.442392  0.261090   0.517240   \n",
              "2     2007-10-31    AAPL  0.391677  0.891933  1.361976  1.943524   3.129527   \n",
              "3     2007-10-31     ABC  0.027289 -0.055854  0.041181  0.187520  -0.271396   \n",
              "4     2007-10-31     ABT  0.073018 -0.036949  0.187770  0.665704  -0.238196   \n",
              "...          ...     ...       ...       ...       ...       ...        ...   \n",
              "83477 2022-07-29     XRX -0.007128 -0.137710 -0.257794 -0.031321  -0.427877   \n",
              "83478 2022-07-29       Y -0.005002  0.303045  0.271664 -0.343658  14.722666   \n",
              "83479 2022-07-29     YUM  0.030349  0.032540 -0.043256  0.242966   0.184209   \n",
              "83480 2022-07-29     ZBH -0.112113 -0.058252 -0.295957 -0.759136  -0.278908   \n",
              "83481 2022-07-29    ZION -0.052764 -0.175809  0.058281 -0.314207  -0.740292   \n",
              "\n",
              "        SRET12M     ISR3M     ISR6M    ISR12M   EWVOL3M  ISR12M_nexmonth  \n",
              "0      0.377537 -0.043293  0.218709  0.592724  0.252168         0.648748  \n",
              "1      1.162594  0.694973  0.873066  1.274447  0.347691         0.747572  \n",
              "2      3.379097  3.461684  3.534918  2.782748  0.371120         2.032981  \n",
              "3      0.141491  0.510378 -0.021059  0.413389  0.266703         0.164794  \n",
              "4      0.855951  1.383667 -0.011155  0.947518  0.191821         1.151533  \n",
              "...         ...       ...       ...       ...       ...              ...  \n",
              "83477 -0.566385  0.162517 -0.085528 -0.090846  0.475500        -0.069290  \n",
              "83478  9.332482 -0.000619  1.505580  0.904912  0.188267         0.910676  \n",
              "83479 -0.173151  0.597081  0.375240 -0.009783  0.232148        -0.027119  \n",
              "83480 -1.001985 -0.129716 -0.021664 -0.075548  0.281217        -0.073511  \n",
              "83481  0.173529 -0.054421 -0.121778  0.344367  0.347197         0.141113  \n",
              "\n",
              "[83482 rows x 13 columns]"
            ]
          },
          "execution_count": 4,
          "metadata": {},
          "output_type": "execute_result"
        }
      ],
      "source": [
        "stock_dataset"
      ]
    },
    {
      "cell_type": "code",
      "execution_count": 5,
      "metadata": {
        "colab": {
          "base_uri": "https://localhost:8080/"
        },
        "id": "AO_t95XkLU92",
        "outputId": "e6bb7f76-bd4c-4cd5-c5f1-900446d72dcd"
      },
      "outputs": [
        {
          "name": "stdout",
          "output_type": "stream",
          "text": [
            "<class 'pandas.core.frame.DataFrame'>\n",
            "RangeIndex: 83482 entries, 0 to 83481\n",
            "Data columns (total 13 columns):\n",
            " #   Column           Non-Null Count  Dtype         \n",
            "---  ------           --------------  -----         \n",
            " 0   Date             83482 non-null  datetime64[ns]\n",
            " 1   symbols          83482 non-null  object        \n",
            " 2   RRET3M           83482 non-null  float64       \n",
            " 3   RRET6M           83482 non-null  float64       \n",
            " 4   RRET12M          83482 non-null  float64       \n",
            " 5   SRET3M           83482 non-null  float64       \n",
            " 6   SRET6M           83482 non-null  float64       \n",
            " 7   SRET12M          83482 non-null  float64       \n",
            " 8   ISR3M            83482 non-null  float64       \n",
            " 9   ISR6M            83482 non-null  float64       \n",
            " 10  ISR12M           83482 non-null  float64       \n",
            " 11  EWVOL3M          83482 non-null  float64       \n",
            " 12  ISR12M_nexmonth  83482 non-null  float64       \n",
            "dtypes: datetime64[ns](1), float64(11), object(1)\n",
            "memory usage: 8.3+ MB\n"
          ]
        }
      ],
      "source": [
        "stock_dataset.info()"
      ]
    },
    {
      "cell_type": "code",
      "execution_count": null,
      "metadata": {
        "id": "dNupi5aBLU92"
      },
      "outputs": [],
      "source": [
        "import datetime as dt"
      ]
    },
    {
      "cell_type": "markdown",
      "metadata": {
        "id": "yCJ-t8f8LU93"
      },
      "source": [
        "### 1.2 Rebalance Date As a `date_query_id`"
      ]
    },
    {
      "cell_type": "code",
      "execution_count": 6,
      "metadata": {
        "id": "TDNosboLLU93"
      },
      "outputs": [],
      "source": [
        "stock_dataset[\"date_query_id\"] = stock_dataset[\"Date\"].dt.strftime(\"%Y%m%d\").astype(int)"
      ]
    },
    {
      "cell_type": "code",
      "execution_count": 7,
      "metadata": {
        "colab": {
          "base_uri": "https://localhost:8080/",
          "height": 357
        },
        "id": "WpK-vhrELU93",
        "outputId": "5dd4f2e2-816f-40d9-9ff7-57b71d8526f8"
      },
      "outputs": [
        {
          "data": {
            "text/html": [
              "\n",
              "  <div id=\"df-fcfce021-e57b-47ff-8d0b-52d8a225a625\">\n",
              "    <div class=\"colab-df-container\">\n",
              "      <div>\n",
              "<style scoped>\n",
              "    .dataframe tbody tr th:only-of-type {\n",
              "        vertical-align: middle;\n",
              "    }\n",
              "\n",
              "    .dataframe tbody tr th {\n",
              "        vertical-align: top;\n",
              "    }\n",
              "\n",
              "    .dataframe thead th {\n",
              "        text-align: right;\n",
              "    }\n",
              "</style>\n",
              "<table border=\"1\" class=\"dataframe\">\n",
              "  <thead>\n",
              "    <tr style=\"text-align: right;\">\n",
              "      <th></th>\n",
              "      <th>Date</th>\n",
              "      <th>symbols</th>\n",
              "      <th>RRET3M</th>\n",
              "      <th>RRET6M</th>\n",
              "      <th>RRET12M</th>\n",
              "      <th>SRET3M</th>\n",
              "      <th>SRET6M</th>\n",
              "      <th>SRET12M</th>\n",
              "      <th>ISR3M</th>\n",
              "      <th>ISR6M</th>\n",
              "      <th>ISR12M</th>\n",
              "      <th>EWVOL3M</th>\n",
              "      <th>ISR12M_nexmonth</th>\n",
              "      <th>date_query_id</th>\n",
              "    </tr>\n",
              "  </thead>\n",
              "  <tbody>\n",
              "    <tr>\n",
              "      <th>0</th>\n",
              "      <td>2007-10-31</td>\n",
              "      <td>A</td>\n",
              "      <td>-0.045831</td>\n",
              "      <td>0.010974</td>\n",
              "      <td>0.120625</td>\n",
              "      <td>-0.286889</td>\n",
              "      <td>0.048575</td>\n",
              "      <td>0.377537</td>\n",
              "      <td>-0.043293</td>\n",
              "      <td>0.218709</td>\n",
              "      <td>0.592724</td>\n",
              "      <td>0.252168</td>\n",
              "      <td>0.648748</td>\n",
              "      <td>20071031</td>\n",
              "    </tr>\n",
              "    <tr>\n",
              "      <th>1</th>\n",
              "      <td>2007-10-31</td>\n",
              "      <td>AA</td>\n",
              "      <td>0.049675</td>\n",
              "      <td>0.139174</td>\n",
              "      <td>0.442392</td>\n",
              "      <td>0.261090</td>\n",
              "      <td>0.517240</td>\n",
              "      <td>1.162594</td>\n",
              "      <td>0.694973</td>\n",
              "      <td>0.873066</td>\n",
              "      <td>1.274447</td>\n",
              "      <td>0.347691</td>\n",
              "      <td>0.747572</td>\n",
              "      <td>20071031</td>\n",
              "    </tr>\n",
              "    <tr>\n",
              "      <th>2</th>\n",
              "      <td>2007-10-31</td>\n",
              "      <td>AAPL</td>\n",
              "      <td>0.391677</td>\n",
              "      <td>0.891933</td>\n",
              "      <td>1.361976</td>\n",
              "      <td>1.943524</td>\n",
              "      <td>3.129527</td>\n",
              "      <td>3.379097</td>\n",
              "      <td>3.461684</td>\n",
              "      <td>3.534918</td>\n",
              "      <td>2.782748</td>\n",
              "      <td>0.371120</td>\n",
              "      <td>2.032981</td>\n",
              "      <td>20071031</td>\n",
              "    </tr>\n",
              "    <tr>\n",
              "      <th>3</th>\n",
              "      <td>2007-10-31</td>\n",
              "      <td>ABC</td>\n",
              "      <td>0.027289</td>\n",
              "      <td>-0.055854</td>\n",
              "      <td>0.041181</td>\n",
              "      <td>0.187520</td>\n",
              "      <td>-0.271396</td>\n",
              "      <td>0.141491</td>\n",
              "      <td>0.510378</td>\n",
              "      <td>-0.021059</td>\n",
              "      <td>0.413389</td>\n",
              "      <td>0.266703</td>\n",
              "      <td>0.164794</td>\n",
              "      <td>20071031</td>\n",
              "    </tr>\n",
              "    <tr>\n",
              "      <th>4</th>\n",
              "      <td>2007-10-31</td>\n",
              "      <td>ABT</td>\n",
              "      <td>0.073018</td>\n",
              "      <td>-0.036949</td>\n",
              "      <td>0.187770</td>\n",
              "      <td>0.665704</td>\n",
              "      <td>-0.238196</td>\n",
              "      <td>0.855951</td>\n",
              "      <td>1.383667</td>\n",
              "      <td>-0.011155</td>\n",
              "      <td>0.947518</td>\n",
              "      <td>0.191821</td>\n",
              "      <td>1.151533</td>\n",
              "      <td>20071031</td>\n",
              "    </tr>\n",
              "  </tbody>\n",
              "</table>\n",
              "</div>\n",
              "      <button class=\"colab-df-convert\" onclick=\"convertToInteractive('df-fcfce021-e57b-47ff-8d0b-52d8a225a625')\"\n",
              "              title=\"Convert this dataframe to an interactive table.\"\n",
              "              style=\"display:none;\">\n",
              "        \n",
              "  <svg xmlns=\"http://www.w3.org/2000/svg\" height=\"24px\"viewBox=\"0 0 24 24\"\n",
              "       width=\"24px\">\n",
              "    <path d=\"M0 0h24v24H0V0z\" fill=\"none\"/>\n",
              "    <path d=\"M18.56 5.44l.94 2.06.94-2.06 2.06-.94-2.06-.94-.94-2.06-.94 2.06-2.06.94zm-11 1L8.5 8.5l.94-2.06 2.06-.94-2.06-.94L8.5 2.5l-.94 2.06-2.06.94zm10 10l.94 2.06.94-2.06 2.06-.94-2.06-.94-.94-2.06-.94 2.06-2.06.94z\"/><path d=\"M17.41 7.96l-1.37-1.37c-.4-.4-.92-.59-1.43-.59-.52 0-1.04.2-1.43.59L10.3 9.45l-7.72 7.72c-.78.78-.78 2.05 0 2.83L4 21.41c.39.39.9.59 1.41.59.51 0 1.02-.2 1.41-.59l7.78-7.78 2.81-2.81c.8-.78.8-2.07 0-2.86zM5.41 20L4 18.59l7.72-7.72 1.47 1.35L5.41 20z\"/>\n",
              "  </svg>\n",
              "      </button>\n",
              "      \n",
              "  <style>\n",
              "    .colab-df-container {\n",
              "      display:flex;\n",
              "      flex-wrap:wrap;\n",
              "      gap: 12px;\n",
              "    }\n",
              "\n",
              "    .colab-df-convert {\n",
              "      background-color: #E8F0FE;\n",
              "      border: none;\n",
              "      border-radius: 50%;\n",
              "      cursor: pointer;\n",
              "      display: none;\n",
              "      fill: #1967D2;\n",
              "      height: 32px;\n",
              "      padding: 0 0 0 0;\n",
              "      width: 32px;\n",
              "    }\n",
              "\n",
              "    .colab-df-convert:hover {\n",
              "      background-color: #E2EBFA;\n",
              "      box-shadow: 0px 1px 2px rgba(60, 64, 67, 0.3), 0px 1px 3px 1px rgba(60, 64, 67, 0.15);\n",
              "      fill: #174EA6;\n",
              "    }\n",
              "\n",
              "    [theme=dark] .colab-df-convert {\n",
              "      background-color: #3B4455;\n",
              "      fill: #D2E3FC;\n",
              "    }\n",
              "\n",
              "    [theme=dark] .colab-df-convert:hover {\n",
              "      background-color: #434B5C;\n",
              "      box-shadow: 0px 1px 3px 1px rgba(0, 0, 0, 0.15);\n",
              "      filter: drop-shadow(0px 1px 2px rgba(0, 0, 0, 0.3));\n",
              "      fill: #FFFFFF;\n",
              "    }\n",
              "  </style>\n",
              "\n",
              "      <script>\n",
              "        const buttonEl =\n",
              "          document.querySelector('#df-fcfce021-e57b-47ff-8d0b-52d8a225a625 button.colab-df-convert');\n",
              "        buttonEl.style.display =\n",
              "          google.colab.kernel.accessAllowed ? 'block' : 'none';\n",
              "\n",
              "        async function convertToInteractive(key) {\n",
              "          const element = document.querySelector('#df-fcfce021-e57b-47ff-8d0b-52d8a225a625');\n",
              "          const dataTable =\n",
              "            await google.colab.kernel.invokeFunction('convertToInteractive',\n",
              "                                                     [key], {});\n",
              "          if (!dataTable) return;\n",
              "\n",
              "          const docLinkHtml = 'Like what you see? Visit the ' +\n",
              "            '<a target=\"_blank\" href=https://colab.research.google.com/notebooks/data_table.ipynb>data table notebook</a>'\n",
              "            + ' to learn more about interactive tables.';\n",
              "          element.innerHTML = '';\n",
              "          dataTable['output_type'] = 'display_data';\n",
              "          await google.colab.output.renderOutput(dataTable, element);\n",
              "          const docLink = document.createElement('div');\n",
              "          docLink.innerHTML = docLinkHtml;\n",
              "          element.appendChild(docLink);\n",
              "        }\n",
              "      </script>\n",
              "    </div>\n",
              "  </div>\n",
              "  "
            ],
            "text/plain": [
              "        Date symbols    RRET3M    RRET6M   RRET12M    SRET3M    SRET6M  \\\n",
              "0 2007-10-31       A -0.045831  0.010974  0.120625 -0.286889  0.048575   \n",
              "1 2007-10-31      AA  0.049675  0.139174  0.442392  0.261090  0.517240   \n",
              "2 2007-10-31    AAPL  0.391677  0.891933  1.361976  1.943524  3.129527   \n",
              "3 2007-10-31     ABC  0.027289 -0.055854  0.041181  0.187520 -0.271396   \n",
              "4 2007-10-31     ABT  0.073018 -0.036949  0.187770  0.665704 -0.238196   \n",
              "\n",
              "    SRET12M     ISR3M     ISR6M    ISR12M   EWVOL3M  ISR12M_nexmonth  \\\n",
              "0  0.377537 -0.043293  0.218709  0.592724  0.252168         0.648748   \n",
              "1  1.162594  0.694973  0.873066  1.274447  0.347691         0.747572   \n",
              "2  3.379097  3.461684  3.534918  2.782748  0.371120         2.032981   \n",
              "3  0.141491  0.510378 -0.021059  0.413389  0.266703         0.164794   \n",
              "4  0.855951  1.383667 -0.011155  0.947518  0.191821         1.151533   \n",
              "\n",
              "   date_query_id  \n",
              "0       20071031  \n",
              "1       20071031  \n",
              "2       20071031  \n",
              "3       20071031  \n",
              "4       20071031  "
            ]
          },
          "execution_count": 7,
          "metadata": {},
          "output_type": "execute_result"
        }
      ],
      "source": [
        "stock_dataset.head()"
      ]
    },
    {
      "cell_type": "code",
      "execution_count": 8,
      "metadata": {
        "colab": {
          "base_uri": "https://localhost:8080/"
        },
        "id": "TcYT8cFMWD6E",
        "outputId": "912779d1-6571-4cd4-ce85-d9b0db8bd0dd"
      },
      "outputs": [
        {
          "data": {
            "text/plain": [
              "469"
            ]
          },
          "execution_count": 8,
          "metadata": {},
          "output_type": "execute_result"
        }
      ],
      "source": [
        "nsymbols_by_date = stock_dataset[\"symbols\"].nunique()\n",
        "nsymbols_by_date"
      ]
    },
    {
      "cell_type": "code",
      "execution_count": 10,
      "metadata": {
        "id": "0A-Nko68ifh1"
      },
      "outputs": [],
      "source": [
        "chunkset_size = 4 # \n",
        "split_block = chunkset_size*nsymbols_by_date*12\n",
        "chunk_stock_dataset = stock_dataset[:split_block]"
      ]
    },
    {
      "cell_type": "code",
      "execution_count": 11,
      "metadata": {
        "colab": {
          "base_uri": "https://localhost:8080/"
        },
        "id": "Z-iwVgN1l4Vd",
        "outputId": "32eefade-ee36-4e69-df71-d3f70d5347d6"
      },
      "outputs": [
        {
          "data": {
            "text/plain": [
              "(22512, 14)"
            ]
          },
          "execution_count": 11,
          "metadata": {},
          "output_type": "execute_result"
        }
      ],
      "source": [
        "chunk_stock_dataset.shape"
      ]
    },
    {
      "cell_type": "code",
      "execution_count": 12,
      "metadata": {
        "id": "ySWzBlFaWQUL"
      },
      "outputs": [],
      "source": [
        "# custom (train, test). Split before pairing data is required\n",
        "initial_train_years = 3\n",
        "split = initial_train_years*nsymbols_by_date*12\n",
        "train = chunk_stock_dataset[:split]\n",
        "test = chunk_stock_dataset[split:]"
      ]
    },
    {
      "cell_type": "code",
      "execution_count": 13,
      "metadata": {
        "colab": {
          "base_uri": "https://localhost:8080/",
          "height": 661
        },
        "id": "q_qaOfCHXoqJ",
        "outputId": "b1cec1f0-e031-43ef-b4f1-73f382d6ab94"
      },
      "outputs": [
        {
          "data": {
            "text/html": [
              "\n",
              "  <div id=\"df-c0cb521c-0d0e-4b8f-9f93-b080c55e6256\">\n",
              "    <div class=\"colab-df-container\">\n",
              "      <div>\n",
              "<style scoped>\n",
              "    .dataframe tbody tr th:only-of-type {\n",
              "        vertical-align: middle;\n",
              "    }\n",
              "\n",
              "    .dataframe tbody tr th {\n",
              "        vertical-align: top;\n",
              "    }\n",
              "\n",
              "    .dataframe thead th {\n",
              "        text-align: right;\n",
              "    }\n",
              "</style>\n",
              "<table border=\"1\" class=\"dataframe\">\n",
              "  <thead>\n",
              "    <tr style=\"text-align: right;\">\n",
              "      <th></th>\n",
              "      <th>Date</th>\n",
              "      <th>symbols</th>\n",
              "      <th>RRET3M</th>\n",
              "      <th>RRET6M</th>\n",
              "      <th>RRET12M</th>\n",
              "      <th>SRET3M</th>\n",
              "      <th>SRET6M</th>\n",
              "      <th>SRET12M</th>\n",
              "      <th>ISR3M</th>\n",
              "      <th>ISR6M</th>\n",
              "      <th>ISR12M</th>\n",
              "      <th>EWVOL3M</th>\n",
              "      <th>ISR12M_nexmonth</th>\n",
              "      <th>date_query_id</th>\n",
              "    </tr>\n",
              "  </thead>\n",
              "  <tbody>\n",
              "    <tr>\n",
              "      <th>0</th>\n",
              "      <td>2007-10-31</td>\n",
              "      <td>A</td>\n",
              "      <td>-0.045831</td>\n",
              "      <td>0.010974</td>\n",
              "      <td>0.120625</td>\n",
              "      <td>-0.286889</td>\n",
              "      <td>0.048575</td>\n",
              "      <td>0.377537</td>\n",
              "      <td>-0.043293</td>\n",
              "      <td>0.218709</td>\n",
              "      <td>0.592724</td>\n",
              "      <td>0.252168</td>\n",
              "      <td>0.648748</td>\n",
              "      <td>20071031</td>\n",
              "    </tr>\n",
              "    <tr>\n",
              "      <th>1</th>\n",
              "      <td>2007-10-31</td>\n",
              "      <td>AA</td>\n",
              "      <td>0.049675</td>\n",
              "      <td>0.139174</td>\n",
              "      <td>0.442392</td>\n",
              "      <td>0.261090</td>\n",
              "      <td>0.517240</td>\n",
              "      <td>1.162594</td>\n",
              "      <td>0.694973</td>\n",
              "      <td>0.873066</td>\n",
              "      <td>1.274447</td>\n",
              "      <td>0.347691</td>\n",
              "      <td>0.747572</td>\n",
              "      <td>20071031</td>\n",
              "    </tr>\n",
              "    <tr>\n",
              "      <th>2</th>\n",
              "      <td>2007-10-31</td>\n",
              "      <td>AAPL</td>\n",
              "      <td>0.391677</td>\n",
              "      <td>0.891933</td>\n",
              "      <td>1.361976</td>\n",
              "      <td>1.943524</td>\n",
              "      <td>3.129527</td>\n",
              "      <td>3.379097</td>\n",
              "      <td>3.461684</td>\n",
              "      <td>3.534918</td>\n",
              "      <td>2.782748</td>\n",
              "      <td>0.371120</td>\n",
              "      <td>2.032981</td>\n",
              "      <td>20071031</td>\n",
              "    </tr>\n",
              "    <tr>\n",
              "      <th>3</th>\n",
              "      <td>2007-10-31</td>\n",
              "      <td>ABC</td>\n",
              "      <td>0.027289</td>\n",
              "      <td>-0.055854</td>\n",
              "      <td>0.041181</td>\n",
              "      <td>0.187520</td>\n",
              "      <td>-0.271396</td>\n",
              "      <td>0.141491</td>\n",
              "      <td>0.510378</td>\n",
              "      <td>-0.021059</td>\n",
              "      <td>0.413389</td>\n",
              "      <td>0.266703</td>\n",
              "      <td>0.164794</td>\n",
              "      <td>20071031</td>\n",
              "    </tr>\n",
              "    <tr>\n",
              "      <th>4</th>\n",
              "      <td>2007-10-31</td>\n",
              "      <td>ABT</td>\n",
              "      <td>0.073018</td>\n",
              "      <td>-0.036949</td>\n",
              "      <td>0.187770</td>\n",
              "      <td>0.665704</td>\n",
              "      <td>-0.238196</td>\n",
              "      <td>0.855951</td>\n",
              "      <td>1.383667</td>\n",
              "      <td>-0.011155</td>\n",
              "      <td>0.947518</td>\n",
              "      <td>0.191821</td>\n",
              "      <td>1.151533</td>\n",
              "      <td>20071031</td>\n",
              "    </tr>\n",
              "    <tr>\n",
              "      <th>...</th>\n",
              "      <td>...</td>\n",
              "      <td>...</td>\n",
              "      <td>...</td>\n",
              "      <td>...</td>\n",
              "      <td>...</td>\n",
              "      <td>...</td>\n",
              "      <td>...</td>\n",
              "      <td>...</td>\n",
              "      <td>...</td>\n",
              "      <td>...</td>\n",
              "      <td>...</td>\n",
              "      <td>...</td>\n",
              "      <td>...</td>\n",
              "      <td>...</td>\n",
              "    </tr>\n",
              "    <tr>\n",
              "      <th>16879</th>\n",
              "      <td>2010-09-30</td>\n",
              "      <td>XRX</td>\n",
              "      <td>0.303959</td>\n",
              "      <td>0.045439</td>\n",
              "      <td>0.362262</td>\n",
              "      <td>1.724962</td>\n",
              "      <td>0.182339</td>\n",
              "      <td>1.027915</td>\n",
              "      <td>3.189321</td>\n",
              "      <td>0.418874</td>\n",
              "      <td>1.196751</td>\n",
              "      <td>0.366629</td>\n",
              "      <td>1.548755</td>\n",
              "      <td>20100930</td>\n",
              "    </tr>\n",
              "    <tr>\n",
              "      <th>16880</th>\n",
              "      <td>2010-09-30</td>\n",
              "      <td>Y</td>\n",
              "      <td>0.026559</td>\n",
              "      <td>0.016299</td>\n",
              "      <td>0.193170</td>\n",
              "      <td>0.275048</td>\n",
              "      <td>0.119357</td>\n",
              "      <td>1.000235</td>\n",
              "      <td>0.638136</td>\n",
              "      <td>0.255998</td>\n",
              "      <td>0.985839</td>\n",
              "      <td>0.204021</td>\n",
              "      <td>0.916309</td>\n",
              "      <td>20100930</td>\n",
              "    </tr>\n",
              "    <tr>\n",
              "      <th>16881</th>\n",
              "      <td>2010-09-30</td>\n",
              "      <td>YUM</td>\n",
              "      <td>0.184269</td>\n",
              "      <td>0.187002</td>\n",
              "      <td>0.394750</td>\n",
              "      <td>1.678535</td>\n",
              "      <td>1.204505</td>\n",
              "      <td>1.797914</td>\n",
              "      <td>3.156500</td>\n",
              "      <td>1.476169</td>\n",
              "      <td>1.455018</td>\n",
              "      <td>0.210894</td>\n",
              "      <td>2.044750</td>\n",
              "      <td>20100930</td>\n",
              "    </tr>\n",
              "    <tr>\n",
              "      <th>16882</th>\n",
              "      <td>2010-09-30</td>\n",
              "      <td>ZBH</td>\n",
              "      <td>-0.028767</td>\n",
              "      <td>-0.127688</td>\n",
              "      <td>-0.020954</td>\n",
              "      <td>-0.221831</td>\n",
              "      <td>-0.696237</td>\n",
              "      <td>-0.080790</td>\n",
              "      <td>-0.021615</td>\n",
              "      <td>-0.058335</td>\n",
              "      <td>0.109318</td>\n",
              "      <td>0.259777</td>\n",
              "      <td>-0.017404</td>\n",
              "      <td>20100930</td>\n",
              "    </tr>\n",
              "    <tr>\n",
              "      <th>16883</th>\n",
              "      <td>2010-09-30</td>\n",
              "      <td>ZION</td>\n",
              "      <td>-0.016582</td>\n",
              "      <td>-0.022974</td>\n",
              "      <td>0.191135</td>\n",
              "      <td>-0.069084</td>\n",
              "      <td>-0.067677</td>\n",
              "      <td>0.398145</td>\n",
              "      <td>0.104804</td>\n",
              "      <td>0.177301</td>\n",
              "      <td>0.684476</td>\n",
              "      <td>0.467531</td>\n",
              "      <td>0.971591</td>\n",
              "      <td>20100930</td>\n",
              "    </tr>\n",
              "  </tbody>\n",
              "</table>\n",
              "<p>16884 rows × 14 columns</p>\n",
              "</div>\n",
              "      <button class=\"colab-df-convert\" onclick=\"convertToInteractive('df-c0cb521c-0d0e-4b8f-9f93-b080c55e6256')\"\n",
              "              title=\"Convert this dataframe to an interactive table.\"\n",
              "              style=\"display:none;\">\n",
              "        \n",
              "  <svg xmlns=\"http://www.w3.org/2000/svg\" height=\"24px\"viewBox=\"0 0 24 24\"\n",
              "       width=\"24px\">\n",
              "    <path d=\"M0 0h24v24H0V0z\" fill=\"none\"/>\n",
              "    <path d=\"M18.56 5.44l.94 2.06.94-2.06 2.06-.94-2.06-.94-.94-2.06-.94 2.06-2.06.94zm-11 1L8.5 8.5l.94-2.06 2.06-.94-2.06-.94L8.5 2.5l-.94 2.06-2.06.94zm10 10l.94 2.06.94-2.06 2.06-.94-2.06-.94-.94-2.06-.94 2.06-2.06.94z\"/><path d=\"M17.41 7.96l-1.37-1.37c-.4-.4-.92-.59-1.43-.59-.52 0-1.04.2-1.43.59L10.3 9.45l-7.72 7.72c-.78.78-.78 2.05 0 2.83L4 21.41c.39.39.9.59 1.41.59.51 0 1.02-.2 1.41-.59l7.78-7.78 2.81-2.81c.8-.78.8-2.07 0-2.86zM5.41 20L4 18.59l7.72-7.72 1.47 1.35L5.41 20z\"/>\n",
              "  </svg>\n",
              "      </button>\n",
              "      \n",
              "  <style>\n",
              "    .colab-df-container {\n",
              "      display:flex;\n",
              "      flex-wrap:wrap;\n",
              "      gap: 12px;\n",
              "    }\n",
              "\n",
              "    .colab-df-convert {\n",
              "      background-color: #E8F0FE;\n",
              "      border: none;\n",
              "      border-radius: 50%;\n",
              "      cursor: pointer;\n",
              "      display: none;\n",
              "      fill: #1967D2;\n",
              "      height: 32px;\n",
              "      padding: 0 0 0 0;\n",
              "      width: 32px;\n",
              "    }\n",
              "\n",
              "    .colab-df-convert:hover {\n",
              "      background-color: #E2EBFA;\n",
              "      box-shadow: 0px 1px 2px rgba(60, 64, 67, 0.3), 0px 1px 3px 1px rgba(60, 64, 67, 0.15);\n",
              "      fill: #174EA6;\n",
              "    }\n",
              "\n",
              "    [theme=dark] .colab-df-convert {\n",
              "      background-color: #3B4455;\n",
              "      fill: #D2E3FC;\n",
              "    }\n",
              "\n",
              "    [theme=dark] .colab-df-convert:hover {\n",
              "      background-color: #434B5C;\n",
              "      box-shadow: 0px 1px 3px 1px rgba(0, 0, 0, 0.15);\n",
              "      filter: drop-shadow(0px 1px 2px rgba(0, 0, 0, 0.3));\n",
              "      fill: #FFFFFF;\n",
              "    }\n",
              "  </style>\n",
              "\n",
              "      <script>\n",
              "        const buttonEl =\n",
              "          document.querySelector('#df-c0cb521c-0d0e-4b8f-9f93-b080c55e6256 button.colab-df-convert');\n",
              "        buttonEl.style.display =\n",
              "          google.colab.kernel.accessAllowed ? 'block' : 'none';\n",
              "\n",
              "        async function convertToInteractive(key) {\n",
              "          const element = document.querySelector('#df-c0cb521c-0d0e-4b8f-9f93-b080c55e6256');\n",
              "          const dataTable =\n",
              "            await google.colab.kernel.invokeFunction('convertToInteractive',\n",
              "                                                     [key], {});\n",
              "          if (!dataTable) return;\n",
              "\n",
              "          const docLinkHtml = 'Like what you see? Visit the ' +\n",
              "            '<a target=\"_blank\" href=https://colab.research.google.com/notebooks/data_table.ipynb>data table notebook</a>'\n",
              "            + ' to learn more about interactive tables.';\n",
              "          element.innerHTML = '';\n",
              "          dataTable['output_type'] = 'display_data';\n",
              "          await google.colab.output.renderOutput(dataTable, element);\n",
              "          const docLink = document.createElement('div');\n",
              "          docLink.innerHTML = docLinkHtml;\n",
              "          element.appendChild(docLink);\n",
              "        }\n",
              "      </script>\n",
              "    </div>\n",
              "  </div>\n",
              "  "
            ],
            "text/plain": [
              "            Date symbols    RRET3M    RRET6M   RRET12M    SRET3M    SRET6M  \\\n",
              "0     2007-10-31       A -0.045831  0.010974  0.120625 -0.286889  0.048575   \n",
              "1     2007-10-31      AA  0.049675  0.139174  0.442392  0.261090  0.517240   \n",
              "2     2007-10-31    AAPL  0.391677  0.891933  1.361976  1.943524  3.129527   \n",
              "3     2007-10-31     ABC  0.027289 -0.055854  0.041181  0.187520 -0.271396   \n",
              "4     2007-10-31     ABT  0.073018 -0.036949  0.187770  0.665704 -0.238196   \n",
              "...          ...     ...       ...       ...       ...       ...       ...   \n",
              "16879 2010-09-30     XRX  0.303959  0.045439  0.362262  1.724962  0.182339   \n",
              "16880 2010-09-30       Y  0.026559  0.016299  0.193170  0.275048  0.119357   \n",
              "16881 2010-09-30     YUM  0.184269  0.187002  0.394750  1.678535  1.204505   \n",
              "16882 2010-09-30     ZBH -0.028767 -0.127688 -0.020954 -0.221831 -0.696237   \n",
              "16883 2010-09-30    ZION -0.016582 -0.022974  0.191135 -0.069084 -0.067677   \n",
              "\n",
              "        SRET12M     ISR3M     ISR6M    ISR12M   EWVOL3M  ISR12M_nexmonth  \\\n",
              "0      0.377537 -0.043293  0.218709  0.592724  0.252168         0.648748   \n",
              "1      1.162594  0.694973  0.873066  1.274447  0.347691         0.747572   \n",
              "2      3.379097  3.461684  3.534918  2.782748  0.371120         2.032981   \n",
              "3      0.141491  0.510378 -0.021059  0.413389  0.266703         0.164794   \n",
              "4      0.855951  1.383667 -0.011155  0.947518  0.191821         1.151533   \n",
              "...         ...       ...       ...       ...       ...              ...   \n",
              "16879  1.027915  3.189321  0.418874  1.196751  0.366629         1.548755   \n",
              "16880  1.000235  0.638136  0.255998  0.985839  0.204021         0.916309   \n",
              "16881  1.797914  3.156500  1.476169  1.455018  0.210894         2.044750   \n",
              "16882 -0.080790 -0.021615 -0.058335  0.109318  0.259777        -0.017404   \n",
              "16883  0.398145  0.104804  0.177301  0.684476  0.467531         0.971591   \n",
              "\n",
              "       date_query_id  \n",
              "0           20071031  \n",
              "1           20071031  \n",
              "2           20071031  \n",
              "3           20071031  \n",
              "4           20071031  \n",
              "...              ...  \n",
              "16879       20100930  \n",
              "16880       20100930  \n",
              "16881       20100930  \n",
              "16882       20100930  \n",
              "16883       20100930  \n",
              "\n",
              "[16884 rows x 14 columns]"
            ]
          },
          "execution_count": 13,
          "metadata": {},
          "output_type": "execute_result"
        }
      ],
      "source": [
        "train"
      ]
    },
    {
      "cell_type": "code",
      "execution_count": 14,
      "metadata": {
        "colab": {
          "base_uri": "https://localhost:8080/",
          "height": 423
        },
        "id": "AFjxWA5sLU94",
        "outputId": "8d3b4126-1a04-4c14-e9c2-aeaccd93ea19"
      },
      "outputs": [
        {
          "data": {
            "text/html": [
              "\n",
              "  <div id=\"df-11ef60f8-3e06-4435-8277-1d9662c20955\">\n",
              "    <div class=\"colab-df-container\">\n",
              "      <div>\n",
              "<style scoped>\n",
              "    .dataframe tbody tr th:only-of-type {\n",
              "        vertical-align: middle;\n",
              "    }\n",
              "\n",
              "    .dataframe tbody tr th {\n",
              "        vertical-align: top;\n",
              "    }\n",
              "\n",
              "    .dataframe thead th {\n",
              "        text-align: right;\n",
              "    }\n",
              "</style>\n",
              "<table border=\"1\" class=\"dataframe\">\n",
              "  <thead>\n",
              "    <tr style=\"text-align: right;\">\n",
              "      <th></th>\n",
              "      <th>RRET3M</th>\n",
              "      <th>RRET6M</th>\n",
              "      <th>RRET12M</th>\n",
              "      <th>SRET3M</th>\n",
              "      <th>SRET6M</th>\n",
              "      <th>SRET12M</th>\n",
              "      <th>ISR3M</th>\n",
              "      <th>ISR6M</th>\n",
              "      <th>ISR12M</th>\n",
              "      <th>EWVOL3M</th>\n",
              "    </tr>\n",
              "  </thead>\n",
              "  <tbody>\n",
              "    <tr>\n",
              "      <th>0</th>\n",
              "      <td>-0.045831</td>\n",
              "      <td>0.010974</td>\n",
              "      <td>0.120625</td>\n",
              "      <td>-0.286889</td>\n",
              "      <td>0.048575</td>\n",
              "      <td>0.377537</td>\n",
              "      <td>-0.043293</td>\n",
              "      <td>0.218709</td>\n",
              "      <td>0.592724</td>\n",
              "      <td>0.252168</td>\n",
              "    </tr>\n",
              "    <tr>\n",
              "      <th>1</th>\n",
              "      <td>0.049675</td>\n",
              "      <td>0.139174</td>\n",
              "      <td>0.442392</td>\n",
              "      <td>0.261090</td>\n",
              "      <td>0.517240</td>\n",
              "      <td>1.162594</td>\n",
              "      <td>0.694973</td>\n",
              "      <td>0.873066</td>\n",
              "      <td>1.274447</td>\n",
              "      <td>0.347691</td>\n",
              "    </tr>\n",
              "    <tr>\n",
              "      <th>2</th>\n",
              "      <td>0.391677</td>\n",
              "      <td>0.891933</td>\n",
              "      <td>1.361976</td>\n",
              "      <td>1.943524</td>\n",
              "      <td>3.129527</td>\n",
              "      <td>3.379097</td>\n",
              "      <td>3.461684</td>\n",
              "      <td>3.534918</td>\n",
              "      <td>2.782748</td>\n",
              "      <td>0.371120</td>\n",
              "    </tr>\n",
              "    <tr>\n",
              "      <th>3</th>\n",
              "      <td>0.027289</td>\n",
              "      <td>-0.055854</td>\n",
              "      <td>0.041181</td>\n",
              "      <td>0.187520</td>\n",
              "      <td>-0.271396</td>\n",
              "      <td>0.141491</td>\n",
              "      <td>0.510378</td>\n",
              "      <td>-0.021059</td>\n",
              "      <td>0.413389</td>\n",
              "      <td>0.266703</td>\n",
              "    </tr>\n",
              "    <tr>\n",
              "      <th>4</th>\n",
              "      <td>0.073018</td>\n",
              "      <td>-0.036949</td>\n",
              "      <td>0.187770</td>\n",
              "      <td>0.665704</td>\n",
              "      <td>-0.238196</td>\n",
              "      <td>0.855951</td>\n",
              "      <td>1.383667</td>\n",
              "      <td>-0.011155</td>\n",
              "      <td>0.947518</td>\n",
              "      <td>0.191821</td>\n",
              "    </tr>\n",
              "    <tr>\n",
              "      <th>...</th>\n",
              "      <td>...</td>\n",
              "      <td>...</td>\n",
              "      <td>...</td>\n",
              "      <td>...</td>\n",
              "      <td>...</td>\n",
              "      <td>...</td>\n",
              "      <td>...</td>\n",
              "      <td>...</td>\n",
              "      <td>...</td>\n",
              "      <td>...</td>\n",
              "    </tr>\n",
              "    <tr>\n",
              "      <th>16879</th>\n",
              "      <td>0.303959</td>\n",
              "      <td>0.045439</td>\n",
              "      <td>0.362262</td>\n",
              "      <td>1.724962</td>\n",
              "      <td>0.182339</td>\n",
              "      <td>1.027915</td>\n",
              "      <td>3.189321</td>\n",
              "      <td>0.418874</td>\n",
              "      <td>1.196751</td>\n",
              "      <td>0.366629</td>\n",
              "    </tr>\n",
              "    <tr>\n",
              "      <th>16880</th>\n",
              "      <td>0.026559</td>\n",
              "      <td>0.016299</td>\n",
              "      <td>0.193170</td>\n",
              "      <td>0.275048</td>\n",
              "      <td>0.119357</td>\n",
              "      <td>1.000235</td>\n",
              "      <td>0.638136</td>\n",
              "      <td>0.255998</td>\n",
              "      <td>0.985839</td>\n",
              "      <td>0.204021</td>\n",
              "    </tr>\n",
              "    <tr>\n",
              "      <th>16881</th>\n",
              "      <td>0.184269</td>\n",
              "      <td>0.187002</td>\n",
              "      <td>0.394750</td>\n",
              "      <td>1.678535</td>\n",
              "      <td>1.204505</td>\n",
              "      <td>1.797914</td>\n",
              "      <td>3.156500</td>\n",
              "      <td>1.476169</td>\n",
              "      <td>1.455018</td>\n",
              "      <td>0.210894</td>\n",
              "    </tr>\n",
              "    <tr>\n",
              "      <th>16882</th>\n",
              "      <td>-0.028767</td>\n",
              "      <td>-0.127688</td>\n",
              "      <td>-0.020954</td>\n",
              "      <td>-0.221831</td>\n",
              "      <td>-0.696237</td>\n",
              "      <td>-0.080790</td>\n",
              "      <td>-0.021615</td>\n",
              "      <td>-0.058335</td>\n",
              "      <td>0.109318</td>\n",
              "      <td>0.259777</td>\n",
              "    </tr>\n",
              "    <tr>\n",
              "      <th>16883</th>\n",
              "      <td>-0.016582</td>\n",
              "      <td>-0.022974</td>\n",
              "      <td>0.191135</td>\n",
              "      <td>-0.069084</td>\n",
              "      <td>-0.067677</td>\n",
              "      <td>0.398145</td>\n",
              "      <td>0.104804</td>\n",
              "      <td>0.177301</td>\n",
              "      <td>0.684476</td>\n",
              "      <td>0.467531</td>\n",
              "    </tr>\n",
              "  </tbody>\n",
              "</table>\n",
              "<p>16884 rows × 10 columns</p>\n",
              "</div>\n",
              "      <button class=\"colab-df-convert\" onclick=\"convertToInteractive('df-11ef60f8-3e06-4435-8277-1d9662c20955')\"\n",
              "              title=\"Convert this dataframe to an interactive table.\"\n",
              "              style=\"display:none;\">\n",
              "        \n",
              "  <svg xmlns=\"http://www.w3.org/2000/svg\" height=\"24px\"viewBox=\"0 0 24 24\"\n",
              "       width=\"24px\">\n",
              "    <path d=\"M0 0h24v24H0V0z\" fill=\"none\"/>\n",
              "    <path d=\"M18.56 5.44l.94 2.06.94-2.06 2.06-.94-2.06-.94-.94-2.06-.94 2.06-2.06.94zm-11 1L8.5 8.5l.94-2.06 2.06-.94-2.06-.94L8.5 2.5l-.94 2.06-2.06.94zm10 10l.94 2.06.94-2.06 2.06-.94-2.06-.94-.94-2.06-.94 2.06-2.06.94z\"/><path d=\"M17.41 7.96l-1.37-1.37c-.4-.4-.92-.59-1.43-.59-.52 0-1.04.2-1.43.59L10.3 9.45l-7.72 7.72c-.78.78-.78 2.05 0 2.83L4 21.41c.39.39.9.59 1.41.59.51 0 1.02-.2 1.41-.59l7.78-7.78 2.81-2.81c.8-.78.8-2.07 0-2.86zM5.41 20L4 18.59l7.72-7.72 1.47 1.35L5.41 20z\"/>\n",
              "  </svg>\n",
              "      </button>\n",
              "      \n",
              "  <style>\n",
              "    .colab-df-container {\n",
              "      display:flex;\n",
              "      flex-wrap:wrap;\n",
              "      gap: 12px;\n",
              "    }\n",
              "\n",
              "    .colab-df-convert {\n",
              "      background-color: #E8F0FE;\n",
              "      border: none;\n",
              "      border-radius: 50%;\n",
              "      cursor: pointer;\n",
              "      display: none;\n",
              "      fill: #1967D2;\n",
              "      height: 32px;\n",
              "      padding: 0 0 0 0;\n",
              "      width: 32px;\n",
              "    }\n",
              "\n",
              "    .colab-df-convert:hover {\n",
              "      background-color: #E2EBFA;\n",
              "      box-shadow: 0px 1px 2px rgba(60, 64, 67, 0.3), 0px 1px 3px 1px rgba(60, 64, 67, 0.15);\n",
              "      fill: #174EA6;\n",
              "    }\n",
              "\n",
              "    [theme=dark] .colab-df-convert {\n",
              "      background-color: #3B4455;\n",
              "      fill: #D2E3FC;\n",
              "    }\n",
              "\n",
              "    [theme=dark] .colab-df-convert:hover {\n",
              "      background-color: #434B5C;\n",
              "      box-shadow: 0px 1px 3px 1px rgba(0, 0, 0, 0.15);\n",
              "      filter: drop-shadow(0px 1px 2px rgba(0, 0, 0, 0.3));\n",
              "      fill: #FFFFFF;\n",
              "    }\n",
              "  </style>\n",
              "\n",
              "      <script>\n",
              "        const buttonEl =\n",
              "          document.querySelector('#df-11ef60f8-3e06-4435-8277-1d9662c20955 button.colab-df-convert');\n",
              "        buttonEl.style.display =\n",
              "          google.colab.kernel.accessAllowed ? 'block' : 'none';\n",
              "\n",
              "        async function convertToInteractive(key) {\n",
              "          const element = document.querySelector('#df-11ef60f8-3e06-4435-8277-1d9662c20955');\n",
              "          const dataTable =\n",
              "            await google.colab.kernel.invokeFunction('convertToInteractive',\n",
              "                                                     [key], {});\n",
              "          if (!dataTable) return;\n",
              "\n",
              "          const docLinkHtml = 'Like what you see? Visit the ' +\n",
              "            '<a target=\"_blank\" href=https://colab.research.google.com/notebooks/data_table.ipynb>data table notebook</a>'\n",
              "            + ' to learn more about interactive tables.';\n",
              "          element.innerHTML = '';\n",
              "          dataTable['output_type'] = 'display_data';\n",
              "          await google.colab.output.renderOutput(dataTable, element);\n",
              "          const docLink = document.createElement('div');\n",
              "          docLink.innerHTML = docLinkHtml;\n",
              "          element.appendChild(docLink);\n",
              "        }\n",
              "      </script>\n",
              "    </div>\n",
              "  </div>\n",
              "  "
            ],
            "text/plain": [
              "         RRET3M    RRET6M   RRET12M    SRET3M    SRET6M   SRET12M     ISR3M  \\\n",
              "0     -0.045831  0.010974  0.120625 -0.286889  0.048575  0.377537 -0.043293   \n",
              "1      0.049675  0.139174  0.442392  0.261090  0.517240  1.162594  0.694973   \n",
              "2      0.391677  0.891933  1.361976  1.943524  3.129527  3.379097  3.461684   \n",
              "3      0.027289 -0.055854  0.041181  0.187520 -0.271396  0.141491  0.510378   \n",
              "4      0.073018 -0.036949  0.187770  0.665704 -0.238196  0.855951  1.383667   \n",
              "...         ...       ...       ...       ...       ...       ...       ...   \n",
              "16879  0.303959  0.045439  0.362262  1.724962  0.182339  1.027915  3.189321   \n",
              "16880  0.026559  0.016299  0.193170  0.275048  0.119357  1.000235  0.638136   \n",
              "16881  0.184269  0.187002  0.394750  1.678535  1.204505  1.797914  3.156500   \n",
              "16882 -0.028767 -0.127688 -0.020954 -0.221831 -0.696237 -0.080790 -0.021615   \n",
              "16883 -0.016582 -0.022974  0.191135 -0.069084 -0.067677  0.398145  0.104804   \n",
              "\n",
              "          ISR6M    ISR12M   EWVOL3M  \n",
              "0      0.218709  0.592724  0.252168  \n",
              "1      0.873066  1.274447  0.347691  \n",
              "2      3.534918  2.782748  0.371120  \n",
              "3     -0.021059  0.413389  0.266703  \n",
              "4     -0.011155  0.947518  0.191821  \n",
              "...         ...       ...       ...  \n",
              "16879  0.418874  1.196751  0.366629  \n",
              "16880  0.255998  0.985839  0.204021  \n",
              "16881  1.476169  1.455018  0.210894  \n",
              "16882 -0.058335  0.109318  0.259777  \n",
              "16883  0.177301  0.684476  0.467531  \n",
              "\n",
              "[16884 rows x 10 columns]"
            ]
          },
          "execution_count": 14,
          "metadata": {},
          "output_type": "execute_result"
        }
      ],
      "source": [
        "train_features = train[['RRET3M', 'RRET6M', 'RRET12M', 'SRET3M', 'SRET6M', 'SRET12M', 'ISR3M', 'ISR6M', 'ISR12M', 'EWVOL3M']]\n",
        "train_features"
      ]
    },
    {
      "cell_type": "markdown",
      "metadata": {
        "id": "UfEaqaMZLU94"
      },
      "source": [
        "### 1.3 Ventile-Based Scoring"
      ]
    },
    {
      "cell_type": "code",
      "execution_count": 15,
      "metadata": {
        "colab": {
          "base_uri": "https://localhost:8080/",
          "height": 423
        },
        "id": "ddvaME0JLU94",
        "outputId": "24a83f9f-4b28-432e-bf3b-3fc4a7fe28d1"
      },
      "outputs": [
        {
          "data": {
            "text/html": [
              "\n",
              "  <div id=\"df-5887cb74-09e3-42ed-95ba-12ec10eb2106\">\n",
              "    <div class=\"colab-df-container\">\n",
              "      <div>\n",
              "<style scoped>\n",
              "    .dataframe tbody tr th:only-of-type {\n",
              "        vertical-align: middle;\n",
              "    }\n",
              "\n",
              "    .dataframe tbody tr th {\n",
              "        vertical-align: top;\n",
              "    }\n",
              "\n",
              "    .dataframe thead th {\n",
              "        text-align: right;\n",
              "    }\n",
              "</style>\n",
              "<table border=\"1\" class=\"dataframe\">\n",
              "  <thead>\n",
              "    <tr style=\"text-align: right;\">\n",
              "      <th></th>\n",
              "      <th>Date</th>\n",
              "      <th>symbols</th>\n",
              "      <th>ISC12M</th>\n",
              "    </tr>\n",
              "  </thead>\n",
              "  <tbody>\n",
              "    <tr>\n",
              "      <th>0</th>\n",
              "      <td>2007-09-28</td>\n",
              "      <td>A</td>\n",
              "      <td>11.0</td>\n",
              "    </tr>\n",
              "    <tr>\n",
              "      <th>1</th>\n",
              "      <td>2007-09-28</td>\n",
              "      <td>AA</td>\n",
              "      <td>15.0</td>\n",
              "    </tr>\n",
              "    <tr>\n",
              "      <th>2</th>\n",
              "      <td>2007-09-28</td>\n",
              "      <td>AAPL</td>\n",
              "      <td>19.0</td>\n",
              "    </tr>\n",
              "    <tr>\n",
              "      <th>3</th>\n",
              "      <td>2007-09-28</td>\n",
              "      <td>ABC</td>\n",
              "      <td>9.0</td>\n",
              "    </tr>\n",
              "    <tr>\n",
              "      <th>4</th>\n",
              "      <td>2007-09-28</td>\n",
              "      <td>ABT</td>\n",
              "      <td>13.0</td>\n",
              "    </tr>\n",
              "    <tr>\n",
              "      <th>...</th>\n",
              "      <td>...</td>\n",
              "      <td>...</td>\n",
              "      <td>...</td>\n",
              "    </tr>\n",
              "    <tr>\n",
              "      <th>83946</th>\n",
              "      <td>2022-07-29</td>\n",
              "      <td>XRX</td>\n",
              "      <td>5.0</td>\n",
              "    </tr>\n",
              "    <tr>\n",
              "      <th>83947</th>\n",
              "      <td>2022-07-29</td>\n",
              "      <td>Y</td>\n",
              "      <td>18.0</td>\n",
              "    </tr>\n",
              "    <tr>\n",
              "      <th>83948</th>\n",
              "      <td>2022-07-29</td>\n",
              "      <td>YUM</td>\n",
              "      <td>8.0</td>\n",
              "    </tr>\n",
              "    <tr>\n",
              "      <th>83949</th>\n",
              "      <td>2022-07-29</td>\n",
              "      <td>ZBH</td>\n",
              "      <td>4.0</td>\n",
              "    </tr>\n",
              "    <tr>\n",
              "      <th>83950</th>\n",
              "      <td>2022-07-29</td>\n",
              "      <td>ZION</td>\n",
              "      <td>12.0</td>\n",
              "    </tr>\n",
              "  </tbody>\n",
              "</table>\n",
              "<p>83951 rows × 3 columns</p>\n",
              "</div>\n",
              "      <button class=\"colab-df-convert\" onclick=\"convertToInteractive('df-5887cb74-09e3-42ed-95ba-12ec10eb2106')\"\n",
              "              title=\"Convert this dataframe to an interactive table.\"\n",
              "              style=\"display:none;\">\n",
              "        \n",
              "  <svg xmlns=\"http://www.w3.org/2000/svg\" height=\"24px\"viewBox=\"0 0 24 24\"\n",
              "       width=\"24px\">\n",
              "    <path d=\"M0 0h24v24H0V0z\" fill=\"none\"/>\n",
              "    <path d=\"M18.56 5.44l.94 2.06.94-2.06 2.06-.94-2.06-.94-.94-2.06-.94 2.06-2.06.94zm-11 1L8.5 8.5l.94-2.06 2.06-.94-2.06-.94L8.5 2.5l-.94 2.06-2.06.94zm10 10l.94 2.06.94-2.06 2.06-.94-2.06-.94-.94-2.06-.94 2.06-2.06.94z\"/><path d=\"M17.41 7.96l-1.37-1.37c-.4-.4-.92-.59-1.43-.59-.52 0-1.04.2-1.43.59L10.3 9.45l-7.72 7.72c-.78.78-.78 2.05 0 2.83L4 21.41c.39.39.9.59 1.41.59.51 0 1.02-.2 1.41-.59l7.78-7.78 2.81-2.81c.8-.78.8-2.07 0-2.86zM5.41 20L4 18.59l7.72-7.72 1.47 1.35L5.41 20z\"/>\n",
              "  </svg>\n",
              "      </button>\n",
              "      \n",
              "  <style>\n",
              "    .colab-df-container {\n",
              "      display:flex;\n",
              "      flex-wrap:wrap;\n",
              "      gap: 12px;\n",
              "    }\n",
              "\n",
              "    .colab-df-convert {\n",
              "      background-color: #E8F0FE;\n",
              "      border: none;\n",
              "      border-radius: 50%;\n",
              "      cursor: pointer;\n",
              "      display: none;\n",
              "      fill: #1967D2;\n",
              "      height: 32px;\n",
              "      padding: 0 0 0 0;\n",
              "      width: 32px;\n",
              "    }\n",
              "\n",
              "    .colab-df-convert:hover {\n",
              "      background-color: #E2EBFA;\n",
              "      box-shadow: 0px 1px 2px rgba(60, 64, 67, 0.3), 0px 1px 3px 1px rgba(60, 64, 67, 0.15);\n",
              "      fill: #174EA6;\n",
              "    }\n",
              "\n",
              "    [theme=dark] .colab-df-convert {\n",
              "      background-color: #3B4455;\n",
              "      fill: #D2E3FC;\n",
              "    }\n",
              "\n",
              "    [theme=dark] .colab-df-convert:hover {\n",
              "      background-color: #434B5C;\n",
              "      box-shadow: 0px 1px 3px 1px rgba(0, 0, 0, 0.15);\n",
              "      filter: drop-shadow(0px 1px 2px rgba(0, 0, 0, 0.3));\n",
              "      fill: #FFFFFF;\n",
              "    }\n",
              "  </style>\n",
              "\n",
              "      <script>\n",
              "        const buttonEl =\n",
              "          document.querySelector('#df-5887cb74-09e3-42ed-95ba-12ec10eb2106 button.colab-df-convert');\n",
              "        buttonEl.style.display =\n",
              "          google.colab.kernel.accessAllowed ? 'block' : 'none';\n",
              "\n",
              "        async function convertToInteractive(key) {\n",
              "          const element = document.querySelector('#df-5887cb74-09e3-42ed-95ba-12ec10eb2106');\n",
              "          const dataTable =\n",
              "            await google.colab.kernel.invokeFunction('convertToInteractive',\n",
              "                                                     [key], {});\n",
              "          if (!dataTable) return;\n",
              "\n",
              "          const docLinkHtml = 'Like what you see? Visit the ' +\n",
              "            '<a target=\"_blank\" href=https://colab.research.google.com/notebooks/data_table.ipynb>data table notebook</a>'\n",
              "            + ' to learn more about interactive tables.';\n",
              "          element.innerHTML = '';\n",
              "          dataTable['output_type'] = 'display_data';\n",
              "          await google.colab.output.renderOutput(dataTable, element);\n",
              "          const docLink = document.createElement('div');\n",
              "          docLink.innerHTML = docLinkHtml;\n",
              "          element.appendChild(docLink);\n",
              "        }\n",
              "      </script>\n",
              "    </div>\n",
              "  </div>\n",
              "  "
            ],
            "text/plain": [
              "            Date symbols  ISC12M\n",
              "0     2007-09-28       A    11.0\n",
              "1     2007-09-28      AA    15.0\n",
              "2     2007-09-28    AAPL    19.0\n",
              "3     2007-09-28     ABC     9.0\n",
              "4     2007-09-28     ABT    13.0\n",
              "...          ...     ...     ...\n",
              "83946 2022-07-29     XRX     5.0\n",
              "83947 2022-07-29       Y    18.0\n",
              "83948 2022-07-29     YUM     8.0\n",
              "83949 2022-07-29     ZBH     4.0\n",
              "83950 2022-07-29    ZION    12.0\n",
              "\n",
              "[83951 rows x 3 columns]"
            ]
          },
          "execution_count": 15,
          "metadata": {},
          "output_type": "execute_result"
        }
      ],
      "source": [
        "scores = pd.read_csv(\n",
        "    PATH_ + \"data/config/20220831_lagged_isharpe_target_monthly.csv\",\n",
        "    parse_dates=[\"Date\"],\n",
        "    usecols=[\"Date\",\"symbols\",\"ISC12M\"]\n",
        ")\n",
        "scores"
      ]
    },
    {
      "cell_type": "code",
      "execution_count": 16,
      "metadata": {
        "id": "MY3qeUM0azwB"
      },
      "outputs": [],
      "source": [
        "scores = scores[scores[\"Date\"]>=\"2007-10-31\"]"
      ]
    },
    {
      "cell_type": "code",
      "execution_count": 17,
      "metadata": {
        "id": "Q6re1hziYplX"
      },
      "outputs": [],
      "source": [
        "target_train = scores[:split]\n",
        "target_test = scores[split:]"
      ]
    },
    {
      "cell_type": "code",
      "execution_count": 18,
      "metadata": {
        "colab": {
          "base_uri": "https://localhost:8080/",
          "height": 423
        },
        "id": "mxKhSNFoZsrk",
        "outputId": "88b4205a-efe7-4493-b181-dfbf207cd850"
      },
      "outputs": [
        {
          "data": {
            "text/html": [
              "\n",
              "  <div id=\"df-4e807325-b89c-47e7-99f8-9ad033cf706b\">\n",
              "    <div class=\"colab-df-container\">\n",
              "      <div>\n",
              "<style scoped>\n",
              "    .dataframe tbody tr th:only-of-type {\n",
              "        vertical-align: middle;\n",
              "    }\n",
              "\n",
              "    .dataframe tbody tr th {\n",
              "        vertical-align: top;\n",
              "    }\n",
              "\n",
              "    .dataframe thead th {\n",
              "        text-align: right;\n",
              "    }\n",
              "</style>\n",
              "<table border=\"1\" class=\"dataframe\">\n",
              "  <thead>\n",
              "    <tr style=\"text-align: right;\">\n",
              "      <th></th>\n",
              "      <th>Date</th>\n",
              "      <th>symbols</th>\n",
              "      <th>ISC12M</th>\n",
              "    </tr>\n",
              "  </thead>\n",
              "  <tbody>\n",
              "    <tr>\n",
              "      <th>469</th>\n",
              "      <td>2007-10-31</td>\n",
              "      <td>A</td>\n",
              "      <td>14.0</td>\n",
              "    </tr>\n",
              "    <tr>\n",
              "      <th>470</th>\n",
              "      <td>2007-10-31</td>\n",
              "      <td>AA</td>\n",
              "      <td>15.0</td>\n",
              "    </tr>\n",
              "    <tr>\n",
              "      <th>471</th>\n",
              "      <td>2007-10-31</td>\n",
              "      <td>AAPL</td>\n",
              "      <td>19.0</td>\n",
              "    </tr>\n",
              "    <tr>\n",
              "      <th>472</th>\n",
              "      <td>2007-10-31</td>\n",
              "      <td>ABC</td>\n",
              "      <td>10.0</td>\n",
              "    </tr>\n",
              "    <tr>\n",
              "      <th>473</th>\n",
              "      <td>2007-10-31</td>\n",
              "      <td>ABT</td>\n",
              "      <td>17.0</td>\n",
              "    </tr>\n",
              "    <tr>\n",
              "      <th>...</th>\n",
              "      <td>...</td>\n",
              "      <td>...</td>\n",
              "      <td>...</td>\n",
              "    </tr>\n",
              "    <tr>\n",
              "      <th>17348</th>\n",
              "      <td>2010-09-30</td>\n",
              "      <td>XRX</td>\n",
              "      <td>17.0</td>\n",
              "    </tr>\n",
              "    <tr>\n",
              "      <th>17349</th>\n",
              "      <td>2010-09-30</td>\n",
              "      <td>Y</td>\n",
              "      <td>11.0</td>\n",
              "    </tr>\n",
              "    <tr>\n",
              "      <th>17350</th>\n",
              "      <td>2010-09-30</td>\n",
              "      <td>YUM</td>\n",
              "      <td>19.0</td>\n",
              "    </tr>\n",
              "    <tr>\n",
              "      <th>17351</th>\n",
              "      <td>2010-09-30</td>\n",
              "      <td>ZBH</td>\n",
              "      <td>1.0</td>\n",
              "    </tr>\n",
              "    <tr>\n",
              "      <th>17352</th>\n",
              "      <td>2010-09-30</td>\n",
              "      <td>ZION</td>\n",
              "      <td>12.0</td>\n",
              "    </tr>\n",
              "  </tbody>\n",
              "</table>\n",
              "<p>16884 rows × 3 columns</p>\n",
              "</div>\n",
              "      <button class=\"colab-df-convert\" onclick=\"convertToInteractive('df-4e807325-b89c-47e7-99f8-9ad033cf706b')\"\n",
              "              title=\"Convert this dataframe to an interactive table.\"\n",
              "              style=\"display:none;\">\n",
              "        \n",
              "  <svg xmlns=\"http://www.w3.org/2000/svg\" height=\"24px\"viewBox=\"0 0 24 24\"\n",
              "       width=\"24px\">\n",
              "    <path d=\"M0 0h24v24H0V0z\" fill=\"none\"/>\n",
              "    <path d=\"M18.56 5.44l.94 2.06.94-2.06 2.06-.94-2.06-.94-.94-2.06-.94 2.06-2.06.94zm-11 1L8.5 8.5l.94-2.06 2.06-.94-2.06-.94L8.5 2.5l-.94 2.06-2.06.94zm10 10l.94 2.06.94-2.06 2.06-.94-2.06-.94-.94-2.06-.94 2.06-2.06.94z\"/><path d=\"M17.41 7.96l-1.37-1.37c-.4-.4-.92-.59-1.43-.59-.52 0-1.04.2-1.43.59L10.3 9.45l-7.72 7.72c-.78.78-.78 2.05 0 2.83L4 21.41c.39.39.9.59 1.41.59.51 0 1.02-.2 1.41-.59l7.78-7.78 2.81-2.81c.8-.78.8-2.07 0-2.86zM5.41 20L4 18.59l7.72-7.72 1.47 1.35L5.41 20z\"/>\n",
              "  </svg>\n",
              "      </button>\n",
              "      \n",
              "  <style>\n",
              "    .colab-df-container {\n",
              "      display:flex;\n",
              "      flex-wrap:wrap;\n",
              "      gap: 12px;\n",
              "    }\n",
              "\n",
              "    .colab-df-convert {\n",
              "      background-color: #E8F0FE;\n",
              "      border: none;\n",
              "      border-radius: 50%;\n",
              "      cursor: pointer;\n",
              "      display: none;\n",
              "      fill: #1967D2;\n",
              "      height: 32px;\n",
              "      padding: 0 0 0 0;\n",
              "      width: 32px;\n",
              "    }\n",
              "\n",
              "    .colab-df-convert:hover {\n",
              "      background-color: #E2EBFA;\n",
              "      box-shadow: 0px 1px 2px rgba(60, 64, 67, 0.3), 0px 1px 3px 1px rgba(60, 64, 67, 0.15);\n",
              "      fill: #174EA6;\n",
              "    }\n",
              "\n",
              "    [theme=dark] .colab-df-convert {\n",
              "      background-color: #3B4455;\n",
              "      fill: #D2E3FC;\n",
              "    }\n",
              "\n",
              "    [theme=dark] .colab-df-convert:hover {\n",
              "      background-color: #434B5C;\n",
              "      box-shadow: 0px 1px 3px 1px rgba(0, 0, 0, 0.15);\n",
              "      filter: drop-shadow(0px 1px 2px rgba(0, 0, 0, 0.3));\n",
              "      fill: #FFFFFF;\n",
              "    }\n",
              "  </style>\n",
              "\n",
              "      <script>\n",
              "        const buttonEl =\n",
              "          document.querySelector('#df-4e807325-b89c-47e7-99f8-9ad033cf706b button.colab-df-convert');\n",
              "        buttonEl.style.display =\n",
              "          google.colab.kernel.accessAllowed ? 'block' : 'none';\n",
              "\n",
              "        async function convertToInteractive(key) {\n",
              "          const element = document.querySelector('#df-4e807325-b89c-47e7-99f8-9ad033cf706b');\n",
              "          const dataTable =\n",
              "            await google.colab.kernel.invokeFunction('convertToInteractive',\n",
              "                                                     [key], {});\n",
              "          if (!dataTable) return;\n",
              "\n",
              "          const docLinkHtml = 'Like what you see? Visit the ' +\n",
              "            '<a target=\"_blank\" href=https://colab.research.google.com/notebooks/data_table.ipynb>data table notebook</a>'\n",
              "            + ' to learn more about interactive tables.';\n",
              "          element.innerHTML = '';\n",
              "          dataTable['output_type'] = 'display_data';\n",
              "          await google.colab.output.renderOutput(dataTable, element);\n",
              "          const docLink = document.createElement('div');\n",
              "          docLink.innerHTML = docLinkHtml;\n",
              "          element.appendChild(docLink);\n",
              "        }\n",
              "      </script>\n",
              "    </div>\n",
              "  </div>\n",
              "  "
            ],
            "text/plain": [
              "            Date symbols  ISC12M\n",
              "469   2007-10-31       A    14.0\n",
              "470   2007-10-31      AA    15.0\n",
              "471   2007-10-31    AAPL    19.0\n",
              "472   2007-10-31     ABC    10.0\n",
              "473   2007-10-31     ABT    17.0\n",
              "...          ...     ...     ...\n",
              "17348 2010-09-30     XRX    17.0\n",
              "17349 2010-09-30       Y    11.0\n",
              "17350 2010-09-30     YUM    19.0\n",
              "17351 2010-09-30     ZBH     1.0\n",
              "17352 2010-09-30    ZION    12.0\n",
              "\n",
              "[16884 rows x 3 columns]"
            ]
          },
          "execution_count": 18,
          "metadata": {},
          "output_type": "execute_result"
        }
      ],
      "source": [
        "target_train"
      ]
    },
    {
      "cell_type": "markdown",
      "metadata": {
        "id": "Pe9YJPsAgG1M"
      },
      "source": [
        "Helper **function** for pairing (train, test) data"
      ]
    },
    {
      "cell_type": "code",
      "execution_count": 19,
      "metadata": {
        "id": "43rM2yzgLU96"
      },
      "outputs": [],
      "source": [
        "def generate_pairdata(rebalance_id, stock_features, stock_scores):\n",
        "  \n",
        "  from tqdm import tqdm\n",
        "  from itertools import combinations, repeat\n",
        "  \n",
        "  xi = []\n",
        "  xj = []\n",
        "  pij = []\n",
        "  pair_id = []\n",
        "  pair_query_id = []\n",
        "\n",
        "  for q in tqdm(np.unique(rebalance_id)):\n",
        "      query_idx = np.where(rebalance_id == q)[0]\n",
        "      for pair_idx in combinations(query_idx, 2):\n",
        "          pair_query_id.append(q)        \n",
        "          pair_id.append(pair_idx)\n",
        "          i = pair_idx[0]\n",
        "          j = pair_idx[1]\n",
        "          xi.append(stock_features[i])\n",
        "          xj.append(stock_features[j])\n",
        "        \n",
        "          if stock_scores[i] == stock_scores[j]:\n",
        "            _pij = 0.5\n",
        "          elif stock_scores[i] > stock_scores[j]:\n",
        "            _pij = 1\n",
        "          else: \n",
        "            _pij = 0\n",
        "          pij.append(_pij)\n",
        "        \n",
        "  xi = np.array(xi)\n",
        "  xj = np.array(xj)\n",
        "  pij = np.array(pij)\n",
        "  pair_query_id = np.array(pair_query_id)\n",
        "  \n",
        "  return xi, xj, pij, pair_id, pair_query_id"
      ]
    },
    {
      "cell_type": "code",
      "execution_count": 20,
      "metadata": {
        "colab": {
          "base_uri": "https://localhost:8080/"
        },
        "id": "MD3o11fMgmmF",
        "outputId": "f8dcafb6-7c4b-454f-bb53-0483e3d30375"
      },
      "outputs": [
        {
          "data": {
            "text/plain": [
              "Index(['Date', 'symbols', 'RRET3M', 'RRET6M', 'RRET12M', 'SRET3M', 'SRET6M',\n",
              "       'SRET12M', 'ISR3M', 'ISR6M', 'ISR12M', 'EWVOL3M', 'ISR12M_nexmonth',\n",
              "       'date_query_id'],\n",
              "      dtype='object')"
            ]
          },
          "execution_count": 20,
          "metadata": {},
          "output_type": "execute_result"
        }
      ],
      "source": [
        "train.columns"
      ]
    },
    {
      "cell_type": "code",
      "execution_count": 21,
      "metadata": {
        "colab": {
          "base_uri": "https://localhost:8080/"
        },
        "id": "4sltftN4gyVd",
        "outputId": "d8ab6f0d-1f79-474f-bf44-9c03c6bc12ba"
      },
      "outputs": [
        {
          "name": "stdout",
          "output_type": "stream",
          "text": [
            "Variable              Type         Data/Info\n",
            "--------------------------------------------\n",
            "chunk_stock_dataset   DataFrame                Date symbols <...>[22512 rows x 14 columns]\n",
            "scores                DataFrame                Date symbols <...>n[83482 rows x 3 columns]\n",
            "stock_dataset         DataFrame                Date symbols <...>[83482 rows x 14 columns]\n",
            "target_test           DataFrame                Date symbols <...>n[66598 rows x 3 columns]\n",
            "target_train          DataFrame                Date symbols <...>n[16884 rows x 3 columns]\n",
            "test                  DataFrame                Date symbols <...>n[5628 rows x 14 columns]\n",
            "train                 DataFrame                Date symbols <...>[16884 rows x 14 columns]\n",
            "train_features        DataFrame             RRET3M    RRET6M<...>[16884 rows x 10 columns]\n"
          ]
        }
      ],
      "source": [
        "%whos DataFrame"
      ]
    },
    {
      "cell_type": "code",
      "execution_count": 22,
      "metadata": {
        "colab": {
          "base_uri": "https://localhost:8080/"
        },
        "id": "YbskLtDIhPvI",
        "outputId": "d596b66b-a4d3-4f8d-b985-6291dda62d56"
      },
      "outputs": [
        {
          "data": {
            "text/plain": [
              "Index(['RRET3M', 'RRET6M', 'RRET12M', 'SRET3M', 'SRET6M', 'SRET12M', 'ISR3M',\n",
              "       'ISR6M', 'ISR12M', 'EWVOL3M'],\n",
              "      dtype='object')"
            ]
          },
          "execution_count": 22,
          "metadata": {},
          "output_type": "execute_result"
        }
      ],
      "source": [
        "train.iloc[:,2:-2].columns"
      ]
    },
    {
      "cell_type": "code",
      "execution_count": 23,
      "metadata": {
        "id": "YRnaEbrPiNhH"
      },
      "outputs": [],
      "source": [
        "features_selected = ['RRET3M', 'RRET6M', 'RRET12M', 'SRET3M', 'SRET6M', 'SRET12M', 'ISR3M',\\\n",
        "       'ISR6M', 'ISR12M', 'EWVOL3M']"
      ]
    },
    {
      "cell_type": "code",
      "execution_count": 24,
      "metadata": {
        "id": "d54XaF8MghUv"
      },
      "outputs": [],
      "source": [
        "train_query_id = train[\"date_query_id\"].astype(int).values\n",
        "train_features = train[features_selected].values\n",
        "train_scores = target_train[\"ISC12M\"].astype(int).values\n",
        "\n",
        "test_query_id = test[\"date_query_id\"].astype(int).values\n",
        "test_features = test[features_selected].values\n",
        "test_scores = target_test[\"ISC12M\"].astype(int).values"
      ]
    },
    {
      "cell_type": "code",
      "execution_count": 25,
      "metadata": {
        "colab": {
          "base_uri": "https://localhost:8080/"
        },
        "id": "eoVWSVXuia1K",
        "outputId": "3678c8cf-7d8c-40a4-f9a4-e77cb6045e13"
      },
      "outputs": [
        {
          "name": "stderr",
          "output_type": "stream",
          "text": [
            "100%|██████████| 36/36 [00:06<00:00,  5.82it/s]\n"
          ]
        }
      ],
      "source": [
        "xi_train, xj_train, pij_train, pair_id_train, pair_query_id_train = \\\n",
        "generate_pairdata(train_query_id, train_features, train_scores )"
      ]
    },
    {
      "cell_type": "code",
      "execution_count": 26,
      "metadata": {
        "colab": {
          "base_uri": "https://localhost:8080/"
        },
        "id": "THG8_UHIi15q",
        "outputId": "7b224ca3-f1d6-40d9-9126-19a5565d6c0b"
      },
      "outputs": [
        {
          "name": "stderr",
          "output_type": "stream",
          "text": [
            "100%|██████████| 12/12 [00:02<00:00,  5.46it/s]\n"
          ]
        }
      ],
      "source": [
        "xi_test, xj_test, pij_test, pair_id_test, pair_query_id_test = \\\n",
        "generate_pairdata(test_query_id, test_features, test_scores )"
      ]
    },
    {
      "cell_type": "code",
      "execution_count": 27,
      "metadata": {
        "colab": {
          "base_uri": "https://localhost:8080/"
        },
        "id": "lXo-A3H6jQUp",
        "outputId": "6df58a0b-6a61-4c81-fcb5-c63e880af382"
      },
      "outputs": [
        {
          "name": "stdout",
          "output_type": "stream",
          "text": [
            "Variable              Type       Data/Info\n",
            "------------------------------------------\n",
            "pair_query_id_test    ndarray    1316952: 1316952 elems, type `int64`, 10535616 bytes (10.04754638671875 Mb)\n",
            "pair_query_id_train   ndarray    3950856: 3950856 elems, type `int64`, 31606848 bytes (30.14263916015625 Mb)\n",
            "pij_test              ndarray    1316952: 1316952 elems, type `float64`, 10535616 bytes (10.04754638671875 Mb)\n",
            "pij_train             ndarray    3950856: 3950856 elems, type `float64`, 31606848 bytes (30.14263916015625 Mb)\n",
            "test_features         ndarray    5628x10: 56280 elems, type `float64`, 450240 bytes (439.6875 kb)\n",
            "test_query_id         ndarray    5628: 5628 elems, type `int64`, 45024 bytes\n",
            "test_scores           ndarray    66598: 66598 elems, type `int64`, 532784 bytes (520.296875 kb)\n",
            "train_features        ndarray    16884x10: 168840 elems, type `float64`, 1350720 bytes (1.28814697265625 Mb)\n",
            "train_query_id        ndarray    16884: 16884 elems, type `int64`, 135072 bytes (131.90625 kb)\n",
            "train_scores          ndarray    16884: 16884 elems, type `int64`, 135072 bytes (131.90625 kb)\n",
            "xi_test               ndarray    1316952x10: 13169520 elems, type `float64`, 105356160 bytes (100.4754638671875 Mb)\n",
            "xi_train              ndarray    3950856x10: 39508560 elems, type `float64`, 316068480 bytes (301.4263916015625 Mb)\n",
            "xj_test               ndarray    1316952x10: 13169520 elems, type `float64`, 105356160 bytes (100.4754638671875 Mb)\n",
            "xj_train              ndarray    3950856x10: 39508560 elems, type `float64`, 316068480 bytes (301.4263916015625 Mb)\n"
          ]
        }
      ],
      "source": [
        "%whos ndarray"
      ]
    },
    {
      "cell_type": "code",
      "execution_count": 28,
      "metadata": {
        "colab": {
          "base_uri": "https://localhost:8080/",
          "height": 564
        },
        "id": "QiLuHF2KjRgG",
        "outputId": "b2869645-0377-4e34-e7d0-032fad9a2f43"
      },
      "outputs": [
        {
          "data": {
            "image/png": "[encoded data removed]",
            "text/plain": [
              "<IPython.core.display.Image object>"
            ]
          },
          "execution_count": 28,
          "metadata": {},
          "output_type": "execute_result"
        }
      ],
      "source": [
        "import tensorflow as tf\n",
        "from tensorflow.keras import layers, activations, losses, Model, Input\n",
        "from tensorflow.nn import leaky_relu\n",
        "import numpy as np\n",
        "from itertools import combinations\n",
        "from tensorflow.keras.utils import plot_model, Progbar\n",
        "import matplotlib.pyplot as plt\n",
        "from sklearn.model_selection import train_test_split\n",
        "\n",
        "# model architecture\n",
        "class RankNet(Model):\n",
        "    def __init__(self):\n",
        "        super().__init__()\n",
        "        self.dense = [layers.Dense(16, activation=leaky_relu), layers.Dense(8, activation=leaky_relu)]\n",
        "        self.o = layers.Dense(1, activation='linear')\n",
        "        self.oi_minus_oj = layers.Subtract()\n",
        "    \n",
        "    def call(self, inputs):\n",
        "        xi, xj = inputs\n",
        "        densei = self.dense[0](xi)\n",
        "        densej = self.dense[0](xj)\n",
        "        for dense in self.dense[1:]:\n",
        "            densei = dense(densei)\n",
        "            densej = dense(densej)\n",
        "        oi = self.o(densei)\n",
        "        oj= self.o(densej)\n",
        "        oij = self.oi_minus_oj([oi, oj])\n",
        "        output = layers.Activation('sigmoid')(oij)\n",
        "        return output\n",
        "    \n",
        "    def build_graph(self):\n",
        "        x = [Input(shape=(10)), Input(shape=(10))]\n",
        "        return Model(inputs=x, outputs=self.call(x))\n",
        "\n",
        "# visualize model architecture\n",
        "plot_model(RankNet().build_graph(), show_shapes=False)"
      ]
    },
    {
      "cell_type": "code",
      "execution_count": 30,
      "metadata": {
        "colab": {
          "base_uri": "https://localhost:8080/"
        },
        "id": "AOKEDeTJjg49",
        "outputId": "51f2d6a5-8018-4ee0-b488-402dfa691b4f"
      },
      "outputs": [
        {
          "name": "stdout",
          "output_type": "stream",
          "text": [
            "Epoch 1/50\n",
            "3951/3951 [==============================] - 16s 4ms/step - loss: 0.3446 - val_loss: 0.3106\n",
            "Epoch 2/50\n",
            "3951/3951 [==============================] - 15s 4ms/step - loss: 0.3315 - val_loss: 0.3102\n",
            "Epoch 3/50\n",
            "3951/3951 [==============================] - 15s 4ms/step - loss: 0.3297 - val_loss: 0.3105\n",
            "Epoch 4/50\n",
            "3951/3951 [==============================] - 15s 4ms/step - loss: 0.3288 - val_loss: 0.3112\n",
            "Epoch 5/50\n",
            "3951/3951 [==============================] - 15s 4ms/step - loss: 0.3281 - val_loss: 0.3110\n",
            "Epoch 6/50\n",
            "3951/3951 [==============================] - 15s 4ms/step - loss: 0.3276 - val_loss: 0.3112\n",
            "Epoch 7/50\n",
            "3951/3951 [==============================] - 15s 4ms/step - loss: 0.3273 - val_loss: 0.3113\n",
            "Epoch 8/50\n",
            "3951/3951 [==============================] - 15s 4ms/step - loss: 0.3270 - val_loss: 0.3117\n",
            "Epoch 9/50\n",
            "3951/3951 [==============================] - 15s 4ms/step - loss: 0.3268 - val_loss: 0.3113\n",
            "Epoch 10/50\n",
            "3951/3951 [==============================] - 15s 4ms/step - loss: 0.3266 - val_loss: 0.3113\n",
            "Epoch 11/50\n",
            "3951/3951 [==============================] - 15s 4ms/step - loss: 0.3264 - val_loss: 0.3112\n",
            "Epoch 12/50\n",
            "3951/3951 [==============================] - 15s 4ms/step - loss: 0.3264 - val_loss: 0.3116\n",
            "Epoch 13/50\n",
            "3951/3951 [==============================] - 16s 4ms/step - loss: 0.3262 - val_loss: 0.3113\n",
            "Epoch 14/50\n",
            "3951/3951 [==============================] - 15s 4ms/step - loss: 0.3261 - val_loss: 0.3116\n",
            "Epoch 15/50\n",
            "3951/3951 [==============================] - 15s 4ms/step - loss: 0.3260 - val_loss: 0.3118\n",
            "Epoch 16/50\n",
            "3951/3951 [==============================] - 15s 4ms/step - loss: 0.3260 - val_loss: 0.3118\n",
            "Epoch 17/50\n",
            "3951/3951 [==============================] - 15s 4ms/step - loss: 0.3259 - val_loss: 0.3121\n",
            "Epoch 18/50\n",
            "3951/3951 [==============================] - 15s 4ms/step - loss: 0.3258 - val_loss: 0.3120\n",
            "Epoch 19/50\n",
            "3951/3951 [==============================] - 15s 4ms/step - loss: 0.3256 - val_loss: 0.3113\n",
            "Epoch 20/50\n",
            "3951/3951 [==============================] - 15s 4ms/step - loss: 0.3255 - val_loss: 0.3113\n",
            "Epoch 21/50\n",
            "3951/3951 [==============================] - 15s 4ms/step - loss: 0.3254 - val_loss: 0.3115\n",
            "Epoch 22/50\n",
            "3951/3951 [==============================] - 15s 4ms/step - loss: 0.3253 - val_loss: 0.3114\n",
            "Epoch 23/50\n",
            "3951/3951 [==============================] - 15s 4ms/step - loss: 0.3252 - val_loss: 0.3116\n",
            "Epoch 24/50\n",
            "3951/3951 [==============================] - 15s 4ms/step - loss: 0.3251 - val_loss: 0.3116\n",
            "Epoch 25/50\n",
            "3951/3951 [==============================] - 15s 4ms/step - loss: 0.3250 - val_loss: 0.3121\n",
            "Epoch 26/50\n",
            "3951/3951 [==============================] - 15s 4ms/step - loss: 0.3249 - val_loss: 0.3116\n",
            "Epoch 27/50\n",
            "3951/3951 [==============================] - 15s 4ms/step - loss: 0.3248 - val_loss: 0.3117\n",
            "Epoch 28/50\n",
            "3951/3951 [==============================] - 15s 4ms/step - loss: 0.3248 - val_loss: 0.3122\n",
            "Epoch 29/50\n",
            "3951/3951 [==============================] - 15s 4ms/step - loss: 0.3247 - val_loss: 0.3116\n",
            "Epoch 30/50\n",
            "3951/3951 [==============================] - 15s 4ms/step - loss: 0.3246 - val_loss: 0.3121\n",
            "Epoch 31/50\n",
            "3951/3951 [==============================] - 15s 4ms/step - loss: 0.3246 - val_loss: 0.3117\n",
            "Epoch 32/50\n",
            "3951/3951 [==============================] - 15s 4ms/step - loss: 0.3245 - val_loss: 0.3115\n",
            "Epoch 33/50\n",
            "3951/3951 [==============================] - 15s 4ms/step - loss: 0.3244 - val_loss: 0.3115\n",
            "Epoch 34/50\n",
            "3951/3951 [==============================] - 15s 4ms/step - loss: 0.3244 - val_loss: 0.3120\n",
            "Epoch 35/50\n",
            "3951/3951 [==============================] - 15s 4ms/step - loss: 0.3243 - val_loss: 0.3121\n",
            "Epoch 36/50\n",
            "3951/3951 [==============================] - 15s 4ms/step - loss: 0.3243 - val_loss: 0.3118\n",
            "Epoch 37/50\n",
            "3951/3951 [==============================] - 15s 4ms/step - loss: 0.3242 - val_loss: 0.3127\n",
            "Epoch 38/50\n",
            "3951/3951 [==============================] - 15s 4ms/step - loss: 0.3242 - val_loss: 0.3117\n",
            "Epoch 39/50\n",
            "3951/3951 [==============================] - 15s 4ms/step - loss: 0.3242 - val_loss: 0.3113\n",
            "Epoch 40/50\n",
            "3951/3951 [==============================] - 16s 4ms/step - loss: 0.3241 - val_loss: 0.3117\n",
            "Epoch 41/50\n",
            "3951/3951 [==============================] - 15s 4ms/step - loss: 0.3241 - val_loss: 0.3124\n",
            "Epoch 42/50\n",
            "3951/3951 [==============================] - 15s 4ms/step - loss: 0.3241 - val_loss: 0.3123\n",
            "Epoch 43/50\n",
            "3951/3951 [==============================] - 15s 4ms/step - loss: 0.3240 - val_loss: 0.3120\n",
            "Epoch 44/50\n",
            "3951/3951 [==============================] - 15s 4ms/step - loss: 0.3239 - val_loss: 0.3124\n",
            "Epoch 45/50\n",
            "3951/3951 [==============================] - 15s 4ms/step - loss: 0.3240 - val_loss: 0.3127\n",
            "Epoch 46/50\n",
            "3951/3951 [==============================] - 15s 4ms/step - loss: 0.3239 - val_loss: 0.3121\n",
            "Epoch 47/50\n",
            "3951/3951 [==============================] - 15s 4ms/step - loss: 0.3239 - val_loss: 0.3128\n",
            "Epoch 48/50\n",
            "3951/3951 [==============================] - 15s 4ms/step - loss: 0.3239 - val_loss: 0.3131\n",
            "Epoch 49/50\n",
            "3951/3951 [==============================] - 15s 4ms/step - loss: 0.3239 - val_loss: 0.3120\n",
            "Epoch 50/50\n",
            "3951/3951 [==============================] - 15s 4ms/step - loss: 0.3239 - val_loss: 0.3121\n"
          ]
        }
      ],
      "source": [
        "ranknet = RankNet()\n",
        "ranknet.compile(optimizer='adam', loss='binary_crossentropy')\n",
        "history = ranknet.fit([xi_train, xj_train], pij_train, epochs=50, batch_size=1000, validation_data=([xi_test, xj_test], pij_test))"
      ]
    },
    {
      "cell_type": "code",
      "execution_count": 36,
      "metadata": {
        "colab": {
          "base_uri": "https://localhost:8080/"
        },
        "id": "wvcDXZv8Ah_R",
        "outputId": "28efd7e8-2165-4549-e0de-5ce622747ca0"
      },
      "outputs": [
        {
          "name": "stdout",
          "output_type": "stream",
          "text": [
            "1317/1317 [==============================] - 2s 2ms/step\n"
          ]
        }
      ],
      "source": [
        "pij_pred = ranknet.predict(\n",
        "    [xi_test, xj_test], \n",
        "    batch_size=1000, \n",
        "    use_multiprocessing=True, \n",
        "    workers=4\n",
        "  )"
      ]
    },
    {
      "cell_type": "code",
      "execution_count": 37,
      "metadata": {
        "colab": {
          "base_uri": "https://localhost:8080/"
        },
        "id": "SNvAy2AGAhbm",
        "outputId": "d1b9c934-a2f9-4aab-d394-b021e3cc0cd4"
      },
      "outputs": [
        {
          "data": {
            "text/plain": [
              "(1316952,)"
            ]
          },
          "execution_count": 37,
          "metadata": {},
          "output_type": "execute_result"
        }
      ],
      "source": [
        "pij_test.shape"
      ]
    },
    {
      "cell_type": "code",
      "execution_count": 38,
      "metadata": {
        "colab": {
          "base_uri": "https://localhost:8080/"
        },
        "id": "De_HniVgCJkt",
        "outputId": "98692a28-f901-4c70-a7cb-2137b5df217d"
      },
      "outputs": [
        {
          "data": {
            "text/plain": [
              "(1316952, 1)"
            ]
          },
          "execution_count": 38,
          "metadata": {},
          "output_type": "execute_result"
        }
      ],
      "source": [
        "pij_pred.shape"
      ]
    },
    {
      "cell_type": "code",
      "execution_count": 43,
      "metadata": {
        "colab": {
          "base_uri": "https://localhost:8080/",
          "height": 281
        },
        "id": "IAs6YfHgCV5_",
        "outputId": "d41dc581-26b8-4739-9562-5b53db2508ec"
      },
      "outputs": [
        {
          "data": {
            "image/png": "[encoded data removed]",
            "text/plain": [
              "<Figure size 432x288 with 1 Axes>"
            ]
          },
          "metadata": {
            "needs_background": "light"
          },
          "output_type": "display_data"
        }
      ],
      "source": [
        "# function for plotting loss\n",
        "def plot_metrics(train_metric, val_metric=None, metric_name=None, title=None, ylim=5):\n",
        "    plt.title(title)\n",
        "    plt.ylim(0,ylim)\n",
        "    plt.plot(train_metric,color='blue',label=metric_name)\n",
        "    if val_metric is not None: plt.plot(val_metric,color='green',label='val_' + metric_name)\n",
        "    plt.legend(loc=\"upper right\")\n",
        "\n",
        "# plot loss history\n",
        "plot_metrics(history.history['loss'], history.history['val_loss'], \"Loss\", \"Loss\", ylim=1.0)\n"
      ]
    },
    {
      "cell_type": "code",
      "execution_count": 48,
      "metadata": {
        "colab": {
          "base_uri": "https://localhost:8080/"
        },
        "id": "8e6TMHk9GuPk",
        "outputId": "e5815aaa-9b33-42ad-f385-2e6d18a413d8"
      },
      "outputs": [
        {
          "data": {
            "text/plain": [
              "array([[1.],\n",
              "       [0.],\n",
              "       [0.],\n",
              "       ...,\n",
              "       [1.],\n",
              "       [1.],\n",
              "       [1.]])"
            ]
          },
          "execution_count": 48,
          "metadata": {},
          "output_type": "execute_result"
        }
      ],
      "source": [
        "\n",
        "pij_test.reshape(-1,1)"
      ]
    },
    {
      "cell_type": "code",
      "execution_count": 50,
      "metadata": {
        "colab": {
          "base_uri": "https://localhost:8080/"
        },
        "id": "IG0GOmKxG2A5",
        "outputId": "fc4de70a-37d9-4200-85d6-d53b803f124b"
      },
      "outputs": [
        {
          "data": {
            "text/plain": [
              "array([[0.9525059 ],\n",
              "       [0.07770994],\n",
              "       [0.12783392],\n",
              "       ...,\n",
              "       [0.7102588 ],\n",
              "       [0.9920751 ],\n",
              "       [0.9807941 ]], dtype=float32)"
            ]
          },
          "execution_count": 50,
          "metadata": {},
          "output_type": "execute_result"
        }
      ],
      "source": [
        "pij_pred"
      ]
    },
    {
      "cell_type": "code",
      "execution_count": 55,
      "metadata": {
        "id": "zEHwaMV1HQXr"
      },
      "outputs": [],
      "source": [
        "probs = np.concatenate((pij_test.reshape(-1,1),pij_pred),axis=1)"
      ]
    },
    {
      "cell_type": "code",
      "execution_count": 56,
      "metadata": {
        "id": "MGwrbl3HENMj"
      },
      "outputs": [],
      "source": [
        "pij_test_df = pd.DataFrame(\n",
        "    probs,\n",
        "     columns=[\"Observed\",\"Predicted\"]\n",
        ")"
      ]
    },
    {
      "cell_type": "code",
      "execution_count": 57,
      "metadata": {
        "colab": {
          "base_uri": "https://localhost:8080/",
          "height": 674
        },
        "id": "7JQQxUwWGk3d",
        "outputId": "e4248c20-5f4a-49e2-c492-2da9013be622"
      },
      "outputs": [
        {
          "data": {
            "text/html": [
              "\n",
              "  <div id=\"df-a29e2a0d-6eb2-463b-b73f-f3badc49f743\">\n",
              "    <div class=\"colab-df-container\">\n",
              "      <div>\n",
              "<style scoped>\n",
              "    .dataframe tbody tr th:only-of-type {\n",
              "        vertical-align: middle;\n",
              "    }\n",
              "\n",
              "    .dataframe tbody tr th {\n",
              "        vertical-align: top;\n",
              "    }\n",
              "\n",
              "    .dataframe thead th {\n",
              "        text-align: right;\n",
              "    }\n",
              "</style>\n",
              "<table border=\"1\" class=\"dataframe\">\n",
              "  <thead>\n",
              "    <tr style=\"text-align: right;\">\n",
              "      <th></th>\n",
              "      <th>Observed</th>\n",
              "      <th>Predicted</th>\n",
              "    </tr>\n",
              "  </thead>\n",
              "  <tbody>\n",
              "    <tr>\n",
              "      <th>0</th>\n",
              "      <td>1.0</td>\n",
              "      <td>0.952506</td>\n",
              "    </tr>\n",
              "    <tr>\n",
              "      <th>1</th>\n",
              "      <td>0.0</td>\n",
              "      <td>0.077710</td>\n",
              "    </tr>\n",
              "    <tr>\n",
              "      <th>2</th>\n",
              "      <td>0.0</td>\n",
              "      <td>0.127834</td>\n",
              "    </tr>\n",
              "    <tr>\n",
              "      <th>3</th>\n",
              "      <td>1.0</td>\n",
              "      <td>0.899441</td>\n",
              "    </tr>\n",
              "    <tr>\n",
              "      <th>4</th>\n",
              "      <td>0.0</td>\n",
              "      <td>0.217435</td>\n",
              "    </tr>\n",
              "    <tr>\n",
              "      <th>...</th>\n",
              "      <td>...</td>\n",
              "      <td>...</td>\n",
              "    </tr>\n",
              "    <tr>\n",
              "      <th>1316947</th>\n",
              "      <td>1.0</td>\n",
              "      <td>0.289426</td>\n",
              "    </tr>\n",
              "    <tr>\n",
              "      <th>1316948</th>\n",
              "      <td>1.0</td>\n",
              "      <td>0.954129</td>\n",
              "    </tr>\n",
              "    <tr>\n",
              "      <th>1316949</th>\n",
              "      <td>1.0</td>\n",
              "      <td>0.710259</td>\n",
              "    </tr>\n",
              "    <tr>\n",
              "      <th>1316950</th>\n",
              "      <td>1.0</td>\n",
              "      <td>0.992075</td>\n",
              "    </tr>\n",
              "    <tr>\n",
              "      <th>1316951</th>\n",
              "      <td>1.0</td>\n",
              "      <td>0.980794</td>\n",
              "    </tr>\n",
              "  </tbody>\n",
              "</table>\n",
              "<p>1316952 rows × 2 columns</p>\n",
              "</div>\n",
              "      <button class=\"colab-df-convert\" onclick=\"convertToInteractive('df-a29e2a0d-6eb2-463b-b73f-f3badc49f743')\"\n",
              "              title=\"Convert this dataframe to an interactive table.\"\n",
              "              style=\"display:none;\">\n",
              "        \n",
              "  <svg xmlns=\"http://www.w3.org/2000/svg\" height=\"24px\"viewBox=\"0 0 24 24\"\n",
              "       width=\"24px\">\n",
              "    <path d=\"M0 0h24v24H0V0z\" fill=\"none\"/>\n",
              "    <path d=\"M18.56 5.44l.94 2.06.94-2.06 2.06-.94-2.06-.94-.94-2.06-.94 2.06-2.06.94zm-11 1L8.5 8.5l.94-2.06 2.06-.94-2.06-.94L8.5 2.5l-.94 2.06-2.06.94zm10 10l.94 2.06.94-2.06 2.06-.94-2.06-.94-.94-2.06-.94 2.06-2.06.94z\"/><path d=\"M17.41 7.96l-1.37-1.37c-.4-.4-.92-.59-1.43-.59-.52 0-1.04.2-1.43.59L10.3 9.45l-7.72 7.72c-.78.78-.78 2.05 0 2.83L4 21.41c.39.39.9.59 1.41.59.51 0 1.02-.2 1.41-.59l7.78-7.78 2.81-2.81c.8-.78.8-2.07 0-2.86zM5.41 20L4 18.59l7.72-7.72 1.47 1.35L5.41 20z\"/>\n",
              "  </svg>\n",
              "      </button>\n",
              "      \n",
              "  <style>\n",
              "    .colab-df-container {\n",
              "      display:flex;\n",
              "      flex-wrap:wrap;\n",
              "      gap: 12px;\n",
              "    }\n",
              "\n",
              "    .colab-df-convert {\n",
              "      background-color: #E8F0FE;\n",
              "      border: none;\n",
              "      border-radius: 50%;\n",
              "      cursor: pointer;\n",
              "      display: none;\n",
              "      fill: #1967D2;\n",
              "      height: 32px;\n",
              "      padding: 0 0 0 0;\n",
              "      width: 32px;\n",
              "    }\n",
              "\n",
              "    .colab-df-convert:hover {\n",
              "      background-color: #E2EBFA;\n",
              "      box-shadow: 0px 1px 2px rgba(60, 64, 67, 0.3), 0px 1px 3px 1px rgba(60, 64, 67, 0.15);\n",
              "      fill: #174EA6;\n",
              "    }\n",
              "\n",
              "    [theme=dark] .colab-df-convert {\n",
              "      background-color: #3B4455;\n",
              "      fill: #D2E3FC;\n",
              "    }\n",
              "\n",
              "    [theme=dark] .colab-df-convert:hover {\n",
              "      background-color: #434B5C;\n",
              "      box-shadow: 0px 1px 3px 1px rgba(0, 0, 0, 0.15);\n",
              "      filter: drop-shadow(0px 1px 2px rgba(0, 0, 0, 0.3));\n",
              "      fill: #FFFFFF;\n",
              "    }\n",
              "  </style>\n",
              "\n",
              "      <script>\n",
              "        const buttonEl =\n",
              "          document.querySelector('#df-a29e2a0d-6eb2-463b-b73f-f3badc49f743 button.colab-df-convert');\n",
              "        buttonEl.style.display =\n",
              "          google.colab.kernel.accessAllowed ? 'block' : 'none';\n",
              "\n",
              "        async function convertToInteractive(key) {\n",
              "          const element = document.querySelector('#df-a29e2a0d-6eb2-463b-b73f-f3badc49f743');\n",
              "          const dataTable =\n",
              "            await google.colab.kernel.invokeFunction('convertToInteractive',\n",
              "                                                     [key], {});\n",
              "          if (!dataTable) return;\n",
              "\n",
              "          const docLinkHtml = 'Like what you see? Visit the ' +\n",
              "            '<a target=\"_blank\" href=https://colab.research.google.com/notebooks/data_table.ipynb>data table notebook</a>'\n",
              "            + ' to learn more about interactive tables.';\n",
              "          element.innerHTML = '';\n",
              "          dataTable['output_type'] = 'display_data';\n",
              "          await google.colab.output.renderOutput(dataTable, element);\n",
              "          const docLink = document.createElement('div');\n",
              "          docLink.innerHTML = docLinkHtml;\n",
              "          element.appendChild(docLink);\n",
              "        }\n",
              "      </script>\n",
              "    </div>\n",
              "  </div>\n",
              "  "
            ],
            "text/plain": [
              "         Observed  Predicted\n",
              "0             1.0   0.952506\n",
              "1             0.0   0.077710\n",
              "2             0.0   0.127834\n",
              "3             1.0   0.899441\n",
              "4             0.0   0.217435\n",
              "...           ...        ...\n",
              "1316947       1.0   0.289426\n",
              "1316948       1.0   0.954129\n",
              "1316949       1.0   0.710259\n",
              "1316950       1.0   0.992075\n",
              "1316951       1.0   0.980794\n",
              "\n",
              "[1316952 rows x 2 columns]"
            ]
          },
          "execution_count": 57,
          "metadata": {},
          "output_type": "execute_result"
        },
        {
          "name": "stdout",
          "output_type": "stream",
          "text": [
            "Warning: total number of rows (1316952) exceeds max_rows (20000). Limiting to first (20000) rows.\n"
          ]
        }
      ],
      "source": [
        "pij_test_df"
      ]
    },
    {
      "cell_type": "code",
      "execution_count": null,
      "metadata": {
        "id": "edFh-YHEIFGb"
      },
      "outputs": [],
      "source": []
    }
  ],
  "metadata": {
    "accelerator": "GPU",
    "colab": {
      "collapsed_sections": [],
      "provenance": []
    },
    "kernelspec": {
      "display_name": "Python 3.9.12 ('tf-gpu-2.8')",
      "language": "python",
      "name": "python3"
    },
    "language_info": {
      "codemirror_mode": {
        "name": "ipython",
        "version": 3
      },
      "file_extension": ".py",
      "mimetype": "text/x-python",
      "name": "python",
      "nbconvert_exporter": "python",
      "pygments_lexer": "ipython3",
      "version": "3.9.12"
    },
    "vscode": {
      "interpreter": {
        "hash": "3fd4c5ff48145558aeee7bdf0986b9eba2ca8a04e896c0014bc85c07f2be0437"
      }
    }
  },
  "nbformat": 4,
  "nbformat_minor": 0
}
