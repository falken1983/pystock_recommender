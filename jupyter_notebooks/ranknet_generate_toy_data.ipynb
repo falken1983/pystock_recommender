{
 "cells": [
  {
   "cell_type": "code",
   "execution_count": 2,
   "metadata": {},
   "outputs": [],
   "source": [
    "import numpy as np\n",
    "from sklearn.model_selection import train_test_split\n",
    "from itertools import combinations, repeat\n",
    "import matplotlib.pyplot as plt\n",
    "import pandas as pd"
   ]
  },
  {
   "cell_type": "code",
   "execution_count": 3,
   "metadata": {},
   "outputs": [],
   "source": [
    "nb_query = 20\n",
    "query = np.array([i+1 for i in range(nb_query) for x in range(int(np.ceil(np.abs(np.random.normal(0,scale=15))+2)))])\n",
    "doc_features = np.random.random((len(query), 10))\n",
    "doc_scores = np.random.randint(5, size=len(query)).astype(np.float32)"
   ]
  },
  {
   "cell_type": "code",
   "execution_count": 5,
   "metadata": {},
   "outputs": [
    {
     "data": {
      "text/plain": [
       "(278,)"
      ]
     },
     "execution_count": 5,
     "metadata": {},
     "output_type": "execute_result"
    }
   ],
   "source": [
    "query.shape"
   ]
  },
  {
   "cell_type": "code",
   "execution_count": 6,
   "metadata": {},
   "outputs": [
    {
     "data": {
      "text/plain": [
       "(278,)"
      ]
     },
     "execution_count": 6,
     "metadata": {},
     "output_type": "execute_result"
    }
   ],
   "source": [
    "doc_scores.shape"
   ]
  },
  {
   "cell_type": "code",
   "execution_count": 8,
   "metadata": {},
   "outputs": [
    {
     "data": {
      "text/plain": [
       "(278, 10)"
      ]
     },
     "execution_count": 8,
     "metadata": {},
     "output_type": "execute_result"
    }
   ],
   "source": [
    "doc_features.shape"
   ]
  },
  {
   "cell_type": "code",
   "execution_count": 13,
   "metadata": {},
   "outputs": [
    {
     "data": {
      "text/plain": [
       "(284,)"
      ]
     },
     "execution_count": 13,
     "metadata": {},
     "output_type": "execute_result"
    }
   ],
   "source": [
    "doc_scores.shape"
   ]
  },
  {
   "cell_type": "code",
   "execution_count": 4,
   "metadata": {},
   "outputs": [],
   "source": [
    "# put data into pairs\n",
    "xi = []\n",
    "xj = []\n",
    "pij = []\n",
    "pair_id = []\n",
    "pair_query_id = []\n",
    "for q in np.unique(query):\n",
    "    query_idx = np.where(query == q)[0]\n",
    "    for pair_idx in combinations(query_idx, 2):\n",
    "        pair_query_id.append(q)\n",
    "        \n",
    "        pair_id.append(pair_idx)\n",
    "        i = pair_idx[0]\n",
    "        j = pair_idx[1]\n",
    "        xi.append(doc_features[i])\n",
    "        xj.append(doc_features[j])\n",
    "        \n",
    "        if doc_scores[i] == doc_scores[j]:\n",
    "            _pij = 0.5\n",
    "        elif doc_scores[i] > doc_scores[j]:\n",
    "            _pij = 1\n",
    "        else: \n",
    "            _pij = 0\n",
    "        pij.append(_pij)\n",
    "        \n",
    "xi = np.array(xi)\n",
    "xj = np.array(xj)\n",
    "pij = np.array(pij)\n",
    "pair_query_id = np.array(pair_query_id)\n",
    "\n",
    "xi_train, xi_test, xj_train, xj_test, pij_train, pij_test, pair_id_train, pair_id_test = train_test_split(\n",
    "    xi, xj, pij, pair_id, test_size=0.2, stratify=pair_query_id)"
   ]
  },
  {
   "cell_type": "code",
   "execution_count": 10,
   "metadata": {},
   "outputs": [
    {
     "data": {
      "text/plain": [
       "(3289, 10)"
      ]
     },
     "execution_count": 10,
     "metadata": {},
     "output_type": "execute_result"
    }
   ],
   "source": [
    "xi.shape"
   ]
  },
  {
   "cell_type": "code",
   "execution_count": 20,
   "metadata": {},
   "outputs": [],
   "source": [
    "pair_idx_test = np.where(query==query_test)[0]"
   ]
  },
  {
   "cell_type": "code",
   "execution_count": 22,
   "metadata": {},
   "outputs": [
    {
     "data": {
      "text/plain": [
       "[(0, 1),\n",
       " (0, 2),\n",
       " (0, 3),\n",
       " (0, 4),\n",
       " (1, 2),\n",
       " (1, 3),\n",
       " (1, 4),\n",
       " (2, 3),\n",
       " (2, 4),\n",
       " (3, 4)]"
      ]
     },
     "execution_count": 22,
     "metadata": {},
     "output_type": "execute_result"
    }
   ],
   "source": [
    "list(combinations(pair_idx_test, 2))"
   ]
  },
  {
   "cell_type": "markdown",
   "metadata": {},
   "source": [
    "## 1 Queryfying The Stock Picking Problem: A Large Dataset Problem"
   ]
  },
  {
   "cell_type": "code",
   "execution_count": 1,
   "metadata": {},
   "outputs": [],
   "source": [
    "import numpy as np\n",
    "from sklearn.model_selection import train_test_split\n",
    "from itertools import combinations, repeat\n",
    "import matplotlib.pyplot as plt\n",
    "import pandas as pd"
   ]
  },
  {
   "cell_type": "code",
   "execution_count": 2,
   "metadata": {},
   "outputs": [],
   "source": [
    "stock_dataset = pd.read_csv(\n",
    "    \"data/config/20220831_last_enhanced_dataset_monthly.csv\",\n",
    "    parse_dates=[\"Date\"]\n",
    ")"
   ]
  },
  {
   "cell_type": "markdown",
   "metadata": {},
   "source": [
    "### 1.1 Features"
   ]
  },
  {
   "cell_type": "code",
   "execution_count": 3,
   "metadata": {},
   "outputs": [
    {
     "data": {
      "text/html": [
       "<div>\n",
       "<style scoped>\n",
       "    .dataframe tbody tr th:only-of-type {\n",
       "        vertical-align: middle;\n",
       "    }\n",
       "\n",
       "    .dataframe tbody tr th {\n",
       "        vertical-align: top;\n",
       "    }\n",
       "\n",
       "    .dataframe thead th {\n",
       "        text-align: right;\n",
       "    }\n",
       "</style>\n",
       "<table border=\"1\" class=\"dataframe\">\n",
       "  <thead>\n",
       "    <tr style=\"text-align: right;\">\n",
       "      <th></th>\n",
       "      <th>Date</th>\n",
       "      <th>symbols</th>\n",
       "      <th>RRET3M</th>\n",
       "      <th>RRET6M</th>\n",
       "      <th>RRET12M</th>\n",
       "      <th>SRET3M</th>\n",
       "      <th>SRET6M</th>\n",
       "      <th>SRET12M</th>\n",
       "      <th>ISR3M</th>\n",
       "      <th>ISR6M</th>\n",
       "      <th>ISR12M</th>\n",
       "      <th>EWVOL3M</th>\n",
       "      <th>ISR12M_nexmonth</th>\n",
       "    </tr>\n",
       "  </thead>\n",
       "  <tbody>\n",
       "    <tr>\n",
       "      <th>0</th>\n",
       "      <td>2007-10-31</td>\n",
       "      <td>A</td>\n",
       "      <td>-0.045831</td>\n",
       "      <td>0.010974</td>\n",
       "      <td>0.120625</td>\n",
       "      <td>-0.286889</td>\n",
       "      <td>0.048575</td>\n",
       "      <td>0.377537</td>\n",
       "      <td>-0.043293</td>\n",
       "      <td>0.218709</td>\n",
       "      <td>0.592724</td>\n",
       "      <td>0.252168</td>\n",
       "      <td>0.648748</td>\n",
       "    </tr>\n",
       "    <tr>\n",
       "      <th>1</th>\n",
       "      <td>2007-10-31</td>\n",
       "      <td>AA</td>\n",
       "      <td>0.049675</td>\n",
       "      <td>0.139174</td>\n",
       "      <td>0.442392</td>\n",
       "      <td>0.261090</td>\n",
       "      <td>0.517240</td>\n",
       "      <td>1.162594</td>\n",
       "      <td>0.694973</td>\n",
       "      <td>0.873066</td>\n",
       "      <td>1.274447</td>\n",
       "      <td>0.347691</td>\n",
       "      <td>0.747572</td>\n",
       "    </tr>\n",
       "    <tr>\n",
       "      <th>2</th>\n",
       "      <td>2007-10-31</td>\n",
       "      <td>AAPL</td>\n",
       "      <td>0.391677</td>\n",
       "      <td>0.891933</td>\n",
       "      <td>1.361976</td>\n",
       "      <td>1.943524</td>\n",
       "      <td>3.129527</td>\n",
       "      <td>3.379097</td>\n",
       "      <td>3.461684</td>\n",
       "      <td>3.534918</td>\n",
       "      <td>2.782748</td>\n",
       "      <td>0.371120</td>\n",
       "      <td>2.032981</td>\n",
       "    </tr>\n",
       "    <tr>\n",
       "      <th>3</th>\n",
       "      <td>2007-10-31</td>\n",
       "      <td>ABC</td>\n",
       "      <td>0.027289</td>\n",
       "      <td>-0.055854</td>\n",
       "      <td>0.041181</td>\n",
       "      <td>0.187520</td>\n",
       "      <td>-0.271396</td>\n",
       "      <td>0.141491</td>\n",
       "      <td>0.510378</td>\n",
       "      <td>-0.021059</td>\n",
       "      <td>0.413389</td>\n",
       "      <td>0.266703</td>\n",
       "      <td>0.164794</td>\n",
       "    </tr>\n",
       "    <tr>\n",
       "      <th>4</th>\n",
       "      <td>2007-10-31</td>\n",
       "      <td>ABT</td>\n",
       "      <td>0.073018</td>\n",
       "      <td>-0.036949</td>\n",
       "      <td>0.187770</td>\n",
       "      <td>0.665704</td>\n",
       "      <td>-0.238196</td>\n",
       "      <td>0.855951</td>\n",
       "      <td>1.383667</td>\n",
       "      <td>-0.011155</td>\n",
       "      <td>0.947518</td>\n",
       "      <td>0.191821</td>\n",
       "      <td>1.151533</td>\n",
       "    </tr>\n",
       "    <tr>\n",
       "      <th>...</th>\n",
       "      <td>...</td>\n",
       "      <td>...</td>\n",
       "      <td>...</td>\n",
       "      <td>...</td>\n",
       "      <td>...</td>\n",
       "      <td>...</td>\n",
       "      <td>...</td>\n",
       "      <td>...</td>\n",
       "      <td>...</td>\n",
       "      <td>...</td>\n",
       "      <td>...</td>\n",
       "      <td>...</td>\n",
       "      <td>...</td>\n",
       "    </tr>\n",
       "    <tr>\n",
       "      <th>83477</th>\n",
       "      <td>2022-07-29</td>\n",
       "      <td>XRX</td>\n",
       "      <td>-0.007128</td>\n",
       "      <td>-0.137710</td>\n",
       "      <td>-0.257794</td>\n",
       "      <td>-0.031321</td>\n",
       "      <td>-0.427877</td>\n",
       "      <td>-0.566385</td>\n",
       "      <td>0.162517</td>\n",
       "      <td>-0.085528</td>\n",
       "      <td>-0.090846</td>\n",
       "      <td>0.475500</td>\n",
       "      <td>-0.069290</td>\n",
       "    </tr>\n",
       "    <tr>\n",
       "      <th>83478</th>\n",
       "      <td>2022-07-29</td>\n",
       "      <td>Y</td>\n",
       "      <td>-0.005002</td>\n",
       "      <td>0.303045</td>\n",
       "      <td>0.271664</td>\n",
       "      <td>-0.343658</td>\n",
       "      <td>14.722666</td>\n",
       "      <td>9.332482</td>\n",
       "      <td>-0.000619</td>\n",
       "      <td>1.505580</td>\n",
       "      <td>0.904912</td>\n",
       "      <td>0.188267</td>\n",
       "      <td>0.910676</td>\n",
       "    </tr>\n",
       "    <tr>\n",
       "      <th>83479</th>\n",
       "      <td>2022-07-29</td>\n",
       "      <td>YUM</td>\n",
       "      <td>0.030349</td>\n",
       "      <td>0.032540</td>\n",
       "      <td>-0.043256</td>\n",
       "      <td>0.242966</td>\n",
       "      <td>0.184209</td>\n",
       "      <td>-0.173151</td>\n",
       "      <td>0.597081</td>\n",
       "      <td>0.375240</td>\n",
       "      <td>-0.009783</td>\n",
       "      <td>0.232148</td>\n",
       "      <td>-0.027119</td>\n",
       "    </tr>\n",
       "    <tr>\n",
       "      <th>83480</th>\n",
       "      <td>2022-07-29</td>\n",
       "      <td>ZBH</td>\n",
       "      <td>-0.112113</td>\n",
       "      <td>-0.058252</td>\n",
       "      <td>-0.295957</td>\n",
       "      <td>-0.759136</td>\n",
       "      <td>-0.278908</td>\n",
       "      <td>-1.001985</td>\n",
       "      <td>-0.129716</td>\n",
       "      <td>-0.021664</td>\n",
       "      <td>-0.075548</td>\n",
       "      <td>0.281217</td>\n",
       "      <td>-0.073511</td>\n",
       "    </tr>\n",
       "    <tr>\n",
       "      <th>83481</th>\n",
       "      <td>2022-07-29</td>\n",
       "      <td>ZION</td>\n",
       "      <td>-0.052764</td>\n",
       "      <td>-0.175809</td>\n",
       "      <td>0.058281</td>\n",
       "      <td>-0.314207</td>\n",
       "      <td>-0.740292</td>\n",
       "      <td>0.173529</td>\n",
       "      <td>-0.054421</td>\n",
       "      <td>-0.121778</td>\n",
       "      <td>0.344367</td>\n",
       "      <td>0.347197</td>\n",
       "      <td>0.141113</td>\n",
       "    </tr>\n",
       "  </tbody>\n",
       "</table>\n",
       "<p>83482 rows × 13 columns</p>\n",
       "</div>"
      ],
      "text/plain": [
       "            Date symbols    RRET3M    RRET6M   RRET12M    SRET3M     SRET6M  \\\n",
       "0     2007-10-31       A -0.045831  0.010974  0.120625 -0.286889   0.048575   \n",
       "1     2007-10-31      AA  0.049675  0.139174  0.442392  0.261090   0.517240   \n",
       "2     2007-10-31    AAPL  0.391677  0.891933  1.361976  1.943524   3.129527   \n",
       "3     2007-10-31     ABC  0.027289 -0.055854  0.041181  0.187520  -0.271396   \n",
       "4     2007-10-31     ABT  0.073018 -0.036949  0.187770  0.665704  -0.238196   \n",
       "...          ...     ...       ...       ...       ...       ...        ...   \n",
       "83477 2022-07-29     XRX -0.007128 -0.137710 -0.257794 -0.031321  -0.427877   \n",
       "83478 2022-07-29       Y -0.005002  0.303045  0.271664 -0.343658  14.722666   \n",
       "83479 2022-07-29     YUM  0.030349  0.032540 -0.043256  0.242966   0.184209   \n",
       "83480 2022-07-29     ZBH -0.112113 -0.058252 -0.295957 -0.759136  -0.278908   \n",
       "83481 2022-07-29    ZION -0.052764 -0.175809  0.058281 -0.314207  -0.740292   \n",
       "\n",
       "        SRET12M     ISR3M     ISR6M    ISR12M   EWVOL3M  ISR12M_nexmonth  \n",
       "0      0.377537 -0.043293  0.218709  0.592724  0.252168         0.648748  \n",
       "1      1.162594  0.694973  0.873066  1.274447  0.347691         0.747572  \n",
       "2      3.379097  3.461684  3.534918  2.782748  0.371120         2.032981  \n",
       "3      0.141491  0.510378 -0.021059  0.413389  0.266703         0.164794  \n",
       "4      0.855951  1.383667 -0.011155  0.947518  0.191821         1.151533  \n",
       "...         ...       ...       ...       ...       ...              ...  \n",
       "83477 -0.566385  0.162517 -0.085528 -0.090846  0.475500        -0.069290  \n",
       "83478  9.332482 -0.000619  1.505580  0.904912  0.188267         0.910676  \n",
       "83479 -0.173151  0.597081  0.375240 -0.009783  0.232148        -0.027119  \n",
       "83480 -1.001985 -0.129716 -0.021664 -0.075548  0.281217        -0.073511  \n",
       "83481  0.173529 -0.054421 -0.121778  0.344367  0.347197         0.141113  \n",
       "\n",
       "[83482 rows x 13 columns]"
      ]
     },
     "execution_count": 3,
     "metadata": {},
     "output_type": "execute_result"
    }
   ],
   "source": [
    "stock_dataset"
   ]
  },
  {
   "cell_type": "code",
   "execution_count": 4,
   "metadata": {},
   "outputs": [
    {
     "name": "stdout",
     "output_type": "stream",
     "text": [
      "<class 'pandas.core.frame.DataFrame'>\n",
      "RangeIndex: 83482 entries, 0 to 83481\n",
      "Data columns (total 13 columns):\n",
      " #   Column           Non-Null Count  Dtype         \n",
      "---  ------           --------------  -----         \n",
      " 0   Date             83482 non-null  datetime64[ns]\n",
      " 1   symbols          83482 non-null  object        \n",
      " 2   RRET3M           83482 non-null  float64       \n",
      " 3   RRET6M           83482 non-null  float64       \n",
      " 4   RRET12M          83482 non-null  float64       \n",
      " 5   SRET3M           83482 non-null  float64       \n",
      " 6   SRET6M           83482 non-null  float64       \n",
      " 7   SRET12M          83482 non-null  float64       \n",
      " 8   ISR3M            83482 non-null  float64       \n",
      " 9   ISR6M            83482 non-null  float64       \n",
      " 10  ISR12M           83482 non-null  float64       \n",
      " 11  EWVOL3M          83482 non-null  float64       \n",
      " 12  ISR12M_nexmonth  83482 non-null  float64       \n",
      "dtypes: datetime64[ns](1), float64(11), object(1)\n",
      "memory usage: 8.3+ MB\n"
     ]
    }
   ],
   "source": [
    "stock_dataset.info()"
   ]
  },
  {
   "cell_type": "code",
   "execution_count": 5,
   "metadata": {},
   "outputs": [],
   "source": [
    "import datetime as dt"
   ]
  },
  {
   "cell_type": "markdown",
   "metadata": {},
   "source": [
    "### 1.2 Rebalance Date As a `date_query_id`"
   ]
  },
  {
   "cell_type": "code",
   "execution_count": 6,
   "metadata": {},
   "outputs": [],
   "source": [
    "stock_dataset[\"date_query_id\"] = stock_dataset[\"Date\"].dt.strftime(\"%Y%m%d\").astype(int)"
   ]
  },
  {
   "cell_type": "code",
   "execution_count": 7,
   "metadata": {},
   "outputs": [
    {
     "data": {
      "text/html": [
       "<div>\n",
       "<style scoped>\n",
       "    .dataframe tbody tr th:only-of-type {\n",
       "        vertical-align: middle;\n",
       "    }\n",
       "\n",
       "    .dataframe tbody tr th {\n",
       "        vertical-align: top;\n",
       "    }\n",
       "\n",
       "    .dataframe thead th {\n",
       "        text-align: right;\n",
       "    }\n",
       "</style>\n",
       "<table border=\"1\" class=\"dataframe\">\n",
       "  <thead>\n",
       "    <tr style=\"text-align: right;\">\n",
       "      <th></th>\n",
       "      <th>Date</th>\n",
       "      <th>symbols</th>\n",
       "      <th>RRET3M</th>\n",
       "      <th>RRET6M</th>\n",
       "      <th>RRET12M</th>\n",
       "      <th>SRET3M</th>\n",
       "      <th>SRET6M</th>\n",
       "      <th>SRET12M</th>\n",
       "      <th>ISR3M</th>\n",
       "      <th>ISR6M</th>\n",
       "      <th>ISR12M</th>\n",
       "      <th>EWVOL3M</th>\n",
       "      <th>ISR12M_nexmonth</th>\n",
       "      <th>date_query_id</th>\n",
       "    </tr>\n",
       "  </thead>\n",
       "  <tbody>\n",
       "    <tr>\n",
       "      <th>0</th>\n",
       "      <td>2007-10-31</td>\n",
       "      <td>A</td>\n",
       "      <td>-0.045831</td>\n",
       "      <td>0.010974</td>\n",
       "      <td>0.120625</td>\n",
       "      <td>-0.286889</td>\n",
       "      <td>0.048575</td>\n",
       "      <td>0.377537</td>\n",
       "      <td>-0.043293</td>\n",
       "      <td>0.218709</td>\n",
       "      <td>0.592724</td>\n",
       "      <td>0.252168</td>\n",
       "      <td>0.648748</td>\n",
       "      <td>20071031</td>\n",
       "    </tr>\n",
       "    <tr>\n",
       "      <th>1</th>\n",
       "      <td>2007-10-31</td>\n",
       "      <td>AA</td>\n",
       "      <td>0.049675</td>\n",
       "      <td>0.139174</td>\n",
       "      <td>0.442392</td>\n",
       "      <td>0.261090</td>\n",
       "      <td>0.517240</td>\n",
       "      <td>1.162594</td>\n",
       "      <td>0.694973</td>\n",
       "      <td>0.873066</td>\n",
       "      <td>1.274447</td>\n",
       "      <td>0.347691</td>\n",
       "      <td>0.747572</td>\n",
       "      <td>20071031</td>\n",
       "    </tr>\n",
       "    <tr>\n",
       "      <th>2</th>\n",
       "      <td>2007-10-31</td>\n",
       "      <td>AAPL</td>\n",
       "      <td>0.391677</td>\n",
       "      <td>0.891933</td>\n",
       "      <td>1.361976</td>\n",
       "      <td>1.943524</td>\n",
       "      <td>3.129527</td>\n",
       "      <td>3.379097</td>\n",
       "      <td>3.461684</td>\n",
       "      <td>3.534918</td>\n",
       "      <td>2.782748</td>\n",
       "      <td>0.371120</td>\n",
       "      <td>2.032981</td>\n",
       "      <td>20071031</td>\n",
       "    </tr>\n",
       "    <tr>\n",
       "      <th>3</th>\n",
       "      <td>2007-10-31</td>\n",
       "      <td>ABC</td>\n",
       "      <td>0.027289</td>\n",
       "      <td>-0.055854</td>\n",
       "      <td>0.041181</td>\n",
       "      <td>0.187520</td>\n",
       "      <td>-0.271396</td>\n",
       "      <td>0.141491</td>\n",
       "      <td>0.510378</td>\n",
       "      <td>-0.021059</td>\n",
       "      <td>0.413389</td>\n",
       "      <td>0.266703</td>\n",
       "      <td>0.164794</td>\n",
       "      <td>20071031</td>\n",
       "    </tr>\n",
       "    <tr>\n",
       "      <th>4</th>\n",
       "      <td>2007-10-31</td>\n",
       "      <td>ABT</td>\n",
       "      <td>0.073018</td>\n",
       "      <td>-0.036949</td>\n",
       "      <td>0.187770</td>\n",
       "      <td>0.665704</td>\n",
       "      <td>-0.238196</td>\n",
       "      <td>0.855951</td>\n",
       "      <td>1.383667</td>\n",
       "      <td>-0.011155</td>\n",
       "      <td>0.947518</td>\n",
       "      <td>0.191821</td>\n",
       "      <td>1.151533</td>\n",
       "      <td>20071031</td>\n",
       "    </tr>\n",
       "  </tbody>\n",
       "</table>\n",
       "</div>"
      ],
      "text/plain": [
       "        Date symbols    RRET3M    RRET6M   RRET12M    SRET3M    SRET6M  \\\n",
       "0 2007-10-31       A -0.045831  0.010974  0.120625 -0.286889  0.048575   \n",
       "1 2007-10-31      AA  0.049675  0.139174  0.442392  0.261090  0.517240   \n",
       "2 2007-10-31    AAPL  0.391677  0.891933  1.361976  1.943524  3.129527   \n",
       "3 2007-10-31     ABC  0.027289 -0.055854  0.041181  0.187520 -0.271396   \n",
       "4 2007-10-31     ABT  0.073018 -0.036949  0.187770  0.665704 -0.238196   \n",
       "\n",
       "    SRET12M     ISR3M     ISR6M    ISR12M   EWVOL3M  ISR12M_nexmonth  \\\n",
       "0  0.377537 -0.043293  0.218709  0.592724  0.252168         0.648748   \n",
       "1  1.162594  0.694973  0.873066  1.274447  0.347691         0.747572   \n",
       "2  3.379097  3.461684  3.534918  2.782748  0.371120         2.032981   \n",
       "3  0.141491  0.510378 -0.021059  0.413389  0.266703         0.164794   \n",
       "4  0.855951  1.383667 -0.011155  0.947518  0.191821         1.151533   \n",
       "\n",
       "   date_query_id  \n",
       "0       20071031  \n",
       "1       20071031  \n",
       "2       20071031  \n",
       "3       20071031  \n",
       "4       20071031  "
      ]
     },
     "execution_count": 7,
     "metadata": {},
     "output_type": "execute_result"
    }
   ],
   "source": [
    "stock_dataset.head()"
   ]
  },
  {
   "cell_type": "code",
   "execution_count": 8,
   "metadata": {},
   "outputs": [
    {
     "data": {
      "text/html": [
       "<div>\n",
       "<style scoped>\n",
       "    .dataframe tbody tr th:only-of-type {\n",
       "        vertical-align: middle;\n",
       "    }\n",
       "\n",
       "    .dataframe tbody tr th {\n",
       "        vertical-align: top;\n",
       "    }\n",
       "\n",
       "    .dataframe thead th {\n",
       "        text-align: right;\n",
       "    }\n",
       "</style>\n",
       "<table border=\"1\" class=\"dataframe\">\n",
       "  <thead>\n",
       "    <tr style=\"text-align: right;\">\n",
       "      <th></th>\n",
       "      <th>RRET3M</th>\n",
       "      <th>RRET6M</th>\n",
       "      <th>RRET12M</th>\n",
       "      <th>SRET3M</th>\n",
       "      <th>SRET6M</th>\n",
       "      <th>SRET12M</th>\n",
       "      <th>ISR3M</th>\n",
       "      <th>ISR6M</th>\n",
       "      <th>ISR12M</th>\n",
       "      <th>EWVOL3M</th>\n",
       "    </tr>\n",
       "  </thead>\n",
       "  <tbody>\n",
       "    <tr>\n",
       "      <th>0</th>\n",
       "      <td>-0.045831</td>\n",
       "      <td>0.010974</td>\n",
       "      <td>0.120625</td>\n",
       "      <td>-0.286889</td>\n",
       "      <td>0.048575</td>\n",
       "      <td>0.377537</td>\n",
       "      <td>-0.043293</td>\n",
       "      <td>0.218709</td>\n",
       "      <td>0.592724</td>\n",
       "      <td>0.252168</td>\n",
       "    </tr>\n",
       "    <tr>\n",
       "      <th>1</th>\n",
       "      <td>0.049675</td>\n",
       "      <td>0.139174</td>\n",
       "      <td>0.442392</td>\n",
       "      <td>0.261090</td>\n",
       "      <td>0.517240</td>\n",
       "      <td>1.162594</td>\n",
       "      <td>0.694973</td>\n",
       "      <td>0.873066</td>\n",
       "      <td>1.274447</td>\n",
       "      <td>0.347691</td>\n",
       "    </tr>\n",
       "    <tr>\n",
       "      <th>2</th>\n",
       "      <td>0.391677</td>\n",
       "      <td>0.891933</td>\n",
       "      <td>1.361976</td>\n",
       "      <td>1.943524</td>\n",
       "      <td>3.129527</td>\n",
       "      <td>3.379097</td>\n",
       "      <td>3.461684</td>\n",
       "      <td>3.534918</td>\n",
       "      <td>2.782748</td>\n",
       "      <td>0.371120</td>\n",
       "    </tr>\n",
       "    <tr>\n",
       "      <th>3</th>\n",
       "      <td>0.027289</td>\n",
       "      <td>-0.055854</td>\n",
       "      <td>0.041181</td>\n",
       "      <td>0.187520</td>\n",
       "      <td>-0.271396</td>\n",
       "      <td>0.141491</td>\n",
       "      <td>0.510378</td>\n",
       "      <td>-0.021059</td>\n",
       "      <td>0.413389</td>\n",
       "      <td>0.266703</td>\n",
       "    </tr>\n",
       "    <tr>\n",
       "      <th>4</th>\n",
       "      <td>0.073018</td>\n",
       "      <td>-0.036949</td>\n",
       "      <td>0.187770</td>\n",
       "      <td>0.665704</td>\n",
       "      <td>-0.238196</td>\n",
       "      <td>0.855951</td>\n",
       "      <td>1.383667</td>\n",
       "      <td>-0.011155</td>\n",
       "      <td>0.947518</td>\n",
       "      <td>0.191821</td>\n",
       "    </tr>\n",
       "    <tr>\n",
       "      <th>...</th>\n",
       "      <td>...</td>\n",
       "      <td>...</td>\n",
       "      <td>...</td>\n",
       "      <td>...</td>\n",
       "      <td>...</td>\n",
       "      <td>...</td>\n",
       "      <td>...</td>\n",
       "      <td>...</td>\n",
       "      <td>...</td>\n",
       "      <td>...</td>\n",
       "    </tr>\n",
       "    <tr>\n",
       "      <th>83477</th>\n",
       "      <td>-0.007128</td>\n",
       "      <td>-0.137710</td>\n",
       "      <td>-0.257794</td>\n",
       "      <td>-0.031321</td>\n",
       "      <td>-0.427877</td>\n",
       "      <td>-0.566385</td>\n",
       "      <td>0.162517</td>\n",
       "      <td>-0.085528</td>\n",
       "      <td>-0.090846</td>\n",
       "      <td>0.475500</td>\n",
       "    </tr>\n",
       "    <tr>\n",
       "      <th>83478</th>\n",
       "      <td>-0.005002</td>\n",
       "      <td>0.303045</td>\n",
       "      <td>0.271664</td>\n",
       "      <td>-0.343658</td>\n",
       "      <td>14.722666</td>\n",
       "      <td>9.332482</td>\n",
       "      <td>-0.000619</td>\n",
       "      <td>1.505580</td>\n",
       "      <td>0.904912</td>\n",
       "      <td>0.188267</td>\n",
       "    </tr>\n",
       "    <tr>\n",
       "      <th>83479</th>\n",
       "      <td>0.030349</td>\n",
       "      <td>0.032540</td>\n",
       "      <td>-0.043256</td>\n",
       "      <td>0.242966</td>\n",
       "      <td>0.184209</td>\n",
       "      <td>-0.173151</td>\n",
       "      <td>0.597081</td>\n",
       "      <td>0.375240</td>\n",
       "      <td>-0.009783</td>\n",
       "      <td>0.232148</td>\n",
       "    </tr>\n",
       "    <tr>\n",
       "      <th>83480</th>\n",
       "      <td>-0.112113</td>\n",
       "      <td>-0.058252</td>\n",
       "      <td>-0.295957</td>\n",
       "      <td>-0.759136</td>\n",
       "      <td>-0.278908</td>\n",
       "      <td>-1.001985</td>\n",
       "      <td>-0.129716</td>\n",
       "      <td>-0.021664</td>\n",
       "      <td>-0.075548</td>\n",
       "      <td>0.281217</td>\n",
       "    </tr>\n",
       "    <tr>\n",
       "      <th>83481</th>\n",
       "      <td>-0.052764</td>\n",
       "      <td>-0.175809</td>\n",
       "      <td>0.058281</td>\n",
       "      <td>-0.314207</td>\n",
       "      <td>-0.740292</td>\n",
       "      <td>0.173529</td>\n",
       "      <td>-0.054421</td>\n",
       "      <td>-0.121778</td>\n",
       "      <td>0.344367</td>\n",
       "      <td>0.347197</td>\n",
       "    </tr>\n",
       "  </tbody>\n",
       "</table>\n",
       "<p>83482 rows × 10 columns</p>\n",
       "</div>"
      ],
      "text/plain": [
       "         RRET3M    RRET6M   RRET12M    SRET3M     SRET6M   SRET12M     ISR3M  \\\n",
       "0     -0.045831  0.010974  0.120625 -0.286889   0.048575  0.377537 -0.043293   \n",
       "1      0.049675  0.139174  0.442392  0.261090   0.517240  1.162594  0.694973   \n",
       "2      0.391677  0.891933  1.361976  1.943524   3.129527  3.379097  3.461684   \n",
       "3      0.027289 -0.055854  0.041181  0.187520  -0.271396  0.141491  0.510378   \n",
       "4      0.073018 -0.036949  0.187770  0.665704  -0.238196  0.855951  1.383667   \n",
       "...         ...       ...       ...       ...        ...       ...       ...   \n",
       "83477 -0.007128 -0.137710 -0.257794 -0.031321  -0.427877 -0.566385  0.162517   \n",
       "83478 -0.005002  0.303045  0.271664 -0.343658  14.722666  9.332482 -0.000619   \n",
       "83479  0.030349  0.032540 -0.043256  0.242966   0.184209 -0.173151  0.597081   \n",
       "83480 -0.112113 -0.058252 -0.295957 -0.759136  -0.278908 -1.001985 -0.129716   \n",
       "83481 -0.052764 -0.175809  0.058281 -0.314207  -0.740292  0.173529 -0.054421   \n",
       "\n",
       "          ISR6M    ISR12M   EWVOL3M  \n",
       "0      0.218709  0.592724  0.252168  \n",
       "1      0.873066  1.274447  0.347691  \n",
       "2      3.534918  2.782748  0.371120  \n",
       "3     -0.021059  0.413389  0.266703  \n",
       "4     -0.011155  0.947518  0.191821  \n",
       "...         ...       ...       ...  \n",
       "83477 -0.085528 -0.090846  0.475500  \n",
       "83478  1.505580  0.904912  0.188267  \n",
       "83479  0.375240 -0.009783  0.232148  \n",
       "83480 -0.021664 -0.075548  0.281217  \n",
       "83481 -0.121778  0.344367  0.347197  \n",
       "\n",
       "[83482 rows x 10 columns]"
      ]
     },
     "execution_count": 8,
     "metadata": {},
     "output_type": "execute_result"
    }
   ],
   "source": [
    "stock_features = stock_dataset[['RRET3M', 'RRET6M', 'RRET12M', 'SRET3M', 'SRET6M', 'SRET12M', 'ISR3M', 'ISR6M', 'ISR12M', 'EWVOL3M']]\n",
    "stock_features"
   ]
  },
  {
   "cell_type": "markdown",
   "metadata": {},
   "source": [
    "### 1.3 Ventile-Based Scoring"
   ]
  },
  {
   "cell_type": "code",
   "execution_count": 9,
   "metadata": {},
   "outputs": [
    {
     "data": {
      "text/html": [
       "<div>\n",
       "<style scoped>\n",
       "    .dataframe tbody tr th:only-of-type {\n",
       "        vertical-align: middle;\n",
       "    }\n",
       "\n",
       "    .dataframe tbody tr th {\n",
       "        vertical-align: top;\n",
       "    }\n",
       "\n",
       "    .dataframe thead th {\n",
       "        text-align: right;\n",
       "    }\n",
       "</style>\n",
       "<table border=\"1\" class=\"dataframe\">\n",
       "  <thead>\n",
       "    <tr style=\"text-align: right;\">\n",
       "      <th></th>\n",
       "      <th>Date</th>\n",
       "      <th>symbols</th>\n",
       "      <th>ISC12M</th>\n",
       "    </tr>\n",
       "  </thead>\n",
       "  <tbody>\n",
       "    <tr>\n",
       "      <th>0</th>\n",
       "      <td>2007-09-28</td>\n",
       "      <td>A</td>\n",
       "      <td>11.0</td>\n",
       "    </tr>\n",
       "    <tr>\n",
       "      <th>1</th>\n",
       "      <td>2007-09-28</td>\n",
       "      <td>AA</td>\n",
       "      <td>15.0</td>\n",
       "    </tr>\n",
       "    <tr>\n",
       "      <th>2</th>\n",
       "      <td>2007-09-28</td>\n",
       "      <td>AAPL</td>\n",
       "      <td>19.0</td>\n",
       "    </tr>\n",
       "    <tr>\n",
       "      <th>3</th>\n",
       "      <td>2007-09-28</td>\n",
       "      <td>ABC</td>\n",
       "      <td>9.0</td>\n",
       "    </tr>\n",
       "    <tr>\n",
       "      <th>4</th>\n",
       "      <td>2007-09-28</td>\n",
       "      <td>ABT</td>\n",
       "      <td>13.0</td>\n",
       "    </tr>\n",
       "    <tr>\n",
       "      <th>...</th>\n",
       "      <td>...</td>\n",
       "      <td>...</td>\n",
       "      <td>...</td>\n",
       "    </tr>\n",
       "    <tr>\n",
       "      <th>83946</th>\n",
       "      <td>2022-07-29</td>\n",
       "      <td>XRX</td>\n",
       "      <td>5.0</td>\n",
       "    </tr>\n",
       "    <tr>\n",
       "      <th>83947</th>\n",
       "      <td>2022-07-29</td>\n",
       "      <td>Y</td>\n",
       "      <td>18.0</td>\n",
       "    </tr>\n",
       "    <tr>\n",
       "      <th>83948</th>\n",
       "      <td>2022-07-29</td>\n",
       "      <td>YUM</td>\n",
       "      <td>8.0</td>\n",
       "    </tr>\n",
       "    <tr>\n",
       "      <th>83949</th>\n",
       "      <td>2022-07-29</td>\n",
       "      <td>ZBH</td>\n",
       "      <td>4.0</td>\n",
       "    </tr>\n",
       "    <tr>\n",
       "      <th>83950</th>\n",
       "      <td>2022-07-29</td>\n",
       "      <td>ZION</td>\n",
       "      <td>12.0</td>\n",
       "    </tr>\n",
       "  </tbody>\n",
       "</table>\n",
       "<p>83951 rows × 3 columns</p>\n",
       "</div>"
      ],
      "text/plain": [
       "            Date symbols  ISC12M\n",
       "0     2007-09-28       A    11.0\n",
       "1     2007-09-28      AA    15.0\n",
       "2     2007-09-28    AAPL    19.0\n",
       "3     2007-09-28     ABC     9.0\n",
       "4     2007-09-28     ABT    13.0\n",
       "...          ...     ...     ...\n",
       "83946 2022-07-29     XRX     5.0\n",
       "83947 2022-07-29       Y    18.0\n",
       "83948 2022-07-29     YUM     8.0\n",
       "83949 2022-07-29     ZBH     4.0\n",
       "83950 2022-07-29    ZION    12.0\n",
       "\n",
       "[83951 rows x 3 columns]"
      ]
     },
     "execution_count": 9,
     "metadata": {},
     "output_type": "execute_result"
    }
   ],
   "source": [
    "scores = pd.read_csv(\n",
    "    \"data/config/20220831_lagged_isharpe_target_monthly.csv\",\n",
    "    parse_dates=[\"Date\"],\n",
    "    usecols=[\"Date\",\"symbols\",\"ISC12M\"]\n",
    ")\n",
    "scores"
   ]
  },
  {
   "cell_type": "code",
   "execution_count": 10,
   "metadata": {},
   "outputs": [
    {
     "data": {
      "text/plain": [
       "Timestamp('2007-10-31 00:00:00')"
      ]
     },
     "execution_count": 10,
     "metadata": {},
     "output_type": "execute_result"
    }
   ],
   "source": [
    "stock_dataset[\"Date\"].iloc[0]"
   ]
  },
  {
   "cell_type": "code",
   "execution_count": 11,
   "metadata": {},
   "outputs": [],
   "source": [
    "# cropping for aligning with return-based features\n",
    "scores = scores[scores[\"Date\"]>=\"2007-10-31\"]"
   ]
  },
  {
   "cell_type": "code",
   "execution_count": 12,
   "metadata": {},
   "outputs": [
    {
     "data": {
      "text/plain": [
       "array([-0.04583108,  0.01097434,  0.12062476, -0.28688855,  0.0485754 ,\n",
       "        0.3775371 , -0.04329277,  0.21870868,  0.59272382,  0.25216777])"
      ]
     },
     "execution_count": 12,
     "metadata": {},
     "output_type": "execute_result"
    }
   ],
   "source": [
    "stock_features.values[0]"
   ]
  },
  {
   "cell_type": "code",
   "execution_count": 13,
   "metadata": {},
   "outputs": [
    {
     "data": {
      "text/plain": [
       "array([14., 15., 19., ...,  8.,  4., 12.])"
      ]
     },
     "execution_count": 13,
     "metadata": {},
     "output_type": "execute_result"
    }
   ],
   "source": [
    "scores[\"ISC12M\"].values"
   ]
  },
  {
   "cell_type": "code",
   "execution_count": 1,
   "metadata": {},
   "outputs": [
    {
     "name": "stdout",
     "output_type": "stream",
     "text": [
      "Variable   Type      Data/Info\n",
      "------------------------------\n",
      "os         module    <module 'os' from '/home/<...>da3/lib/python3.9/os.py'>\n",
      "sys        module    <module 'sys' (built-in)>\n"
     ]
    }
   ],
   "source": [
    "%whos"
   ]
  },
  {
   "cell_type": "code",
   "execution_count": 14,
   "metadata": {},
   "outputs": [],
   "source": [
    "# put data into pairs\n",
    "xi = []\n",
    "xj = []\n",
    "pij = []\n",
    "pair_id = []\n",
    "pair_query_id = []\n",
    "\n",
    "features = stock_features.values\n",
    "date_query = stock_dataset[\"date_query_id\"].astype(int).values\n",
    "stock_scores = scores[\"ISC12M\"].astype(int).values"
   ]
  },
  {
   "cell_type": "code",
   "execution_count": 17,
   "metadata": {},
   "outputs": [],
   "source": [
    "del scores, stock_dataset, stock_features"
   ]
  },
  {
   "cell_type": "code",
   "execution_count": 18,
   "metadata": {},
   "outputs": [
    {
     "ename": "",
     "evalue": "",
     "output_type": "error",
     "traceback": [
      "\u001b[1;31mCanceled future for execute_request message before replies were done"
     ]
    },
    {
     "ename": "",
     "evalue": "",
     "output_type": "error",
     "traceback": [
      "\u001b[1;31mEl Kernel se bloqueó al ejecutar código en la celda actual o en una celda anterior. Revise el código de las celdas para identificar una posible causa del error. Haga clic <a href='https://aka.ms/vscodeJupyterKernelCrash'>aquí</a> para obtener más información. Vea el [registro] de Jupyter (command:jupyter.viewOutput) para obtener más detalles."
     ]
    }
   ],
   "source": [
    "for q in np.unique(date_query):\n",
    "    query_idx = np.where(date_query == q)[0]\n",
    "    for pair_idx in combinations(query_idx, 2):\n",
    "        pair_query_id.append(q)\n",
    "        \n",
    "        pair_id.append(pair_idx)\n",
    "        i = pair_idx[0]\n",
    "        j = pair_idx[1]\n",
    "        xi.append(features[i])\n",
    "        xj.append(features[j])\n",
    "        \n",
    "        if stock_scores[i] == stock_scores[j]:\n",
    "            _pij = 0.5\n",
    "        elif stock_scores[i] > stock_scores[j]:\n",
    "            _pij = 1\n",
    "        else: \n",
    "            _pij = 0\n",
    "        pij.append(_pij)\n",
    "        \n",
    "xi = np.array(xi)\n",
    "xj = np.array(xj)\n",
    "pij = np.array(pij)\n",
    "pair_query_id = np.array(pair_query_id)"
   ]
  }
 ],
 "metadata": {
  "kernelspec": {
   "display_name": "Python 3.9.12 ('base')",
   "language": "python",
   "name": "python3"
  },
  "language_info": {
   "codemirror_mode": {
    "name": "ipython",
    "version": 3
   },
   "file_extension": ".py",
   "mimetype": "text/x-python",
   "name": "python",
   "nbconvert_exporter": "python",
   "pygments_lexer": "ipython3",
   "version": "3.9.12"
  },
  "orig_nbformat": 4,
  "vscode": {
   "interpreter": {
    "hash": "df2604acf27cccc9bc3890fbb9b23a69556046b1d99e2eacb9b86d7c88d795b0"
   }
  }
 },
 "nbformat": 4,
 "nbformat_minor": 2
}
